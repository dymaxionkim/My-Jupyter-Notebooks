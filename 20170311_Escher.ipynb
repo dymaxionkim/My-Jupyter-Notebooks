{
 "cells": [
  {
   "cell_type": "code",
   "execution_count": 2,
   "metadata": {
    "collapsed": false,
    "scrolled": true
   },
   "outputs": [
    {
     "name": "stderr",
     "output_type": "stream",
     "text": [
      "\u001b[1m\u001b[34mINFO: Nothing to be done\n",
      "\u001b[0m\u001b[1m\u001b[34mINFO: METADATA is out-of-date — you may not have the latest version of Escher\n",
      "\u001b[0m\u001b[1m\u001b[34mINFO: Use `Pkg.update()` to get the latest versions of your packages\n",
      "\u001b[0m"
     ]
    }
   ],
   "source": [
    "Pkg.add(\"Escher\")"
   ]
  },
  {
   "cell_type": "code",
   "execution_count": 3,
   "metadata": {
    "collapsed": false,
    "scrolled": false
   },
   "outputs": [
    {
     "name": "stderr",
     "output_type": "stream",
     "text": [
      "\u001b[1m\u001b[34mINFO: Updating METADATA...\n",
      "\u001b[0m\u001b[1m\u001b[34mINFO: Updating cache of ColorTypes...\n",
      "\u001b[0m\u001b[1m\u001b[34mINFO: Updating cache of AxisArrays...\n",
      "\u001b[0m\u001b[1m\u001b[34mINFO: Updating cache of PyCall...\n",
      "\u001b[0m\u001b[1m\u001b[34mINFO: Updating cache of FixedPointNumbers...\n",
      "\u001b[0m\u001b[1m\u001b[34mINFO: Updating cache of ImageCore...\n",
      "\u001b[0m\u001b[1m\u001b[34mINFO: Updating cache of DataArrays...\n",
      "\u001b[0m\u001b[1m\u001b[34mINFO: Updating cache of DataFrames...\n",
      "\u001b[0m\u001b[1m\u001b[34mINFO: Updating cache of DataFrames...\n",
      "\u001b[0m\u001b[1m\u001b[34mINFO: Computing changes...\n",
      "\u001b[0m\u001b[1m\u001b[34mINFO: Upgrading AxisArrays: v0.0.5 => v0.0.6\n",
      "\u001b[0m\u001b[1m\u001b[34mINFO: Upgrading ColorTypes: v0.3.4 => v0.3.5\n",
      "\u001b[0m\u001b[1m\u001b[34mINFO: Upgrading FixedPointNumbers: v0.3.4 => v0.3.5\n",
      "\u001b[0m\u001b[1m\u001b[34mINFO: Upgrading ImageCore: v0.1.4 => v0.1.5\n",
      "\u001b[0m\u001b[1m\u001b[34mINFO: Upgrading Patchwork: v0.3.0 => v0.3.1\n",
      "\u001b[0m\u001b[1m\u001b[34mINFO: Upgrading PyCall: v1.10.0 => v1.11.0\n",
      "\u001b[0m\u001b[1m\u001b[34mINFO: Building Conda\n",
      "\u001b[0m\u001b[1m\u001b[34mINFO: Building PyCall\n",
      "\u001b[0m\u001b[1m\u001b[34mINFO: PyCall is using /home/dong/anaconda3/bin/python (Python 3.5.2) at /home/dong/anaconda3/bin/python, libpython = /home/dong/anaconda3/lib/libpython3.5m\n",
      "\u001b[0m\u001b[1m\u001b[34mINFO: /home/dong/.julia/v0.5/PyCall/deps/deps.jl has not changed\n",
      "\u001b[0m\u001b[1m\u001b[34mINFO: /home/dong/.julia/v0.5/PyCall/deps/PYTHON has not changed\n",
      "\u001b[0m"
     ]
    }
   ],
   "source": [
    "Pkg.update()"
   ]
  },
  {
   "cell_type": "code",
   "execution_count": null,
   "metadata": {
    "collapsed": true
   },
   "outputs": [],
   "source": [
    "sudo ln -s ~/.julia/v0.5/Escher/bin/escher /usr/local/bin/"
   ]
  },
  {
   "cell_type": "code",
   "execution_count": 1,
   "metadata": {
    "collapsed": false
   },
   "outputs": [
    {
     "data": {
      "text/plain": [
       "\"/home/dong/.julia/v0.5/Escher\""
      ]
     },
     "execution_count": 1,
     "metadata": {},
     "output_type": "execute_result"
    }
   ],
   "source": [
    "Pkg.dir(\"Escher\")"
   ]
  },
  {
   "cell_type": "code",
   "execution_count": null,
   "metadata": {
    "collapsed": false
   },
   "outputs": [],
   "source": []
  },
  {
   "cell_type": "code",
   "execution_count": null,
   "metadata": {
    "collapsed": true
   },
   "outputs": [],
   "source": []
  }
 ],
 "metadata": {
  "kernelspec": {
   "display_name": "Julia 0.5.0",
   "language": "julia",
   "name": "julia-0.5"
  },
  "language_info": {
   "file_extension": ".jl",
   "mimetype": "application/julia",
   "name": "julia",
   "version": "0.5.0"
  }
 },
 "nbformat": 4,
 "nbformat_minor": 2
}
