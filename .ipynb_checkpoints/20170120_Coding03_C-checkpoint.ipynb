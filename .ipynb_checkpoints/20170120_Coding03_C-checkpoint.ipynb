{
 "cells": [
  {
   "cell_type": "markdown",
   "metadata": {},
   "source": [
    "# Coding 03\n",
    "\n",
    "__기본 C 코딩 연습__\n",
    "\n"
   ]
  },
  {
   "cell_type": "markdown",
   "metadata": {},
   "source": [
    "## 함수 만들어보기"
   ]
  },
  {
   "cell_type": "code",
   "execution_count": 1,
   "metadata": {
    "ExecuteTime": {
     "end_time": "2017-01-20T15:54:30.424531",
     "start_time": "2017-01-20T15:54:30.353213"
    },
    "collapsed": false
   },
   "outputs": [
    {
     "name": "stderr",
     "output_type": "stream",
     "text": []
    },
    {
     "name": "stdout",
     "output_type": "stream",
     "text": [
      "input : 754\n",
      "square : 568516\n",
      "triple : 2262\n"
     ]
    }
   ],
   "source": [
    "#include <stdio.h>\n",
    "\n",
    "int square();\n",
    "int triple();\n",
    "\n",
    "int main(void) {\n",
    "  int number, output1, output2;\n",
    "  number = 754;\n",
    "  output1 = square(number);\n",
    "  output2 = triple(number);\n",
    "  printf(\"input : %d\\n\", number);\n",
    "  printf(\"square : %d\\n\", output1);\n",
    "  printf(\"triple : %d\\n\", output2);\n",
    "  return 0;\n",
    "}\n",
    "\n",
    "int square(int input) {\n",
    "  input = input*input;\n",
    "  return input;\n",
    "}\n",
    "\n",
    "int triple(int input) {\n",
    "  input = 3*input;\n",
    "  return input;\n",
    "}\n"
   ]
  },
  {
   "cell_type": "code",
   "execution_count": null,
   "metadata": {
    "collapsed": true
   },
   "outputs": [],
   "source": []
  }
 ],
 "metadata": {
  "anaconda-cloud": {},
  "kernelspec": {
   "display_name": "C",
   "language": "c",
   "name": "c_spec"
  },
  "language_info": {
   "file_extension": "c",
   "mimetype": "text/plain",
   "name": "c"
  }
 },
 "nbformat": 4,
 "nbformat_minor": 1
}
