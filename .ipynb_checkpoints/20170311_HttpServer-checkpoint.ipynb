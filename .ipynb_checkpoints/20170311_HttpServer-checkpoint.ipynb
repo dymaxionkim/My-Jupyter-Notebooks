{
 "cells": [
  {
   "cell_type": "markdown",
   "metadata": {},
   "source": [
    "https://github.com/JuliaWeb/HttpServer.jl"
   ]
  },
  {
   "cell_type": "code",
   "execution_count": null,
   "metadata": {
    "collapsed": true
   },
   "outputs": [],
   "source": [
    "Pkg.add(\"HttpServer\")"
   ]
  },
  {
   "cell_type": "code",
   "execution_count": null,
   "metadata": {
    "collapsed": true
   },
   "outputs": [],
   "source": [
    "using HttpServer\n",
    "\n",
    "http = HttpHandler() do req::Request, res::Response\n",
    "    Response( ismatch(r\"^/hello/\",req.resource) ? string(\"Hello \", split(req.resource,'/')[3], \"!\") : 404 )\n",
    "end\n",
    "\n",
    "server = Server( http )\n",
    "run( server, 3005 )\n",
    "# or\n",
    "run(server, host=IPv4(127,0,0,1), port=3005)"
   ]
  }
 ],
 "metadata": {
  "kernelspec": {
   "display_name": "Julia 0.5.0",
   "language": "julia",
   "name": "julia-0.5"
  },
  "language_info": {
   "file_extension": ".jl",
   "mimetype": "application/julia",
   "name": "julia",
   "version": "0.5.0"
  }
 },
 "nbformat": 4,
 "nbformat_minor": 2
}
