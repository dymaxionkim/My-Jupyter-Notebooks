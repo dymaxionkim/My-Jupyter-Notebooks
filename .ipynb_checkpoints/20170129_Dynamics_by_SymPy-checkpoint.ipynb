{
 "cells": [
  {
   "cell_type": "markdown",
   "metadata": {},
   "source": [
    "# Dynamics by SymPy"
   ]
  },
  {
   "cell_type": "markdown",
   "metadata": {},
   "source": [
    "Matlab을 대체할 수 있는 오픈소스 대안은 보통 다음과 같은 것들이 거론된다.\n",
    "\n",
    "* GNU Octave\n",
    "* Scilab\n",
    "* Scientific Python\n",
    "* Julia\n",
    "\n",
    "이 중에서 Scientific Python은 보통 Python 베이스에 다음의 모듈들을 갖춘 경우를 말한다.\n",
    "\n",
    "* NumPy : 행렬계산 모듈\n",
    "* SciPy : NumPy를 이용하여 추가로 구성된 과학 알고리즘들 (기본적인 최적화 알고리즘 등)\n",
    "* SymPy : 기호 연산 모듈\n",
    "* MatPlotLib : 그래픽 플랏팅 모듈\n",
    "\n",
    "Julia에서는 이것들을 거의 같은 느낌으로 쓸 수 있도록 해주는 모듈을 제공한다.  [이곳](https://github.com/JuliaPy)을 보면 어떤 것들이 있는지 참고가 된다.\n",
    "\n",
    "* SymPy : Python SymPy를 임포트시켜 준다.\n",
    "* PyPlot : MatPlotLib를 임포트시켜 준다.\n",
    "\n",
    "SymPy는 CAS(Computer Algebra System)의 한 종류라고 할 수 있는데, 대표적으로 Matematica 또는 Matlab Symbolic Toolbox 등이 많이 쓰여왔다.  (그 외에도  Axiom, Magma, Maple, Maxima, Sage, Yacas 등 많다.)  SymPy 말고도 Python 또는 Julia 언어를 위한 다른 CAS들이 더 있으나, 현재는 사실상의 표준 시스템으로 SymPy가 대세로 굳어진 것 같다.\n",
    "\n",
    "그리고, SymPy는 Python 모듈이지만 Julia에서도 불러다 쓸 수 있도록 Julia SymPy 모듈이 인터페이스 해 줄 수 있다.  Python이 갖추어진 방대한 모듈들 때문에 강력하기는 하지만, Julia와 비교할 때 쓸데없이 장황한 느낌이 있기 때문에 더욱 간결하게 다루기 좋은 Julia가 매력적이다.  여기서는 Julia SymPy 모듈을 사용하는 연습을 해 보기로 한다.\n"
   ]
  },
  {
   "cell_type": "markdown",
   "metadata": {},
   "source": [
    "## Ref\n",
    "* https://github.com/JuliaPy/SymPy.jl/blob/master/examples/sympy.md\n",
    "* https://github.com/JuliaPy/SymPy.jl/blob/master/examples/tutorial.md\n",
    "* SymPy Wiki :https://github.com/sympy/sympy/wiki"
   ]
  },
  {
   "cell_type": "code",
   "execution_count": 77,
   "metadata": {
    "collapsed": false
   },
   "outputs": [
    {
     "name": "stderr",
     "output_type": "stream",
     "text": [
      "\u001b[1m\u001b[34mINFO: Nothing to be done\n",
      "\u001b[0m\u001b[1m\u001b[34mINFO: METADATA is out-of-date — you may not have the latest version of SymPy\n",
      "\u001b[0m\u001b[1m\u001b[34mINFO: Use `Pkg.update()` to get the latest versions of your packages\n",
      "\u001b[0m\u001b[1m\u001b[34mINFO: Updating METADATA...\n",
      "\u001b[0m\u001b[1m\u001b[34mINFO: Computing changes...\n",
      "\u001b[0m\u001b[1m\u001b[34mINFO: No packages to install, update or remove\n",
      "\u001b[0m"
     ]
    }
   ],
   "source": [
    "# SymPy 모듈이 아직 설치되어 있지 않을 경우\n",
    "Pkg.add(\"SymPy\")\n",
    "Pkg.update()"
   ]
  },
  {
   "cell_type": "code",
   "execution_count": 78,
   "metadata": {
    "collapsed": false,
    "scrolled": false
   },
   "outputs": [],
   "source": [
    "using SymPy"
   ]
  },
  {
   "cell_type": "markdown",
   "metadata": {},
   "source": [
    "## 다항식의 해"
   ]
  },
  {
   "cell_type": "markdown",
   "metadata": {},
   "source": [
    "### 2차방정식"
   ]
  },
  {
   "cell_type": "code",
   "execution_count": 79,
   "metadata": {
    "collapsed": false
   },
   "outputs": [
    {
     "data": {
      "text/latex": [
       "$$x$$"
      ],
      "text/plain": [
       "x"
      ]
     },
     "execution_count": 79,
     "metadata": {},
     "output_type": "execute_result"
    }
   ],
   "source": [
    "x = symbols(\"x\")"
   ]
  },
  {
   "cell_type": "code",
   "execution_count": 80,
   "metadata": {
    "collapsed": false
   },
   "outputs": [
    {
     "data": {
      "text/plain": [
       "(a,b,c)"
      ]
     },
     "execution_count": 80,
     "metadata": {},
     "output_type": "execute_result"
    }
   ],
   "source": [
    "a, b, c = symbols(\"a, b, c\")"
   ]
  },
  {
   "cell_type": "code",
   "execution_count": 81,
   "metadata": {
    "collapsed": false,
    "scrolled": true
   },
   "outputs": [
    {
     "data": {
      "text/latex": [
       "$$a x^{2} + b x + c = 0$$"
      ],
      "text/plain": [
       "   2              \n",
       "a⋅x  + b⋅x + c = 0"
      ]
     },
     "execution_count": 81,
     "metadata": {},
     "output_type": "execute_result"
    }
   ],
   "source": [
    "y = Eq( a*x^2 + b*x + c )"
   ]
  },
  {
   "cell_type": "code",
   "execution_count": 82,
   "metadata": {
    "collapsed": false,
    "scrolled": true
   },
   "outputs": [
    {
     "data": {
      "text/latex": [
       "\\begin{bmatrix}\\frac{1}{2 a} \\left(- b + \\sqrt{- 4 a c + b^{2}}\\right)\\\\- \\frac{1}{2 a} \\left(b + \\sqrt{- 4 a c + b^{2}}\\right)\\end{bmatrix}"
      ],
      "text/plain": [
       "2-element Array{SymPy.Sym,1}\n",
       "⎡         _____________  ⎤\n",
       "⎢        ╱           2   ⎥\n",
       "⎢ -b + ╲╱  -4⋅a⋅c + b    ⎥\n",
       "⎢ ─────────────────────  ⎥\n",
       "⎢          2⋅a           ⎥\n",
       "⎢                        ⎥\n",
       "⎢ ⎛       _____________⎞ ⎥\n",
       "⎢ ⎜      ╱           2 ⎟ ⎥\n",
       "⎢-⎝b + ╲╱  -4⋅a⋅c + b  ⎠ ⎥\n",
       "⎢────────────────────────⎥\n",
       "⎣          2⋅a           ⎦"
      ]
     },
     "execution_count": 82,
     "metadata": {},
     "output_type": "execute_result"
    }
   ],
   "source": [
    "solve(y,x)"
   ]
  },
  {
   "cell_type": "markdown",
   "metadata": {},
   "source": [
    "### Circle 방정식"
   ]
  },
  {
   "cell_type": "code",
   "execution_count": 83,
   "metadata": {
    "collapsed": false
   },
   "outputs": [
    {
     "data": {
      "text/latex": [
       "$$\\sin{\\left (x \\right )} + \\cos{\\left (x \\right )} = 0$$"
      ],
      "text/plain": [
       "sin(x) + cos(x) = 0"
      ]
     },
     "execution_count": 83,
     "metadata": {},
     "output_type": "execute_result"
    }
   ],
   "source": [
    "y2 = Eq( sin(x)+cos(x) )"
   ]
  },
  {
   "cell_type": "code",
   "execution_count": 84,
   "metadata": {
    "collapsed": false
   },
   "outputs": [
    {
     "data": {
      "text/latex": [
       "\\begin{bmatrix}- \\frac{\\pi}{4}\\\\\\frac{3 \\pi}{4}\\end{bmatrix}"
      ],
      "text/plain": [
       "2-element Array{SymPy.Sym,1}\n",
       "⎡-π ⎤\n",
       "⎢───⎥\n",
       "⎢ 4 ⎥\n",
       "⎢   ⎥\n",
       "⎢3⋅π⎥\n",
       "⎢───⎥\n",
       "⎣ 4 ⎦"
      ]
     },
     "execution_count": 84,
     "metadata": {},
     "output_type": "execute_result"
    }
   ],
   "source": [
    "solve(y2,x)"
   ]
  },
  {
   "cell_type": "markdown",
   "metadata": {},
   "source": [
    "### 3차방정식"
   ]
  },
  {
   "cell_type": "code",
   "execution_count": 85,
   "metadata": {
    "collapsed": false
   },
   "outputs": [
    {
     "data": {
      "text/latex": [
       "$$d$$"
      ],
      "text/plain": [
       "d"
      ]
     },
     "execution_count": 85,
     "metadata": {},
     "output_type": "execute_result"
    }
   ],
   "source": [
    "d = symbols(\"d\")"
   ]
  },
  {
   "cell_type": "code",
   "execution_count": 86,
   "metadata": {
    "collapsed": false
   },
   "outputs": [
    {
     "data": {
      "text/latex": [
       "$$a x^{3} + b x^{2} + c x + d = 0$$"
      ],
      "text/plain": [
       "   3      2              \n",
       "a⋅x  + b⋅x  + c⋅x + d = 0"
      ]
     },
     "execution_count": 86,
     "metadata": {},
     "output_type": "execute_result"
    }
   ],
   "source": [
    "y3 = Eq( a*x^3 + b*x^2 + c*x + d )"
   ]
  },
  {
   "cell_type": "code",
   "execution_count": 87,
   "metadata": {
    "collapsed": false
   },
   "outputs": [
    {
     "data": {
      "text/latex": [
       "\\begin{bmatrix}- \\frac{- \\frac{3 c}{a} + \\frac{b^{2}}{a^{2}}}{3 \\sqrt[3]{\\frac{1}{2} \\sqrt{- 4 \\left(- \\frac{3 c}{a} + \\frac{b^{2}}{a^{2}}\\right)^{3} + \\left(\\frac{27 d}{a} - \\frac{9 b}{a^{2}} c + \\frac{2 b^{3}}{a^{3}}\\right)^{2}} + \\frac{27 d}{2 a} - \\frac{9 b c}{2 a^{2}} + \\frac{b^{3}}{a^{3}}}} - \\frac{1}{3} \\sqrt[3]{\\frac{1}{2} \\sqrt{- 4 \\left(- \\frac{3 c}{a} + \\frac{b^{2}}{a^{2}}\\right)^{3} + \\left(\\frac{27 d}{a} - \\frac{9 b}{a^{2}} c + \\frac{2 b^{3}}{a^{3}}\\right)^{2}} + \\frac{27 d}{2 a} - \\frac{9 b c}{2 a^{2}} + \\frac{b^{3}}{a^{3}}} - \\frac{b}{3 a}\\\\- \\frac{- \\frac{3 c}{a} + \\frac{b^{2}}{a^{2}}}{3 \\left(- \\frac{1}{2} - \\frac{\\sqrt{3} i}{2}\\right) \\sqrt[3]{\\frac{1}{2} \\sqrt{- 4 \\left(- \\frac{3 c}{a} + \\frac{b^{2}}{a^{2}}\\right)^{3} + \\left(\\frac{27 d}{a} - \\frac{9 b}{a^{2}} c + \\frac{2 b^{3}}{a^{3}}\\right)^{2}} + \\frac{27 d}{2 a} - \\frac{9 b c}{2 a^{2}} + \\frac{b^{3}}{a^{3}}}} - \\frac{1}{3} \\left(- \\frac{1}{2} - \\frac{\\sqrt{3} i}{2}\\right) \\sqrt[3]{\\frac{1}{2} \\sqrt{- 4 \\left(- \\frac{3 c}{a} + \\frac{b^{2}}{a^{2}}\\right)^{3} + \\left(\\frac{27 d}{a} - \\frac{9 b}{a^{2}} c + \\frac{2 b^{3}}{a^{3}}\\right)^{2}} + \\frac{27 d}{2 a} - \\frac{9 b c}{2 a^{2}} + \\frac{b^{3}}{a^{3}}} - \\frac{b}{3 a}\\\\- \\frac{- \\frac{3 c}{a} + \\frac{b^{2}}{a^{2}}}{3 \\left(- \\frac{1}{2} + \\frac{\\sqrt{3} i}{2}\\right) \\sqrt[3]{\\frac{1}{2} \\sqrt{- 4 \\left(- \\frac{3 c}{a} + \\frac{b^{2}}{a^{2}}\\right)^{3} + \\left(\\frac{27 d}{a} - \\frac{9 b}{a^{2}} c + \\frac{2 b^{3}}{a^{3}}\\right)^{2}} + \\frac{27 d}{2 a} - \\frac{9 b c}{2 a^{2}} + \\frac{b^{3}}{a^{3}}}} - \\frac{1}{3} \\left(- \\frac{1}{2} + \\frac{\\sqrt{3} i}{2}\\right) \\sqrt[3]{\\frac{1}{2} \\sqrt{- 4 \\left(- \\frac{3 c}{a} + \\frac{b^{2}}{a^{2}}\\right)^{3} + \\left(\\frac{27 d}{a} - \\frac{9 b}{a^{2}} c + \\frac{2 b^{3}}{a^{3}}\\right)^{2}} + \\frac{27 d}{2 a} - \\frac{9 b c}{2 a^{2}} + \\frac{b^{3}}{a^{3}}} - \\frac{b}{3 a}\\end{bmatrix}"
      ],
      "text/plain": [
       "3-element Array{SymPy.Sym,1}\n",
       "⎡                                                                             \n",
       "⎢                                                                             \n",
       "⎢                                                                             \n",
       "⎢                                                                             \n",
       "⎢                                                                             \n",
       "⎢                                                                             \n",
       "⎢                                                              2              \n",
       "⎢                                                       3⋅c   b               \n",
       "⎢                                                     - ─── + ──              \n",
       "⎢                                                        a     2              \n",
       "⎢                                                             a               \n",
       "⎢             - ──────────────────────────────────────────────────────────────\n",
       "⎢                            _________________________________________________\n",
       "⎢                           ╱        _________________________________________\n",
       "⎢                          ╱        ╱                 3                       \n",
       "⎢                         ╱        ╱      ⎛         2⎞    ⎛                  3\n",
       "⎢                        ╱        ╱       ⎜  3⋅c   b ⎟    ⎜27⋅d   9⋅b⋅c   2⋅b \n",
       "⎢                       ╱        ╱    - 4⋅⎜- ─── + ──⎟  + ⎜──── - ───── + ────\n",
       "⎢                      ╱        ╱         ⎜   a     2⎟    ⎜ a        2      3 \n",
       "⎢                     ╱       ╲╱          ⎝        a ⎠    ⎝         a      a  \n",
       "⎢               3⋅   ╱        ────────────────────────────────────────────────\n",
       "⎢                 3 ╱                                  2                      \n",
       "⎢                 ╲╱                                                          \n",
       "⎢                                                                             \n",
       "⎢                                                                             \n",
       "⎢                                                                             \n",
       "⎢                                                                             \n",
       "⎢                                                                             \n",
       "⎢                                                                             \n",
       "⎢                                                                             \n",
       "⎢                                                        2                    \n",
       "⎢                                                 3⋅c   b                     \n",
       "⎢                                               - ─── + ──                    \n",
       "⎢                                                  a     2                    \n",
       "⎢                                                       a                     \n",
       "⎢- ───────────────────────────────────────────────────────────────────────────\n",
       "⎢                            _________________________________________________\n",
       "⎢                           ╱        _________________________________________\n",
       "⎢                          ╱        ╱                 3                       \n",
       "⎢                         ╱        ╱      ⎛         2⎞    ⎛                  3\n",
       "⎢                        ╱        ╱       ⎜  3⋅c   b ⎟    ⎜27⋅d   9⋅b⋅c   2⋅b \n",
       "⎢                       ╱        ╱    - 4⋅⎜- ─── + ──⎟  + ⎜──── - ───── + ────\n",
       "⎢                      ╱        ╱         ⎜   a     2⎟    ⎜ a        2      3 \n",
       "⎢    ⎛  1   √3⋅ⅈ⎞     ╱       ╲╱          ⎝        a ⎠    ⎝         a      a  \n",
       "⎢  3⋅⎜- ─ - ────⎟⋅   ╱        ────────────────────────────────────────────────\n",
       "⎢    ⎝  2    2  ⎠ 3 ╱                                  2                      \n",
       "⎢                 ╲╱                                                          \n",
       "⎢                                                                             \n",
       "⎢                                                                             \n",
       "⎢                                                                             \n",
       "⎢                                                                             \n",
       "⎢                                                                             \n",
       "⎢                                                                             \n",
       "⎢                                                                             \n",
       "⎢                                                        2                    \n",
       "⎢                                                 3⋅c   b                     \n",
       "⎢                                               - ─── + ──                    \n",
       "⎢                                                  a     2                    \n",
       "⎢                                                       a                     \n",
       "⎢- ───────────────────────────────────────────────────────────────────────────\n",
       "⎢                            _________________________________________________\n",
       "⎢                           ╱        _________________________________________\n",
       "⎢                          ╱        ╱                 3                       \n",
       "⎢                         ╱        ╱      ⎛         2⎞    ⎛                  3\n",
       "⎢                        ╱        ╱       ⎜  3⋅c   b ⎟    ⎜27⋅d   9⋅b⋅c   2⋅b \n",
       "⎢                       ╱        ╱    - 4⋅⎜- ─── + ──⎟  + ⎜──── - ───── + ────\n",
       "⎢                      ╱        ╱         ⎜   a     2⎟    ⎜ a        2      3 \n",
       "⎢    ⎛  1   √3⋅ⅈ⎞     ╱       ╲╱          ⎝        a ⎠    ⎝         a      a  \n",
       "⎢  3⋅⎜- ─ + ────⎟⋅   ╱        ────────────────────────────────────────────────\n",
       "⎢    ⎝  2    2  ⎠ 3 ╱                                  2                      \n",
       "⎣                 ╲╱                                                          \n",
       "\n",
       "                                      ________________________________________\n",
       "                                     ╱        ________________________________\n",
       "                                    ╱        ╱                 3              \n",
       "                                   ╱        ╱      ⎛         2⎞    ⎛          \n",
       "                                  ╱        ╱       ⎜  3⋅c   b ⎟    ⎜27⋅d   9⋅b\n",
       "                                 ╱        ╱    - 4⋅⎜- ─── + ──⎟  + ⎜──── - ───\n",
       "                                ╱        ╱         ⎜   a     2⎟    ⎜ a        \n",
       "                               ╱       ╲╱          ⎝        a ⎠    ⎝         a\n",
       "                              ╱        ───────────────────────────────────────\n",
       "                           3 ╱                                  2             \n",
       "                           ╲╱                                                 \n",
       "──────────────────────── - ───────────────────────────────────────────────────\n",
       "________________________                                            3         \n",
       "___                                                                           \n",
       " 2                                                                            \n",
       "⎞                                                                             \n",
       "⎟                                                                             \n",
       "⎟                                                                             \n",
       "⎟                     3                                                       \n",
       "⎠     27⋅d   9⋅b⋅c   b                                                        \n",
       "─── + ──── - ───── + ──                                                       \n",
       "      2⋅a        2    3                                                       \n",
       "              2⋅a    a                                                        \n",
       "                                                                              \n",
       "                                                   ___________________________\n",
       "                                                  ╱        ___________________\n",
       "                                                 ╱        ╱                 3 \n",
       "                                                ╱        ╱      ⎛         2⎞  \n",
       "                                               ╱        ╱       ⎜  3⋅c   b ⎟  \n",
       "                                              ╱        ╱    - 4⋅⎜- ─── + ──⎟  \n",
       "                                             ╱        ╱         ⎜   a     2⎟  \n",
       "                           ⎛  1   √3⋅ⅈ⎞     ╱       ╲╱          ⎝        a ⎠  \n",
       "                           ⎜- ─ - ────⎟⋅   ╱        ──────────────────────────\n",
       "                           ⎝  2    2  ⎠ 3 ╱                                  2\n",
       "                                        ╲╱                                    \n",
       "──────────────────────── - ───────────────────────────────────────────────────\n",
       "________________________                                                   3  \n",
       "___                                                                           \n",
       " 2                                                                            \n",
       "⎞                                                                             \n",
       "⎟                                                                             \n",
       "⎟                                                                             \n",
       "⎟                     3                                                       \n",
       "⎠     27⋅d   9⋅b⋅c   b                                                        \n",
       "─── + ──── - ───── + ──                                                       \n",
       "      2⋅a        2    3                                                       \n",
       "              2⋅a    a                                                        \n",
       "                                                                              \n",
       "                                                   ___________________________\n",
       "                                                  ╱        ___________________\n",
       "                                                 ╱        ╱                 3 \n",
       "                                                ╱        ╱      ⎛         2⎞  \n",
       "                                               ╱        ╱       ⎜  3⋅c   b ⎟  \n",
       "                                              ╱        ╱    - 4⋅⎜- ─── + ──⎟  \n",
       "                                             ╱        ╱         ⎜   a     2⎟  \n",
       "                           ⎛  1   √3⋅ⅈ⎞     ╱       ╲╱          ⎝        a ⎠  \n",
       "                           ⎜- ─ + ────⎟⋅   ╱        ──────────────────────────\n",
       "                           ⎝  2    2  ⎠ 3 ╱                                  2\n",
       "                                        ╲╱                                    \n",
       "──────────────────────── - ───────────────────────────────────────────────────\n",
       "________________________                                                   3  \n",
       "___                                                                           \n",
       " 2                                                                            \n",
       "⎞                                                                             \n",
       "⎟                                                                             \n",
       "⎟                                                                             \n",
       "⎟                     3                                                       \n",
       "⎠     27⋅d   9⋅b⋅c   b                                                        \n",
       "─── + ──── - ───── + ──                                                       \n",
       "      2⋅a        2    3                                                       \n",
       "              2⋅a    a                                                        \n",
       "\n",
       "_________________________________                   ⎤\n",
       "____________                                        ⎥\n",
       "          2                                         ⎥\n",
       "        3⎞                                          ⎥\n",
       "⋅c   2⋅b ⎟                                          ⎥\n",
       "── + ────⎟                                          ⎥\n",
       "2      3 ⎟                     3                    ⎥\n",
       "      a  ⎠     27⋅d   9⋅b⋅c   b                     ⎥\n",
       "──────────── + ──── - ───── + ──                    ⎥\n",
       "               2⋅a        2    3                    ⎥\n",
       "                       2⋅a    a      b              ⎥\n",
       "───────────────────────────────── - ───             ⎥\n",
       "                                    3⋅a             ⎥\n",
       "                                                    ⎥\n",
       "                                                    ⎥\n",
       "                                                    ⎥\n",
       "                                                    ⎥\n",
       "                                                    ⎥\n",
       "                                                    ⎥\n",
       "                                                    ⎥\n",
       "                                                    ⎥\n",
       "                                                    ⎥\n",
       "                                                    ⎥\n",
       "                                                    ⎥\n",
       "______________________________________________      ⎥\n",
       "_________________________                           ⎥\n",
       "                       2                            ⎥\n",
       "  ⎛                  3⎞                             ⎥\n",
       "  ⎜27⋅d   9⋅b⋅c   2⋅b ⎟                             ⎥\n",
       "+ ⎜──── - ───── + ────⎟                             ⎥\n",
       "  ⎜ a        2      3 ⎟                     3       ⎥\n",
       "  ⎝         a      a  ⎠     27⋅d   9⋅b⋅c   b        ⎥\n",
       "───────────────────────── + ──── - ───── + ──       ⎥\n",
       "                            2⋅a        2    3       ⎥\n",
       "                                    2⋅a    a      b ⎥\n",
       "────────────────────────────────────────────── - ───⎥\n",
       "                                                 3⋅a⎥\n",
       "                                                    ⎥\n",
       "                                                    ⎥\n",
       "                                                    ⎥\n",
       "                                                    ⎥\n",
       "                                                    ⎥\n",
       "                                                    ⎥\n",
       "                                                    ⎥\n",
       "                                                    ⎥\n",
       "                                                    ⎥\n",
       "                                                    ⎥\n",
       "                                                    ⎥\n",
       "______________________________________________      ⎥\n",
       "_________________________                           ⎥\n",
       "                       2                            ⎥\n",
       "  ⎛                  3⎞                             ⎥\n",
       "  ⎜27⋅d   9⋅b⋅c   2⋅b ⎟                             ⎥\n",
       "+ ⎜──── - ───── + ────⎟                             ⎥\n",
       "  ⎜ a        2      3 ⎟                     3       ⎥\n",
       "  ⎝         a      a  ⎠     27⋅d   9⋅b⋅c   b        ⎥\n",
       "───────────────────────── + ──── - ───── + ──       ⎥\n",
       "                            2⋅a        2    3       ⎥\n",
       "                                    2⋅a    a      b ⎥\n",
       "────────────────────────────────────────────── - ───⎥\n",
       "                                                 3⋅a⎥\n",
       "                                                    ⎥\n",
       "                                                    ⎥\n",
       "                                                    ⎥\n",
       "                                                    ⎥\n",
       "                                                    ⎥\n",
       "                                                    ⎥\n",
       "                                                    ⎥\n",
       "                                                    ⎥\n",
       "                                                    ⎥\n",
       "                                                    ⎦"
      ]
     },
     "execution_count": 87,
     "metadata": {},
     "output_type": "execute_result"
    }
   ],
   "source": [
    "solve(y3,x)"
   ]
  },
  {
   "cell_type": "markdown",
   "metadata": {},
   "source": [
    "### 1차방정식"
   ]
  },
  {
   "cell_type": "code",
   "execution_count": 88,
   "metadata": {
    "collapsed": false
   },
   "outputs": [
    {
     "data": {
      "text/latex": [
       "$$a x + b = 0$$"
      ],
      "text/plain": [
       "a⋅x + b = 0"
      ]
     },
     "execution_count": 88,
     "metadata": {},
     "output_type": "execute_result"
    }
   ],
   "source": [
    "y4 = Eq( a*x + b )"
   ]
  },
  {
   "cell_type": "code",
   "execution_count": 89,
   "metadata": {
    "collapsed": false,
    "scrolled": true
   },
   "outputs": [
    {
     "data": {
      "text/latex": [
       "\\begin{bmatrix}- \\frac{b}{a}\\end{bmatrix}"
      ],
      "text/plain": [
       "1-element Array{SymPy.Sym,1}\n",
       "⎡-b ⎤\n",
       "⎢───⎥\n",
       "⎣ a ⎦"
      ]
     },
     "execution_count": 89,
     "metadata": {},
     "output_type": "execute_result"
    }
   ],
   "source": [
    "solve(y4,x)"
   ]
  },
  {
   "cell_type": "markdown",
   "metadata": {},
   "source": [
    "이런 식으로 solve() 함수를 써서 간단히 방정식의 해를 구할 수 있다.\n"
   ]
  },
  {
   "cell_type": "markdown",
   "metadata": {},
   "source": [
    "## 상미분방정식(ODE)"
   ]
  },
  {
   "cell_type": "markdown",
   "metadata": {},
   "source": [
    "미분방정식에서 $x$는 미지수(Unknown Number)가 아니라 미지함수(Unknown Function)이기 때문에, 앞서 해 봤던 것 처럼 Symbols를 먼저 정의해 주는 것 뿐만 아니라, Function도 정의해 줘야 한다."
   ]
  },
  {
   "cell_type": "markdown",
   "metadata": {},
   "source": [
    "### ODE를 위해 필요한 기능 숙지"
   ]
  },
  {
   "cell_type": "markdown",
   "metadata": {},
   "source": [
    "동역학 미분방정식의 경우는 대부분 정의역(Domain)은 시간 $t$에 관한 함수 $x$를 정의해서, 이 함수 $x$를 찾는 것이 목적이다.\n",
    "\n",
    "따라서 먼저 시간 $t$를 Symbol로 정의해 보자."
   ]
  },
  {
   "cell_type": "code",
   "execution_count": 90,
   "metadata": {
    "collapsed": false,
    "scrolled": false
   },
   "outputs": [
    {
     "data": {
      "text/latex": [
       "$$t$$"
      ],
      "text/plain": [
       "t"
      ]
     },
     "execution_count": 90,
     "metadata": {},
     "output_type": "execute_result"
    }
   ],
   "source": [
    "# Define Domain Symbol 't'\n",
    "t = symbols(\"t\")"
   ]
  },
  {
   "cell_type": "markdown",
   "metadata": {},
   "source": [
    "그 다음, 미지함수 $x$를 Symbolic Function으로 정의한다.\n",
    "\n",
    "동역학에서 $x$ 함수는 보통 위치(Position)을 의미한다."
   ]
  },
  {
   "cell_type": "code",
   "execution_count": 91,
   "metadata": {
    "collapsed": false,
    "scrolled": false
   },
   "outputs": [
    {
     "ename": "ErrorException",
     "evalue": "type SymFunction has no field x",
     "output_type": "error",
     "traceback": [
      "type SymFunction has no field x",
      "",
      " in limitstringmime(::MIME{Symbol(\"text/plain\")}, ::SymPy.SymFunction) at /home/dymaxionkim/.julia/v0.5/IJulia/src/inline.jl:25",
      " in display_dict(::SymPy.SymFunction) at /home/dymaxionkim/.julia/v0.5/IJulia/src/execute_request.jl:28",
      " in execute_request(::ZMQ.Socket, ::IJulia.Msg) at /home/dymaxionkim/.julia/v0.5/IJulia/src/execute_request.jl:188",
      " in eventloop(::ZMQ.Socket) at /home/dymaxionkim/.julia/v0.5/IJulia/src/eventloop.jl:8",
      " in (::IJulia.##13#19)() at ./task.jl:360"
     ]
    }
   ],
   "source": [
    "# Define Positon Function 'x'\n",
    "x = SymFunction(\"x\")"
   ]
  },
  {
   "cell_type": "markdown",
   "metadata": {},
   "source": [
    "그리고 이 미지함수 $x$는 시간 $t$에 관한 함수, 즉 $x(t)$라고 정의해 준다."
   ]
  },
  {
   "cell_type": "code",
   "execution_count": 92,
   "metadata": {
    "collapsed": false
   },
   "outputs": [
    {
     "data": {
      "text/latex": [
       "$$x{\\left (t \\right )}$$"
      ],
      "text/plain": [
       "x(t)"
      ]
     },
     "execution_count": 92,
     "metadata": {},
     "output_type": "execute_result"
    }
   ],
   "source": [
    "x = x(t)"
   ]
  },
  {
   "cell_type": "markdown",
   "metadata": {},
   "source": [
    "이제 함수 $x(t)$를 한 번 미분해 보자.\n",
    "\n",
    "이것은 위치(Position) $x(t)$를 시간 $t$로 미분해 줬으므로 속도(Velocity)가 된다."
   ]
  },
  {
   "cell_type": "code",
   "execution_count": 93,
   "metadata": {
    "collapsed": false,
    "scrolled": true
   },
   "outputs": [
    {
     "data": {
      "text/latex": [
       "$$\\frac{d}{d t} x{\\left (t \\right )}$$"
      ],
      "text/plain": [
       "d       \n",
       "──(x(t))\n",
       "dt      "
      ]
     },
     "execution_count": 93,
     "metadata": {},
     "output_type": "execute_result"
    }
   ],
   "source": [
    "# 1st Order Diffrential Function 'dx/dt'\n",
    "dx = diff(x(t),t,1)"
   ]
  },
  {
   "cell_type": "code",
   "execution_count": 94,
   "metadata": {
    "collapsed": false
   },
   "outputs": [
    {
     "data": {
      "text/latex": [
       "$$\\frac{d}{d t} x{\\left (t \\right )}$$"
      ],
      "text/plain": [
       "d       \n",
       "──(x(t))\n",
       "dt      "
      ]
     },
     "execution_count": 94,
     "metadata": {},
     "output_type": "execute_result"
    }
   ],
   "source": [
    "Derivative(x(t),t,1)"
   ]
  },
  {
   "cell_type": "markdown",
   "metadata": {},
   "source": [
    "이제 함수 $x(t)$를 2번 미분해 보자.\n",
    "\n",
    "이것은 위치(Position) $x(t)$를 시간 $t$로 2번 미분해 줬으므로 가속도(Acceleration)가 된다."
   ]
  },
  {
   "cell_type": "code",
   "execution_count": 221,
   "metadata": {
    "collapsed": false
   },
   "outputs": [
    {
     "data": {
      "text/latex": [
       "$$\\frac{d^{2}}{d t^{2}}  x{\\left (t \\right )}$$"
      ],
      "text/plain": [
       "  2      \n",
       " d       \n",
       "───(x(t))\n",
       "  2      \n",
       "dt       "
      ]
     },
     "execution_count": 221,
     "metadata": {},
     "output_type": "execute_result"
    }
   ],
   "source": [
    "# 2nd Order Diffrential Function 'd2x/d2t'\n",
    "ddx = diff(x(t),t,2)"
   ]
  },
  {
   "cell_type": "markdown",
   "metadata": {},
   "source": [
    "### 감쇄 강제진동 ($f \\neq 0$)\n",
    "\n",
    "$f = m \\ddot{x} + c \\dot{x} + k x$\n",
    "\n",
    "- $m$ : mass\n",
    "- $c$ : damping coefficient\n",
    "- $k$ : spring constant\n",
    "- $f$ : external force"
   ]
  },
  {
   "cell_type": "code",
   "execution_count": 96,
   "metadata": {
    "collapsed": false,
    "scrolled": false
   },
   "outputs": [
    {
     "data": {
      "text/plain": [
       "(m,c,k)"
      ]
     },
     "execution_count": 96,
     "metadata": {},
     "output_type": "execute_result"
    }
   ],
   "source": [
    "# Define Coefficients\n",
    "m, c, k = symbols(\"m, c, k\")"
   ]
  },
  {
   "cell_type": "code",
   "execution_count": 97,
   "metadata": {
    "collapsed": false,
    "scrolled": true
   },
   "outputs": [
    {
     "ename": "ErrorException",
     "evalue": "type SymFunction has no field x",
     "output_type": "error",
     "traceback": [
      "type SymFunction has no field x",
      "",
      " in limitstringmime(::MIME{Symbol(\"text/plain\")}, ::SymPy.SymFunction) at /home/dymaxionkim/.julia/v0.5/IJulia/src/inline.jl:25",
      " in display_dict(::SymPy.SymFunction) at /home/dymaxionkim/.julia/v0.5/IJulia/src/execute_request.jl:28",
      " in execute_request(::ZMQ.Socket, ::IJulia.Msg) at /home/dymaxionkim/.julia/v0.5/IJulia/src/execute_request.jl:188",
      " in eventloop(::ZMQ.Socket) at /home/dymaxionkim/.julia/v0.5/IJulia/src/eventloop.jl:8",
      " in (::IJulia.##13#19)() at ./task.jl:360"
     ]
    }
   ],
   "source": [
    "# Define External Force Function 'f'\n",
    "F = SymFunction(\"F\")"
   ]
  },
  {
   "cell_type": "code",
   "execution_count": 98,
   "metadata": {
    "collapsed": false
   },
   "outputs": [
    {
     "data": {
      "text/latex": [
       "$$F{\\left (t \\right )}$$"
      ],
      "text/plain": [
       "F(t)"
      ]
     },
     "execution_count": 98,
     "metadata": {},
     "output_type": "execute_result"
    }
   ],
   "source": [
    "F = F(t)"
   ]
  },
  {
   "cell_type": "code",
   "execution_count": 99,
   "metadata": {
    "collapsed": false
   },
   "outputs": [
    {
     "data": {
      "text/latex": [
       "$$c \\frac{d}{d t} x{\\left (t \\right )} + k x{\\left (t \\right )} + m \\frac{d^{2}}{d t^{2}}  x{\\left (t \\right )} - F{\\left (t \\right )} = 0$$"
      ],
      "text/plain": [
       "                          2                 \n",
       "  d                      d                  \n",
       "c⋅──(x(t)) + k⋅x(t) + m⋅───(x(t)) - F(t) = 0\n",
       "  dt                      2                 \n",
       "                        dt                  "
      ]
     },
     "execution_count": 99,
     "metadata": {},
     "output_type": "execute_result"
    }
   ],
   "source": [
    "# Define Diffrential Equation\n",
    "eq1 = Eq(m*ddx  + c*dx + k*x - F)"
   ]
  },
  {
   "cell_type": "code",
   "execution_count": 100,
   "metadata": {
    "collapsed": false,
    "scrolled": false
   },
   "outputs": [
    {
     "data": {
      "text/latex": [
       "$$x{\\left (t \\right )} = C_{1} e^{\\frac{t}{2 m} \\left(- c - \\sqrt{c^{2} - 4 k m}\\right)} + C_{2} e^{\\frac{t}{2 m} \\left(- c + \\sqrt{c^{2} - 4 k m}\\right)} - \\frac{e^{\\frac{t}{2 m} \\left(- c - \\sqrt{c^{2} - 4 k m}\\right)}}{\\sqrt{c^{2} - 4 k m}} \\int F{\\left (t \\right )} e^{\\frac{c t}{2 m}} e^{\\frac{t}{2 m} \\sqrt{c^{2} - 4 k m}}\\, dt + \\frac{e^{\\frac{t}{2 m} \\left(- c + \\sqrt{c^{2} - 4 k m}\\right)}}{\\sqrt{c^{2} - 4 k m}} \\int F{\\left (t \\right )} e^{\\frac{c t}{2 m}} e^{- \\frac{t}{2 m} \\sqrt{c^{2} - 4 k m}}\\, dt$$"
      ],
      "text/plain": [
       "                                                                              \n",
       "                                                                        ⎛     \n",
       "                                                                        ⎜     \n",
       "             ⎛        ____________⎞         ⎛        ____________⎞    t⋅⎝-c - \n",
       "             ⎜       ╱  2         ⎟         ⎜       ╱  2         ⎟    ────────\n",
       "           t⋅⎝-c - ╲╱  c  - 4⋅k⋅m ⎠       t⋅⎝-c + ╲╱  c  - 4⋅k⋅m ⎠            \n",
       "           ────────────────────────       ────────────────────────   ℯ        \n",
       "                     2⋅m                            2⋅m                       \n",
       "x(t) = C₁⋅ℯ                         + C₂⋅ℯ                         - ─────────\n",
       "                                                                              \n",
       "                                                                              \n",
       "                                                                              \n",
       "\n",
       "                 ⌠                                                            \n",
       "   ____________⎞ ⎮                 ____________         ⎛        ____________⎞\n",
       "  ╱  2         ⎟ ⎮                ╱  2                  ⎜       ╱  2         ⎟\n",
       "╲╱  c  - 4⋅k⋅m ⎠ ⎮       c⋅t  t⋅╲╱  c  - 4⋅k⋅m        t⋅⎝-c + ╲╱  c  - 4⋅k⋅m ⎠\n",
       "──────────────── ⎮       ───  ─────────────────       ────────────────────────\n",
       "  2⋅m            ⎮       2⋅m         2⋅m                        2⋅m           \n",
       "                ⋅⎮ F(t)⋅ℯ   ⋅ℯ                  dt   ℯ                        \n",
       "                 ⌡                                                            \n",
       "────────────────────────────────────────────────── + ─────────────────────────\n",
       "                ____________                                                  \n",
       "               ╱  2                                                           \n",
       "             ╲╱  c  - 4⋅k⋅m                                                 ╲╱\n",
       "\n",
       " ⌠                                  \n",
       " ⎮                  ____________    \n",
       " ⎮                 ╱  2             \n",
       " ⎮       c⋅t  -t⋅╲╱  c  - 4⋅k⋅m     \n",
       " ⎮       ───  ───────────────────   \n",
       " ⎮       2⋅m          2⋅m           \n",
       "⋅⎮ F(t)⋅ℯ   ⋅ℯ                    dt\n",
       " ⌡                                  \n",
       "────────────────────────────────────\n",
       " ____________                       \n",
       "╱  2                                \n",
       "  c  - 4⋅k⋅m                        "
      ]
     },
     "execution_count": 100,
     "metadata": {},
     "output_type": "execute_result"
    }
   ],
   "source": [
    "# Solve Differential Equation\n",
    "dsolve(eq1)"
   ]
  },
  {
   "cell_type": "code",
   "execution_count": 101,
   "metadata": {
    "collapsed": false
   },
   "outputs": [
    {
     "data": {
      "text/latex": [
       "\\begin{equation*}\\begin{cases}\"default\" & \\text{=>} &\"nth_linear_constant_coeff_variation_of_parameters\"\\\\\"best_hint\" & \\text{=>} &\"nth_linear_constant_coeff_variation_of_parameters\"\\\\\"order\" & \\text{=>} &2\\\\\"nth_linear_constant_coeff_variation_of_parameters_Integral\" & \\text{=>} &x{\\left (t \\right )} = C_{1} e^{\\frac{t}{2 m} \\left(- c - \\sqrt{c^{2} - 4 k m}\\right)} + C_{2} e^{\\frac{t}{2 m} \\left(- c + \\sqrt{c^{2} - 4 k m}\\right)} - \\frac{1}{m} e^{\\frac{t}{2 m} \\left(- c - \\sqrt{c^{2} - 4 k m}\\right)} \\int \\frac{m F{\\left (t \\right )}}{\\sqrt{c^{2} - 4 k m}} e^{\\frac{t}{2 m} \\left(c + \\sqrt{c^{2} - 4 k m}\\right)}\\, dt + \\frac{1}{m} e^{\\frac{t}{2 m} \\left(- c + \\sqrt{c^{2} - 4 k m}\\right)} \\int \\frac{m F{\\left (t \\right )}}{\\sqrt{c^{2} - 4 k m}} e^{\\frac{t}{2 m} \\left(c - \\sqrt{c^{2} - 4 k m}\\right)}\\, dt\\\\\"best\" & \\text{=>} &x{\\left (t \\right )} = C_{1} e^{\\frac{t}{2 m} \\left(- c - \\sqrt{c^{2} - 4 k m}\\right)} + C_{2} e^{\\frac{t}{2 m} \\left(- c + \\sqrt{c^{2} - 4 k m}\\right)} - \\frac{e^{\\frac{t}{2 m} \\left(- c - \\sqrt{c^{2} - 4 k m}\\right)}}{\\sqrt{c^{2} - 4 k m}} \\int F{\\left (t \\right )} e^{\\frac{c t}{2 m}} e^{\\frac{t}{2 m} \\sqrt{c^{2} - 4 k m}}\\, dt + \\frac{e^{\\frac{t}{2 m} \\left(- c + \\sqrt{c^{2} - 4 k m}\\right)}}{\\sqrt{c^{2} - 4 k m}} \\int F{\\left (t \\right )} e^{\\frac{c t}{2 m}} e^{- \\frac{t}{2 m} \\sqrt{c^{2} - 4 k m}}\\, dt\\\\\"nth_linear_constant_coeff_variation_of_parameters\" & \\text{=>} &x{\\left (t \\right )} = C_{1} e^{\\frac{t}{2 m} \\left(- c - \\sqrt{c^{2} - 4 k m}\\right)} + C_{2} e^{\\frac{t}{2 m} \\left(- c + \\sqrt{c^{2} - 4 k m}\\right)} - \\frac{e^{\\frac{t}{2 m} \\left(- c - \\sqrt{c^{2} - 4 k m}\\right)}}{\\sqrt{c^{2} - 4 k m}} \\int F{\\left (t \\right )} e^{\\frac{c t}{2 m}} e^{\\frac{t}{2 m} \\sqrt{c^{2} - 4 k m}}\\, dt + \\frac{e^{\\frac{t}{2 m} \\left(- c + \\sqrt{c^{2} - 4 k m}\\right)}}{\\sqrt{c^{2} - 4 k m}} \\int F{\\left (t \\right )} e^{\\frac{c t}{2 m}} e^{- \\frac{t}{2 m} \\sqrt{c^{2} - 4 k m}}\\, dt\\\\\\end{cases}\\end{equation*}"
      ],
      "text/plain": [
       "Dict{Any,Any} with 6 entries:\n",
       "  \"default\"                 => \"nth_linear_constant_coeff_variation_of_paramete…\n",
       "  \"best_hint\"               => \"nth_linear_constant_coeff_variation_of_paramete…\n",
       "  \"order\"                   => 2\n",
       "  \"nth_linear_constant_coe… => Eq(x(t), C1*exp(t*(-c - sqrt(c^2 - 4*k*m))/(2*m)…\n",
       "  \"best\"                    => Eq(x(t), C1*exp(t*(-c - sqrt(c^2 - 4*k*m))/(2*m)…\n",
       "  \"nth_linear_constant_coe… => Eq(x(t), C1*exp(t*(-c - sqrt(c^2 - 4*k*m))/(2*m)…"
      ]
     },
     "execution_count": 101,
     "metadata": {},
     "output_type": "execute_result"
    }
   ],
   "source": [
    "dsolve(eq1, hint=\"all\")"
   ]
  },
  {
   "cell_type": "markdown",
   "metadata": {},
   "source": [
    "### 감쇄 자유진동 ($f = 0$)\n",
    "\n",
    "$0 = m \\ddot{x} + c \\dot{x} + k x$\n"
   ]
  },
  {
   "cell_type": "code",
   "execution_count": 102,
   "metadata": {
    "collapsed": false
   },
   "outputs": [
    {
     "data": {
      "text/latex": [
       "$$c \\frac{d}{d t} x{\\left (t \\right )} + k x{\\left (t \\right )} + m \\frac{d^{2}}{d t^{2}}  x{\\left (t \\right )} = 0$$"
      ],
      "text/plain": [
       "                          2          \n",
       "  d                      d           \n",
       "c⋅──(x(t)) + k⋅x(t) + m⋅───(x(t)) = 0\n",
       "  dt                      2          \n",
       "                        dt           "
      ]
     },
     "execution_count": 102,
     "metadata": {},
     "output_type": "execute_result"
    }
   ],
   "source": [
    "# Define Diffrential Equation\n",
    "eq2 = Eq(m*ddx  + c*dx + k*x )"
   ]
  },
  {
   "cell_type": "code",
   "execution_count": 103,
   "metadata": {
    "collapsed": false
   },
   "outputs": [
    {
     "data": {
      "text/latex": [
       "\\begin{equation*}\\begin{cases}\"default\" & \\text{=>} &\"nth_linear_constant_coeff_homogeneous\"\\\\\"best_hint\" & \\text{=>} &\"2nd_power_series_ordinary\"\\\\\"2nd_power_series_ordinary\" & \\text{=>} &x{\\left (t \\right )} = C_{2} \\left(- \\frac{c^{2} k t^{4}}{24 m^{3}} + \\frac{c k t^{3}}{6 m^{2}} + \\frac{k^{2} t^{4}}{24 m^{2}} - \\frac{k t^{2}}{2 m} + 1\\right) + C_{1} t \\left(- \\frac{c^{3} t^{3}}{24 m^{3}} + \\frac{c^{2} t^{2}}{6 m^{2}} + \\frac{c k t^{3}}{12 m^{2}} - \\frac{c t}{2 m} - \\frac{k t^{2}}{6 m} + 1\\right) + \\mathcal{O}\\left(t^{6}\\right)\\\\\"order\" & \\text{=>} &2\\\\\"nth_linear_constant_coeff_homogeneous\" & \\text{=>} &x{\\left (t \\right )} = C_{1} e^{\\frac{t}{2 m} \\left(- c - \\sqrt{c^{2} - 4 k m}\\right)} + C_{2} e^{\\frac{t}{2 m} \\left(- c + \\sqrt{c^{2} - 4 k m}\\right)}\\\\\"best\" & \\text{=>} &x{\\left (t \\right )} = C_{2} \\left(- \\frac{c^{2} k t^{4}}{24 m^{3}} + \\frac{c k t^{3}}{6 m^{2}} + \\frac{k^{2} t^{4}}{24 m^{2}} - \\frac{k t^{2}}{2 m} + 1\\right) + C_{1} t \\left(- \\frac{c^{3} t^{3}}{24 m^{3}} + \\frac{c^{2} t^{2}}{6 m^{2}} + \\frac{c k t^{3}}{12 m^{2}} - \\frac{c t}{2 m} - \\frac{k t^{2}}{6 m} + 1\\right) + \\mathcal{O}\\left(t^{6}\\right)\\\\\\end{cases}\\end{equation*}"
      ],
      "text/plain": [
       "Dict{Any,Any} with 6 entries:\n",
       "  \"default\"                 => \"nth_linear_constant_coeff_homogeneous\"\n",
       "  \"best_hint\"               => \"2nd_power_series_ordinary\"\n",
       "  \"2nd_power_series_ordina… => Eq(x(t), C2*(-c^2*k*t^4/(24*m^3) + c*k*t^3/(6*m^…\n",
       "  \"order\"                   => 2\n",
       "  \"nth_linear_constant_coe… => Eq(x(t), C1*exp(t*(-c - sqrt(c^2 - 4*k*m))/(2*m)…\n",
       "  \"best\"                    => Eq(x(t), C2*(-c^2*k*t^4/(24*m^3) + c*k*t^3/(6*m^…"
      ]
     },
     "execution_count": 103,
     "metadata": {},
     "output_type": "execute_result"
    }
   ],
   "source": [
    "dsolve(eq2, hint=\"all\")"
   ]
  },
  {
   "cell_type": "markdown",
   "metadata": {},
   "source": [
    "### 비감쇄 자유진동 ($c = 0$, $f = 0$)\n",
    "\n",
    "$0 = m \\ddot{x} + k x$"
   ]
  },
  {
   "cell_type": "code",
   "execution_count": 104,
   "metadata": {
    "collapsed": false
   },
   "outputs": [
    {
     "data": {
      "text/latex": [
       "$$k x{\\left (t \\right )} + m \\frac{d^{2}}{d t^{2}}  x{\\left (t \\right )} = 0$$"
      ],
      "text/plain": [
       "             2          \n",
       "            d           \n",
       "k⋅x(t) + m⋅───(x(t)) = 0\n",
       "             2          \n",
       "           dt           "
      ]
     },
     "execution_count": 104,
     "metadata": {},
     "output_type": "execute_result"
    }
   ],
   "source": [
    "# Define Diffrential Equation\n",
    "eq3 = Eq(m*ddx  + k*x )"
   ]
  },
  {
   "cell_type": "code",
   "execution_count": 105,
   "metadata": {
    "collapsed": false
   },
   "outputs": [
    {
     "data": {
      "text/latex": [
       "\\begin{equation*}\\begin{cases}\"default\" & \\text{=>} &\"nth_linear_constant_coeff_homogeneous\"\\\\\"best_hint\" & \\text{=>} &\"2nd_power_series_ordinary\"\\\\\"2nd_power_series_ordinary\" & \\text{=>} &x{\\left (t \\right )} = C_{2} \\left(\\frac{k^{2} t^{4}}{24 m^{2}} - \\frac{k t^{2}}{2 m} + 1\\right) + C_{1} t \\left(- \\frac{k t^{2}}{6 m} + 1\\right) + \\mathcal{O}\\left(t^{6}\\right)\\\\\"order\" & \\text{=>} &2\\\\\"nth_linear_constant_coeff_homogeneous\" & \\text{=>} &x{\\left (t \\right )} = C_{1} e^{- t \\sqrt{- \\frac{k}{m}}} + C_{2} e^{t \\sqrt{- \\frac{k}{m}}}\\\\\"best\" & \\text{=>} &x{\\left (t \\right )} = C_{2} \\left(\\frac{k^{2} t^{4}}{24 m^{2}} - \\frac{k t^{2}}{2 m} + 1\\right) + C_{1} t \\left(- \\frac{k t^{2}}{6 m} + 1\\right) + \\mathcal{O}\\left(t^{6}\\right)\\\\\\end{cases}\\end{equation*}"
      ],
      "text/plain": [
       "Dict{Any,Any} with 6 entries:\n",
       "  \"default\"                 => \"nth_linear_constant_coeff_homogeneous\"\n",
       "  \"best_hint\"               => \"2nd_power_series_ordinary\"\n",
       "  \"2nd_power_series_ordina… => Eq(x(t), C2*(k^2*t^4/(24*m^2) - k*t^2/(2*m) + 1)…\n",
       "  \"order\"                   => 2\n",
       "  \"nth_linear_constant_coe… => Eq(x(t), C1*exp(-t*sqrt(-k/m)) + C2*exp(t*sqrt(-…\n",
       "  \"best\"                    => Eq(x(t), C2*(k^2*t^4/(24*m^2) - k*t^2/(2*m) + 1)…"
      ]
     },
     "execution_count": 105,
     "metadata": {},
     "output_type": "execute_result"
    }
   ],
   "source": [
    "dsolve(eq3, hint=\"all\")"
   ]
  },
  {
   "cell_type": "markdown",
   "metadata": {},
   "source": [
    "### 비감쇄 강제진동 ($c = 0$, $f \\neq 0$)\n",
    "\n",
    "$F = m \\ddot{x} + k x$\n"
   ]
  },
  {
   "cell_type": "code",
   "execution_count": 106,
   "metadata": {
    "collapsed": false
   },
   "outputs": [
    {
     "data": {
      "text/latex": [
       "$$k x{\\left (t \\right )} + m \\frac{d^{2}}{d t^{2}}  x{\\left (t \\right )} - F{\\left (t \\right )} = 0$$"
      ],
      "text/plain": [
       "             2                 \n",
       "            d                  \n",
       "k⋅x(t) + m⋅───(x(t)) - F(t) = 0\n",
       "             2                 \n",
       "           dt                  "
      ]
     },
     "execution_count": 106,
     "metadata": {},
     "output_type": "execute_result"
    }
   ],
   "source": [
    "# Define Diffrential Equation\n",
    "eq4 = Eq(m*ddx  + k*x - F)"
   ]
  },
  {
   "cell_type": "code",
   "execution_count": 107,
   "metadata": {
    "collapsed": false
   },
   "outputs": [
    {
     "data": {
      "text/latex": [
       "\\begin{equation*}\\begin{cases}\"default\" & \\text{=>} &\"nth_linear_constant_coeff_variation_of_parameters\"\\\\\"best_hint\" & \\text{=>} &\"nth_linear_constant_coeff_variation_of_parameters\"\\\\\"order\" & \\text{=>} &2\\\\\"nth_linear_constant_coeff_variation_of_parameters_Integral\" & \\text{=>} &x{\\left (t \\right )} = \\left(C_{1} + \\frac{1}{m} \\int \\frac{F{\\left (t \\right )}}{2 \\sqrt{- \\frac{k}{m}}} e^{- t \\sqrt{- \\frac{k}{m}}}\\, dt\\right) e^{t \\sqrt{- \\frac{k}{m}}} + \\left(C_{2} - \\frac{1}{m} \\int \\frac{F{\\left (t \\right )}}{2 \\sqrt{- \\frac{k}{m}}} e^{t \\sqrt{- \\frac{k}{m}}}\\, dt\\right) e^{- t \\sqrt{- \\frac{k}{m}}}\\\\\"best\" & \\text{=>} &x{\\left (t \\right )} = \\left(C_{1} + \\frac{1}{2 m \\sqrt{- \\frac{k}{m}}} \\int F{\\left (t \\right )} e^{- t \\sqrt{- \\frac{k}{m}}}\\, dt\\right) e^{t \\sqrt{- \\frac{k}{m}}} + \\left(C_{2} - \\frac{1}{2 m \\sqrt{- \\frac{k}{m}}} \\int F{\\left (t \\right )} e^{t \\sqrt{- \\frac{k}{m}}}\\, dt\\right) e^{- t \\sqrt{- \\frac{k}{m}}}\\\\\"nth_linear_constant_coeff_variation_of_parameters\" & \\text{=>} &x{\\left (t \\right )} = \\left(C_{1} + \\frac{1}{2 m \\sqrt{- \\frac{k}{m}}} \\int F{\\left (t \\right )} e^{- t \\sqrt{- \\frac{k}{m}}}\\, dt\\right) e^{t \\sqrt{- \\frac{k}{m}}} + \\left(C_{2} - \\frac{1}{2 m \\sqrt{- \\frac{k}{m}}} \\int F{\\left (t \\right )} e^{t \\sqrt{- \\frac{k}{m}}}\\, dt\\right) e^{- t \\sqrt{- \\frac{k}{m}}}\\\\\\end{cases}\\end{equation*}"
      ],
      "text/plain": [
       "Dict{Any,Any} with 6 entries:\n",
       "  \"default\"                 => \"nth_linear_constant_coeff_variation_of_paramete…\n",
       "  \"best_hint\"               => \"nth_linear_constant_coeff_variation_of_paramete…\n",
       "  \"order\"                   => 2\n",
       "  \"nth_linear_constant_coe… => Eq(x(t), (C1 + Integral(F(t)*exp(-t*sqrt(-k/m))/…\n",
       "  \"best\"                    => Eq(x(t), (C1 + Integral(F(t)*exp(-t*sqrt(-k/m)),…\n",
       "  \"nth_linear_constant_coe… => Eq(x(t), (C1 + Integral(F(t)*exp(-t*sqrt(-k/m)),…"
      ]
     },
     "execution_count": 107,
     "metadata": {},
     "output_type": "execute_result"
    }
   ],
   "source": [
    "dsolve(eq4, hint=\"all\")"
   ]
  },
  {
   "cell_type": "markdown",
   "metadata": {},
   "source": [
    "### 뉴턴 제2법칙 (가속도항)\n",
    "\n",
    "$F = m \\ddot{x}$"
   ]
  },
  {
   "cell_type": "code",
   "execution_count": 108,
   "metadata": {
    "collapsed": false
   },
   "outputs": [
    {
     "data": {
      "text/latex": [
       "$$m \\frac{d^{2}}{d t^{2}}  x{\\left (t \\right )} - F{\\left (t \\right )} = 0$$"
      ],
      "text/plain": [
       "    2                 \n",
       "   d                  \n",
       "m⋅───(x(t)) - F(t) = 0\n",
       "    2                 \n",
       "  dt                  "
      ]
     },
     "execution_count": 108,
     "metadata": {},
     "output_type": "execute_result"
    }
   ],
   "source": [
    "# Define Diffrential Equation\n",
    "eq5 = Eq(m*ddx - F)"
   ]
  },
  {
   "cell_type": "code",
   "execution_count": 109,
   "metadata": {
    "collapsed": false
   },
   "outputs": [
    {
     "data": {
      "text/latex": [
       "\\begin{equation*}\\begin{cases}\"default\" & \\text{=>} &\"nth_linear_constant_coeff_variation_of_parameters\"\\\\\"best_hint\" & \\text{=>} &\"nth_linear_constant_coeff_variation_of_parameters\"\\\\\"order\" & \\text{=>} &2\\\\\"nth_linear_constant_coeff_variation_of_parameters_Integral\" & \\text{=>} &x{\\left (t \\right )} = C_{1} + t \\left(C_{2} - \\frac{1}{m} \\int - F{\\left (t \\right )}\\, dt\\right) + \\frac{1}{m} \\int - t F{\\left (t \\right )}\\, dt\\\\\"best\" & \\text{=>} &x{\\left (t \\right )} = C_{1} + t \\left(C_{2} + \\frac{1}{m} \\int F{\\left (t \\right )}\\, dt\\right) - \\frac{1}{m} \\int t F{\\left (t \\right )}\\, dt\\\\\"nth_linear_constant_coeff_variation_of_parameters\" & \\text{=>} &x{\\left (t \\right )} = C_{1} + t \\left(C_{2} + \\frac{1}{m} \\int F{\\left (t \\right )}\\, dt\\right) - \\frac{1}{m} \\int t F{\\left (t \\right )}\\, dt\\\\\\end{cases}\\end{equation*}"
      ],
      "text/plain": [
       "Dict{Any,Any} with 6 entries:\n",
       "  \"default\"                 => \"nth_linear_constant_coeff_variation_of_paramete…\n",
       "  \"best_hint\"               => \"nth_linear_constant_coeff_variation_of_paramete…\n",
       "  \"order\"                   => 2\n",
       "  \"nth_linear_constant_coe… => Eq(x(t), C1 + t*(C2 - Integral(-F(t), t)/m) + In…\n",
       "  \"best\"                    => Eq(x(t), C1 + t*(C2 + Integral(F(t), t)/m) - Int…\n",
       "  \"nth_linear_constant_coe… => Eq(x(t), C1 + t*(C2 + Integral(F(t), t)/m) - Int…"
      ]
     },
     "execution_count": 109,
     "metadata": {},
     "output_type": "execute_result"
    }
   ],
   "source": [
    "dsolve(eq5, hint=\"all\")"
   ]
  },
  {
   "cell_type": "markdown",
   "metadata": {},
   "source": [
    "### 스톡스 감쇄 (속도항, 점성 감쇄)\n",
    "\n",
    "$F = c \\dot{x}$"
   ]
  },
  {
   "cell_type": "code",
   "execution_count": 110,
   "metadata": {
    "collapsed": false
   },
   "outputs": [
    {
     "data": {
      "text/latex": [
       "$$c \\frac{d}{d t} x{\\left (t \\right )} - F{\\left (t \\right )} = 0$$"
      ],
      "text/plain": [
       "  d                  \n",
       "c⋅──(x(t)) - F(t) = 0\n",
       "  dt                 "
      ]
     },
     "execution_count": 110,
     "metadata": {},
     "output_type": "execute_result"
    }
   ],
   "source": [
    "# Define Diffrential Equation\n",
    "eq6 = Eq(c*dx - F)"
   ]
  },
  {
   "cell_type": "code",
   "execution_count": 111,
   "metadata": {
    "collapsed": false
   },
   "outputs": [
    {
     "data": {
      "text/latex": [
       "\\begin{equation*}\\begin{cases}\"separable\" & \\text{=>} &x{\\left (t \\right )} = \\frac{1}{c} \\left(C_{1} + \\int F{\\left (t \\right )}\\, dt\\right)\\\\\"lie_group\" & \\text{=>} &x{\\left (t \\right )} = C_{1} + \\frac{1}{c} \\int^{t} F{\\left (r \\right )}\\, dr\\\\\"1st_exact_Integral\" & \\text{=>} &\\int^{x{\\left (t \\right )}} c\\, dy + \\int - F{\\left (t \\right )}\\, dt = C_{1}\\\\\"Bernoulli\" & \\text{=>} &x{\\left (t \\right )} = C_{1} + \\frac{1}{c} \\int F{\\left (t \\right )}\\, dt\\\\\"nth_linear_constant_coeff_variation_of_parameters_Integral\" & \\text{=>} &x{\\left (t \\right )} = C_{1} - \\frac{1}{c} \\int - F{\\left (t \\right )}\\, dt\\\\\"nth_linear_constant_coeff_variation_of_parameters\" & \\text{=>} &x{\\left (t \\right )} = C_{1} + \\frac{1}{c} \\int F{\\left (t \\right )}\\, dt\\\\\"separable_Integral\" & \\text{=>} &\\int^{x{\\left (t \\right )}} c\\, dy = C_{1} + \\int F{\\left (t \\right )}\\, dt\\\\\"1st_linear_Integral\" & \\text{=>} &x{\\left (t \\right )} = C_{1} + \\int \\frac{1}{c} F{\\left (t \\right )}\\, dt\\\\\"best\" & \\text{=>} &x{\\left (t \\right )} = \\frac{t}{c} F{\\left (0 \\right )} + \\frac{t^{2}}{2 c} \\left. \\frac{d}{d t} F{\\left (t \\right )} \\right|_{\\substack{ t=0 }} + \\frac{t^{3}}{6 c} \\left. \\frac{d^{2}}{d t^{2}}  F{\\left (t \\right )} \\right|_{\\substack{ t=0 }} + \\frac{t^{4}}{24 c} \\left. \\frac{d^{3}}{d t^{3}}  F{\\left (t \\right )} \\right|_{\\substack{ t=0 }} + \\frac{t^{5}}{120 c} \\left. \\frac{d^{4}}{d t^{4}}  F{\\left (t \\right )} \\right|_{\\substack{ t=0 }} + C_{1} + \\mathcal{O}\\left(t^{6}\\right)\\\\\"1st_linear\" & \\text{=>} &x{\\left (t \\right )} = C_{1} + \\frac{1}{c} \\int F{\\left (t \\right )}\\, dt\\\\\"default\" & \\text{=>} &\"separable\"\\\\\"best_hint\" & \\text{=>} &\"1st_power_series\"\\\\\"1st_exact\" & \\text{=>} &x{\\left (t \\right )} = \\frac{1}{c} \\left(C_{1} + \\int F{\\left (t \\right )}\\, dt\\right)\\\\\"1st_power_series\" & \\text{=>} &x{\\left (t \\right )} = \\frac{t}{c} F{\\left (0 \\right )} + \\frac{t^{2}}{2 c} \\left. \\frac{d}{d t} F{\\left (t \\right )} \\right|_{\\substack{ t=0 }} + \\frac{t^{3}}{6 c} \\left. \\frac{d^{2}}{d t^{2}}  F{\\left (t \\right )} \\right|_{\\substack{ t=0 }} + \\frac{t^{4}}{24 c} \\left. \\frac{d^{3}}{d t^{3}}  F{\\left (t \\right )} \\right|_{\\substack{ t=0 }} + \\frac{t^{5}}{120 c} \\left. \\frac{d^{4}}{d t^{4}}  F{\\left (t \\right )} \\right|_{\\substack{ t=0 }} + C_{1} + \\mathcal{O}\\left(t^{6}\\right)\\\\\"order\" & \\text{=>} &1\\\\\"Bernoulli_Integral\" & \\text{=>} &x{\\left (t \\right )} = C_{1} - \\int - \\frac{1}{c} F{\\left (t \\right )}\\, dt\\\\\\end{cases}\\end{equation*}"
      ],
      "text/plain": [
       "Dict{Any,Any} with 16 entries:\n",
       "  \"separable\"               => Eq(x(t), (C1 + Integral(F(t), t))/c)\n",
       "  \"lie_group\"               => Eq(x(t), C1 + Integral(F(_r), (_r, t))/c)\n",
       "  \"1st_exact_Integral\"      => Eq(Integral(c, (_y, x(t))) + Integral(-F(t), t),…\n",
       "  \"Bernoulli\"               => Eq(x(t), C1 + Integral(F(t), t)/c)\n",
       "  \"nth_linear_constant_coe… => Eq(x(t), C1 - Integral(-F(t), t)/c)\n",
       "  \"nth_linear_constant_coe… => Eq(x(t), C1 + Integral(F(t), t)/c)\n",
       "  \"separable_Integral\"      => Eq(Integral(c, (_y, x(t))), C1 + Integral(F(t), …\n",
       "  \"1st_linear_Integral\"     => Eq(x(t), C1 + Integral(F(t)/c, t))\n",
       "  \"best\"                    => Eq(x(t), t*F(0)/c + t^2*Subs(Derivative(F(t), t)…\n",
       "  \"1st_linear\"              => Eq(x(t), C1 + Integral(F(t), t)/c)\n",
       "  \"default\"                 => \"separable\"\n",
       "  \"best_hint\"               => \"1st_power_series\"\n",
       "  \"1st_exact\"               => Eq(x(t), (C1 + Integral(F(t), t))/c)\n",
       "  \"1st_power_series\"        => Eq(x(t), t*F(0)/c + t^2*Subs(Derivative(F(t), t)…\n",
       "  \"order\"                   => 1\n",
       "  \"Bernoulli_Integral\"      => Eq(x(t), C1 - Integral(-F(t)/c, t))"
      ]
     },
     "execution_count": 111,
     "metadata": {},
     "output_type": "execute_result"
    }
   ],
   "source": [
    "dsolve(eq6, hint=\"all\")"
   ]
  },
  {
   "cell_type": "code",
   "execution_count": 112,
   "metadata": {
    "collapsed": false
   },
   "outputs": [
    {
     "data": {
      "text/latex": [
       "$$x{\\left (t \\right )} = \\frac{1}{c} \\left(C_{1} + \\int F{\\left (t \\right )}\\, dt\\right)$$"
      ],
      "text/plain": [
       "            ⌠        \n",
       "       C₁ + ⎮ F(t) dt\n",
       "            ⌡        \n",
       "x(t) = ──────────────\n",
       "             c       "
      ]
     },
     "execution_count": 112,
     "metadata": {},
     "output_type": "execute_result"
    }
   ],
   "source": [
    "dsolve(eq6)"
   ]
  },
  {
   "cell_type": "markdown",
   "metadata": {},
   "source": [
    "### 후크의 법칙 (변위항, 스프링 반력)\n",
    "\n",
    "$F = kx$"
   ]
  },
  {
   "cell_type": "code",
   "execution_count": 113,
   "metadata": {
    "collapsed": false,
    "scrolled": false
   },
   "outputs": [
    {
     "data": {
      "text/latex": [
       "$$k x{\\left (t \\right )} - F{\\left (t \\right )} = 0$$"
      ],
      "text/plain": [
       "k⋅x(t) - F(t) = 0"
      ]
     },
     "execution_count": 113,
     "metadata": {},
     "output_type": "execute_result"
    }
   ],
   "source": [
    "# Define Equation\n",
    "eq7 = Eq(k*x - F)"
   ]
  },
  {
   "cell_type": "markdown",
   "metadata": {},
   "source": [
    "이것은 단순 변위에 따른 비례식이므로, 미분방정식이 아니라 다항식임.  따라서 dsolve()가 아니고 solve()로 풀어야 함."
   ]
  },
  {
   "cell_type": "code",
   "execution_count": 114,
   "metadata": {
    "collapsed": false,
    "scrolled": false
   },
   "outputs": [
    {
     "data": {
      "text/latex": [
       "\\begin{bmatrix}\\frac{1}{k} F{\\left (t \\right )}\\end{bmatrix}"
      ],
      "text/plain": [
       "1-element Array{SymPy.Sym,1}\n",
       "⎡F(t)⎤\n",
       "⎢────⎥\n",
       "⎣ k  ⎦"
      ]
     },
     "execution_count": 114,
     "metadata": {},
     "output_type": "execute_result"
    }
   ],
   "source": [
    "solve(eq7,x)"
   ]
  },
  {
   "cell_type": "markdown",
   "metadata": {},
   "source": [
    "## 초기조건 (Initial Condition)\n",
    "\n",
    "* http://julia-programming-language.2336112.n4.nabble.com/Solve-ode-with-initial-conditions-td35456.html"
   ]
  },
  {
   "cell_type": "code",
   "execution_count": 222,
   "metadata": {
    "collapsed": false
   },
   "outputs": [
    {
     "data": {
      "text/latex": [
       "$$c \\frac{d}{d t} x{\\left (t \\right )} + k x{\\left (t \\right )} + m \\frac{d^{2}}{d t^{2}}  x{\\left (t \\right )} - F{\\left (t \\right )} = 0$$"
      ],
      "text/plain": [
       "                          2                 \n",
       "  d                      d                  \n",
       "c⋅──(x(t)) + k⋅x(t) + m⋅───(x(t)) - F(t) = 0\n",
       "  dt                      2                 \n",
       "                        dt                  "
      ]
     },
     "execution_count": 222,
     "metadata": {},
     "output_type": "execute_result"
    }
   ],
   "source": [
    "eq1"
   ]
  },
  {
   "cell_type": "code",
   "execution_count": 223,
   "metadata": {
    "collapsed": false,
    "scrolled": false
   },
   "outputs": [
    {
     "data": {
      "text/latex": [
       "$$x{\\left (t \\right )} = C_{1} e^{\\frac{t}{2 m} \\left(- c - \\sqrt{c^{2} - 4 k m}\\right)} + C_{2} e^{\\frac{t}{2 m} \\left(- c + \\sqrt{c^{2} - 4 k m}\\right)} - \\frac{e^{\\frac{t}{2 m} \\left(- c - \\sqrt{c^{2} - 4 k m}\\right)}}{\\sqrt{c^{2} - 4 k m}} \\int F{\\left (t \\right )} e^{\\frac{c t}{2 m}} e^{\\frac{t}{2 m} \\sqrt{c^{2} - 4 k m}}\\, dt + \\frac{e^{\\frac{t}{2 m} \\left(- c + \\sqrt{c^{2} - 4 k m}\\right)}}{\\sqrt{c^{2} - 4 k m}} \\int F{\\left (t \\right )} e^{\\frac{c t}{2 m}} e^{- \\frac{t}{2 m} \\sqrt{c^{2} - 4 k m}}\\, dt$$"
      ],
      "text/plain": [
       "                                                                              \n",
       "                                                                        ⎛     \n",
       "                                                                        ⎜     \n",
       "             ⎛        ____________⎞         ⎛        ____________⎞    t⋅⎝-c - \n",
       "             ⎜       ╱  2         ⎟         ⎜       ╱  2         ⎟    ────────\n",
       "           t⋅⎝-c - ╲╱  c  - 4⋅k⋅m ⎠       t⋅⎝-c + ╲╱  c  - 4⋅k⋅m ⎠            \n",
       "           ────────────────────────       ────────────────────────   ℯ        \n",
       "                     2⋅m                            2⋅m                       \n",
       "x(t) = C₁⋅ℯ                         + C₂⋅ℯ                         - ─────────\n",
       "                                                                              \n",
       "                                                                              \n",
       "                                                                              \n",
       "\n",
       "                 ⌠                                                            \n",
       "   ____________⎞ ⎮                 ____________         ⎛        ____________⎞\n",
       "  ╱  2         ⎟ ⎮                ╱  2                  ⎜       ╱  2         ⎟\n",
       "╲╱  c  - 4⋅k⋅m ⎠ ⎮       c⋅t  t⋅╲╱  c  - 4⋅k⋅m        t⋅⎝-c + ╲╱  c  - 4⋅k⋅m ⎠\n",
       "──────────────── ⎮       ───  ─────────────────       ────────────────────────\n",
       "  2⋅m            ⎮       2⋅m         2⋅m                        2⋅m           \n",
       "                ⋅⎮ F(t)⋅ℯ   ⋅ℯ                  dt   ℯ                        \n",
       "                 ⌡                                                            \n",
       "────────────────────────────────────────────────── + ─────────────────────────\n",
       "                ____________                                                  \n",
       "               ╱  2                                                           \n",
       "             ╲╱  c  - 4⋅k⋅m                                                 ╲╱\n",
       "\n",
       " ⌠                                  \n",
       " ⎮                  ____________    \n",
       " ⎮                 ╱  2             \n",
       " ⎮       c⋅t  -t⋅╲╱  c  - 4⋅k⋅m     \n",
       " ⎮       ───  ───────────────────   \n",
       " ⎮       2⋅m          2⋅m           \n",
       "⋅⎮ F(t)⋅ℯ   ⋅ℯ                    dt\n",
       " ⌡                                  \n",
       "────────────────────────────────────\n",
       " ____________                       \n",
       "╱  2                                \n",
       "  c  - 4⋅k⋅m                        "
      ]
     },
     "execution_count": 223,
     "metadata": {},
     "output_type": "execute_result"
    }
   ],
   "source": [
    "sol1 = dsolve(eq1)"
   ]
  },
  {
   "cell_type": "code",
   "execution_count": 233,
   "metadata": {
    "collapsed": false,
    "scrolled": false
   },
   "outputs": [
    {
     "data": {
      "text/plain": [
       "1-element Array{Dict{SymPy.Sym,SymPy.Sym},1}:\n",
       " Dict(C2=>((-C1 + x(t0)*exp(t0*(c + sqrt(c^2 - 4*k*m))/(2*m)))*sqrt(c^2 - 4*k*m) - exp(t0*sqrt(c^2 - 4*k*m)/m)*Integral(F(t)*exp(c*t/(2*m))*exp(-t*sqrt(c^2 - 4*k*m)/(2*m)), (t, t0)) + Integral(F(t)*exp(c*t/(2*m))*exp(t*sqrt(c^2 - 4*k*m)/(2*m)), (t, t0)))*exp(-t0*sqrt(c^2 - 4*k*m)/m)/sqrt(c^2 - 4*k*m))"
      ]
     },
     "execution_count": 233,
     "metadata": {},
     "output_type": "execute_result"
    }
   ],
   "source": [
    "t0, x0, dx0 = symbols(\"t0, x0, dx0\")\n",
    "sol1ini = solve( sol1( dx(0)=>dx0, x(0)=>x0, t=>t0 ) )"
   ]
  },
  {
   "cell_type": "code",
   "execution_count": 243,
   "metadata": {
    "collapsed": false,
    "scrolled": true
   },
   "outputs": [
    {
     "data": {
      "text/latex": [
       "$$x{\\left (t_{0} \\right )} = C_{1} e^{\\frac{t_{0}}{2 m} \\left(- c - \\sqrt{c^{2} - 4 k m}\\right)} + C_{2} e^{\\frac{t_{0}}{2 m} \\left(- c + \\sqrt{c^{2} - 4 k m}\\right)} - \\frac{e^{\\frac{t_{0}}{2 m} \\left(- c - \\sqrt{c^{2} - 4 k m}\\right)}}{\\sqrt{c^{2} - 4 k m}} \\int^{t_{0}} F{\\left (t \\right )} e^{\\frac{c t}{2 m}} e^{\\frac{t}{2 m} \\sqrt{c^{2} - 4 k m}}\\, dt + \\frac{e^{\\frac{t_{0}}{2 m} \\left(- c + \\sqrt{c^{2} - 4 k m}\\right)}}{\\sqrt{c^{2} - 4 k m}} \\int^{t_{0}} F{\\left (t \\right )} e^{\\frac{c t}{2 m}} e^{- \\frac{t}{2 m} \\sqrt{c^{2} - 4 k m}}\\, dt$$"
      ],
      "text/plain": [
       "                                                                              \n",
       "                                                                              \n",
       "                                                                            ⎛ \n",
       "                                                                            ⎜ \n",
       "                                                                         t₀⋅⎝-\n",
       "               ⎛        ____________⎞          ⎛        ____________⎞    ─────\n",
       "               ⎜       ╱  2         ⎟          ⎜       ╱  2         ⎟         \n",
       "            t₀⋅⎝-c - ╲╱  c  - 4⋅k⋅m ⎠       t₀⋅⎝-c + ╲╱  c  - 4⋅k⋅m ⎠   ℯ     \n",
       "            ─────────────────────────       ─────────────────────────         \n",
       "                       2⋅m                             2⋅m                    \n",
       "x(t₀) = C₁⋅ℯ                          + C₂⋅ℯ                          - ──────\n",
       "                                                                              \n",
       "                                                                              \n",
       "                                                                              \n",
       "\n",
       "                     t₀                                                       \n",
       "                     ⌠                                                        \n",
       "       ____________⎞ ⎮                  ____________          ⎛        _______\n",
       "      ╱  2         ⎟ ⎮                 ╱  2                   ⎜       ╱  2    \n",
       "c - ╲╱  c  - 4⋅k⋅m ⎠ ⎮        c⋅t  t⋅╲╱  c  - 4⋅k⋅m        t₀⋅⎝-c + ╲╱  c  - 4\n",
       "──────────────────── ⎮        ───  ─────────────────       ───────────────────\n",
       "      2⋅m            ⎮        2⋅m         2⋅m                         2⋅m     \n",
       "                    ⋅⎮  F(t)⋅ℯ   ⋅ℯ                  dt   ℯ                   \n",
       "                     ⌡                                                        \n",
       "                                                                              \n",
       "─────────────────────────────────────────────────────── + ────────────────────\n",
       "                    ____________                                              \n",
       "                   ╱  2                                                       \n",
       "                 ╲╱  c  - 4⋅k⋅m                                               \n",
       "\n",
       "       t₀                                  \n",
       "       ⌠                                   \n",
       "_____⎞ ⎮                   ____________    \n",
       "     ⎟ ⎮                  ╱  2             \n",
       "⋅k⋅m ⎠ ⎮        c⋅t  -t⋅╲╱  c  - 4⋅k⋅m     \n",
       "────── ⎮        ───  ───────────────────   \n",
       "       ⎮        2⋅m          2⋅m           \n",
       "      ⋅⎮  F(t)⋅ℯ   ⋅ℯ                    dt\n",
       "       ⌡                                   \n",
       "                                           \n",
       "───────────────────────────────────────────\n",
       "       ____________                        \n",
       "      ╱  2                                 \n",
       "    ╲╱  c  - 4⋅k⋅m                         "
      ]
     },
     "execution_count": 243,
     "metadata": {},
     "output_type": "execute_result"
    }
   ],
   "source": [
    "sol1ini2 = sol1( dx(0)=>dx0, x(0)=>x0, t=>t0 )"
   ]
  },
  {
   "cell_type": "code",
   "execution_count": null,
   "metadata": {
    "collapsed": false,
    "scrolled": true
   },
   "outputs": [],
   "source": []
  },
  {
   "cell_type": "code",
   "execution_count": 237,
   "metadata": {
    "collapsed": false,
    "scrolled": true
   },
   "outputs": [
    {
     "name": "stderr",
     "output_type": "stream",
     "text": [
      "WARNING: Method definition g(Any) in module Main at In[189]:18 overwritten at In[237]:20.\n"
     ]
    },
    {
     "data": {
      "text/latex": [
       "$$- \\frac{tt}{4} + \\frac{9}{16} e^{2 tt} + \\frac{7}{16} e^{- 2 tt}$$"
      ],
      "text/plain": [
       "          2⋅tt      -2⋅tt\n",
       "  tt   9⋅ℯ       7⋅ℯ     \n",
       "- ── + ─────── + ────────\n",
       "  4       16        16   "
      ]
     },
     "execution_count": 237,
     "metadata": {},
     "output_type": "execute_result"
    }
   ],
   "source": [
    "## Idea Code Example\n",
    "\n",
    "xx   = SymFunction(\"xx\")\n",
    "tt   = Sym(\"tt\")\n",
    "\n",
    "edo2 = SymPy.diff(xx(tt),tt,tt) - 4*xx(tt)-tt\n",
    "\n",
    "sol_simb_ord2 = SymPy.dsolve(edo2)\n",
    "\n",
    "C1,C2 = Sym(\"C1,C2\")\n",
    "\n",
    "eq10 = sol_simb_ord2(xx(tt) => 1, tt=> 0)\n",
    "\n",
    "eq20 = SymPy.diff((sol_simb_ord2),tt)(diff(xx(tt)) => 0, tt=> 0)\n",
    "\n",
    "coef = solve([eq10,eq20])\n",
    "\n",
    "sol_geral = SymPy.subs( sol_simb_ord2, C1=>coef[C1], C2=>coef[C2] )\n",
    "\n",
    "g(tt) = rhs(sol_geral)\n",
    "\n",
    "g(tt)\n"
   ]
  },
  {
   "cell_type": "code",
   "execution_count": 242,
   "metadata": {
    "collapsed": false
   },
   "outputs": [
    {
     "data": {
      "text/latex": [
       "\\begin{equation*}\\begin{cases}C_{2} & \\text{=>} &\\frac{9}{16}\\\\C_{1} & \\text{=>} &\\frac{7}{16}\\\\\\end{cases}\\end{equation*}"
      ],
      "text/plain": [
       "Dict{SymPy.Sym,SymPy.Sym} with 2 entries:\n",
       "  C2 => 9/16\n",
       "  C1 => 7/16"
      ]
     },
     "execution_count": 242,
     "metadata": {},
     "output_type": "execute_result"
    }
   ],
   "source": [
    "coef"
   ]
  },
  {
   "cell_type": "code",
   "execution_count": 116,
   "metadata": {
    "collapsed": false
   },
   "outputs": [
    {
     "data": {
      "text/plain": [
       "2017-01-29T21:13:57.233"
      ]
     },
     "execution_count": 116,
     "metadata": {},
     "output_type": "execute_result"
    }
   ],
   "source": [
    "# Finished Time\n",
    "now()"
   ]
  }
 ],
 "metadata": {
  "anaconda-cloud": {},
  "kernelspec": {
   "display_name": "Julia 0.5.0",
   "language": "julia",
   "name": "julia-0.5"
  },
  "language_info": {
   "file_extension": ".jl",
   "mimetype": "application/julia",
   "name": "julia",
   "version": "0.5.0"
  },
  "notify_time": "5",
  "toc": {
   "colors": {
    "hover_highlight": "#DAA520",
    "running_highlight": "#FF0000",
    "selected_highlight": "#FFD700"
   },
   "moveMenuLeft": true,
   "nav_menu": {
    "height": "207px",
    "width": "252px"
   },
   "navigate_menu": true,
   "number_sections": true,
   "sideBar": true,
   "threshold": 4,
   "toc_cell": false,
   "toc_position": {
    "height": "838px",
    "left": "0px",
    "right": "20px",
    "top": "106px",
    "width": "212px"
   },
   "toc_section_display": "block",
   "toc_window_display": true
  }
 },
 "nbformat": 4,
 "nbformat_minor": 1
}
