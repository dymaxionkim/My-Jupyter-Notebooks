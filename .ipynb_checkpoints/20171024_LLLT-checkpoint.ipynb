{
 "cells": [
  {
   "cell_type": "markdown",
   "metadata": {},
   "source": [
    "# LLLT for FAT\n",
    "_Low Level Light Theraphy_\n",
    "\n",
    "* 일반적으로 저출력 레이저 또는 LED를 사용한다.\n",
    "* 피부관리/치료용으로 주로 사용된다.  추가적으로 지방감소, 근육증대 용도로도 사용 가능하다.\n"
   ]
  },
  {
   "cell_type": "markdown",
   "metadata": {},
   "source": [
    "## LLLT 기초 가이드\n",
    "\n",
    "* Ref : https://redlightman.com/blog/complete-guide-light-therapy-dosing/\n",
    "\n",
    "* 여기서는 적색광/근적외선광 영역에 대해서만 다룬다.\n",
    "\n",
    "> 여기서 질문 하나.\n",
    "> 햇빛 또는 백열등에서도 적색광,근적외선광이 나오는데 그냥 이런 것을 사용하면 되지 않느냐 생각할 수 있다.\n",
    "> 이러한 백열광은 다른 파장대의 빛도 모두 배합되어 있기 때문에, 원하지 않는 파장대의 빛에 의한 부작용이 발생하고, 비선택적인 영향을 주기 때문에 결과를 통제하기 어렵다는 단점이 있다.\n",
    "> 또한 통제된 상태에서 필요한 만큼의 투여량을 정확히 처방하기가 불가능하다.\n",
    "> 예컨데, 필요한 투여량의 적외선을 주면 다른 파장대에서 과다 에너지가 함께 투여되기 때문에 피부가 타 버리는 부작용이 나타나는 등을 예상할 수 있다.\n",
    "\n",
    "> 그러면, 온열용 열램프는 어떨까?  열램프는 원적외선 성분이 많기 때문에 역시 원하는 근적외선광의 비율이 적다.  따라서 피부 아래 깊숙하게 배치되어 있는 근육까지 도달하도록 조건을 만들기가 어렵다.  근육층에 충분히 에너지가 도달하기 전에 피부가 화상을 입을 확률이 높다.\n",
    "\n",
    "\n",
    "> 따라서 원하는 빛을 선택적으로 통제 가능한 LLLT가 필요하게 된다.\n",
    "\n"
   ]
  },
  {
   "cell_type": "markdown",
   "metadata": {},
   "source": [
    "### 투여량 계산을 위한 지표\n",
    "\n",
    "* 출력밀도(Power Density) : 통용단위는 [mW/cm^2], 단위면적당 빛의 출력.\n",
    "* 시간(Time) : 통용단위는 [sec].  투여 시간.\n",
    "* 투여량(Dose) : 통용단위는 [J/cm^2].  단위면적당 투여된 총 에너지의 양.\n",
    "\n",
    "$$(Dose) = 0.001*(Power Density)*(Time)$$"
   ]
  },
  {
   "cell_type": "code",
   "execution_count": 9,
   "metadata": {
    "ExecuteTime": {
     "end_time": "2017-10-24T16:23:42.715000+09:00",
     "start_time": "2017-10-24T07:23:42.780Z"
    }
   },
   "outputs": [
    {
     "name": "stdout",
     "output_type": "stream",
     "text": [
      "1.0[J/cm^2]"
     ]
    }
   ],
   "source": [
    "# 예제 : 투여량 계산\n",
    "Power = 200 #[mW/cm^2]\n",
    "Time = 5 #[sec]\n",
    "Dose = 0.001*Power*Time\n",
    "print(Dose, \"[J/cm^2]\")"
   ]
  },
  {
   "cell_type": "markdown",
   "metadata": {
    "ExecuteTime": {
     "end_time": "2017-10-24T15:56:28.454000+09:00",
     "start_time": "2017-10-24T06:56:27.300Z"
    }
   },
   "source": [
    "### 적정 투여량\n",
    "\n",
    "* 일반적인 권장 투여량의 범위 : 0.1 ~ 6 [J/cm^2]\n",
    "* 기타 특이한 사례들 : 20, 70, 700 [J/cm^2] (일부 연구 결과)\n",
    "* 피부 표면의 세포를 위해서는 적은 투여량으로도 충분하고, 피하 깊숙한 근육층까지 들어가려면 출력밀도를 높이고 투여량도 늘려야 할 수 있다.\n",
    "* 예시\n",
    "\n",
    "|대응 증상 |유효 투여량 [J/cm^2]|\n",
    "|----------|--------------------|\n",
    "|허리,관절통증|40~120           |\n",
    "|피부염    |60                  |\n",
    "|탈모      |67                  |\n",
    "|근육      |80                  |\n",
    "|흉터      |27                  |\n",
    "|피부      |0.1~50              |\n",
    "|상처치유  |60                  |"
   ]
  },
  {
   "cell_type": "markdown",
   "metadata": {},
   "source": [
    "* Ref :  LLLT Mechanisms of Action  https://www.slideshare.net/BioFlexLaser/lllt-mechanisms-of-action"
   ]
  },
  {
   "cell_type": "markdown",
   "metadata": {},
   "source": [
    "## 인간 피부 관련 정보\n",
    "\n",
    "### 사람에 따라 피부 두께에 약간 편차가 있다.\n",
    "\n",
    "![](https://www.bd.com/resource.aspx?IDX=29308)\n",
    "\n",
    "\n",
    "### 부위에 따라 피부 두께에 편차가 있다.\n",
    "\n",
    "![](http://mdl.dongascience.com/old/Contents/201002/zGs7eTD1ZLfad6acise8_12520100224.JPG)\n",
    "\n",
    "\n",
    "### 근적외선 침투 깊이\n",
    "\n",
    "![](http://www.secda.co.kr/data/cheditor4/1509/nCngm6RN11Wu.jpg)\n",
    "\n"
   ]
  },
  {
   "cell_type": "markdown",
   "metadata": {},
   "source": [
    "## LLLT로 근육 강화\n",
    "\n",
    "* Ref : https://redlightman.com/blog/muscle-function-recovery-doubled-with-light-therapy/\n",
    "* Ref Papers 2 : http://sci-hub.bz/10.1007/s10103-013-1465-4\n",
    "* Ref Papers 15 : http://sci-hub.bz/10.1007/s00421-014-3055-y\n",
    "\n",
    "> 근육 관련해서는, 적색광 및 근적외선광만 사용한다.\n",
    "\n"
   ]
  },
  {
   "cell_type": "markdown",
   "metadata": {},
   "source": [
    "### 원리\n",
    "* 적색광, 근적외선광이 세포내 미토콘드리아의 CO2, ATP 공급 기전을 촉진한다.\n",
    "* 특히 근육세포내에는 미토콘드리아가 더 많이 배치되어 있어, 높은 에너지 요구를 충족시키도록 되어 있다.\n",
    "* 따라서 근육세포에 특히 더 많은 영향을 줄 것으로 보인다.\n",
    "\n",
    "![가장 간단한 설명 그림](https://powermediclasers.com/images/articleimages/mitochondrie_300.jpg)\n",
    "\n",
    "\n",
    "![좀 복잡한 설명 그림](https://www.researchgate.net/profile/Michael_Hamblin/publication/236461684/figure/fig2/AS:299486707503105@1448414603198/Figure-5-Based-on-references-1-32-40-49-Effects-of-LLLT-or-LEDT-on-reactive.png)\n"
   ]
  },
  {
   "cell_type": "markdown",
   "metadata": {},
   "source": [
    "### 효능\n",
    "* 8주동안 다리 근육 운동시 810nm를 적용하면 약2배 가량 근육 부피 증가.\n",
    "* 850nm 적용시 근육의 힘,지구력을 즉각 2배 가량 증대시켜주고 장기적으로도 효과가 있다.\n",
    "* 근육내 미세 상처에 의한 근육통도 빠르게 회복해 준다.  상처 부위를 통해 근육 세포로 스며들어간 칼슘을 세포 외부로 빼내기 위해 ATP가 필요하기 때문이다.\n",
    "* 근육 부상 및 변형의 회복을 도와준다.  급성 염증 반응 및 세포내 칼슘 배출을 촉진하기 때문이다.\n",
    "\n",
    "> 근육 부피 증대, 근력 증대, 지구력 증대, 근육 피로 회복, 근육 부상 회복에 효과가 있는 것이 확실하다.\n",
    "\n",
    "![](https://www.researchgate.net/profile/Michael_Hamblin/publication/236461684/figure/fig1/AS:299486707503104@1448414603116/Figure-1-Number-of-LLLT-or-LEDT-radiation-points-applied-on-femoral-quadriceps-muscle.png)"
   ]
  },
  {
   "cell_type": "markdown",
   "metadata": {},
   "source": [
    "### 조건\n",
    "* 적색광보다 근적외선이 더 깊이 침투하기 때문에 근육치료에 적합하다.\n",
    "* 오히려 중적외선,원적외선은 피부세포의 물에 의해 투과가 방해받기 때문에 좋지 않다.\n",
    "* 적색광은 사용 가능하지만, 근적외선에 비해 훨씬 더 많은 투여량이 필요하다.\n",
    "* 따라서 760~830nm 파장대의 근적외선광이 인간 근육에 가장 적합하다.\n",
    "* 출력이 50[mW/cm²] 이하일 경우에는 빛이 너무 약해서 근육내로 거의 침투하지 못하므로 효과를 보기 어렵다.\n",
    "* 출력이 200[mW/cm²] 이상 되어야 필요한 투여량을 짧은 시간내에 투여할 수 있어 적합하다.\n",
    "* 200[mW/cm²], 5초 투여시 1[J/cm^2]의 투여량이 확보된다.\n",
    "* 운동전에 사용할 때 특히 효과가 좋다.\n",
    "* 운동 후에 사용하는 것은 효과가 상대적으로 적지만, 근육의 회복을 빨리 해 주는 효과를 볼 수 있다.\n",
    "* 따라서 운동 전후에 모두 해 주는 것이 좋다.\n",
    "* 운동 도중에 하는 것이 어떤지는 아직 자료가 없다. (웨어러블 LLLT 제품이 없었기 때문일 것이다.)\n",
    "\n",
    "> 우수한 침투력의 근적외선광이 최적합하다.\n",
    "\n",
    "> 200 [mW/cm^2] 이상의 출력밀도가 필요하다.\n",
    "\n",
    "> 투여량은 40~80 [J/cm^2] 정도는 확보되어야 한다.\n",
    "\n",
    "> 운동전에 투여하는 것이 좋다."
   ]
  },
  {
   "cell_type": "code",
   "execution_count": 8,
   "metadata": {
    "ExecuteTime": {
     "end_time": "2017-10-24T16:18:57.412000+09:00",
     "start_time": "2017-10-24T07:18:57.476Z"
    }
   },
   "outputs": [
    {
     "name": "stdout",
     "output_type": "stream",
     "text": [
      "200.0[sec]"
     ]
    }
   ],
   "source": [
    "# 예제 : 필요한 투여시간은?\n",
    "Power = 200 #[mW/cm^2]\n",
    "Dose = 40 #[J/cm^2]\n",
    "Time = Dose/(0.001*Power)\n",
    "print(Time,\"[sec]\")"
   ]
  },
  {
   "cell_type": "markdown",
   "metadata": {},
   "source": [
    "## LLLT로 지방 제거\n",
    "\n",
    "* Ref Paper : http://sci-hub.bz/10.1002/lsm.22153\n",
    "\n",
    "* 비침습적 몸매 형성 (Noninvasive Body Contouring), 셀룰라이트 감소 (Reduction of Cellulite), 혈중 지질 개선 (Improvement of Blood Lipid Profile)\n",
    "* 지방 세포의 생존력을 향상시켜 발생하는 자가 지방 전달 과정 (Autologous Fat Transfer Procedures by Enhancing the Viability of Adipocytes)\n",
    "\n",
    "> 지방 관련해서는, 적외선광만 사용한다."
   ]
  },
  {
   "cell_type": "markdown",
   "metadata": {},
   "source": [
    "### 원리\n",
    "* 미토콘드리아 자극, ROS/ATP/NO등에 의해 칼슘펌프 작동 (더 자세한 기작은 정확히 규명되지 않은 듯 함)\n",
    "* [가설1] 지질이 누출되면서, 지방세포에 점진적으로 구멍이 형성됨 (Pproduction of Transient Pores in Adipocytes).  즉 세포질 내에서 발견되는 지질과 반응하는 지질 과산화(lipid peroxidation)로 알려진 과정을 시작하고 일시적으로 구멍을 만들어 지방 세포를 손상시키는 것.\n",
    "* [가설2] 지방세포(Adipocyte) 사멸(Apoptosis) 이후 지질 방출이 연쇄적으로 발생.\n",
    "* 2000년, 지방흡입 시술의 보조 처치로 사용된 것이 효시 (Niera 논문) \n",
    "\n",
    "> 단순히 지방을 '가열'해서 녹여내는 원리가 아니라는 점을 확인.\n",
    "\n",
    "> 미토콘드리아 자극으로 세포내 ATP 등이 생성되면서 지방세포에 공극을 만들어 파괴하는 과정이 핵심.\n",
    "\n",
    "> 그러나 정확한 매커니즘은 아직 충분히 밝혀지지는 못한 상황.  실험적으로 파괴가 된다는 점만 밝혀짐.\n"
   ]
  },
  {
   "cell_type": "markdown",
   "metadata": {},
   "source": [
    "### 효능\n",
    "* 심각한 부작용이 없음\n",
    "* 혈중 지질(blood lipid profile) 개선\n",
    "* 지방(Fat) 및 셀룰라이트(Cellulite) 감소"
   ]
  },
  {
   "cell_type": "markdown",
   "metadata": {},
   "source": [
    "### 연구 사례\n",
    "\n",
    "#### 지방제거\n",
    "* 635nm, 10[mW], 1.2~3.6[J/cm^2], 6분간 다이오드 레이저 적용시, 환자 12명, 지방 전량 분해됨 (Niera et al.)\n",
    "* 1064nm, 40Hz, 7~38[W], 2000~64000[J/site], Nd:YAG 레이저 적용, 지방 연소 (China et al. 2012)\n",
    "* 635nm, 17[mW], 3.94[J/cm^2], LLLT Zerona LipoLaser, 20명, 굉장한 지방 제거 효과, 부작용 없음.\n",
    "* 635nm, 17[mW], 0.95J/cm^2] x 5개 다이오드, 2.99인치 허리둘레 감소\n",
    "* 650nm + 850nm, 10[mW/cm^2], 18[J/cm^2], 30분, 루미다이어트, 시험군 허리둘레 0.34±2.71cm 감소\n",
    "\n",
    "#### 셀룰라이트 감소\n",
    "* 660nm + 950 nm, LED, 3개월간 2회/일 처방, 등등의 사례\n",
    "\n",
    "![](http://www.absolutelybeautifulyou.net/uploads/8/6/4/3/86431466/low-level-laser-therapy-1_orig.png)\n",
    "\n",
    "![Lumidiet](http://www.aibifitness.com/consumer/wp-content/uploads/2017/07/japanese-chart.png)\n"
   ]
  },
  {
   "cell_type": "markdown",
   "metadata": {},
   "source": [
    "### 조건\n",
    "\n",
    "* 635nm~1064nm\n",
    "* 출력밀도 200[mW/cm^2] 정도면 충분할 것으로 예상\n",
    "* 투여량 40[J/cm^2] 이상이면 충분할 것으로 예상\n",
    "\n",
    "> 근육 조건에 맞춰서 동일하게 하면 될 것으로 예상됨.\n",
    "\n",
    "> 대체로 지방보다 근육 쪽에 더 많은 에너지가 필요한 경향으로 보임 (근육이 지방 아래쪽에 더 깊숙히 배치되어 있음)\n",
    "\n"
   ]
  },
  {
   "cell_type": "markdown",
   "metadata": {
    "collapsed": true
   },
   "source": [
    "## [FAT1]\n",
    "\n",
    "_Prototype 1_\n",
    "\n",
    "#### 835nm 근적외선광\n",
    "* 필수 주력광으로 사용해야 함.\n",
    "\n",
    "#### 630nm 적색광\n",
    "* 근적외선광이 없을 때 대체품으로 사용 가능.\n",
    "* 근육보강,지방분해 효과가 근적외선광보다 훨씬 떨어짐.\n",
    "* 따라서, 적색광을 넣는다면 가시적 시현효과만 기대하고, 실제 의학적인 효과는 근적외선광에 의존해도 충분한 것으로 생각됨.\n",
    "\n",
    "#### 근적외선광 처방\n",
    "* 출력밀도는 200 [mW/cm^2] 이상 확보할 것.\n",
    "* (FAT1 모델은 평균적으로 208[mW/cm^2]이며, 부분적으로는 그보다 높은 영역과 낮은 영역이 비균질하게 분포되도록 설계되었음)\n",
    "* 근육보강을 위해서는 최소 40 [J/cm^2] 필요. (최소 200초 이상)\n",
    "* 지방분해를 위해서는 그보다 낮은 수준으로 처방으로도 충분.\n",
    "* 이유는, 지방이 근육보다 더 표피에 가깝다는 점, 그리고 지방세포가 파괴되는 에너지 수준이 상당히 낮다는 점.\n",
    "* 따라서 처방 투여량은, 근육보강에 맞춰서 설정하면 될 것으로 사료됨.\n"
   ]
  },
  {
   "cell_type": "markdown",
   "metadata": {
    "ExecuteTime": {
     "end_time": "2017-10-25T11:51:50.389000+09:00",
     "start_time": "2017-10-25T02:51:44.936Z"
    }
   },
   "source": [
    "## [FAT2]\n",
    "\n",
    "_Prototype 2_\n"
   ]
  },
  {
   "cell_type": "markdown",
   "metadata": {},
   "source": [
    "### 핵심 특징\n",
    "\n",
    "* 기존 다른 제품과는 차원이 다른 고출력으로 실질적인 효과 기대 가능\n",
    "* 지방감소 뿐만 아니라, 근육강화 능력까지 겸비하여 시너지 효과\n",
    "* 핏이 멋진 웨어러블 디자인\n",
    "* 합리적인 가격\n",
    "* 체계적인 트레이닝 플랜\n",
    "* 매우 단순한 사용방법\n",
    "\n",
    "|항목          |[FAT2]              |경쟁사제품(Lumidiet)|\n",
    "|--------------|--------------------|--------------------|\n",
    "|소비전력      |약 15W              |약 5W               |\n",
    "|출력밀도      |200 [mW/cm^2 이상]  |5~10 [mW/cm^2]      |\n",
    "|근적외선광    |835nm, 1W, 10개     |835nm, 0.03W, 94개  |\n",
    "|적색광        |630nm, 0.04W, 20개  |630nm, 0.03W, 94개  |\n",
    "|지방감소 능력 |○                  |△                  |\n",
    "|근육강화 능력 |○                  |X                   |\n",
    "|근육통 완화   |○                  |X                   |\n",
    "||||\n",
    "\n"
   ]
  },
  {
   "cell_type": "markdown",
   "metadata": {},
   "source": [
    "### 요구사양\n",
    "\n",
    "|항목          |사양        |비고        |\n",
    "|--------------|------------|------------|\n",
    "|IR LED        |835nm, 1W   |10개        |\n",
    "|RED LED       |630nm, 0.04W|10~20개     |\n",
    "|BAT           |Li-Ion, 18650|1개, 보호회로 부착 |\n",
    "|PCB           |FR4 T1.2    |1개         |\n",
    "|MCU           |ST          |            |\n",
    "|LED DRIVER    |            |            |\n",
    "|FET           |            |낮은 $R_{DS}$, 낮은 Gate 저항 |\n",
    "|Thermal Sensor|            |            |\n",
    "|Blutooth      |            |            |\n",
    "|SW            |Push SW     |1개         |\n",
    "|Indicator LED |0.04W       |3개         |\n",
    "|Footprint     |70x140mm    |아이폰6 크기|\n",
    "\n"
   ]
  },
  {
   "cell_type": "markdown",
   "metadata": {},
   "source": [
    "### 열 문제\n",
    "\n",
    "* 시뮬레이션 결과,\n",
    "* 대략 $T_J$=116도씨 가량 나온다.  실제 조건에서는 충분히 견딜 수 있다.\n",
    "* 히트싱크 부위 온도는 45도씨 부근으로 나온다.  역시 적절하다.\n",
    "* 강제대류해 줄 경우, 조건이 더 좋아지겠지만 냉각팬 내장은 아무래도 어려울 수 있다.\n",
    "* 따라서, LED에 인가되는 전력을 조절해서 온도 상태를 봐 가면서 튜닝해 주어야 한다.\n",
    "* 아울러, 반드시 온도센서로 온도 피드백을 해 줘서 관리하도록 한다.  냉각팬이 없다면 필수적으로 해야 한다. (제품 신뢰성 확보)\n",
    "\n"
   ]
  },
  {
   "cell_type": "markdown",
   "metadata": {
    "ExecuteTime": {
     "end_time": "2017-10-25T12:04:04.992000+09:00",
     "start_time": "2017-10-25T03:04:04.691Z"
    }
   },
   "source": [
    "### 광학계\n",
    "\n",
    "* 집광렌즈를 사용하지 않을 경우, 200 [mW/cm^2] 목표값에 도달하지 못할 확률이 높다.\n",
    "* 따라서 가능한 집광렌즈를 설계적으로 집어넣을 수 있도록 노력해 보기로 한다.\n"
   ]
  },
  {
   "cell_type": "markdown",
   "metadata": {},
   "source": [
    "### 부가기능에 대한 고려\n",
    "\n",
    "#### 블루투스 무선통신\n",
    "* 스마트폰앱을 이용하여 블루투스 통신을 열어서, 사용기록 등의 정보를 집적할 수 있다.\n",
    "* 초도제품에 적용 가능할지 검토 필요.\n",
    "* 만일 적용이 어렵다면, 추후 개량판에 기구변화 없이 적용할 수 있도록 PCB 공간을 확보해 둔다.\n",
    "\n",
    "#### 체지방,근육량 측정\n",
    "* 사용효과를 사용자에게 피드백하기 위해 필요하다.\n",
    "* 체지방,근육량 측정은 2개의 전극을 피부 접촉면에 만들어 주고, 거기에 약한 전류를 인가한 후 임피던스를 측정하여 환산해 낸다.\n",
    "* 초도제품에 적용하기 어려울 것 같다.\n",
    "* 하지만 추후 개량판에 적용할 수 있도록 기구설계상 구조는 만들어두는 것이 좋을 것으로 사료된다.\n",
    "* 모듈을 부착하는 부위가 변경될 수 있는데, 이를 사용자가 직접 입력해 주는 과정을 생략해 주는 다른 방법이 없을지 고민이다.  자동으로 부착 부위를 인식할 수 있는 것이 가장 좋은 경우일 것이다.\n",
    "\n",
    "#### 스마트폰앱\n",
    "* 안드로이드 및 iOS의 2가지 버전을 함께 개발해야 한다.\n",
    "* 앱마켓에 정상적으로 등록하기 위해서는 관련 경험을 가진 경력자 프로그래머가 필요하다.\n",
    "* 데이타 가시화(Data Visualization) 관련 소양을 가진 개발자가 필요하다.\n",
    "* 스마트폰앱 개발시 가급적 인하우스 개발이 가장 좋고, 부득이할 경우 외주개발을 실시한다.\n",
    "* 다만 외주개발 할 경우에는 효율과 품질이 저하될 것으로 예상한다.\n",
    "\n",
    "#### 서비스개발\n",
    "* FAT 디바이스, 스마트폰을 거쳐 클라우드 서비스 개발이 필요한 단계가 올 것이다.\n",
    "* 직접 서비스개발을 하기에는 우리 회사의 특성상 적합해 보이지는 않는다.  (서비스개발 경험이 없다.)\n",
    "* 전문적인 서비스개발 또는 퍼블리싱 업체와 제휴하여, API나 인터페이스를 개방해 주는 것도 방법이 될 수 있다.\n",
    "* 또는 API를 완전히 오픈해서 누구나 자유롭게 접근할 수 있도록 하는 것도 방법이 될 수 있다.  이 경우 DIY 시장도 건드리는 효과를 볼 수 있을 것이다.\n"
   ]
  },
  {
   "cell_type": "markdown",
   "metadata": {},
   "source": []
  },
  {
   "cell_type": "markdown",
   "metadata": {},
   "source": []
  }
 ],
 "metadata": {
  "gist": {
   "data": {
    "description": "My-Jupyter-Notebooks/20171024_LLLT.ipynb",
    "public": true
   },
   "id": ""
  },
  "kernelspec": {
   "display_name": "Julia 0.5.2",
   "language": "julia",
   "name": "julia-0.5"
  },
  "language_info": {
   "file_extension": ".jl",
   "mimetype": "application/julia",
   "name": "julia",
   "version": "0.5.2"
  },
  "nbTranslate": {
   "displayLangs": [
    "*"
   ],
   "hotkey": "alt-t",
   "langInMainMenu": true,
   "sourceLang": "en",
   "targetLang": "fr",
   "useGoogleTranslate": true
  },
  "notify_time": "5",
  "toc": {
   "colors": {
    "hover_highlight": "#DAA520",
    "navigate_num": "#000000",
    "navigate_text": "#333333",
    "running_highlight": "#FF0000",
    "selected_highlight": "#FFD700",
    "sidebar_border": "#EEEEEE",
    "wrapper_background": "#FFFFFF"
   },
   "moveMenuLeft": true,
   "nav_menu": {
    "height": "291px",
    "width": "252px"
   },
   "navigate_menu": true,
   "number_sections": true,
   "sideBar": true,
   "threshold": 4,
   "toc_cell": false,
   "toc_position": {
    "height": "889px",
    "left": "0px",
    "right": "1059px",
    "top": "107px",
    "width": "212px"
   },
   "toc_section_display": "block",
   "toc_window_display": true,
   "widenNotebook": false
  }
 },
 "nbformat": 4,
 "nbformat_minor": 2
}
