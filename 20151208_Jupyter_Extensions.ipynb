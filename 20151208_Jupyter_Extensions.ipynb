{
 "cells": [
  {
   "cell_type": "markdown",
   "metadata": {
    "collapsed": true
   },
   "source": [
    "# Jupyter Notebook Extensions 설치 예제\n",
    "\n",
    "\n",
    "\n",
    "\n",
    "### 1. GIST 버튼 추가하는 확장\n",
    "\n",
    "* Ref. ::: https://mindtrove.info/ , https://github.com/minrk/ipython_extensions\n",
    "\n",
    "#### 1.1. 설치\n",
    "* Python2 커널 사용.\n",
    "* 아래와 같이 입력해서 설치 완료."
   ]
  },
  {
   "cell_type": "code",
   "execution_count": 1,
   "metadata": {},
   "outputs": [
    {
     "name": "stdout",
     "output_type": "stream",
     "text": [
      "downloading https://rawgithub.com/minrk/ipython_extensions/master/nbextensions/gist.js to /tmp/tmpuGw8mr/gist.js\n",
      "copying /tmp/tmpuGw8mr/gist.js -> /home/dong/.local/share/jupyter/nbextensions/gist.js\n"
     ]
    }
   ],
   "source": [
    "import notebook.nbextensions\n",
    "notebook.nbextensions.install_nbextension('https://rawgithub.com/minrk/ipython_extensions/master/nbextensions/gist.js', user=True)\n"
   ]
  },
  {
   "cell_type": "markdown",
   "metadata": {},
   "source": [
    "* 설치파일은 아래와 같이 생겨남.\n",
    "```\n",
    "/home/dong/.local/share/jupyter/nbextensions/gist.js\n",
    "```\n",
    "\n",
    "#### 1.2. 실행\n",
    "\n",
    "* 아래와 같이 입력해서 설치된 'gist.js'를 실행함."
   ]
  },
  {
   "cell_type": "code",
   "execution_count": 3,
   "metadata": {},
   "outputs": [
    {
     "data": {
      "application/javascript": [
       "Jupyter.utils.load_extensions('gist')"
      ],
      "text/plain": [
       "<IPython.core.display.Javascript object>"
      ]
     },
     "metadata": {},
     "output_type": "display_data"
    }
   ],
   "source": [
    "%%javascript\n",
    "Jupyter.utils.load_extensions('gist')"
   ]
  },
  {
   "cell_type": "markdown",
   "metadata": {},
   "source": [
    "* 실행 하자마자 위에 화살표 모양의 작은 버튼이 하나 추가된 것을 확인할 수 있음.  버튼 위에 마우스를 올리면 'Share notebook as gist'라는 툴팁이 나타남.\n",
    "* 버튼을 눌러보면 'Enter a [GitHub OAuth token](https://github.com/settings/applications):'이라는 인증코드 요구 팝업창이 뜸.  여기서 링크된 문구 '[GitHub OAuth token](https://github.com/settings/applications)'를 누르면 Github Oauth 페이지로 가게 됨.\n",
    "* Github 페이지에서 Github에 로그인이 안 되어 있다며 로그인 할 것.\n",
    "> 참고로, Github Oauth라는건 간단히 말해 Github에서 제공하는 Gist 서비스에다가 내가 지금 만든 파일을 올리고 싶은데, 올릴 때 마다 로그인하기 귀챦으니깐 매번 로그인 아이디랑 패스워드 입력하는 대신 Github에서 발행한 Oauth token이라는 코드를 대신 갖다 쓰겠다는 의미임.  따라서 현재 자신의 Github 아이디가 이미 있어야 함.\n",
    "\n",
    "* 그리고 이제, 좌측 메뉴 중에서 'Personal access tokens'를 누르면 새로운 페이지가 뜸.\n",
    "* 여기서 'Generate new token' 버튼을 누름.\n",
    "* 'Token description'을 적당히 적어주고, 'Select scopes' 카테고리에서 'gist'가 체크되어 있는지 확인후 'Generate token' 버튼을 눌러줌.\n",
    "* 이제 Pernoal access token이 만들어졌음.  코드를 긁어다 복사해서, 인증코드 요구 팝업창에 넣어주면 됨.  (약간의 시차가 필요할 수도 있으므로, 코드 생성 이후 조금 기다렸다 하는 것이 좋겠음.)"
   ]
  },
  {
   "cell_type": "markdown",
   "metadata": {},
   "source": [
    "#### 1.3. 설정\n",
    "* Notebook 실행할 때 마다 자동으로 로딩되도록 설정하려면 다음을 입력."
   ]
  },
  {
   "cell_type": "code",
   "execution_count": 1,
   "metadata": {},
   "outputs": [
    {
     "data": {
      "text/plain": [
       "{'load_extensions': {'gist': True}}"
      ]
     },
     "execution_count": 1,
     "metadata": {},
     "output_type": "execute_result"
    }
   ],
   "source": [
    "from notebook.services.config import ConfigManager\n",
    "cm = ConfigManager()\n",
    "cm.update('notebook', {\"load_extensions\": {\"gist\": True}})"
   ]
  },
  {
   "cell_type": "markdown",
   "metadata": {},
   "source": [
    "* 본 Extension 의 작동 설정을 제거하고 싶다면 다음과 같이 입력해서 설정을 다시 변경."
   ]
  },
  {
   "cell_type": "code",
   "execution_count": 1,
   "metadata": {},
   "outputs": [
    {
     "data": {
      "text/plain": [
       "{}"
      ]
     },
     "execution_count": 1,
     "metadata": {},
     "output_type": "execute_result"
    }
   ],
   "source": [
    "from notebook.services.config import ConfigManager\n",
    "cm = ConfigManager()\n",
    "# update with None, not False, to disable auto loading\n",
    "cm.update('notebook', {\"load_extensions\": {\"gist\": None}})"
   ]
  },
  {
   "cell_type": "markdown",
   "metadata": {},
   "source": [
    "#### 1.4. 실제 사용\n",
    "* 이제 Jupyter Notebook에서 작업을 하고, 이것을 html로 변환하는 동시에 Github Gist에 업로드하는 동작을 버튼 한 번만 누르면 완료할 수 있게 되었음.\n",
    "* 만들어진 주소를 원하는 곳에 갖다 쓰면 됨.\n",
    "\n",
    "#### 1.5. 오류 대처\n",
    "* 만일, 실수로 Github Gist에 저장된 Gist 문서를 삭제해 버렸을 경우에는 링크가 끊어져 오류가 발생함.  이때는 Jupyter Notebook의 메뉴에서 'Edit - Edit Notebook Metadata'를 눌러서 Gist 관련 부분을 삭제해 주고 저장한 후, 문서를 닫았다가 다시 열어 보면 됨.\n",
    "* 한 번 버튼을 눌러서 업로드 한 후, 작업을 좀 더 진행해서 업데이트하기 위해 한 번 더 버튼을 눌렀을 경우, Github Gist에는 곧바로 올라가지만, 여기서 연계하여 직접 페이지를 보여주는 http://nbviewer.ipython.org 사이트 반영되기까지는 10분 이상의 시차가 발생함.  즉각 반영하기 위해서는 링크 주소 뒤에 '?flush_cache=true' 문구를 추가해 주면 된다고 함."
   ]
  },
  {
   "cell_type": "markdown",
   "metadata": {},
   "source": [
    "# 끝!"
   ]
  }
 ],
 "metadata": {
  "anaconda-cloud": {},
  "gist_id": "d9a2ab620303982df1af",
  "kernelspec": {
   "display_name": "Python 3",
   "language": "python",
   "name": "python3"
  },
  "language_info": {
   "codemirror_mode": {
    "name": "ipython",
    "version": 3
   },
   "file_extension": ".py",
   "mimetype": "text/x-python",
   "name": "python",
   "nbconvert_exporter": "python",
   "pygments_lexer": "ipython3",
   "version": "3.6.2"
  }
 },
 "nbformat": 4,
 "nbformat_minor": 1
}
