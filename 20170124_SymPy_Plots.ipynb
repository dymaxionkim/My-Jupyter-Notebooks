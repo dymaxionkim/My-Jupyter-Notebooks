{
 "cells": [
  {
   "cell_type": "markdown",
   "metadata": {},
   "source": [
    "# SymPy\n",
    "\n",
    "* https://github.com/JuliaPy/SymPy.jl/blob/master/examples/tutorial.md"
   ]
  },
  {
   "cell_type": "code",
   "execution_count": 2,
   "metadata": {
    "collapsed": false
   },
   "outputs": [],
   "source": [
    "using SymPy"
   ]
  },
  {
   "cell_type": "markdown",
   "metadata": {},
   "source": [
    "## Polynomial Equations"
   ]
  },
  {
   "cell_type": "markdown",
   "metadata": {},
   "source": [
    "미지수 x를 먼저 심볼릭 변수로 선언한다."
   ]
  },
  {
   "cell_type": "code",
   "execution_count": 6,
   "metadata": {
    "collapsed": false
   },
   "outputs": [
    {
     "data": {
      "text/plain": [
       "(x,)"
      ]
     },
     "execution_count": 6,
     "metadata": {},
     "output_type": "execute_result"
    }
   ],
   "source": [
    "#x = Sym(\"x\")\n",
    "@vars x"
   ]
  },
  {
   "cell_type": "markdown",
   "metadata": {},
   "source": [
    "### Ex1"
   ]
  },
  {
   "cell_type": "markdown",
   "metadata": {},
   "source": [
    "이제 함수 f(x)를 정의한다."
   ]
  },
  {
   "cell_type": "code",
   "execution_count": 7,
   "metadata": {
    "collapsed": false,
    "scrolled": false
   },
   "outputs": [
    {
     "name": "stderr",
     "output_type": "stream",
     "text": [
      "WARNING: Method definition f(Any) in module Main at In[3]:1 overwritten at In[7]:1.\n"
     ]
    },
    {
     "data": {
      "text/plain": [
       "f (generic function with 1 method)"
      ]
     },
     "execution_count": 7,
     "metadata": {},
     "output_type": "execute_result"
    }
   ],
   "source": [
    "f(x) = x^2 +2x -1"
   ]
  },
  {
   "cell_type": "markdown",
   "metadata": {},
   "source": [
    "해당 함수를 푼다."
   ]
  },
  {
   "cell_type": "code",
   "execution_count": 8,
   "metadata": {
    "collapsed": false,
    "scrolled": false
   },
   "outputs": [
    {
     "data": {
      "text/latex": [
       "\\begin{bmatrix}-1 + \\sqrt{2}\\\\- \\sqrt{2} - 1\\end{bmatrix}"
      ],
      "text/plain": [
       "2-element Array{SymPy.Sym,1}\n",
       "⎡-1 + √2⎤\n",
       "⎢       ⎥\n",
       "⎣-√2 - 1⎦"
      ]
     },
     "execution_count": 8,
     "metadata": {},
     "output_type": "execute_result"
    }
   ],
   "source": [
    "solve(f(x),x)"
   ]
  },
  {
   "cell_type": "markdown",
   "metadata": {},
   "source": [
    "### Ex2"
   ]
  },
  {
   "cell_type": "code",
   "execution_count": 9,
   "metadata": {
    "collapsed": false
   },
   "outputs": [
    {
     "name": "stderr",
     "output_type": "stream",
     "text": [
      "WARNING: Method definition f(Any) in module Main at In[7]:1 overwritten at In[9]:1.\n"
     ]
    },
    {
     "data": {
      "text/plain": [
       "f (generic function with 1 method)"
      ]
     },
     "execution_count": 9,
     "metadata": {},
     "output_type": "execute_result"
    }
   ],
   "source": [
    "f(x) = (x+1)(x^2-3)"
   ]
  },
  {
   "cell_type": "code",
   "execution_count": 10,
   "metadata": {
    "collapsed": false,
    "scrolled": true
   },
   "outputs": [
    {
     "data": {
      "text/latex": [
       "\\begin{bmatrix}- \\sqrt{2}\\\\\\sqrt{2}\\end{bmatrix}"
      ],
      "text/plain": [
       "2-element Array{SymPy.Sym,1}\n",
       "⎡-√2⎤\n",
       "⎢   ⎥\n",
       "⎣√2 ⎦"
      ]
     },
     "execution_count": 10,
     "metadata": {},
     "output_type": "execute_result"
    }
   ],
   "source": [
    "solve(f(x),x)"
   ]
  },
  {
   "cell_type": "markdown",
   "metadata": {},
   "source": [
    "함수 f(x)를 전개한다."
   ]
  },
  {
   "cell_type": "code",
   "execution_count": 11,
   "metadata": {
    "collapsed": false,
    "scrolled": true
   },
   "outputs": [
    {
     "data": {
      "text/latex": [
       "$$x^{2} - 2$$"
      ],
      "text/plain": [
       " 2    \n",
       "x  - 2"
      ]
     },
     "execution_count": 11,
     "metadata": {},
     "output_type": "execute_result"
    }
   ],
   "source": [
    "expand(f(x),x)"
   ]
  },
  {
   "cell_type": "markdown",
   "metadata": {},
   "source": [
    "### Ex3"
   ]
  },
  {
   "cell_type": "code",
   "execution_count": 12,
   "metadata": {
    "collapsed": false
   },
   "outputs": [
    {
     "name": "stderr",
     "output_type": "stream",
     "text": [
      "WARNING: Method definition f(Any) in module Main at In[9]:1 overwritten at In[12]:1.\n"
     ]
    },
    {
     "data": {
      "text/plain": [
       "f (generic function with 1 method)"
      ]
     },
     "execution_count": 12,
     "metadata": {},
     "output_type": "execute_result"
    }
   ],
   "source": [
    "f(x) = (4x^3+1)(x^2-3)"
   ]
  },
  {
   "cell_type": "code",
   "execution_count": 13,
   "metadata": {
    "collapsed": false
   },
   "outputs": [
    {
     "data": {
      "text/latex": [
       "\\begin{bmatrix}- \\sqrt{- \\frac{\\sqrt[3]{2}}{2} + 3}\\\\\\sqrt{- \\frac{\\sqrt[3]{2}}{2} + 3}\\\\- \\sqrt[4]{\\frac{2^{\\frac{2}{3}}}{4} + \\frac{3 \\sqrt[3]{2}}{2} + 9} \\cos{\\left (\\frac{1}{2} \\operatorname{atan}{\\left (\\frac{\\sqrt[3]{2} \\sqrt{3}}{\\sqrt[3]{2} + 12} \\right )} \\right )} - i \\sqrt[4]{\\frac{2^{\\frac{2}{3}}}{4} + \\frac{3 \\sqrt[3]{2}}{2} + 9} \\sin{\\left (\\frac{1}{2} \\operatorname{atan}{\\left (\\frac{\\sqrt[3]{2} \\sqrt{3}}{\\sqrt[3]{2} + 12} \\right )} \\right )}\\\\- \\sqrt[4]{\\frac{2^{\\frac{2}{3}}}{4} + \\frac{3 \\sqrt[3]{2}}{2} + 9} \\cos{\\left (\\frac{1}{2} \\operatorname{atan}{\\left (\\frac{\\sqrt[3]{2} \\sqrt{3}}{\\sqrt[3]{2} + 12} \\right )} \\right )} + i \\sqrt[4]{\\frac{2^{\\frac{2}{3}}}{4} + \\frac{3 \\sqrt[3]{2}}{2} + 9} \\sin{\\left (\\frac{1}{2} \\operatorname{atan}{\\left (\\frac{\\sqrt[3]{2} \\sqrt{3}}{\\sqrt[3]{2} + 12} \\right )} \\right )}\\\\\\sqrt[4]{\\frac{2^{\\frac{2}{3}}}{4} + \\frac{3 \\sqrt[3]{2}}{2} + 9} \\cos{\\left (\\frac{1}{2} \\operatorname{atan}{\\left (\\frac{\\sqrt[3]{2} \\sqrt{3}}{\\sqrt[3]{2} + 12} \\right )} \\right )} - i \\sqrt[4]{\\frac{2^{\\frac{2}{3}}}{4} + \\frac{3 \\sqrt[3]{2}}{2} + 9} \\sin{\\left (\\frac{1}{2} \\operatorname{atan}{\\left (\\frac{\\sqrt[3]{2} \\sqrt{3}}{\\sqrt[3]{2} + 12} \\right )} \\right )}\\\\\\sqrt[4]{\\frac{2^{\\frac{2}{3}}}{4} + \\frac{3 \\sqrt[3]{2}}{2} + 9} \\cos{\\left (\\frac{1}{2} \\operatorname{atan}{\\left (\\frac{\\sqrt[3]{2} \\sqrt{3}}{\\sqrt[3]{2} + 12} \\right )} \\right )} + i \\sqrt[4]{\\frac{2^{\\frac{2}{3}}}{4} + \\frac{3 \\sqrt[3]{2}}{2} + 9} \\sin{\\left (\\frac{1}{2} \\operatorname{atan}{\\left (\\frac{\\sqrt[3]{2} \\sqrt{3}}{\\sqrt[3]{2} + 12} \\right )} \\right )}\\end{bmatrix}"
      ],
      "text/plain": [
       "6-element Array{SymPy.Sym,1}\n",
       "⎡                                                  _____________              \n",
       "⎢                                                 ╱   3 ___                   \n",
       "⎢                                                ╱    ╲╱ 2                    \n",
       "⎢                                            -  ╱   - ───── + 3               \n",
       "⎢                                             ╲╱        2                     \n",
       "⎢                                                                             \n",
       "⎢                                                 _____________               \n",
       "⎢                                                ╱   3 ___                    \n",
       "⎢                                               ╱    ╲╱ 2                     \n",
       "⎢                                              ╱   - ───── + 3                \n",
       "⎢                                            ╲╱        2                      \n",
       "⎢                                                                             \n",
       "⎢                               ⎛    ⎛   3 ___     ⎞⎞                         \n",
       "⎢                               ⎜    ⎜   ╲╱ 2 ⋅√3  ⎟⎟                         \n",
       "⎢                               ⎜atan⎜─────────────⎟⎟                         \n",
       "⎢                               ⎜    ⎜  ⎛3 ___    ⎞⎟⎟                         \n",
       "⎢       ____________________    ⎜    ⎜  ⎜╲╱ 2     ⎟⎟⎟          _______________\n",
       "⎢      ╱  2/3     3 ___         ⎜    ⎜4⋅⎜───── + 3⎟⎟⎟         ╱  2/3     3 ___\n",
       "⎢     ╱  2      3⋅╲╱ 2          ⎜    ⎝  ⎝  4      ⎠⎠⎟        ╱  2      3⋅╲╱ 2 \n",
       "⎢- 4 ╱   ──── + ─────── + 9 ⋅cos⎜───────────────────⎟ - ⅈ⋅4 ╱   ──── + ───────\n",
       "⎢  ╲╱     4        2            ⎝         2         ⎠     ╲╱     4        2   \n",
       "⎢                                                                             \n",
       "⎢                               ⎛    ⎛   3 ___     ⎞⎞                         \n",
       "⎢                               ⎜    ⎜   ╲╱ 2 ⋅√3  ⎟⎟                         \n",
       "⎢                               ⎜atan⎜─────────────⎟⎟                         \n",
       "⎢                               ⎜    ⎜  ⎛3 ___    ⎞⎟⎟                         \n",
       "⎢       ____________________    ⎜    ⎜  ⎜╲╱ 2     ⎟⎟⎟          _______________\n",
       "⎢      ╱  2/3     3 ___         ⎜    ⎜4⋅⎜───── + 3⎟⎟⎟         ╱  2/3     3 ___\n",
       "⎢     ╱  2      3⋅╲╱ 2          ⎜    ⎝  ⎝  4      ⎠⎠⎟        ╱  2      3⋅╲╱ 2 \n",
       "⎢- 4 ╱   ──── + ─────── + 9 ⋅cos⎜───────────────────⎟ + ⅈ⋅4 ╱   ──── + ───────\n",
       "⎢  ╲╱     4        2            ⎝         2         ⎠     ╲╱     4        2   \n",
       "⎢                                                                             \n",
       "⎢                              ⎛    ⎛   3 ___     ⎞⎞                          \n",
       "⎢                              ⎜    ⎜   ╲╱ 2 ⋅√3  ⎟⎟                          \n",
       "⎢                              ⎜atan⎜─────────────⎟⎟                          \n",
       "⎢                              ⎜    ⎜  ⎛3 ___    ⎞⎟⎟                          \n",
       "⎢      ____________________    ⎜    ⎜  ⎜╲╱ 2     ⎟⎟⎟          ________________\n",
       "⎢     ╱  2/3     3 ___         ⎜    ⎜4⋅⎜───── + 3⎟⎟⎟         ╱  2/3     3 ___ \n",
       "⎢    ╱  2      3⋅╲╱ 2          ⎜    ⎝  ⎝  4      ⎠⎠⎟        ╱  2      3⋅╲╱ 2  \n",
       "⎢ 4 ╱   ──── + ─────── + 9 ⋅cos⎜───────────────────⎟ - ⅈ⋅4 ╱   ──── + ─────── \n",
       "⎢ ╲╱     4        2            ⎝         2         ⎠     ╲╱     4        2    \n",
       "⎢                                                                             \n",
       "⎢                              ⎛    ⎛   3 ___     ⎞⎞                          \n",
       "⎢                              ⎜    ⎜   ╲╱ 2 ⋅√3  ⎟⎟                          \n",
       "⎢                              ⎜atan⎜─────────────⎟⎟                          \n",
       "⎢                              ⎜    ⎜  ⎛3 ___    ⎞⎟⎟                          \n",
       "⎢      ____________________    ⎜    ⎜  ⎜╲╱ 2     ⎟⎟⎟          ________________\n",
       "⎢     ╱  2/3     3 ___         ⎜    ⎜4⋅⎜───── + 3⎟⎟⎟         ╱  2/3     3 ___ \n",
       "⎢    ╱  2      3⋅╲╱ 2          ⎜    ⎝  ⎝  4      ⎠⎠⎟        ╱  2      3⋅╲╱ 2  \n",
       "⎢ 4 ╱   ──── + ─────── + 9 ⋅cos⎜───────────────────⎟ + ⅈ⋅4 ╱   ──── + ─────── \n",
       "⎣ ╲╱     4        2            ⎝         2         ⎠     ╲╱     4        2    \n",
       "\n",
       "                              ⎤\n",
       "                              ⎥\n",
       "                              ⎥\n",
       "                              ⎥\n",
       "                              ⎥\n",
       "                              ⎥\n",
       "                              ⎥\n",
       "                              ⎥\n",
       "                              ⎥\n",
       "                              ⎥\n",
       "                              ⎥\n",
       "                              ⎥\n",
       "         ⎛    ⎛   3 ___     ⎞⎞⎥\n",
       "         ⎜    ⎜   ╲╱ 2 ⋅√3  ⎟⎟⎥\n",
       "         ⎜atan⎜─────────────⎟⎟⎥\n",
       "         ⎜    ⎜  ⎛3 ___    ⎞⎟⎟⎥\n",
       "_____    ⎜    ⎜  ⎜╲╱ 2     ⎟⎟⎟⎥\n",
       "         ⎜    ⎜4⋅⎜───── + 3⎟⎟⎟⎥\n",
       "         ⎜    ⎝  ⎝  4      ⎠⎠⎟⎥\n",
       " + 9 ⋅sin⎜───────────────────⎟⎥\n",
       "         ⎝         2         ⎠⎥\n",
       "                              ⎥\n",
       "         ⎛    ⎛   3 ___     ⎞⎞⎥\n",
       "         ⎜    ⎜   ╲╱ 2 ⋅√3  ⎟⎟⎥\n",
       "         ⎜atan⎜─────────────⎟⎟⎥\n",
       "         ⎜    ⎜  ⎛3 ___    ⎞⎟⎟⎥\n",
       "_____    ⎜    ⎜  ⎜╲╱ 2     ⎟⎟⎟⎥\n",
       "         ⎜    ⎜4⋅⎜───── + 3⎟⎟⎟⎥\n",
       "         ⎜    ⎝  ⎝  4      ⎠⎠⎟⎥\n",
       " + 9 ⋅sin⎜───────────────────⎟⎥\n",
       "         ⎝         2         ⎠⎥\n",
       "                              ⎥\n",
       "        ⎛    ⎛   3 ___     ⎞⎞ ⎥\n",
       "        ⎜    ⎜   ╲╱ 2 ⋅√3  ⎟⎟ ⎥\n",
       "        ⎜atan⎜─────────────⎟⎟ ⎥\n",
       "        ⎜    ⎜  ⎛3 ___    ⎞⎟⎟ ⎥\n",
       "____    ⎜    ⎜  ⎜╲╱ 2     ⎟⎟⎟ ⎥\n",
       "        ⎜    ⎜4⋅⎜───── + 3⎟⎟⎟ ⎥\n",
       "        ⎜    ⎝  ⎝  4      ⎠⎠⎟ ⎥\n",
       "+ 9 ⋅sin⎜───────────────────⎟ ⎥\n",
       "        ⎝         2         ⎠ ⎥\n",
       "                              ⎥\n",
       "        ⎛    ⎛   3 ___     ⎞⎞ ⎥\n",
       "        ⎜    ⎜   ╲╱ 2 ⋅√3  ⎟⎟ ⎥\n",
       "        ⎜atan⎜─────────────⎟⎟ ⎥\n",
       "        ⎜    ⎜  ⎛3 ___    ⎞⎟⎟ ⎥\n",
       "____    ⎜    ⎜  ⎜╲╱ 2     ⎟⎟⎟ ⎥\n",
       "        ⎜    ⎜4⋅⎜───── + 3⎟⎟⎟ ⎥\n",
       "        ⎜    ⎝  ⎝  4      ⎠⎠⎟ ⎥\n",
       "+ 9 ⋅sin⎜───────────────────⎟ ⎥\n",
       "        ⎝         2         ⎠ ⎦"
      ]
     },
     "execution_count": 13,
     "metadata": {},
     "output_type": "execute_result"
    }
   ],
   "source": [
    "solve(f(x),x)"
   ]
  },
  {
   "cell_type": "markdown",
   "metadata": {},
   "source": [
    "### Ex4"
   ]
  },
  {
   "cell_type": "code",
   "execution_count": 14,
   "metadata": {
    "collapsed": false
   },
   "outputs": [
    {
     "data": {
      "text/latex": [
       "$$x^{2} - 3 x + 1$$"
      ],
      "text/plain": [
       " 2          \n",
       "x  - 3⋅x + 1"
      ]
     },
     "execution_count": 14,
     "metadata": {},
     "output_type": "execute_result"
    }
   ],
   "source": [
    "A = x^2 -3x +1"
   ]
  },
  {
   "cell_type": "code",
   "execution_count": 15,
   "metadata": {
    "collapsed": false
   },
   "outputs": [
    {
     "data": {
      "text/latex": [
       "$$3 x^{3} + 7 x - 3$$"
      ],
      "text/plain": [
       "   3          \n",
       "3⋅x  + 7⋅x - 3"
      ]
     },
     "execution_count": 15,
     "metadata": {},
     "output_type": "execute_result"
    }
   ],
   "source": [
    "B = 3x^3 +7x -3"
   ]
  },
  {
   "cell_type": "code",
   "execution_count": 16,
   "metadata": {
    "collapsed": false
   },
   "outputs": [
    {
     "data": {
      "text/latex": [
       "$$\\frac{x^{2} - 3 x + 1}{3 x^{3} + 7 x - 3}$$"
      ],
      "text/plain": [
       "  2           \n",
       " x  - 3⋅x + 1 \n",
       "──────────────\n",
       "   3          \n",
       "3⋅x  + 7⋅x - 3"
      ]
     },
     "execution_count": 16,
     "metadata": {},
     "output_type": "execute_result"
    }
   ],
   "source": [
    "C = A / B"
   ]
  },
  {
   "cell_type": "code",
   "execution_count": 17,
   "metadata": {
    "collapsed": false
   },
   "outputs": [
    {
     "data": {
      "text/latex": [
       "$$\\frac{x^{2}}{3 x^{3} + 7 x - 3} - \\frac{3 x}{3 x^{3} + 7 x - 3} + \\frac{1}{3 x^{3} + 7 x - 3}$$"
      ],
      "text/plain": [
       "       2                                        \n",
       "      x               3⋅x               1       \n",
       "────────────── - ────────────── + ──────────────\n",
       "   3                3                3          \n",
       "3⋅x  + 7⋅x - 3   3⋅x  + 7⋅x - 3   3⋅x  + 7⋅x - 3"
      ]
     },
     "execution_count": 17,
     "metadata": {},
     "output_type": "execute_result"
    }
   ],
   "source": [
    "expand(C)"
   ]
  },
  {
   "cell_type": "code",
   "execution_count": 18,
   "metadata": {
    "collapsed": false
   },
   "outputs": [
    {
     "data": {
      "text/latex": [
       "\\begin{bmatrix}- \\frac{\\sqrt{5}}{2} + \\frac{3}{2}\\\\\\frac{\\sqrt{5}}{2} + \\frac{3}{2}\\end{bmatrix}"
      ],
      "text/plain": [
       "2-element Array{SymPy.Sym,1}\n",
       "⎡  √5   3⎤\n",
       "⎢- ── + ─⎥\n",
       "⎢  2    2⎥\n",
       "⎢        ⎥\n",
       "⎢ √5   3 ⎥\n",
       "⎢ ── + ─ ⎥\n",
       "⎣ 2    2 ⎦"
      ]
     },
     "execution_count": 18,
     "metadata": {},
     "output_type": "execute_result"
    }
   ],
   "source": [
    "solve(C,x)"
   ]
  },
  {
   "cell_type": "markdown",
   "metadata": {},
   "source": [
    "## Plots.jl\n",
    "* https://github.com/JuliaPlots/Plots.jl"
   ]
  },
  {
   "cell_type": "code",
   "execution_count": 20,
   "metadata": {
    "collapsed": false
   },
   "outputs": [
    {
     "name": "stderr",
     "output_type": "stream",
     "text": [
      "\u001b[1m\u001b[34mINFO: Cloning cache of FixedSizeArrays from https://github.com/SimonDanisch/FixedSizeArrays.jl.git\n",
      "\u001b[0m\u001b[1m\u001b[34mINFO: Cloning cache of PlotThemes from https://github.com/JuliaPlots/PlotThemes.jl.git\n",
      "\u001b[0m\u001b[1m\u001b[34mINFO: Cloning cache of PlotUtils from https://github.com/JuliaPlots/PlotUtils.jl.git\n",
      "\u001b[0m\u001b[1m\u001b[34mINFO: Cloning cache of Plots from https://github.com/JuliaPlots/Plots.jl.git\n",
      "\u001b[0m\u001b[1m\u001b[34mINFO: Cloning cache of Showoff from https://github.com/JuliaGraphics/Showoff.jl.git\n",
      "\u001b[0m\u001b[1m\u001b[34mINFO: Installing FixedSizeArrays v0.2.5\n",
      "\u001b[0m\u001b[1m\u001b[34mINFO: Installing PlotThemes v0.1.0\n",
      "\u001b[0m\u001b[1m\u001b[34mINFO: Installing PlotUtils v0.3.0\n",
      "\u001b[0m\u001b[1m\u001b[34mINFO: Installing Plots v0.10.3\n",
      "\u001b[0m\u001b[1m\u001b[34mINFO: Installing Showoff v0.0.7\n",
      "\u001b[0m\u001b[1m\u001b[34mINFO: Building Plots\n",
      "\u001b[0m\u001b[1m\u001b[34mINFO: Cannot find deps/plotly-latest.min.js... downloading latest version.\n",
      "\u001b[0m  % Total    % Received % Xferd  Average Speed   Time    Time     Time  Current\n",
      "                                 Dload  Upload   Total   Spent    Left  Speed\n",
      "100 1879k  100 1879k    0     0   360k      0  0:00:05  0:00:05 --:--:--  406k\n",
      "\u001b[1m\u001b[34mINFO: Package database updated\n",
      "\u001b[0m\u001b[1m\u001b[34mINFO: METADATA is out-of-date — you may not have the latest version of Plots\n",
      "\u001b[0m\u001b[1m\u001b[34mINFO: Use `Pkg.update()` to get the latest versions of your packages\n",
      "\u001b[0m"
     ]
    }
   ],
   "source": [
    "Pkg.add(\"Plots\")"
   ]
  },
  {
   "cell_type": "code",
   "execution_count": 21,
   "metadata": {
    "collapsed": false
   },
   "outputs": [
    {
     "name": "stderr",
     "output_type": "stream",
     "text": [
      "\u001b[1m\u001b[34mINFO: Precompiling module FixedSizeArrays.\n",
      "\u001b[0m\u001b[1m\u001b[34mINFO: Precompiling module PlotUtils.\n",
      "\u001b[0m\u001b[1m\u001b[34mINFO: Precompiling module PlotThemes.\n",
      "\u001b[0m\u001b[1m\u001b[34mINFO: Precompiling module Showoff.\n",
      "\u001b[0m\u001b[1m\u001b[34mINFO: Recompiling stale cache file /home/dong/.julia/lib/v0.5/FileIO.ji for module FileIO.\n",
      "\u001b[0m"
     ]
    }
   ],
   "source": [
    "using Plots"
   ]
  },
  {
   "cell_type": "code",
   "execution_count": 25,
   "metadata": {
    "collapsed": false
   },
   "outputs": [
    {
     "data": {
      "text/html": [
       "<img src=\"data:image/png;base64,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\" />"
      ]
     },
     "execution_count": 25,
     "metadata": {},
     "output_type": "execute_result"
    }
   ],
   "source": [
    "plot(f(x), 0,10)"
   ]
  },
  {
   "cell_type": "code",
   "execution_count": 30,
   "metadata": {
    "collapsed": false
   },
   "outputs": [
    {
     "data": {
      "text/html": [
       "<img src=\"data:image/png;base64,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\" />"
      ]
     },
     "execution_count": 30,
     "metadata": {},
     "output_type": "execute_result"
    }
   ],
   "source": [
    "plot(sin(2x), cos(3x), 0, 2π)"
   ]
  },
  {
   "cell_type": "code",
   "execution_count": 33,
   "metadata": {
    "collapsed": false,
    "scrolled": true
   },
   "outputs": [
    {
     "data": {
      "text/html": [
       "<img src=\"data:image/png;base64,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\" />"
      ]
     },
     "execution_count": 33,
     "metadata": {},
     "output_type": "execute_result"
    }
   ],
   "source": [
    "plot(A,B, 0,π)"
   ]
  },
  {
   "cell_type": "markdown",
   "metadata": {
    "collapsed": true
   },
   "source": [
    "### 2차 방정식의 해"
   ]
  },
  {
   "cell_type": "code",
   "execution_count": 3,
   "metadata": {
    "collapsed": false
   },
   "outputs": [
    {
     "data": {
      "text/plain": [
       "(a,b,c,x)"
      ]
     },
     "execution_count": 3,
     "metadata": {},
     "output_type": "execute_result"
    }
   ],
   "source": [
    "@vars a b c x"
   ]
  },
  {
   "cell_type": "code",
   "execution_count": 4,
   "metadata": {
    "collapsed": false
   },
   "outputs": [
    {
     "data": {
      "text/latex": [
       "$$a x^{2} + b x + c$$"
      ],
      "text/plain": [
       "   2          \n",
       "a⋅x  + b⋅x + c"
      ]
     },
     "execution_count": 4,
     "metadata": {},
     "output_type": "execute_result"
    }
   ],
   "source": [
    "y = a*x^2 + b*x + c"
   ]
  },
  {
   "cell_type": "code",
   "execution_count": 5,
   "metadata": {
    "collapsed": false
   },
   "outputs": [
    {
     "data": {
      "text/latex": [
       "\\begin{bmatrix}\\frac{1}{2 a} \\left(- b + \\sqrt{- 4 a c + b^{2}}\\right)\\\\- \\frac{1}{2 a} \\left(b + \\sqrt{- 4 a c + b^{2}}\\right)\\end{bmatrix}"
      ],
      "text/plain": [
       "2-element Array{SymPy.Sym,1}\n",
       "⎡         _____________  ⎤\n",
       "⎢        ╱           2   ⎥\n",
       "⎢ -b + ╲╱  -4⋅a⋅c + b    ⎥\n",
       "⎢ ─────────────────────  ⎥\n",
       "⎢          2⋅a           ⎥\n",
       "⎢                        ⎥\n",
       "⎢ ⎛       _____________⎞ ⎥\n",
       "⎢ ⎜      ╱           2 ⎟ ⎥\n",
       "⎢-⎝b + ╲╱  -4⋅a⋅c + b  ⎠ ⎥\n",
       "⎢────────────────────────⎥\n",
       "⎣          2⋅a           ⎦"
      ]
     },
     "execution_count": 5,
     "metadata": {},
     "output_type": "execute_result"
    }
   ],
   "source": [
    "solve(y,x)"
   ]
  },
  {
   "cell_type": "markdown",
   "metadata": {},
   "source": [
    "### 3차 방정식의 해"
   ]
  },
  {
   "cell_type": "code",
   "execution_count": 6,
   "metadata": {
    "collapsed": false
   },
   "outputs": [
    {
     "data": {
      "text/latex": [
       "\\begin{bmatrix}- \\frac{- \\frac{3 c}{a} + \\frac{b^{2}}{a^{2}}}{3 \\sqrt[3]{\\frac{1}{2} \\sqrt{- 4 \\left(- \\frac{3 c}{a} + \\frac{b^{2}}{a^{2}}\\right)^{3} + \\left(\\frac{27 d}{a} - \\frac{9 b}{a^{2}} c + \\frac{2 b^{3}}{a^{3}}\\right)^{2}} + \\frac{27 d}{2 a} - \\frac{9 b c}{2 a^{2}} + \\frac{b^{3}}{a^{3}}}} - \\frac{1}{3} \\sqrt[3]{\\frac{1}{2} \\sqrt{- 4 \\left(- \\frac{3 c}{a} + \\frac{b^{2}}{a^{2}}\\right)^{3} + \\left(\\frac{27 d}{a} - \\frac{9 b}{a^{2}} c + \\frac{2 b^{3}}{a^{3}}\\right)^{2}} + \\frac{27 d}{2 a} - \\frac{9 b c}{2 a^{2}} + \\frac{b^{3}}{a^{3}}} - \\frac{b}{3 a}\\\\- \\frac{- \\frac{3 c}{a} + \\frac{b^{2}}{a^{2}}}{3 \\left(- \\frac{1}{2} - \\frac{\\sqrt{3} i}{2}\\right) \\sqrt[3]{\\frac{1}{2} \\sqrt{- 4 \\left(- \\frac{3 c}{a} + \\frac{b^{2}}{a^{2}}\\right)^{3} + \\left(\\frac{27 d}{a} - \\frac{9 b}{a^{2}} c + \\frac{2 b^{3}}{a^{3}}\\right)^{2}} + \\frac{27 d}{2 a} - \\frac{9 b c}{2 a^{2}} + \\frac{b^{3}}{a^{3}}}} - \\frac{1}{3} \\left(- \\frac{1}{2} - \\frac{\\sqrt{3} i}{2}\\right) \\sqrt[3]{\\frac{1}{2} \\sqrt{- 4 \\left(- \\frac{3 c}{a} + \\frac{b^{2}}{a^{2}}\\right)^{3} + \\left(\\frac{27 d}{a} - \\frac{9 b}{a^{2}} c + \\frac{2 b^{3}}{a^{3}}\\right)^{2}} + \\frac{27 d}{2 a} - \\frac{9 b c}{2 a^{2}} + \\frac{b^{3}}{a^{3}}} - \\frac{b}{3 a}\\\\- \\frac{- \\frac{3 c}{a} + \\frac{b^{2}}{a^{2}}}{3 \\left(- \\frac{1}{2} + \\frac{\\sqrt{3} i}{2}\\right) \\sqrt[3]{\\frac{1}{2} \\sqrt{- 4 \\left(- \\frac{3 c}{a} + \\frac{b^{2}}{a^{2}}\\right)^{3} + \\left(\\frac{27 d}{a} - \\frac{9 b}{a^{2}} c + \\frac{2 b^{3}}{a^{3}}\\right)^{2}} + \\frac{27 d}{2 a} - \\frac{9 b c}{2 a^{2}} + \\frac{b^{3}}{a^{3}}}} - \\frac{1}{3} \\left(- \\frac{1}{2} + \\frac{\\sqrt{3} i}{2}\\right) \\sqrt[3]{\\frac{1}{2} \\sqrt{- 4 \\left(- \\frac{3 c}{a} + \\frac{b^{2}}{a^{2}}\\right)^{3} + \\left(\\frac{27 d}{a} - \\frac{9 b}{a^{2}} c + \\frac{2 b^{3}}{a^{3}}\\right)^{2}} + \\frac{27 d}{2 a} - \\frac{9 b c}{2 a^{2}} + \\frac{b^{3}}{a^{3}}} - \\frac{b}{3 a}\\end{bmatrix}"
      ],
      "text/plain": [
       "3-element Array{SymPy.Sym,1}\n",
       "⎡                                                                             \n",
       "⎢                                                                             \n",
       "⎢                                                                             \n",
       "⎢                                                                             \n",
       "⎢                                                                             \n",
       "⎢                                                                             \n",
       "⎢                                                              2              \n",
       "⎢                                                       3⋅c   b               \n",
       "⎢                                                     - ─── + ──              \n",
       "⎢                                                        a     2              \n",
       "⎢                                                             a               \n",
       "⎢             - ──────────────────────────────────────────────────────────────\n",
       "⎢                            _________________________________________________\n",
       "⎢                           ╱        _________________________________________\n",
       "⎢                          ╱        ╱                 3                       \n",
       "⎢                         ╱        ╱      ⎛         2⎞    ⎛                  3\n",
       "⎢                        ╱        ╱       ⎜  3⋅c   b ⎟    ⎜27⋅d   9⋅b⋅c   2⋅b \n",
       "⎢                       ╱        ╱    - 4⋅⎜- ─── + ──⎟  + ⎜──── - ───── + ────\n",
       "⎢                      ╱        ╱         ⎜   a     2⎟    ⎜ a        2      3 \n",
       "⎢                     ╱       ╲╱          ⎝        a ⎠    ⎝         a      a  \n",
       "⎢               3⋅   ╱        ────────────────────────────────────────────────\n",
       "⎢                 3 ╱                                  2                      \n",
       "⎢                 ╲╱                                                          \n",
       "⎢                                                                             \n",
       "⎢                                                                             \n",
       "⎢                                                                             \n",
       "⎢                                                                             \n",
       "⎢                                                                             \n",
       "⎢                                                                             \n",
       "⎢                                                                             \n",
       "⎢                                                        2                    \n",
       "⎢                                                 3⋅c   b                     \n",
       "⎢                                               - ─── + ──                    \n",
       "⎢                                                  a     2                    \n",
       "⎢                                                       a                     \n",
       "⎢- ───────────────────────────────────────────────────────────────────────────\n",
       "⎢                            _________________________________________________\n",
       "⎢                           ╱        _________________________________________\n",
       "⎢                          ╱        ╱                 3                       \n",
       "⎢                         ╱        ╱      ⎛         2⎞    ⎛                  3\n",
       "⎢                        ╱        ╱       ⎜  3⋅c   b ⎟    ⎜27⋅d   9⋅b⋅c   2⋅b \n",
       "⎢                       ╱        ╱    - 4⋅⎜- ─── + ──⎟  + ⎜──── - ───── + ────\n",
       "⎢                      ╱        ╱         ⎜   a     2⎟    ⎜ a        2      3 \n",
       "⎢    ⎛  1   √3⋅ⅈ⎞     ╱       ╲╱          ⎝        a ⎠    ⎝         a      a  \n",
       "⎢  3⋅⎜- ─ - ────⎟⋅   ╱        ────────────────────────────────────────────────\n",
       "⎢    ⎝  2    2  ⎠ 3 ╱                                  2                      \n",
       "⎢                 ╲╱                                                          \n",
       "⎢                                                                             \n",
       "⎢                                                                             \n",
       "⎢                                                                             \n",
       "⎢                                                                             \n",
       "⎢                                                                             \n",
       "⎢                                                                             \n",
       "⎢                                                                             \n",
       "⎢                                                        2                    \n",
       "⎢                                                 3⋅c   b                     \n",
       "⎢                                               - ─── + ──                    \n",
       "⎢                                                  a     2                    \n",
       "⎢                                                       a                     \n",
       "⎢- ───────────────────────────────────────────────────────────────────────────\n",
       "⎢                            _________________________________________________\n",
       "⎢                           ╱        _________________________________________\n",
       "⎢                          ╱        ╱                 3                       \n",
       "⎢                         ╱        ╱      ⎛         2⎞    ⎛                  3\n",
       "⎢                        ╱        ╱       ⎜  3⋅c   b ⎟    ⎜27⋅d   9⋅b⋅c   2⋅b \n",
       "⎢                       ╱        ╱    - 4⋅⎜- ─── + ──⎟  + ⎜──── - ───── + ────\n",
       "⎢                      ╱        ╱         ⎜   a     2⎟    ⎜ a        2      3 \n",
       "⎢    ⎛  1   √3⋅ⅈ⎞     ╱       ╲╱          ⎝        a ⎠    ⎝         a      a  \n",
       "⎢  3⋅⎜- ─ + ────⎟⋅   ╱        ────────────────────────────────────────────────\n",
       "⎢    ⎝  2    2  ⎠ 3 ╱                                  2                      \n",
       "⎣                 ╲╱                                                          \n",
       "\n",
       "                                      ________________________________________\n",
       "                                     ╱        ________________________________\n",
       "                                    ╱        ╱                 3              \n",
       "                                   ╱        ╱      ⎛         2⎞    ⎛          \n",
       "                                  ╱        ╱       ⎜  3⋅c   b ⎟    ⎜27⋅d   9⋅b\n",
       "                                 ╱        ╱    - 4⋅⎜- ─── + ──⎟  + ⎜──── - ───\n",
       "                                ╱        ╱         ⎜   a     2⎟    ⎜ a        \n",
       "                               ╱       ╲╱          ⎝        a ⎠    ⎝         a\n",
       "                              ╱        ───────────────────────────────────────\n",
       "                           3 ╱                                  2             \n",
       "                           ╲╱                                                 \n",
       "──────────────────────── - ───────────────────────────────────────────────────\n",
       "________________________                                            3         \n",
       "___                                                                           \n",
       " 2                                                                            \n",
       "⎞                                                                             \n",
       "⎟                                                                             \n",
       "⎟                                                                             \n",
       "⎟                     3                                                       \n",
       "⎠     27⋅d   9⋅b⋅c   b                                                        \n",
       "─── + ──── - ───── + ──                                                       \n",
       "      2⋅a        2    3                                                       \n",
       "              2⋅a    a                                                        \n",
       "                                                                              \n",
       "                                                   ___________________________\n",
       "                                                  ╱        ___________________\n",
       "                                                 ╱        ╱                 3 \n",
       "                                                ╱        ╱      ⎛         2⎞  \n",
       "                                               ╱        ╱       ⎜  3⋅c   b ⎟  \n",
       "                                              ╱        ╱    - 4⋅⎜- ─── + ──⎟  \n",
       "                                             ╱        ╱         ⎜   a     2⎟  \n",
       "                           ⎛  1   √3⋅ⅈ⎞     ╱       ╲╱          ⎝        a ⎠  \n",
       "                           ⎜- ─ - ────⎟⋅   ╱        ──────────────────────────\n",
       "                           ⎝  2    2  ⎠ 3 ╱                                  2\n",
       "                                        ╲╱                                    \n",
       "──────────────────────── - ───────────────────────────────────────────────────\n",
       "________________________                                                   3  \n",
       "___                                                                           \n",
       " 2                                                                            \n",
       "⎞                                                                             \n",
       "⎟                                                                             \n",
       "⎟                                                                             \n",
       "⎟                     3                                                       \n",
       "⎠     27⋅d   9⋅b⋅c   b                                                        \n",
       "─── + ──── - ───── + ──                                                       \n",
       "      2⋅a        2    3                                                       \n",
       "              2⋅a    a                                                        \n",
       "                                                                              \n",
       "                                                   ___________________________\n",
       "                                                  ╱        ___________________\n",
       "                                                 ╱        ╱                 3 \n",
       "                                                ╱        ╱      ⎛         2⎞  \n",
       "                                               ╱        ╱       ⎜  3⋅c   b ⎟  \n",
       "                                              ╱        ╱    - 4⋅⎜- ─── + ──⎟  \n",
       "                                             ╱        ╱         ⎜   a     2⎟  \n",
       "                           ⎛  1   √3⋅ⅈ⎞     ╱       ╲╱          ⎝        a ⎠  \n",
       "                           ⎜- ─ + ────⎟⋅   ╱        ──────────────────────────\n",
       "                           ⎝  2    2  ⎠ 3 ╱                                  2\n",
       "                                        ╲╱                                    \n",
       "──────────────────────── - ───────────────────────────────────────────────────\n",
       "________________________                                                   3  \n",
       "___                                                                           \n",
       " 2                                                                            \n",
       "⎞                                                                             \n",
       "⎟                                                                             \n",
       "⎟                                                                             \n",
       "⎟                     3                                                       \n",
       "⎠     27⋅d   9⋅b⋅c   b                                                        \n",
       "─── + ──── - ───── + ──                                                       \n",
       "      2⋅a        2    3                                                       \n",
       "              2⋅a    a                                                        \n",
       "\n",
       "_________________________________                   ⎤\n",
       "____________                                        ⎥\n",
       "          2                                         ⎥\n",
       "        3⎞                                          ⎥\n",
       "⋅c   2⋅b ⎟                                          ⎥\n",
       "── + ────⎟                                          ⎥\n",
       "2      3 ⎟                     3                    ⎥\n",
       "      a  ⎠     27⋅d   9⋅b⋅c   b                     ⎥\n",
       "──────────── + ──── - ───── + ──                    ⎥\n",
       "               2⋅a        2    3                    ⎥\n",
       "                       2⋅a    a      b              ⎥\n",
       "───────────────────────────────── - ───             ⎥\n",
       "                                    3⋅a             ⎥\n",
       "                                                    ⎥\n",
       "                                                    ⎥\n",
       "                                                    ⎥\n",
       "                                                    ⎥\n",
       "                                                    ⎥\n",
       "                                                    ⎥\n",
       "                                                    ⎥\n",
       "                                                    ⎥\n",
       "                                                    ⎥\n",
       "                                                    ⎥\n",
       "                                                    ⎥\n",
       "______________________________________________      ⎥\n",
       "_________________________                           ⎥\n",
       "                       2                            ⎥\n",
       "  ⎛                  3⎞                             ⎥\n",
       "  ⎜27⋅d   9⋅b⋅c   2⋅b ⎟                             ⎥\n",
       "+ ⎜──── - ───── + ────⎟                             ⎥\n",
       "  ⎜ a        2      3 ⎟                     3       ⎥\n",
       "  ⎝         a      a  ⎠     27⋅d   9⋅b⋅c   b        ⎥\n",
       "───────────────────────── + ──── - ───── + ──       ⎥\n",
       "                            2⋅a        2    3       ⎥\n",
       "                                    2⋅a    a      b ⎥\n",
       "────────────────────────────────────────────── - ───⎥\n",
       "                                                 3⋅a⎥\n",
       "                                                    ⎥\n",
       "                                                    ⎥\n",
       "                                                    ⎥\n",
       "                                                    ⎥\n",
       "                                                    ⎥\n",
       "                                                    ⎥\n",
       "                                                    ⎥\n",
       "                                                    ⎥\n",
       "                                                    ⎥\n",
       "                                                    ⎥\n",
       "                                                    ⎥\n",
       "______________________________________________      ⎥\n",
       "_________________________                           ⎥\n",
       "                       2                            ⎥\n",
       "  ⎛                  3⎞                             ⎥\n",
       "  ⎜27⋅d   9⋅b⋅c   2⋅b ⎟                             ⎥\n",
       "+ ⎜──── - ───── + ────⎟                             ⎥\n",
       "  ⎜ a        2      3 ⎟                     3       ⎥\n",
       "  ⎝         a      a  ⎠     27⋅d   9⋅b⋅c   b        ⎥\n",
       "───────────────────────── + ──── - ───── + ──       ⎥\n",
       "                            2⋅a        2    3       ⎥\n",
       "                                    2⋅a    a      b ⎥\n",
       "────────────────────────────────────────────── - ───⎥\n",
       "                                                 3⋅a⎥\n",
       "                                                    ⎥\n",
       "                                                    ⎥\n",
       "                                                    ⎥\n",
       "                                                    ⎥\n",
       "                                                    ⎥\n",
       "                                                    ⎥\n",
       "                                                    ⎥\n",
       "                                                    ⎥\n",
       "                                                    ⎥\n",
       "                                                    ⎦"
      ]
     },
     "execution_count": 6,
     "metadata": {},
     "output_type": "execute_result"
    }
   ],
   "source": [
    "@vars a b c d x\n",
    "y = a*x^3 + b*x^2 + c*x + d\n",
    "solve(y,x)"
   ]
  },
  {
   "cell_type": "code",
   "execution_count": null,
   "metadata": {
    "collapsed": true
   },
   "outputs": [],
   "source": []
  }
 ],
 "metadata": {
  "anaconda-cloud": {},
  "kernelspec": {
   "display_name": "Julia 0.5.0",
   "language": "julia",
   "name": "julia-0.5"
  },
  "language_info": {
   "file_extension": ".jl",
   "mimetype": "application/julia",
   "name": "julia",
   "version": "0.5.0"
  },
  "nav_menu": {},
  "notify_time": "5",
  "toc": {
   "navigate_menu": true,
   "number_sections": true,
   "sideBar": true,
   "threshold": 6,
   "toc_cell": false,
   "toc_section_display": "block",
   "toc_window_display": false
  }
 },
 "nbformat": 4,
 "nbformat_minor": 1
}
