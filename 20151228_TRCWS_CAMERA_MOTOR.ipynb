{
 "cells": [
  {
   "cell_type": "markdown",
   "metadata": {},
   "source": [
    "# TRCWS\n",
    "## CAMERA MOTOR가 받아줄 수 있는 최대 가속도"
   ]
  },
  {
   "cell_type": "code",
   "execution_count": 3,
   "metadata": {
    "collapsed": false
   },
   "outputs": [
    {
     "name": "stdout",
     "output_type": "stream",
     "text": [
      "Case1 : 방탄판 부착시 질량관성모멘트 = 0.0188908285895316 Nm^2\n",
      "Case1 : 방탄판 부착시 허용 가속도 = 1.3996598306760526 G\n",
      "Case2 : 방탄판 제거시 질량관성모멘트 = 0.036590773528593905 Nm^2\n",
      "Case2 : 방탄판 제거시 허용 가속도 = 1.1185554005155336 G\n"
     ]
    }
   ],
   "source": [
    "# 기본 상수\n",
    "G = 9.81 # 중력가속도[m/s^2]\n",
    "\n",
    "# 액츄에이터\n",
    "Tn = 0.34 # 모터 정격 토크 [Nm]\n",
    "Th = 0.39 # 모터 홀딩 토크 [Nm]\n",
    "Tp = 0.54 # 모터 피크 토크 [Nm]\n",
    "u = 0.94 # 감속기 효율\n",
    "Reduce = 70 # 감속기 비율\n",
    "Tnt = Tn*Reduce*u # 전체 정격 토크 [Nm]\n",
    "Tpt = Tp*Reduce*u # 전체 피크 토크 [Nm]\n",
    "\n",
    "# Case1 : 기본 물성치 (방탄판 부착시)\n",
    "Mass1 = 36.135684 # 페이로드 질량 [kg]\n",
    "L1 = 0.0073 # 팔길이 [m]\n",
    "# 계산\n",
    "J1 = G*Mass1*(L1^2) # 이너시아 [Nm^2]\n",
    "alpha1 = Tpt/J1 # 각가속도 [rad/s^2]\n",
    "a1 = L1*alpha1 # 각가속도를 접선가속도로 변경 [m/s^2]\n",
    "Shock1 = a1/G # 중력가속도와의 비율\n",
    "println(\"Case1 : 방탄판 부착시 질량관성모멘트 = \", J1, \" Nm^2\")\n",
    "println(\"Case1 : 방탄판 부착시 허용 가속도 = \", Shock1, \" G\")\n",
    "\n",
    "# Case2 : 기본 물성치 (방탄판 제거시)\n",
    "Mass2 = 29.210951 # 페이로드 질량 [kg]\n",
    "L2 = 0.0113 # 팔길이 [m]\n",
    "# 계산\n",
    "J2 = G*Mass2*(L2^2) # 이너시아 [Nm^2]\n",
    "alpha2 = Tpt/J2 # 각가속도 [rad/s^2]\n",
    "a2 = L2*alpha2 # 각가속도를 접선가속도로 변경 [m/s^2]\n",
    "Shock2 = a2/G # 중력가속도와의 비율\n",
    "println(\"Case2 : 방탄판 제거시 질량관성모멘트 = \", J2, \" Nm^2\")\n",
    "println(\"Case2 : 방탄판 제거시 허용 가속도 = \", Shock2, \" G\")\n",
    "\n"
   ]
  },
  {
   "cell_type": "code",
   "execution_count": null,
   "metadata": {
    "collapsed": true
   },
   "outputs": [],
   "source": []
  }
 ],
 "metadata": {
  "anaconda-cloud": {},
  "kernelspec": {
   "display_name": "Julia 0.5.0",
   "language": "julia",
   "name": "julia-0.5"
  },
  "language_info": {
   "file_extension": ".jl",
   "mimetype": "application/julia",
   "name": "julia",
   "version": "0.5.0"
  }
 },
 "nbformat": 4,
 "nbformat_minor": 0
}
