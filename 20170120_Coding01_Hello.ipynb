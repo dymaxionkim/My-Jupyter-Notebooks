{
 "cells": [
  {
   "cell_type": "markdown",
   "metadata": {
    "collapsed": false,
    "nbpresent": {
     "id": "6451f6fe-8a05-4ab1-b1c7-e3c4318b771c"
    },
    "slideshow": {
     "slide_type": "slide"
    }
   },
   "source": [
    "# Coding 01\n",
    "목표 : 몇 가지 언어로 `\"Hello, World.\"` 찍어보기\n",
    "\n",
    "> Ref : [Jupyter notebook 환경 구축](http://dymaxionkim.mooo.com:3000/wiki/Home_JupyterSetup)"
   ]
  },
  {
   "cell_type": "markdown",
   "metadata": {
    "collapsed": true,
    "nbpresent": {
     "id": "fb814f00-a185-4564-9ef9-c849c447e476"
    },
    "slideshow": {
     "slide_type": "slide"
    }
   },
   "source": [
    "## C Lang\n",
    "\n",
    "* C 커널 설치되어 있어야 함.\n",
    "* C 커널로 변경할 것.\n",
    "\n",
    "```c\n",
    "#include <stdio.h>\n",
    "\n",
    "int main(void) {\n",
    "    printf(\"Hello, World.\\n\");\n",
    "    return 0;\n",
    "}\n",
    "```"
   ]
  },
  {
   "cell_type": "code",
   "execution_count": 1,
   "metadata": {
    "collapsed": false,
    "nbpresent": {
     "id": "54ab7aa3-dc4d-4479-b93b-742e2ef201c6"
    },
    "slideshow": {
     "slide_type": "slide"
    }
   },
   "outputs": [
    {
     "name": "stderr",
     "output_type": "stream",
     "text": []
    },
    {
     "name": "stdout",
     "output_type": "stream",
     "text": [
      "Hello, World.\n"
     ]
    }
   ],
   "source": [
    "#include <stdio.h>\n",
    "\n",
    "int main(void) {\n",
    "    printf(\"Hello, World.\\n\");\n",
    "    return 0;\n",
    "}"
   ]
  },
  {
   "cell_type": "markdown",
   "metadata": {
    "nbpresent": {
     "id": "67ed4b24-31f3-4115-b715-ab29af2e3ec4"
    },
    "slideshow": {
     "slide_type": "slide"
    }
   },
   "source": [
    "## Python\n",
    "\n",
    "* Python 커널 설치되어 있어야 함.\n",
    "* Python 커널로 변경할 것.\n",
    "\n",
    "```python\n",
    "print(\"Hello, World.\\n\")\n",
    "```"
   ]
  },
  {
   "cell_type": "code",
   "execution_count": 1,
   "metadata": {
    "collapsed": false,
    "nbpresent": {
     "id": "4e938122-59c9-4fde-9702-52ca50a4aa09"
    },
    "slideshow": {
     "slide_type": "slide"
    }
   },
   "outputs": [
    {
     "name": "stdout",
     "output_type": "stream",
     "text": [
      "Hello, World.\n",
      "\n"
     ]
    }
   ],
   "source": [
    "print(\"Hello, World.\\n\")"
   ]
  },
  {
   "cell_type": "markdown",
   "metadata": {
    "nbpresent": {
     "id": "2b2ef91d-f33c-4e24-b2b0-b03e2bad28e6"
    },
    "slideshow": {
     "slide_type": "slide"
    }
   },
   "source": [
    "## GNU Octave\n",
    "\n",
    "* Octave 커널 설치되어 있어야 함.\n",
    "* Octave 커널로 변경할 것.\n",
    "\n",
    "```octave\n",
    "printf(\"Hello, World.\\n\")\n",
    "```"
   ]
  },
  {
   "cell_type": "code",
   "execution_count": 4,
   "metadata": {
    "collapsed": false,
    "nbpresent": {
     "id": "3b7df456-4eb3-470d-ae71-d69b349a72ef"
    },
    "slideshow": {
     "slide_type": "slide"
    }
   },
   "outputs": [
    {
     "name": "stdout",
     "output_type": "stream",
     "text": [
      "Hello, World.\r\n"
     ]
    }
   ],
   "source": [
    "printf(\"Hello, World.\\n\")"
   ]
  },
  {
   "cell_type": "markdown",
   "metadata": {
    "nbpresent": {
     "id": "b45d3522-da12-4253-88b7-17fb617b259a"
    },
    "slideshow": {
     "slide_type": "slide"
    }
   },
   "source": [
    "## Julia\n",
    "\n",
    "* Julia 커널 설치되어 있어야 함.\n",
    "* Julia 커널로 변경할 것.\n",
    "\n",
    "```julia\n",
    "print(\"Hello, World.\\n\")\n",
    "```"
   ]
  },
  {
   "cell_type": "code",
   "execution_count": 1,
   "metadata": {
    "collapsed": false,
    "nbpresent": {
     "id": "c62a6714-d0f0-47b6-823a-0d27014f41d8"
    },
    "slideshow": {
     "slide_type": "slide"
    }
   },
   "outputs": [
    {
     "name": "stdout",
     "output_type": "stream",
     "text": [
      "Hello, World.\n"
     ]
    }
   ],
   "source": [
    "print(\"Hello, World.\\n\")"
   ]
  },
  {
   "cell_type": "markdown",
   "metadata": {
    "nbpresent": {
     "id": "0ac1668b-e34e-429f-b2ab-106a2c727350"
    },
    "slideshow": {
     "slide_type": "slide"
    }
   },
   "source": [
    "# 끝!"
   ]
  },
  {
   "cell_type": "code",
   "execution_count": null,
   "metadata": {
    "collapsed": true,
    "nbpresent": {
     "id": "c8cd0ce2-60c4-4057-a082-6eb02d627ac1"
    }
   },
   "outputs": [],
   "source": []
  },
  {
   "cell_type": "code",
   "execution_count": null,
   "metadata": {
    "collapsed": true,
    "nbpresent": {
     "id": "b3cae652-67c0-4aa5-8a0a-bb338227c006"
    }
   },
   "outputs": [],
   "source": []
  }
 ],
 "metadata": {
  "anaconda-cloud": {},
  "kernelspec": {
   "display_name": "C",
   "language": "c",
   "name": "c_spec"
  },
  "language_info": {
   "file_extension": "c",
   "mimetype": "text/plain",
   "name": "c"
  },
  "nbpresent": {
   "slides": {
    "05a83c54-f74a-47b0-ba9b-272e79728223": {
     "id": "05a83c54-f74a-47b0-ba9b-272e79728223",
     "prev": "4f82a7db-1171-49fe-89bf-ba7ab2ebe428",
     "regions": {
      "0037ff47-397e-496f-aaf7-19e54bac8931": {
       "attrs": {
        "height": 0.4,
        "width": 0.8,
        "x": 0.1,
        "y": 0.5
       },
       "content": {
        "cell": "b3cae652-67c0-4aa5-8a0a-bb338227c006",
        "part": "whole"
       },
       "id": "0037ff47-397e-496f-aaf7-19e54bac8931"
      },
      "29dccf30-9dee-4f84-a890-648101e2fcb1": {
       "attrs": {
        "height": 0.4,
        "width": 0.8,
        "x": 0.1,
        "y": 0.5
       },
       "content": {
        "cell": "c8cd0ce2-60c4-4057-a082-6eb02d627ac1",
        "part": "whole"
       },
       "id": "29dccf30-9dee-4f84-a890-648101e2fcb1"
      },
      "6565c65c-799b-47a3-bc53-39a026107b9f": {
       "attrs": {
        "height": 0.8,
        "width": 0.8,
        "x": 0.1,
        "y": 0.1
       },
       "content": {
        "cell": "0ac1668b-e34e-429f-b2ab-106a2c727350",
        "part": "whole"
       },
       "id": "6565c65c-799b-47a3-bc53-39a026107b9f"
      }
     }
    },
    "4547b7f3-3c70-4672-8527-bf06e5a7788f": {
     "id": "4547b7f3-3c70-4672-8527-bf06e5a7788f",
     "prev": "7050c585-d13d-4bf0-851e-4888daa6f073",
     "regions": {
      "79a783b2-bc32-4785-b539-fecb087d30e0": {
       "attrs": {
        "height": 0.8,
        "width": 0.8,
        "x": 0.1,
        "y": 0.1
       },
       "content": {
        "cell": "2b2ef91d-f33c-4e24-b2b0-b03e2bad28e6",
        "part": "whole"
       },
       "id": "79a783b2-bc32-4785-b539-fecb087d30e0"
      }
     }
    },
    "4f82a7db-1171-49fe-89bf-ba7ab2ebe428": {
     "id": "4f82a7db-1171-49fe-89bf-ba7ab2ebe428",
     "prev": "ac91e0df-16b8-4dcf-9e9d-74b807ad590c",
     "regions": {
      "a0a67d08-6bec-492a-9447-02b194df0887": {
       "attrs": {
        "height": 0.8,
        "width": 0.8,
        "x": 0.1,
        "y": 0.1
       },
       "content": {
        "cell": "c62a6714-d0f0-47b6-823a-0d27014f41d8",
        "part": "whole"
       },
       "id": "a0a67d08-6bec-492a-9447-02b194df0887"
      }
     }
    },
    "6f1d60c5-6df9-4f3f-ab2f-71f583c2e7b5": {
     "id": "6f1d60c5-6df9-4f3f-ab2f-71f583c2e7b5",
     "prev": "de959407-bdd5-472a-aa1d-a51c41de6cfc",
     "regions": {
      "30883d6a-33a8-469d-a3b3-e820115a6029": {
       "attrs": {
        "height": 0.8,
        "width": 0.8,
        "x": 0.1,
        "y": 0.1
       },
       "content": {
        "cell": "fb814f00-a185-4564-9ef9-c849c447e476",
        "part": "whole"
       },
       "id": "30883d6a-33a8-469d-a3b3-e820115a6029"
      }
     },
     "theme": "f62f811f-e85a-4012-8f33-b6e1f3398417"
    },
    "7050c585-d13d-4bf0-851e-4888daa6f073": {
     "id": "7050c585-d13d-4bf0-851e-4888daa6f073",
     "prev": "8b2300b2-9b56-4819-a1e3-d2829f2f2d32",
     "regions": {
      "e2041673-8cd9-41d0-b806-65af4363b213": {
       "attrs": {
        "height": 0.8,
        "width": 0.8,
        "x": 0.1,
        "y": 0.1
       },
       "content": {
        "cell": "67ed4b24-31f3-4115-b715-ab29af2e3ec4",
        "part": "whole"
       },
       "id": "e2041673-8cd9-41d0-b806-65af4363b213"
      }
     }
    },
    "8033f0d6-46c4-4e77-948d-9e7b3fda4464": {
     "id": "8033f0d6-46c4-4e77-948d-9e7b3fda4464",
     "prev": "4547b7f3-3c70-4672-8527-bf06e5a7788f",
     "regions": {
      "15fa4c26-7b41-4094-a4a1-b0dd36def025": {
       "attrs": {
        "height": 0.8,
        "width": 0.8,
        "x": 0.1,
        "y": 0.1
       },
       "content": {
        "cell": "3b7df456-4eb3-470d-ae71-d69b349a72ef",
        "part": "whole"
       },
       "id": "15fa4c26-7b41-4094-a4a1-b0dd36def025"
      }
     }
    },
    "8b2300b2-9b56-4819-a1e3-d2829f2f2d32": {
     "id": "8b2300b2-9b56-4819-a1e3-d2829f2f2d32",
     "layout": "manual",
     "prev": "6f1d60c5-6df9-4f3f-ab2f-71f583c2e7b5",
     "regions": {
      "83f65032-0b83-42fd-aefb-4103ccf2e2fc": {
       "attrs": {
        "height": 1,
        "pad": 0.01,
        "treemap:weight": 1,
        "width": 1,
        "x": 0,
        "y": 0
       },
       "content": {
        "cell": "54ab7aa3-dc4d-4479-b93b-742e2ef201c6",
        "part": "whole"
       },
       "id": "83f65032-0b83-42fd-aefb-4103ccf2e2fc"
      },
      "ec0938f7-12c3-4f4c-9452-cfa77e4c042b": {
       "attrs": {
        "height": 0.8,
        "width": 0.8,
        "x": 0.1,
        "y": 0.1
       },
       "id": "ec0938f7-12c3-4f4c-9452-cfa77e4c042b"
      }
     },
     "theme": "f62f811f-e85a-4012-8f33-b6e1f3398417"
    },
    "ac91e0df-16b8-4dcf-9e9d-74b807ad590c": {
     "id": "ac91e0df-16b8-4dcf-9e9d-74b807ad590c",
     "prev": "8033f0d6-46c4-4e77-948d-9e7b3fda4464",
     "regions": {
      "c79b39c6-1228-4bf4-b74a-ea7825034232": {
       "attrs": {
        "height": 0.8,
        "width": 0.8,
        "x": 0.1,
        "y": 0.1
       },
       "content": {
        "cell": "b45d3522-da12-4253-88b7-17fb617b259a",
        "part": "whole"
       },
       "id": "c79b39c6-1228-4bf4-b74a-ea7825034232"
      }
     }
    },
    "de959407-bdd5-472a-aa1d-a51c41de6cfc": {
     "id": "de959407-bdd5-472a-aa1d-a51c41de6cfc",
     "prev": null,
     "regions": {
      "80a32fc6-7033-487d-a54b-7e3f20a8abad": {
       "attrs": {
        "height": 0.8,
        "width": 0.8,
        "x": 0.1,
        "y": 0.1
       },
       "content": {
        "cell": "6451f6fe-8a05-4ab1-b1c7-e3c4318b771c",
        "part": "whole"
       },
       "id": "80a32fc6-7033-487d-a54b-7e3f20a8abad"
      }
     },
     "theme": "2d888d1c-d907-42f7-a586-0c525081883e"
    }
   },
   "themes": {
    "default": "d09eb7fe-4be3-499f-b8b1-87d7ee450582",
    "theme": {
     "d09eb7fe-4be3-499f-b8b1-87d7ee450582": {
      "id": "d09eb7fe-4be3-499f-b8b1-87d7ee450582",
      "palette": {
       "19cc588f-0593-49c9-9f4b-e4d7cc113b1c": {
        "id": "19cc588f-0593-49c9-9f4b-e4d7cc113b1c",
        "rgb": [
         252,
         252,
         252
        ]
       },
       "31af15d2-7e15-44c5-ab5e-e04b16a89eff": {
        "id": "31af15d2-7e15-44c5-ab5e-e04b16a89eff",
        "rgb": [
         68,
         68,
         68
        ]
       },
       "50f92c45-a630-455b-aec3-788680ec7410": {
        "id": "50f92c45-a630-455b-aec3-788680ec7410",
        "rgb": [
         155,
         177,
         192
        ]
       },
       "c5cc3653-2ee1-402a-aba2-7caae1da4f6c": {
        "id": "c5cc3653-2ee1-402a-aba2-7caae1da4f6c",
        "rgb": [
         43,
         126,
         184
        ]
       },
       "efa7f048-9acb-414c-8b04-a26811511a21": {
        "id": "efa7f048-9acb-414c-8b04-a26811511a21",
        "rgb": [
         25.118061674008803,
         73.60176211453744,
         107.4819383259912
        ]
       }
      },
      "rules": {
       "blockquote": {
        "color": "50f92c45-a630-455b-aec3-788680ec7410"
       },
       "code": {
        "font-family": "Anonymous Pro"
       },
       "h1": {
        "color": "c5cc3653-2ee1-402a-aba2-7caae1da4f6c",
        "font-family": "Lato",
        "font-size": 8
       },
       "h2": {
        "color": "c5cc3653-2ee1-402a-aba2-7caae1da4f6c",
        "font-family": "Lato",
        "font-size": 6
       },
       "h3": {
        "color": "50f92c45-a630-455b-aec3-788680ec7410",
        "font-family": "Lato",
        "font-size": 5.5
       },
       "h4": {
        "color": "c5cc3653-2ee1-402a-aba2-7caae1da4f6c",
        "font-family": "Lato",
        "font-size": 5
       },
       "h5": {
        "font-family": "Lato"
       },
       "h6": {
        "font-family": "Lato"
       },
       "h7": {
        "font-family": "Lato"
       },
       "pre": {
        "font-family": "Anonymous Pro",
        "font-size": 4
       }
      },
      "text-base": {
       "font-family": "Merriweather",
       "font-size": 4
      }
     }
    }
   }
  }
 },
 "nbformat": 4,
 "nbformat_minor": 1
}
