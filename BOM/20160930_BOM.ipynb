{
 "cells": [
  {
   "cell_type": "markdown",
   "metadata": {},
   "source": [
    "\n",
    "\n",
    "## 작업 흐름\n",
    "\n",
    "### 객체의 구조체\n",
    "* ASSEMBLY, PART 구분없이 공히 적용함.\n",
    "\n",
    "|No |WBS |LEVEL |TYPE |PART_NUMBER |DEFINITION |NOMENCLATURE |SOURCE |PRODUCT_DESCRIPTION |CONTRACTOR |QUANTITY |\n",
    "|-  |-   |-     |-    |-           |-          |-            |-      |-                   |-          |-        |\n",
    "|-  |-   |-     |-    |-           |-          |-            |-      |-                   |-          |-        |\n",
    "\n",
    "### 각각의 객체로 쪼개서 저장\n",
    "* ASSEMBLY와 PART를 구분해서 별도의 array를 만든다.\n",
    "\n",
    "|No |WBS |LEVEL |TYPE |PART_NUMBER |DEFINITION |NOMENCLATURE |SOURCE |PRODUCT_DESCRIPTION |CONTRACTOR |QUANTITY |\n",
    "|-  |-   |-     |---------|-       |-          |-            |-      |-                   |-          |-        |\n",
    "|-  |-   |-     |ASSEMBLY |AAAA1   |-          |-            |MADE   |-                   |-          |-        |\n",
    "|-  |-   |-     |ASSEMBLY |AAAA2   |-          |-            |MADE   |-                   |-          |-        |\n",
    "|-  |-   |-     |ASSEMBLY |AAAA3   |-          |-            |MADE   |-                   |-          |-        |\n",
    "|-  |-   |-     |ASSEMBLY |AAAA4   |-          |-            |MADE   |-                   |-          |-        |\n",
    "\n",
    "|No |WBS |LEVEL |TYPE |PART_NUMBER |DEFINITION |NOMENCLATURE |SOURCE |PRODUCT_DESCRIPTION |CONTRACTOR |QUANTITY |\n",
    "|-  |-   |-     |---------|-       |-          |-            |-      |-                   |-          |-        |\n",
    "|-  |-   |-     |PART |PPPPP1      |-          |-            |MADE   |-                   |-          |-        |\n",
    "|-  |-   |-     |PART |PPPPP2      |-          |-            |MADE   |-                   |-          |-        |\n",
    "|-  |-   |-     |PART |PPPPP3      |-          |-            |MADE   |-                   |-          |-        |\n",
    "|-  |-   |-     |PART |PPPPP4      |-          |-            |MADE   |-                   |-          |-        |\n",
    "|-  |-   |-     |PART |PPPPP5      |-          |-            |MADE   |-                   |-          |-        |\n",
    "|-  |-   |-     |PART |PPPPP6      |-          |-            |MADE   |-                   |-          |-        |\n",
    "\n",
    "### LEVEL0 구성\n",
    "* 먼저 TOP을 가져와서 구성한다.\n",
    "\n",
    "|No |WBS     |LEVEL |TYPE |PART_NUMBER |DEFINITION |NOMENCLATURE |SOURCE |PRODUCT_DESCRIPTION |CONTRACTOR |QUANTITY |\n",
    "|-  |-       |-     |---------|-       |-          |-            |-      |-                   |-          |-        |\n",
    "|-  |-       |0     |ASSEMBLY |AAAA1   |-          |-            |MADE   |-                   |-          |1        |\n",
    "|-  |-       |1     |ASSEMBLY |AAAA2   |-          |-            |MADE   |-                   |-          |2        |\n",
    "|-  |-       |1     |PART     |PPPPP4  |-          |-            |MADE   |-                   |-          |3        |\n",
    "|-  |-       |1     |PART     |PPPPP5  |-          |-            |MADE   |-                   |-          |4        |\n",
    "|-  |-       |1     |PART     |PPPPP6  |-          |-            |MADE   |-                   |-          |2        |\n",
    "\n",
    "### LEVEL1 구성\n",
    "* 이제 LEVEL1에 해당하는 서브어셈블리 array를 준비한다.\n",
    "* LEVEL1 서브어셈블리가 여러 개 있으면 반복적으로 별도로 구성해서 준비한다.\n",
    "\n",
    "|No |WBS     |LEVEL |TYPE |PART_NUMBER |DEFINITION |NOMENCLATURE |SOURCE |PRODUCT_DESCRIPTION |CONTRACTOR |QUANTITY |\n",
    "|-  |-       |-     |---------|-       |-          |-            |-      |-                   |-          |-        |\n",
    "|-  |-       |1     |ASSEMBLY |AAAA2   |-          |-            |MADE   |-                   |-          |1        |\n",
    "|-  |-       |2     |ASSEMBLY |AAAA4   |-          |-            |MADE   |-                   |-          |1        |\n",
    "|-  |-       |2     |PART     |PPPPP4  |-          |-            |MADE   |-                   |-          |2        |\n",
    "|-  |-       |2     |PART     |PPPPP5  |-          |-            |MADE   |-                   |-          |2        |\n",
    "|-  |-       |2     |PART     |PPPPP6  |-          |-            |MADE   |-                   |-          |3        |\n",
    "\n",
    "### LEVEL0에 LEVEL1 삽입\n",
    "* 이제 LEVEL1 서브어셈블리를 LEVEL0 안의 해당 위치를 찾아 삽입한다.\n",
    "* 삽입할 때, QUANTITY를 유의한다.\n",
    "\n",
    "|No |WBS     |LEVEL |TYPE |PART_NUMBER |DEFINITION |NOMENCLATURE |SOURCE |PRODUCT_DESCRIPTION |CONTRACTOR |QUANTITY |\n",
    "|-  |-       |-     |---------|-       |-          |-            |-      |-                   |-          |-        |\n",
    "|-  |-       |0     |ASSEMBLY |AAAA1   |-          |-            |MADE   |-                   |-          |1        |\n",
    "|-  |-       |1     |ASSEMBLY |AAAA2   |-          |-            |MADE   |-                   |-          |2        |\n",
    "|-  |-       |2     |ASSEMBLY |AAAA4   |-          |-            |MADE   |-                   |-          |1        |\n",
    "|-  |-       |2     |PART     |PPPPP4  |-          |-            |MADE   |-                   |-          |2        |\n",
    "|-  |-       |2     |PART     |PPPPP5  |-          |-            |MADE   |-                   |-          |2        |\n",
    "|-  |-       |2     |PART     |PPPPP6  |-          |-            |MADE   |-                   |-          |3        |\n",
    "|-  |-       |1     |PART     |PPPPP4  |-          |-            |MADE   |-                   |-          |3        |\n",
    "|-  |-       |1     |PART     |PPPPP5  |-          |-            |MADE   |-                   |-          |4        |\n",
    "|-  |-       |1     |PART     |PPPPP6  |-          |-            |MADE   |-                   |-          |2        |\n",
    "\n",
    "### 반복\n",
    "* 이것을 반복해서 최하위단까지 실시한다.\n",
    "\n",
    "### WBS 자동 표기\n",
    "* LEVEL을 보고 WBS를 자동 표기한다.\n",
    "\n",
    "|No |WBS     |LEVEL |TYPE |PART_NUMBER |DEFINITION |NOMENCLATURE |SOURCE |PRODUCT_DESCRIPTION |CONTRACTOR |QUANTITY |\n",
    "|-  |-       |-     |---------|-       |-          |-            |-      |-                   |-          |-        |\n",
    "|-  |WBS0000 |0     |ASSEMBLY |AAAA1   |-          |-            |MADE   |-                   |-          |1        |\n",
    "|-  |WBS1000 |1     |ASSEMBLY |AAAA2   |-          |-            |MADE   |-                   |-          |2        |\n",
    "|-  |WBS1100 |2     |ASSEMBLY |AAAA4   |-          |-            |MADE   |-                   |-          |1        |\n",
    "|-  |-       |2     |PART     |PPPPP4  |-          |-            |MADE   |-                   |-          |2        |\n",
    "|-  |-       |2     |PART     |PPPPP5  |-          |-            |MADE   |-                   |-          |2        |\n",
    "|-  |-       |2     |PART     |PPPPP6  |-          |-            |MADE   |-                   |-          |3        |\n",
    "|-  |-       |1     |PART     |PPPPP4  |-          |-            |MADE   |-                   |-          |3        |\n",
    "|-  |-       |1     |PART     |PPPPP5  |-          |-            |MADE   |-                   |-          |4        |\n",
    "|-  |-       |1     |PART     |PPPPP6  |-          |-            |MADE   |-                   |-          |2        |\n",
    "\n",
    "### 넘버링\n",
    "* 넘버링을 해 준다.\n",
    "\n",
    "|No |WBS     |LEVEL |TYPE |PART_NUMBER |DEFINITION |NOMENCLATURE |SOURCE |PRODUCT_DESCRIPTION |CONTRACTOR |QUANTITY |\n",
    "|-  |-       |-     |---------|-       |-          |-            |-      |-                   |-          |-        |\n",
    "|1  |WBS0000 |0     |ASSEMBLY |AAAA1   |-          |-            |MADE   |-                   |-          |1        |\n",
    "|2  |WBS1000 |1     |ASSEMBLY |AAAA2   |-          |-            |MADE   |-                   |-          |2        |\n",
    "|3  |WBS1100 |2     |ASSEMBLY |AAAA4   |-          |-            |MADE   |-                   |-          |1        |\n",
    "|4  |-       |2     |PART     |PPPPP4  |-          |-            |MADE   |-                   |-          |2        |\n",
    "|5  |-       |2     |PART     |PPPPP5  |-          |-            |MADE   |-                   |-          |2        |\n",
    "|6  |-       |2     |PART     |PPPPP6  |-          |-            |MADE   |-                   |-          |3        |\n",
    "|7  |-       |1     |PART     |PPPPP4  |-          |-            |MADE   |-                   |-          |3        |\n",
    "|8  |-       |1     |PART     |PPPPP5  |-          |-            |MADE   |-                   |-          |4        |\n",
    "|9  |-       |1     |PART     |PPPPP6  |-          |-            |MADE   |-                   |-          |2        |\n",
    "\n",
    "### LEVEL 열 쪼개기\n",
    "* LEVEL 깊이는 0~7단계까지 준비한다.  추후에 몇단계로 쪼갤지 수정할 수 있도록 염두에 둔다.\n",
    "* 각 행의 LEVEL 수치를 보고 알맞는 칸으로 위치를 옮긴다.\n",
    "* 검토해 보고, 필요하다면 열 쪼개기 과정을 생략하고 처음부터 열을 쪼개놓고 시작한다.\n",
    "\n",
    "|No |WBS     |0|1|2|3|4|5|6|7|TYPE |PART_NUMBER |DEFINITION |NOMENCLATURE |SOURCE |PRODUCT_DESCRIPTION |CONTRACTOR |QUANTITY |\n",
    "|-  |-       |-|-|-|-|-|-|-|-|---------|-       |-          |-            |-      |-                   |-          |-        |\n",
    "|1  |WBS0000 |0| | | | | | | |ASSEMBLY |AAAA1   |-          |-            |MADE   |-                   |-          |1        |\n",
    "|2  |WBS1000 | |1| | | | | | |ASSEMBLY |AAAA2   |-          |-            |MADE   |-                   |-          |2        |\n",
    "|3  |WBS1100 | | |2| | | | | |ASSEMBLY |AAAA4   |-          |-            |MADE   |-                   |-          |1        |\n",
    "|4  |-       | | |2| | | | | |PART     |PPPPP4  |-          |-            |MADE   |-                   |-          |2        |\n",
    "|5  |-       | | |2| | | | | |PART     |PPPPP5  |-          |-            |MADE   |-                   |-          |2        |\n",
    "|6  |-       | | |2| | | | | |PART     |PPPPP6  |-          |-            |MADE   |-                   |-          |3        |\n",
    "|7  |-       | |1| | | | | | |PART     |PPPPP4  |-          |-            |MADE   |-                   |-          |3        |\n",
    "|8  |-       | |1| | | | | | |PART     |PPPPP5  |-          |-            |MADE   |-                   |-          |4        |\n",
    "|9  |-       | |1| | | | | | |PART     |PPPPP6  |-          |-            |MADE   |-                   |-          |2        |\n",
    "\n",
    "### AssemblyList, PartList 내용 보충\n",
    "* 한편, 앞서 작성된 AssemblyList, PartList Array는 별도 파일로 저장한다.\n",
    "* 사용자가 저장된 파일에 항목들을 채워넣고 저장한다.\n",
    "\n",
    "|No |WBS |LEVEL |TYPE |PART_NUMBER |DEFINITION |NOMENCLATURE |SOURCE |PRODUCT_DESCRIPTION |CONTRACTOR |QUANTITY |\n",
    "|-  |-   |-     |---------|-       |-          |-            |-      |-                   |-          |-        |\n",
    "|-  |-   |-     |PART |PPPPP1      |-          |-            |MADE   |-                   |삼한       |-        |\n",
    "|-  |-   |-     |PART |PPPPP2      |-          |-            |MADE   |-                   |삼한       |-        |\n",
    "|-  |-   |-     |PART |PPPPP3      |-          |-            |MADE   |-                   |삼한       |-        |\n",
    "|-  |-   |-     |PART |PPPPP4      |-          |-            |MADE   |-                   |삼한       |-        |\n",
    "|-  |-   |-     |PART |PPPPP5      |-          |-            |MADE   |-                   |삼한       |-        |\n",
    "|-  |-   |-     |PART |PPPPP6      |-          |-            |MADE   |-                   |삼한       |-        |\n",
    "\n",
    "* 저장된 파일을 다시 읽어 AssemblyList, PartList Array의 내용을 업데이트한다.\n",
    "\n",
    "### BOM에 업데이트 내용 반영\n",
    "* 업데이트된 AssemblyList, PartList Array의 내용을 BOM에 반영해 준다.\n",
    "\n",
    "|No |WBS     |0|1|2|3|4|5|6|7|TYPE |PART_NUMBER |DEFINITION |NOMENCLATURE |SOURCE |PRODUCT_DESCRIPTION |CONTRACTOR |QUANTITY |\n",
    "|-  |-       |-|-|-|-|-|-|-|-|---------|-       |-          |-            |-      |-                   |-          |-        |\n",
    "|1  |WBS0000 |0| | | | | | | |ASSEMBLY |AAAA1   |-          |-            |MADE   |-                   |-          |1        |\n",
    "|2  |WBS1000 | |1| | | | | | |ASSEMBLY |AAAA2   |-          |-            |MADE   |-                   |-          |2        |\n",
    "|3  |WBS1100 | | |2| | | | | |ASSEMBLY |AAAA4   |-          |-            |MADE   |-                   |-          |1        |\n",
    "|4  |-       | | |2| | | | | |PART     |PPPPP4  |-          |-            |MADE   |-                   |삼한       |2        |\n",
    "|5  |-       | | |2| | | | | |PART     |PPPPP5  |-          |-            |MADE   |-                   |삼한       |2        |\n",
    "|6  |-       | | |2| | | | | |PART     |PPPPP6  |-          |-            |MADE   |-                   |삼한       |3        |\n",
    "|7  |-       | |1| | | | | | |PART     |PPPPP4  |-          |-            |MADE   |-                   |삼한       |3        |\n",
    "|8  |-       | |1| | | | | | |PART     |PPPPP5  |-          |-            |MADE   |-                   |삼한       |4        |\n",
    "|9  |-       | |1| | | | | | |PART     |PPPPP6  |-          |-            |MADE   |-                   |삼한       |2        |\n",
    "\n",
    "\n"
   ]
  },
  {
   "cell_type": "code",
   "execution_count": 1,
   "metadata": {
    "collapsed": true,
    "nbpresent": {
     "id": "58ea0c82-6859-4da8-9c47-46d418431e2f"
    }
   },
   "outputs": [],
   "source": [
    "using DataFrames"
   ]
  },
  {
   "cell_type": "code",
   "execution_count": 140,
   "metadata": {
    "collapsed": false,
    "nbpresent": {
     "id": "5ea71dea-023e-4208-8dab-90540b80823f"
    }
   },
   "outputs": [
    {
     "data": {
      "text/html": [
       "<table class=\"data-frame\"><tr><th></th><th>x2015년_12월_25일_금요일_오전_12_27_43</th><th>x</th><th>x_1</th><th>x_2</th><th>x_3</th></tr><tr><th>1</th><td>NA</td><td>NA</td><td>NA</td><td>NA</td><td>NA</td></tr><tr><th>2</th><td>Bill of Material: _TRCWS_PC_TOTAL_ASM</td><td>NA</td><td>NA</td><td>NA</td><td>NA</td></tr><tr><th>3</th><td>Quantity</td><td>Part Number</td><td>Type</td><td>Nomenclature</td><td>Revision</td></tr><tr><th>4</th><td>1</td><td>_TRCWS_PC_TOTAL_SKEL</td><td>Part</td><td>_TRCWS_PC_TOTAL_SKEL</td><td>33</td></tr><tr><th>5</th><td>1</td><td>TRCWS_PC_ITX_ASM</td><td>Assembly</td><td>TRCWS_PC_ITX_ASM</td><td>9</td></tr><tr><th>6</th><td>1</td><td>TRCWS_PC_CASE_LEFT_ASM</td><td>Assembly</td><td>TRCWS_PC_CASE_LEFT_ASM</td><td>7</td></tr></table>"
      ],
      "text/plain": [
       "6×5 DataFrames.DataFrame\n",
       "│ Row │ x2015년_12월_25일_금요일_오전_12_27_43  │ x                        │\n",
       "├─────┼─────────────────────────────────────────┼──────────────────────────┤\n",
       "│ 1   │ NA                                      │ NA                       │\n",
       "│ 2   │ \"Bill of Material: _TRCWS_PC_TOTAL_ASM\" │ NA                       │\n",
       "│ 3   │ \"Quantity\"                              │ \"Part Number\"            │\n",
       "│ 4   │ \"1\"                                     │ \"_TRCWS_PC_TOTAL_SKEL\"   │\n",
       "│ 5   │ \"1\"                                     │ \"TRCWS_PC_ITX_ASM\"       │\n",
       "│ 6   │ \"1\"                                     │ \"TRCWS_PC_CASE_LEFT_ASM\" │\n",
       "\n",
       "│ Row │ x_1        │ x_2                      │ x_3        │\n",
       "├─────┼────────────┼──────────────────────────┼────────────┤\n",
       "│ 1   │ NA         │ NA                       │ NA         │\n",
       "│ 2   │ NA         │ NA                       │ NA         │\n",
       "│ 3   │ \"Type\"     │ \"Nomenclature\"           │ \"Revision\" │\n",
       "│ 4   │ \"Part\"     │ \"_TRCWS_PC_TOTAL_SKEL\"   │ \"33\"       │\n",
       "│ 5   │ \"Assembly\" │ \"TRCWS_PC_ITX_ASM\"       │ \"9\"        │\n",
       "│ 6   │ \"Assembly\" │ \"TRCWS_PC_CASE_LEFT_ASM\" │ \"7\"        │"
      ]
     },
     "execution_count": 140,
     "metadata": {},
     "output_type": "execute_result"
    }
   ],
   "source": [
    "# CSV 파일 읽어들이기\n",
    "# Ref : https://cbrownley.wordpress.com/2015/05/29/reading_writing_csv_with_r_python_julia/\n",
    "df = readtable(\"_trcws_pc_total_asm.csv\", separator = ',')\n",
    "head(df)"
   ]
  },
  {
   "cell_type": "code",
   "execution_count": 141,
   "metadata": {
    "collapsed": false,
    "nbpresent": {
     "id": "2a21c142-816e-4db3-8d2e-af5af2ea7025"
    }
   },
   "outputs": [
    {
     "data": {
      "text/html": [
       "<table class=\"data-frame\"><tr><th></th><th>Quantity</th><th>PartNumber</th><th>Type</th><th>Nomenclature</th><th>Revision</th></tr><tr><th>1</th><td>NA</td><td>NA</td><td>NA</td><td>NA</td><td>NA</td></tr><tr><th>2</th><td>Bill of Material: _TRCWS_PC_TOTAL_ASM</td><td>NA</td><td>NA</td><td>NA</td><td>NA</td></tr><tr><th>3</th><td>Quantity</td><td>Part Number</td><td>Type</td><td>Nomenclature</td><td>Revision</td></tr><tr><th>4</th><td>1</td><td>_TRCWS_PC_TOTAL_SKEL</td><td>Part</td><td>_TRCWS_PC_TOTAL_SKEL</td><td>33</td></tr><tr><th>5</th><td>1</td><td>TRCWS_PC_ITX_ASM</td><td>Assembly</td><td>TRCWS_PC_ITX_ASM</td><td>9</td></tr><tr><th>6</th><td>1</td><td>TRCWS_PC_CASE_LEFT_ASM</td><td>Assembly</td><td>TRCWS_PC_CASE_LEFT_ASM</td><td>7</td></tr></table>"
      ],
      "text/plain": [
       "6×5 DataFrames.DataFrame\n",
       "│ Row │ Quantity                                │ PartNumber               │\n",
       "├─────┼─────────────────────────────────────────┼──────────────────────────┤\n",
       "│ 1   │ NA                                      │ NA                       │\n",
       "│ 2   │ \"Bill of Material: _TRCWS_PC_TOTAL_ASM\" │ NA                       │\n",
       "│ 3   │ \"Quantity\"                              │ \"Part Number\"            │\n",
       "│ 4   │ \"1\"                                     │ \"_TRCWS_PC_TOTAL_SKEL\"   │\n",
       "│ 5   │ \"1\"                                     │ \"TRCWS_PC_ITX_ASM\"       │\n",
       "│ 6   │ \"1\"                                     │ \"TRCWS_PC_CASE_LEFT_ASM\" │\n",
       "\n",
       "│ Row │ Type       │ Nomenclature             │ Revision   │\n",
       "├─────┼────────────┼──────────────────────────┼────────────┤\n",
       "│ 1   │ NA         │ NA                       │ NA         │\n",
       "│ 2   │ NA         │ NA                       │ NA         │\n",
       "│ 3   │ \"Type\"     │ \"Nomenclature\"           │ \"Revision\" │\n",
       "│ 4   │ \"Part\"     │ \"_TRCWS_PC_TOTAL_SKEL\"   │ \"33\"       │\n",
       "│ 5   │ \"Assembly\" │ \"TRCWS_PC_ITX_ASM\"       │ \"9\"        │\n",
       "│ 6   │ \"Assembly\" │ \"TRCWS_PC_CASE_LEFT_ASM\" │ \"7\"        │"
      ]
     },
     "execution_count": 141,
     "metadata": {},
     "output_type": "execute_result"
    }
   ],
   "source": [
    "rename!(df, [:x2015년_12월_25일_금요일_오전_12_27_43, :x, :x_1, :x_2, :x_3], [:Quantity, :PartNumber, :Type, :Nomenclature, :Revision])\n",
    "head(df)"
   ]
  },
  {
   "cell_type": "code",
   "execution_count": 142,
   "metadata": {
    "collapsed": false,
    "nbpresent": {
     "id": "b7653844-78db-401c-8228-d0d96ce0e84a"
    }
   },
   "outputs": [
    {
     "data": {
      "text/html": [
       "<table class=\"data-frame\"><tr><th></th><th>Quantity</th><th>PartNumber</th><th>Type</th><th>Nomenclature</th><th>Revision</th></tr><tr><th>1</th><td>4</td><td>WRENCH_BOLT_M4X10L</td><td>Part</td><td>WRENCH_BOLT_M4X10L</td><td>1</td></tr><tr><th>2</th><td>NA</td><td>NA</td><td>NA</td><td>NA</td><td>NA</td></tr><tr><th>3</th><td>Bill of Material: TRCWS_PC_PANEL_ASM</td><td>NA</td><td>NA</td><td>NA</td><td>NA</td></tr><tr><th>4</th><td>Quantity</td><td>Part Number</td><td>Type</td><td>Nomenclature</td><td>Revision</td></tr><tr><th>5</th><td>1</td><td>TRCWS_PC_PANEL</td><td>Part</td><td>TRCWS_PC_PANEL</td><td>5</td></tr><tr><th>6</th><td>4</td><td>WRENCH_BOLT_M4X10L</td><td>Part</td><td>WRENCH_BOLT_M4X10L</td><td>1</td></tr></table>"
      ],
      "text/plain": [
       "6×5 DataFrames.DataFrame\n",
       "│ Row │ Quantity                               │ PartNumber           │ Type   │\n",
       "├─────┼────────────────────────────────────────┼──────────────────────┼────────┤\n",
       "│ 1   │ \"4\"                                    │ \"WRENCH_BOLT_M4X10L\" │ \"Part\" │\n",
       "│ 2   │ NA                                     │ NA                   │ NA     │\n",
       "│ 3   │ \"Bill of Material: TRCWS_PC_PANEL_ASM\" │ NA                   │ NA     │\n",
       "│ 4   │ \"Quantity\"                             │ \"Part Number\"        │ \"Type\" │\n",
       "│ 5   │ \"1\"                                    │ \"TRCWS_PC_PANEL\"     │ \"Part\" │\n",
       "│ 6   │ \"4\"                                    │ \"WRENCH_BOLT_M4X10L\" │ \"Part\" │\n",
       "\n",
       "│ Row │ Nomenclature         │ Revision   │\n",
       "├─────┼──────────────────────┼────────────┤\n",
       "│ 1   │ \"WRENCH_BOLT_M4X10L\" │ \"1\"        │\n",
       "│ 2   │ NA                   │ NA         │\n",
       "│ 3   │ NA                   │ NA         │\n",
       "│ 4   │ \"Nomenclature\"       │ \"Revision\" │\n",
       "│ 5   │ \"TRCWS_PC_PANEL\"     │ \"5\"        │\n",
       "│ 6   │ \"WRENCH_BOLT_M4X10L\" │ \"1\"        │"
      ]
     },
     "execution_count": 142,
     "metadata": {},
     "output_type": "execute_result"
    }
   ],
   "source": [
    "# 뒤에 붙어있는 PartList 부분을 잘라내기\n",
    "# 특정 값의 행을 찾는 방법\n",
    "# Ref : https://www.reddit.com/r/Julia/comments/30f7hd/a_very_simple_question_find_elements_in_an_array/\n",
    "temp1 = df[2,1]\n",
    "temp1 = temp1[19:end]\n",
    "temp1 = \"Recapitulation of: \" * temp1\n",
    "temp2 = find(df[:,1] .== temp1)\n",
    "temp2 = temp2[1,1]\n",
    "# 찾아낸 행 뒷 부분 모두 잘라내기\n",
    "df2 = df[1:temp2-2,:]\n",
    "tail(df2)"
   ]
  },
  {
   "cell_type": "code",
   "execution_count": 119,
   "metadata": {
    "collapsed": false,
    "nbpresent": {
     "id": "fa4748bf-5cc6-4198-93e0-f7d1a73cb700"
    }
   },
   "outputs": [
    {
     "data": {
      "text/html": [
       "<table class=\"data-frame\"><tr><th></th><th>Quantity</th><th>PartNumber</th><th>Type</th></tr><tr><th>1</th><td>NA</td><td>NA</td><td>NA</td></tr><tr><th>2</th><td>Bill of Material: _TRCWS_PC_TOTAL_ASM</td><td>NA</td><td>NA</td></tr><tr><th>3</th><td>Quantity</td><td>Part Number</td><td>Type</td></tr><tr><th>4</th><td>1</td><td>_TRCWS_PC_TOTAL_SKEL</td><td>Part</td></tr><tr><th>5</th><td>1</td><td>TRCWS_PC_ITX_ASM</td><td>Assembly</td></tr><tr><th>6</th><td>1</td><td>TRCWS_PC_CASE_LEFT_ASM</td><td>Assembly</td></tr></table>"
      ],
      "text/plain": [
       "6×3 DataFrames.DataFrame\n",
       "│ Row │ Quantity                                │ PartNumber               │\n",
       "├─────┼─────────────────────────────────────────┼──────────────────────────┤\n",
       "│ 1   │ NA                                      │ NA                       │\n",
       "│ 2   │ \"Bill of Material: _TRCWS_PC_TOTAL_ASM\" │ NA                       │\n",
       "│ 3   │ \"Quantity\"                              │ \"Part Number\"            │\n",
       "│ 4   │ \"1\"                                     │ \"_TRCWS_PC_TOTAL_SKEL\"   │\n",
       "│ 5   │ \"1\"                                     │ \"TRCWS_PC_ITX_ASM\"       │\n",
       "│ 6   │ \"1\"                                     │ \"TRCWS_PC_CASE_LEFT_ASM\" │\n",
       "\n",
       "│ Row │ Type       │\n",
       "├─────┼────────────┤\n",
       "│ 1   │ NA         │\n",
       "│ 2   │ NA         │\n",
       "│ 3   │ \"Type\"     │\n",
       "│ 4   │ \"Part\"     │\n",
       "│ 5   │ \"Assembly\" │\n",
       "│ 6   │ \"Assembly\" │"
      ]
     },
     "execution_count": 119,
     "metadata": {},
     "output_type": "execute_result"
    }
   ],
   "source": [
    "# 쓸데없는 열 잘라내기\n",
    "df3 = df2[:,1:3]\n",
    "head(df3)"
   ]
  },
  {
   "cell_type": "code",
   "execution_count": 120,
   "metadata": {
    "collapsed": false,
    "nbpresent": {
     "id": "a2c0e1c2-2a94-4ff7-b6fd-e40322622759"
    }
   },
   "outputs": [
    {
     "data": {
      "text/html": [
       "<table class=\"data-frame\"><tr><th></th><th>Quantity</th><th>PartNumber</th><th>Type</th></tr><tr><th>1</th><td>Bill of Material: _TRCWS_PC_TOTAL_ASM</td><td>NA</td><td>NA</td></tr><tr><th>2</th><td>Quantity</td><td>Part Number</td><td>Type</td></tr><tr><th>3</th><td>1</td><td>_TRCWS_PC_TOTAL_SKEL</td><td>Part</td></tr><tr><th>4</th><td>1</td><td>TRCWS_PC_ITX_ASM</td><td>Assembly</td></tr><tr><th>5</th><td>1</td><td>TRCWS_PC_CASE_LEFT_ASM</td><td>Assembly</td></tr><tr><th>6</th><td>1</td><td>TRCWS_PC_CASE_RIGHT_ASM</td><td>Assembly</td></tr></table>"
      ],
      "text/plain": [
       "6×3 DataFrames.DataFrame\n",
       "│ Row │ Quantity                                │ PartNumber                │\n",
       "├─────┼─────────────────────────────────────────┼───────────────────────────┤\n",
       "│ 1   │ \"Bill of Material: _TRCWS_PC_TOTAL_ASM\" │ NA                        │\n",
       "│ 2   │ \"Quantity\"                              │ \"Part Number\"             │\n",
       "│ 3   │ \"1\"                                     │ \"_TRCWS_PC_TOTAL_SKEL\"    │\n",
       "│ 4   │ \"1\"                                     │ \"TRCWS_PC_ITX_ASM\"        │\n",
       "│ 5   │ \"1\"                                     │ \"TRCWS_PC_CASE_LEFT_ASM\"  │\n",
       "│ 6   │ \"1\"                                     │ \"TRCWS_PC_CASE_RIGHT_ASM\" │\n",
       "\n",
       "│ Row │ Type       │\n",
       "├─────┼────────────┤\n",
       "│ 1   │ NA         │\n",
       "│ 2   │ \"Type\"     │\n",
       "│ 3   │ \"Part\"     │\n",
       "│ 4   │ \"Assembly\" │\n",
       "│ 5   │ \"Assembly\" │\n",
       "│ 6   │ \"Assembly\" │"
      ]
     },
     "execution_count": 120,
     "metadata": {},
     "output_type": "execute_result"
    }
   ],
   "source": [
    "# 헤드 부분의 불필요한 행 잘라내기\n",
    "df4 = df3[2:end,:]\n",
    "head(df4)"
   ]
  },
  {
   "cell_type": "code",
   "execution_count": 123,
   "metadata": {
    "collapsed": false,
    "nbpresent": {
     "id": "9fab9d6a-f4af-476d-93d3-85c594b1a328"
    }
   },
   "outputs": [
    {
     "data": {
      "text/plain": [
       "(101,3)"
      ]
     },
     "execution_count": 123,
     "metadata": {},
     "output_type": "execute_result"
    }
   ],
   "source": [
    "# 사이즈 확인\n",
    "size(df4)"
   ]
  },
  {
   "cell_type": "code",
   "execution_count": 197,
   "metadata": {
    "collapsed": false,
    "nbpresent": {
     "id": "35ab2f8d-1d3d-4c3b-a8b0-72b0fb4da621"
    }
   },
   "outputs": [
    {
     "data": {
      "text/plain": [
       "13-element Array{Int32,1}:\n",
       "  2\n",
       " 13\n",
       " 18\n",
       " 31\n",
       " 41\n",
       " 47\n",
       " 59\n",
       " 65\n",
       " 75\n",
       " 81\n",
       " 87\n",
       " 94\n",
       " 99"
      ]
     },
     "execution_count": 197,
     "metadata": {},
     "output_type": "execute_result"
    }
   ],
   "source": [
    "# \"Quantity\" 문구가 있는 행 찾아내기\n",
    "temp3 = find(df4[:,1] .== \"Quantity\")"
   ]
  },
  {
   "cell_type": "code",
   "execution_count": 198,
   "metadata": {
    "collapsed": false,
    "nbpresent": {
     "id": "67a7847c-ad20-489a-b664-719833f74e72"
    }
   },
   "outputs": [
    {
     "data": {
      "text/plain": [
       "13"
      ]
     },
     "execution_count": 198,
     "metadata": {},
     "output_type": "execute_result"
    }
   ],
   "source": [
    "# \"Quantity\" 문구의 개수 알아내기\n",
    "temp4 = size(temp3)[1]"
   ]
  },
  {
   "cell_type": "code",
   "execution_count": 266,
   "metadata": {
    "collapsed": false,
    "nbpresent": {
     "id": "ea55b0ee-9853-44ec-a650-a365c76edb9e"
    }
   },
   "outputs": [
    {
     "name": "stdout",
     "output_type": "stream",
     "text": [
      "_TRCWS_PC_TOTAL_ASM\n",
      "TRCWS_PC_ITX_ASM\n",
      "TRCWS_PC_ITX_BRKT_MAIN_ASM\n",
      "TRCWS_PCB_ITX_ASM\n",
      "TRCWS_PCB_VGA_ASM\n",
      "TRCWS_PC_ITX_BRKT_SUB_ASM\n",
      "TRCWS_PC_CASE_LEFT_ASM\n",
      "TRCWS_PC_CASE_RIGHT_ASM\n",
      "TRCWS_PC_CASE_TOP_ASM\n",
      "TRCWS_PC_CASE_BOT_ASM\n",
      "TRCWS_PC_CASE_FRONT_ASM\n",
      "TRCWS_PC_HOOD_ASM\n",
      "TRCWS_PC_PANEL_ASM\n"
     ]
    }
   ],
   "source": [
    "# 각각의 어셈블리 이름 구성\n",
    "# String 행렬 만들기\n",
    "ASSEMBLY_PartNumber = fill!(Array{String}(temp4), \"Julia\")\n",
    "# 값 집어넣기\n",
    "for i in 1:temp4\n",
    "    ASSEMBLY_PartNumber[i] = df4[(temp3[i]-1),1]\n",
    "    # 불필요한 문구 잘라내기\n",
    "    ASSEMBLY_PartNumber[i] = ASSEMBLY_PartNumber[i][19:end]\n",
    "    println(ASSEMBLY_PartNumber[i])\n",
    "end"
   ]
  },
  {
   "cell_type": "code",
   "execution_count": 265,
   "metadata": {
    "collapsed": false
   },
   "outputs": [
    {
     "data": {
      "text/plain": [
       "13"
      ]
     },
     "execution_count": 265,
     "metadata": {},
     "output_type": "execute_result"
    }
   ],
   "source": [
    "size(ASSEMBLY_PartNumber)[1]"
   ]
  },
  {
   "cell_type": "code",
   "execution_count": 267,
   "metadata": {
    "collapsed": false
   },
   "outputs": [
    {
     "data": {
      "text/plain": [
       "13-element Array{String,1}:\n",
       " \"_TRCWS_PC_TOTAL_ASM\"       \n",
       " \"TRCWS_PC_ITX_ASM\"          \n",
       " \"TRCWS_PC_ITX_BRKT_MAIN_ASM\"\n",
       " \"TRCWS_PCB_ITX_ASM\"         \n",
       " \"TRCWS_PCB_VGA_ASM\"         \n",
       " \"TRCWS_PC_ITX_BRKT_SUB_ASM\" \n",
       " \"TRCWS_PC_CASE_LEFT_ASM\"    \n",
       " \"TRCWS_PC_CASE_RIGHT_ASM\"   \n",
       " \"TRCWS_PC_CASE_TOP_ASM\"     \n",
       " \"TRCWS_PC_CASE_BOT_ASM\"     \n",
       " \"TRCWS_PC_CASE_FRONT_ASM\"   \n",
       " \"TRCWS_PC_HOOD_ASM\"         \n",
       " \"TRCWS_PC_PANEL_ASM\"        "
      ]
     },
     "execution_count": 267,
     "metadata": {},
     "output_type": "execute_result"
    }
   ],
   "source": [
    "# ASSEMBLY_PartList 만들기\n",
    "ASSEMBLY_PartList = fill!(Array{String}(size(ASSEMBLY_PartNumber)[1],18), \"-\")\n",
    "ASSEMBLY_PartList[:,12] = ASSEMBLY_PartNumber"
   ]
  },
  {
   "cell_type": "code",
   "execution_count": 279,
   "metadata": {
    "collapsed": false
   },
   "outputs": [
    {
     "data": {
      "text/html": [
       "<table class=\"data-frame\"><tr><th></th><th>x1</th><th>x2</th><th>x3</th><th>x4</th><th>x5</th><th>x6</th><th>x7</th><th>x8</th><th>x9</th><th>x10</th><th>x11</th><th>x12</th><th>x13</th><th>x14</th><th>x15</th><th>x16</th><th>x17</th><th>x18</th></tr><tr><th>1</th><td>-</td><td>-</td><td>-</td><td>-</td><td>-</td><td>-</td><td>-</td><td>-</td><td>-</td><td>-</td><td>-</td><td>_TRCWS_PC_TOTAL_ASM</td><td>-</td><td>-</td><td>-</td><td>-</td><td>-</td><td>-</td></tr><tr><th>2</th><td>-</td><td>-</td><td>-</td><td>-</td><td>-</td><td>-</td><td>-</td><td>-</td><td>-</td><td>-</td><td>-</td><td>TRCWS_PC_ITX_ASM</td><td>-</td><td>-</td><td>-</td><td>-</td><td>-</td><td>-</td></tr><tr><th>3</th><td>-</td><td>-</td><td>-</td><td>-</td><td>-</td><td>-</td><td>-</td><td>-</td><td>-</td><td>-</td><td>-</td><td>TRCWS_PC_ITX_BRKT_MAIN_ASM</td><td>-</td><td>-</td><td>-</td><td>-</td><td>-</td><td>-</td></tr><tr><th>4</th><td>-</td><td>-</td><td>-</td><td>-</td><td>-</td><td>-</td><td>-</td><td>-</td><td>-</td><td>-</td><td>-</td><td>TRCWS_PCB_ITX_ASM</td><td>-</td><td>-</td><td>-</td><td>-</td><td>-</td><td>-</td></tr><tr><th>5</th><td>-</td><td>-</td><td>-</td><td>-</td><td>-</td><td>-</td><td>-</td><td>-</td><td>-</td><td>-</td><td>-</td><td>TRCWS_PCB_VGA_ASM</td><td>-</td><td>-</td><td>-</td><td>-</td><td>-</td><td>-</td></tr><tr><th>6</th><td>-</td><td>-</td><td>-</td><td>-</td><td>-</td><td>-</td><td>-</td><td>-</td><td>-</td><td>-</td><td>-</td><td>TRCWS_PC_ITX_BRKT_SUB_ASM</td><td>-</td><td>-</td><td>-</td><td>-</td><td>-</td><td>-</td></tr><tr><th>7</th><td>-</td><td>-</td><td>-</td><td>-</td><td>-</td><td>-</td><td>-</td><td>-</td><td>-</td><td>-</td><td>-</td><td>TRCWS_PC_CASE_LEFT_ASM</td><td>-</td><td>-</td><td>-</td><td>-</td><td>-</td><td>-</td></tr><tr><th>8</th><td>-</td><td>-</td><td>-</td><td>-</td><td>-</td><td>-</td><td>-</td><td>-</td><td>-</td><td>-</td><td>-</td><td>TRCWS_PC_CASE_RIGHT_ASM</td><td>-</td><td>-</td><td>-</td><td>-</td><td>-</td><td>-</td></tr><tr><th>9</th><td>-</td><td>-</td><td>-</td><td>-</td><td>-</td><td>-</td><td>-</td><td>-</td><td>-</td><td>-</td><td>-</td><td>TRCWS_PC_CASE_TOP_ASM</td><td>-</td><td>-</td><td>-</td><td>-</td><td>-</td><td>-</td></tr><tr><th>10</th><td>-</td><td>-</td><td>-</td><td>-</td><td>-</td><td>-</td><td>-</td><td>-</td><td>-</td><td>-</td><td>-</td><td>TRCWS_PC_CASE_BOT_ASM</td><td>-</td><td>-</td><td>-</td><td>-</td><td>-</td><td>-</td></tr><tr><th>11</th><td>-</td><td>-</td><td>-</td><td>-</td><td>-</td><td>-</td><td>-</td><td>-</td><td>-</td><td>-</td><td>-</td><td>TRCWS_PC_CASE_FRONT_ASM</td><td>-</td><td>-</td><td>-</td><td>-</td><td>-</td><td>-</td></tr><tr><th>12</th><td>-</td><td>-</td><td>-</td><td>-</td><td>-</td><td>-</td><td>-</td><td>-</td><td>-</td><td>-</td><td>-</td><td>TRCWS_PC_HOOD_ASM</td><td>-</td><td>-</td><td>-</td><td>-</td><td>-</td><td>-</td></tr><tr><th>13</th><td>-</td><td>-</td><td>-</td><td>-</td><td>-</td><td>-</td><td>-</td><td>-</td><td>-</td><td>-</td><td>-</td><td>TRCWS_PC_PANEL_ASM</td><td>-</td><td>-</td><td>-</td><td>-</td><td>-</td><td>-</td></tr></table>"
      ],
      "text/plain": [
       "13×18 DataFrames.DataFrame\n",
       "│ Row │ x1  │ x2  │ x3  │ x4  │ x5  │ x6  │ x7  │ x8  │ x9  │ x10 │ x11 │\n",
       "├─────┼─────┼─────┼─────┼─────┼─────┼─────┼─────┼─────┼─────┼─────┼─────┤\n",
       "│ 1   │ \"-\" │ \"-\" │ \"-\" │ \"-\" │ \"-\" │ \"-\" │ \"-\" │ \"-\" │ \"-\" │ \"-\" │ \"-\" │\n",
       "│ 2   │ \"-\" │ \"-\" │ \"-\" │ \"-\" │ \"-\" │ \"-\" │ \"-\" │ \"-\" │ \"-\" │ \"-\" │ \"-\" │\n",
       "│ 3   │ \"-\" │ \"-\" │ \"-\" │ \"-\" │ \"-\" │ \"-\" │ \"-\" │ \"-\" │ \"-\" │ \"-\" │ \"-\" │\n",
       "│ 4   │ \"-\" │ \"-\" │ \"-\" │ \"-\" │ \"-\" │ \"-\" │ \"-\" │ \"-\" │ \"-\" │ \"-\" │ \"-\" │\n",
       "│ 5   │ \"-\" │ \"-\" │ \"-\" │ \"-\" │ \"-\" │ \"-\" │ \"-\" │ \"-\" │ \"-\" │ \"-\" │ \"-\" │\n",
       "│ 6   │ \"-\" │ \"-\" │ \"-\" │ \"-\" │ \"-\" │ \"-\" │ \"-\" │ \"-\" │ \"-\" │ \"-\" │ \"-\" │\n",
       "│ 7   │ \"-\" │ \"-\" │ \"-\" │ \"-\" │ \"-\" │ \"-\" │ \"-\" │ \"-\" │ \"-\" │ \"-\" │ \"-\" │\n",
       "│ 8   │ \"-\" │ \"-\" │ \"-\" │ \"-\" │ \"-\" │ \"-\" │ \"-\" │ \"-\" │ \"-\" │ \"-\" │ \"-\" │\n",
       "│ 9   │ \"-\" │ \"-\" │ \"-\" │ \"-\" │ \"-\" │ \"-\" │ \"-\" │ \"-\" │ \"-\" │ \"-\" │ \"-\" │\n",
       "│ 10  │ \"-\" │ \"-\" │ \"-\" │ \"-\" │ \"-\" │ \"-\" │ \"-\" │ \"-\" │ \"-\" │ \"-\" │ \"-\" │\n",
       "│ 11  │ \"-\" │ \"-\" │ \"-\" │ \"-\" │ \"-\" │ \"-\" │ \"-\" │ \"-\" │ \"-\" │ \"-\" │ \"-\" │\n",
       "│ 12  │ \"-\" │ \"-\" │ \"-\" │ \"-\" │ \"-\" │ \"-\" │ \"-\" │ \"-\" │ \"-\" │ \"-\" │ \"-\" │\n",
       "│ 13  │ \"-\" │ \"-\" │ \"-\" │ \"-\" │ \"-\" │ \"-\" │ \"-\" │ \"-\" │ \"-\" │ \"-\" │ \"-\" │\n",
       "\n",
       "│ Row │ x12                          │ x13 │ x14 │ x15 │ x16 │ x17 │ x18 │\n",
       "├─────┼──────────────────────────────┼─────┼─────┼─────┼─────┼─────┼─────┤\n",
       "│ 1   │ \"_TRCWS_PC_TOTAL_ASM\"        │ \"-\" │ \"-\" │ \"-\" │ \"-\" │ \"-\" │ \"-\" │\n",
       "│ 2   │ \"TRCWS_PC_ITX_ASM\"           │ \"-\" │ \"-\" │ \"-\" │ \"-\" │ \"-\" │ \"-\" │\n",
       "│ 3   │ \"TRCWS_PC_ITX_BRKT_MAIN_ASM\" │ \"-\" │ \"-\" │ \"-\" │ \"-\" │ \"-\" │ \"-\" │\n",
       "│ 4   │ \"TRCWS_PCB_ITX_ASM\"          │ \"-\" │ \"-\" │ \"-\" │ \"-\" │ \"-\" │ \"-\" │\n",
       "│ 5   │ \"TRCWS_PCB_VGA_ASM\"          │ \"-\" │ \"-\" │ \"-\" │ \"-\" │ \"-\" │ \"-\" │\n",
       "│ 6   │ \"TRCWS_PC_ITX_BRKT_SUB_ASM\"  │ \"-\" │ \"-\" │ \"-\" │ \"-\" │ \"-\" │ \"-\" │\n",
       "│ 7   │ \"TRCWS_PC_CASE_LEFT_ASM\"     │ \"-\" │ \"-\" │ \"-\" │ \"-\" │ \"-\" │ \"-\" │\n",
       "│ 8   │ \"TRCWS_PC_CASE_RIGHT_ASM\"    │ \"-\" │ \"-\" │ \"-\" │ \"-\" │ \"-\" │ \"-\" │\n",
       "│ 9   │ \"TRCWS_PC_CASE_TOP_ASM\"      │ \"-\" │ \"-\" │ \"-\" │ \"-\" │ \"-\" │ \"-\" │\n",
       "│ 10  │ \"TRCWS_PC_CASE_BOT_ASM\"      │ \"-\" │ \"-\" │ \"-\" │ \"-\" │ \"-\" │ \"-\" │\n",
       "│ 11  │ \"TRCWS_PC_CASE_FRONT_ASM\"    │ \"-\" │ \"-\" │ \"-\" │ \"-\" │ \"-\" │ \"-\" │\n",
       "│ 12  │ \"TRCWS_PC_HOOD_ASM\"          │ \"-\" │ \"-\" │ \"-\" │ \"-\" │ \"-\" │ \"-\" │\n",
       "│ 13  │ \"TRCWS_PC_PANEL_ASM\"         │ \"-\" │ \"-\" │ \"-\" │ \"-\" │ \"-\" │ \"-\" │"
      ]
     },
     "execution_count": 279,
     "metadata": {},
     "output_type": "execute_result"
    }
   ],
   "source": [
    "# DataFrame 자료형으로 변환\n",
    "convert(DataFrame,ASSEMBLY_PartList)"
   ]
  },
  {
   "cell_type": "code",
   "execution_count": null,
   "metadata": {
    "collapsed": false
   },
   "outputs": [],
   "source": []
  },
  {
   "cell_type": "code",
   "execution_count": 239,
   "metadata": {
    "collapsed": false,
    "nbpresent": {
     "id": "8f6874ea-bfa3-4f1f-9d08-d93cde9e9860"
    }
   },
   "outputs": [
    {
     "data": {
      "text/html": [
       "<table class=\"data-frame\"><tr><th></th><th>Quantity</th><th>PartNumber</th><th>Type</th></tr><tr><th>1</th><td>Bill of Material: _TRCWS_PC_TOTAL_ASM</td><td>NA</td><td>NA</td></tr><tr><th>2</th><td>Quantity</td><td>Part Number</td><td>Type</td></tr><tr><th>3</th><td>1</td><td>_TRCWS_PC_TOTAL_SKEL</td><td>Part</td></tr><tr><th>4</th><td>1</td><td>TRCWS_PC_ITX_ASM</td><td>Assembly</td></tr><tr><th>5</th><td>1</td><td>TRCWS_PC_CASE_LEFT_ASM</td><td>Assembly</td></tr><tr><th>6</th><td>1</td><td>TRCWS_PC_CASE_RIGHT_ASM</td><td>Assembly</td></tr><tr><th>7</th><td>1</td><td>TRCWS_PC_CASE_REAR</td><td>Part</td></tr><tr><th>8</th><td>1</td><td>TRCWS_PC_CASE_TOP_ASM</td><td>Assembly</td></tr><tr><th>9</th><td>1</td><td>TRCWS_PC_CASE_BOT_ASM</td><td>Assembly</td></tr><tr><th>10</th><td>1</td><td>TRCWS_PC_CASE_FRONT_ASM</td><td>Assembly</td></tr><tr><th>11</th><td>NA</td><td>NA</td><td>NA</td></tr><tr><th>12</th><td>Bill of Material: TRCWS_PC_ITX_ASM</td><td>NA</td><td>NA</td></tr><tr><th>13</th><td>Quantity</td><td>Part Number</td><td>Type</td></tr><tr><th>14</th><td>1</td><td>TRCWS_PC_ITX_BRKT_MAIN_ASM</td><td>Assembly</td></tr><tr><th>15</th><td>1</td><td>TRCWS_PC_ITX_BRKT_SUB_ASM</td><td>Assembly</td></tr><tr><th>16</th><td>NA</td><td>NA</td><td>NA</td></tr><tr><th>17</th><td>Bill of Material: TRCWS_PC_ITX_BRKT_MAIN_ASM</td><td>NA</td><td>NA</td></tr><tr><th>18</th><td>Quantity</td><td>Part Number</td><td>Type</td></tr><tr><th>19</th><td>1</td><td>TRCWS_PC_ITX_BRKT_MAIN</td><td>Part</td></tr><tr><th>20</th><td>1</td><td>TRCWS_PCB_USB</td><td>Part</td></tr><tr><th>21</th><td>8</td><td>RDBOLT_M3X6L</td><td>Part</td></tr><tr><th>22</th><td>1</td><td>FAN_60X60X10</td><td>Part</td></tr><tr><th>23</th><td>4</td><td>WRENCH_BOLT_M4X20L</td><td>Part</td></tr><tr><th>24</th><td>1</td><td>TRCWS_PCB_SMPS</td><td>Part</td></tr><tr><th>25</th><td>1</td><td>TRCWS_PCB_ITX_ASM</td><td>Assembly</td></tr><tr><th>26</th><td>1</td><td>TRCWS_PCB_VGA_ASM</td><td>Assembly</td></tr><tr><th>27</th><td>1</td><td>TRCWS_PCB_VGA_EXT</td><td>Part</td></tr><tr><th>28</th><td>2</td><td>TRCWS_PC_ITX_CONDUCT</td><td>Part</td></tr><tr><th>29</th><td>NA</td><td>NA</td><td>NA</td></tr><tr><th>30</th><td>Bill of Material: TRCWS_PCB_ITX_ASM</td><td>NA</td><td>NA</td></tr><tr><th>&vellip;</th><td>&vellip;</td><td>&vellip;</td><td>&vellip;</td></tr></table>"
      ],
      "text/plain": [
       "101×3 DataFrames.DataFrame\n",
       "│ Row │ Quantity                                │ PartNumber                │\n",
       "├─────┼─────────────────────────────────────────┼───────────────────────────┤\n",
       "│ 1   │ \"Bill of Material: _TRCWS_PC_TOTAL_ASM\" │ NA                        │\n",
       "│ 2   │ \"Quantity\"                              │ \"Part Number\"             │\n",
       "│ 3   │ \"1\"                                     │ \"_TRCWS_PC_TOTAL_SKEL\"    │\n",
       "│ 4   │ \"1\"                                     │ \"TRCWS_PC_ITX_ASM\"        │\n",
       "│ 5   │ \"1\"                                     │ \"TRCWS_PC_CASE_LEFT_ASM\"  │\n",
       "│ 6   │ \"1\"                                     │ \"TRCWS_PC_CASE_RIGHT_ASM\" │\n",
       "│ 7   │ \"1\"                                     │ \"TRCWS_PC_CASE_REAR\"      │\n",
       "│ 8   │ \"1\"                                     │ \"TRCWS_PC_CASE_TOP_ASM\"   │\n",
       "│ 9   │ \"1\"                                     │ \"TRCWS_PC_CASE_BOT_ASM\"   │\n",
       "│ 10  │ \"1\"                                     │ \"TRCWS_PC_CASE_FRONT_ASM\" │\n",
       "│ 11  │ NA                                      │ NA                        │\n",
       "⋮\n",
       "│ 90  │ \"1\"                                     │ \"TRCWS_PC_HOOD_ASM\"       │\n",
       "│ 91  │ \"1\"                                     │ \"TRCWS_PC_PANEL_ASM\"      │\n",
       "│ 92  │ NA                                      │ NA                        │\n",
       "│ 93  │ \"Bill of Material: TRCWS_PC_HOOD_ASM\"   │ NA                        │\n",
       "│ 94  │ \"Quantity\"                              │ \"Part Number\"             │\n",
       "│ 95  │ \"1\"                                     │ \"TRCWS_PC_HOOD\"           │\n",
       "│ 96  │ \"4\"                                     │ \"WRENCH_BOLT_M4X10L\"      │\n",
       "│ 97  │ NA                                      │ NA                        │\n",
       "│ 98  │ \"Bill of Material: TRCWS_PC_PANEL_ASM\"  │ NA                        │\n",
       "│ 99  │ \"Quantity\"                              │ \"Part Number\"             │\n",
       "│ 100 │ \"1\"                                     │ \"TRCWS_PC_PANEL\"          │\n",
       "│ 101 │ \"4\"                                     │ \"WRENCH_BOLT_M4X10L\"      │\n",
       "\n",
       "│ Row │ Type       │\n",
       "├─────┼────────────┤\n",
       "│ 1   │ NA         │\n",
       "│ 2   │ \"Type\"     │\n",
       "│ 3   │ \"Part\"     │\n",
       "│ 4   │ \"Assembly\" │\n",
       "│ 5   │ \"Assembly\" │\n",
       "│ 6   │ \"Assembly\" │\n",
       "│ 7   │ \"Part\"     │\n",
       "│ 8   │ \"Assembly\" │\n",
       "│ 9   │ \"Assembly\" │\n",
       "│ 10  │ \"Assembly\" │\n",
       "│ 11  │ NA         │\n",
       "⋮\n",
       "│ 90  │ \"Assembly\" │\n",
       "│ 91  │ \"Assembly\" │\n",
       "│ 92  │ NA         │\n",
       "│ 93  │ NA         │\n",
       "│ 94  │ \"Type\"     │\n",
       "│ 95  │ \"Part\"     │\n",
       "│ 96  │ \"Part\"     │\n",
       "│ 97  │ NA         │\n",
       "│ 98  │ NA         │\n",
       "│ 99  │ \"Type\"     │\n",
       "│ 100 │ \"Part\"     │\n",
       "│ 101 │ \"Part\"     │"
      ]
     },
     "execution_count": 239,
     "metadata": {},
     "output_type": "execute_result"
    }
   ],
   "source": [
    "df4"
   ]
  },
  {
   "cell_type": "code",
   "execution_count": null,
   "metadata": {
    "collapsed": false,
    "nbpresent": {
     "id": "88650ccc-6ecb-40de-984d-5177c29d7ea7"
    }
   },
   "outputs": [],
   "source": []
  },
  {
   "cell_type": "code",
   "execution_count": null,
   "metadata": {
    "collapsed": false,
    "nbpresent": {
     "id": "19b6d3aa-f824-47cb-9a32-bcb3d5650a59"
    }
   },
   "outputs": [],
   "source": []
  },
  {
   "cell_type": "code",
   "execution_count": null,
   "metadata": {
    "collapsed": true,
    "nbpresent": {
     "id": "8ac9790c-35ba-423d-9d62-99157240df63"
    }
   },
   "outputs": [],
   "source": []
  },
  {
   "cell_type": "code",
   "execution_count": null,
   "metadata": {
    "collapsed": true,
    "nbpresent": {
     "id": "be6cbbf0-0f61-429c-9e12-6649ce65abef"
    }
   },
   "outputs": [],
   "source": []
  },
  {
   "cell_type": "code",
   "execution_count": null,
   "metadata": {
    "collapsed": true,
    "nbpresent": {
     "id": "91c0e3a5-d8a3-4674-a245-0a8c075ff7d6"
    }
   },
   "outputs": [],
   "source": []
  },
  {
   "cell_type": "code",
   "execution_count": null,
   "metadata": {
    "collapsed": true,
    "nbpresent": {
     "id": "d8fcbef4-fae0-4778-a05e-f91e13a4edf2"
    }
   },
   "outputs": [],
   "source": []
  },
  {
   "cell_type": "code",
   "execution_count": null,
   "metadata": {
    "collapsed": true,
    "nbpresent": {
     "id": "df14a8df-5de0-4515-ae45-81981df478fc"
    }
   },
   "outputs": [],
   "source": []
  },
  {
   "cell_type": "code",
   "execution_count": null,
   "metadata": {
    "collapsed": true,
    "nbpresent": {
     "id": "554d9df6-1c1b-4b4d-8ec5-e50c399c5d9b"
    }
   },
   "outputs": [],
   "source": []
  },
  {
   "cell_type": "code",
   "execution_count": null,
   "metadata": {
    "collapsed": true,
    "nbpresent": {
     "id": "756d8eaf-ccf7-41be-87b0-d74d2381b8b0"
    }
   },
   "outputs": [],
   "source": []
  },
  {
   "cell_type": "code",
   "execution_count": null,
   "metadata": {
    "collapsed": true,
    "nbpresent": {
     "id": "51eb7f96-4c92-4fb3-a322-4524be6306f2"
    }
   },
   "outputs": [],
   "source": []
  },
  {
   "cell_type": "code",
   "execution_count": null,
   "metadata": {
    "collapsed": true,
    "nbpresent": {
     "id": "2b7f8f53-8e28-431a-a2f9-ab15f2002b34"
    }
   },
   "outputs": [],
   "source": []
  },
  {
   "cell_type": "code",
   "execution_count": null,
   "metadata": {
    "collapsed": true,
    "nbpresent": {
     "id": "389015c3-8c8f-41ce-abc8-f0bcbd17a376"
    }
   },
   "outputs": [],
   "source": []
  }
 ],
 "metadata": {
  "anaconda-cloud": {},
  "kernelspec": {
   "display_name": "Julia 0.5.0",
   "language": "julia",
   "name": "julia-0.5"
  },
  "language_info": {
   "file_extension": ".jl",
   "mimetype": "application/julia",
   "name": "julia",
   "version": "0.5.0"
  },
  "nbpresent": {
   "slides": {
    "028d2c94-53fe-4437-962a-f422399c3f30": {
     "id": "028d2c94-53fe-4437-962a-f422399c3f30",
     "prev": "39951b80-f492-4556-afe1-c245093cd934",
     "regions": {
      "d0c9a204-375f-46c1-80a0-83dbf23baa6a": {
       "attrs": {
        "height": 0.8,
        "width": 0.8,
        "x": 0.1,
        "y": 0.1
       },
       "content": {
        "cell": "d8fcbef4-fae0-4778-a05e-f91e13a4edf2",
        "part": "whole"
       },
       "id": "d0c9a204-375f-46c1-80a0-83dbf23baa6a"
      }
     }
    },
    "03b00f13-8eed-418c-be42-95bab6e4f936": {
     "id": "03b00f13-8eed-418c-be42-95bab6e4f936",
     "prev": "028d2c94-53fe-4437-962a-f422399c3f30",
     "regions": {
      "438244a8-2636-4921-85ae-f45d71f1ede3": {
       "attrs": {
        "height": 0.8,
        "width": 0.8,
        "x": 0.1,
        "y": 0.1
       },
       "content": {
        "cell": "df14a8df-5de0-4515-ae45-81981df478fc",
        "part": "whole"
       },
       "id": "438244a8-2636-4921-85ae-f45d71f1ede3"
      }
     }
    },
    "137b248b-90cd-4c86-9a0c-3a6f197fdf41": {
     "id": "137b248b-90cd-4c86-9a0c-3a6f197fdf41",
     "prev": "22eb5e41-3602-4570-af49-4f0e6ca265df",
     "regions": {
      "deb0c909-cc2d-496a-96ca-a99c90054eff": {
       "attrs": {
        "height": 0.8,
        "width": 0.8,
        "x": 0.1,
        "y": 0.1
       },
       "content": {
        "cell": "b7653844-78db-401c-8228-d0d96ce0e84a",
        "part": "whole"
       },
       "id": "deb0c909-cc2d-496a-96ca-a99c90054eff"
      }
     }
    },
    "1c1ac6ff-eea0-4a56-b701-946f4840dc60": {
     "id": "1c1ac6ff-eea0-4a56-b701-946f4840dc60",
     "prev": "d84bda6f-5fbb-467e-b80f-3e63e92e3710",
     "regions": {
      "4ad7fce9-1446-4c6d-b343-394f9e348015": {
       "attrs": {
        "height": 0.8,
        "width": 0.8,
        "x": 0.1,
        "y": 0.1
       },
       "content": {
        "cell": "2b7f8f53-8e28-431a-a2f9-ab15f2002b34",
        "part": "whole"
       },
       "id": "4ad7fce9-1446-4c6d-b343-394f9e348015"
      }
     }
    },
    "20cd3f07-ab3d-4d46-8f55-266b0e2d444e": {
     "id": "20cd3f07-ab3d-4d46-8f55-266b0e2d444e",
     "prev": "d2decc70-8ae7-4134-b3fd-1c65818ea625",
     "regions": {
      "99877b6b-a57d-4ab9-a02e-65728a34ce97": {
       "attrs": {
        "height": 0.8,
        "width": 0.8,
        "x": 0.1,
        "y": 0.1
       },
       "content": {
        "cell": "8ac9790c-35ba-423d-9d62-99157240df63",
        "part": "whole"
       },
       "id": "99877b6b-a57d-4ab9-a02e-65728a34ce97"
      }
     }
    },
    "22eb5e41-3602-4570-af49-4f0e6ca265df": {
     "id": "22eb5e41-3602-4570-af49-4f0e6ca265df",
     "prev": "4b6eea6c-e22a-416a-949b-94d9829caffb",
     "regions": {
      "cb038a62-705c-4b5f-9e76-fa16ec729728": {
       "attrs": {
        "height": 0.8,
        "width": 0.8,
        "x": 0.1,
        "y": 0.1
       },
       "content": {
        "cell": "2a21c142-816e-4db3-8d2e-af5af2ea7025",
        "part": "whole"
       },
       "id": "cb038a62-705c-4b5f-9e76-fa16ec729728"
      }
     }
    },
    "3372f19a-348b-41f1-92aa-18770c91a163": {
     "id": "3372f19a-348b-41f1-92aa-18770c91a163",
     "prev": "9f83f968-f067-4a29-a8dd-75f89d51a0f6",
     "regions": {
      "5ba0f14e-84e4-49a6-baff-cedcd0a61e79": {
       "attrs": {
        "height": 0.8,
        "width": 0.8,
        "x": 0.1,
        "y": 0.1
       },
       "content": {
        "cell": "756d8eaf-ccf7-41be-87b0-d74d2381b8b0",
        "part": "whole"
       },
       "id": "5ba0f14e-84e4-49a6-baff-cedcd0a61e79"
      }
     }
    },
    "39951b80-f492-4556-afe1-c245093cd934": {
     "id": "39951b80-f492-4556-afe1-c245093cd934",
     "prev": "c423d501-68c6-4da4-8694-6a6510c00585",
     "regions": {
      "bfea5829-a834-44ed-b13d-a148882a6bbd": {
       "attrs": {
        "height": 0.8,
        "width": 0.8,
        "x": 0.1,
        "y": 0.1
       },
       "content": {
        "cell": "91c0e3a5-d8a3-4674-a245-0a8c075ff7d6",
        "part": "whole"
       },
       "id": "bfea5829-a834-44ed-b13d-a148882a6bbd"
      }
     }
    },
    "4b6eea6c-e22a-416a-949b-94d9829caffb": {
     "id": "4b6eea6c-e22a-416a-949b-94d9829caffb",
     "prev": "f167bb7e-8e39-4a8b-967d-4ca055644cb6",
     "regions": {
      "6f70300c-f60b-4d99-bdfe-1bca3b583369": {
       "attrs": {
        "height": 0.8,
        "width": 0.8,
        "x": 0.1,
        "y": 0.1
       },
       "content": {
        "cell": "5ea71dea-023e-4208-8dab-90540b80823f",
        "part": "whole"
       },
       "id": "6f70300c-f60b-4d99-bdfe-1bca3b583369"
      }
     }
    },
    "4e45ee1a-5d98-4887-9e5f-26db82e13f6a": {
     "id": "4e45ee1a-5d98-4887-9e5f-26db82e13f6a",
     "prev": "f3ae494a-b9b1-422a-9b0b-15270e30bc1a",
     "regions": {
      "0ca5b10c-f7e7-4aed-9c1e-daec776530ed": {
       "attrs": {
        "height": 0.8,
        "width": 0.8,
        "x": 0.1,
        "y": 0.1
       },
       "content": {
        "cell": "ea55b0ee-9853-44ec-a650-a365c76edb9e",
        "part": "whole"
       },
       "id": "0ca5b10c-f7e7-4aed-9c1e-daec776530ed"
      }
     }
    },
    "554b961d-0e1d-428f-891b-e9745c7c7ff6": {
     "id": "554b961d-0e1d-428f-891b-e9745c7c7ff6",
     "prev": "1c1ac6ff-eea0-4a56-b701-946f4840dc60",
     "regions": {
      "fa2203bc-2d25-4359-b0b4-5505b2d02995": {
       "attrs": {
        "height": 0.8,
        "width": 0.8,
        "x": 0.1,
        "y": 0.1
       },
       "content": {
        "cell": "389015c3-8c8f-41ce-abc8-f0bcbd17a376",
        "part": "whole"
       },
       "id": "fa2203bc-2d25-4359-b0b4-5505b2d02995"
      }
     }
    },
    "5ada7f64-eec4-4b8f-9834-ede10c173a4c": {
     "id": "5ada7f64-eec4-4b8f-9834-ede10c173a4c",
     "prev": "c8c89119-2180-4b62-b568-e8f971cba6c6",
     "regions": {
      "16fee7b8-88c7-403c-a0c7-80d5a5c51bc1": {
       "attrs": {
        "height": 0.8,
        "width": 0.8,
        "x": 0.1,
        "y": 0.1
       },
       "content": {
        "cell": "35ab2f8d-1d3d-4c3b-a8b0-72b0fb4da621",
        "part": "whole"
       },
       "id": "16fee7b8-88c7-403c-a0c7-80d5a5c51bc1"
      }
     }
    },
    "79575a0d-2b8c-43c4-9349-5a47b63b6efd": {
     "id": "79575a0d-2b8c-43c4-9349-5a47b63b6efd",
     "prev": "4e45ee1a-5d98-4887-9e5f-26db82e13f6a",
     "regions": {
      "a5737986-6923-4ccc-b1a1-f152f2b0834c": {
       "attrs": {
        "height": 0.8,
        "width": 0.8,
        "x": 0.1,
        "y": 0.1
       },
       "content": {
        "cell": "8f6874ea-bfa3-4f1f-9d08-d93cde9e9860",
        "part": "whole"
       },
       "id": "a5737986-6923-4ccc-b1a1-f152f2b0834c"
      }
     }
    },
    "7d5965f1-cc33-4cd0-8408-fc331f386d70": {
     "id": "7d5965f1-cc33-4cd0-8408-fc331f386d70",
     "prev": "9ad4d9b1-3ee1-40cf-ac80-bbd7633e75c0",
     "regions": {
      "d2cc0b19-66d1-4efe-92fe-f417dcac4b83": {
       "attrs": {
        "height": 0.8,
        "width": 0.8,
        "x": 0.1,
        "y": 0.1
       },
       "content": {
        "cell": "88650ccc-6ecb-40de-984d-5177c29d7ea7",
        "part": "whole"
       },
       "id": "d2cc0b19-66d1-4efe-92fe-f417dcac4b83"
      }
     }
    },
    "9ad4d9b1-3ee1-40cf-ac80-bbd7633e75c0": {
     "id": "9ad4d9b1-3ee1-40cf-ac80-bbd7633e75c0",
     "prev": "79575a0d-2b8c-43c4-9349-5a47b63b6efd",
     "regions": {
      "0a618b0e-69bc-4874-90e7-d6165e6b8be3": {
       "attrs": {
        "height": 0.8,
        "width": 0.8,
        "x": 0.1,
        "y": 0.1
       },
       "content": {
        "cell": "75e8171d-de9e-4003-8763-a5f62238e76f",
        "part": "whole"
       },
       "id": "0a618b0e-69bc-4874-90e7-d6165e6b8be3"
      }
     }
    },
    "9f83f968-f067-4a29-a8dd-75f89d51a0f6": {
     "id": "9f83f968-f067-4a29-a8dd-75f89d51a0f6",
     "prev": "03b00f13-8eed-418c-be42-95bab6e4f936",
     "regions": {
      "bb22c171-99ef-44f3-a66c-75ffe2bd62f7": {
       "attrs": {
        "height": 0.8,
        "width": 0.8,
        "x": 0.1,
        "y": 0.1
       },
       "content": {
        "cell": "554d9df6-1c1b-4b4d-8ec5-e50c399c5d9b",
        "part": "whole"
       },
       "id": "bb22c171-99ef-44f3-a66c-75ffe2bd62f7"
      }
     }
    },
    "c423d501-68c6-4da4-8694-6a6510c00585": {
     "id": "c423d501-68c6-4da4-8694-6a6510c00585",
     "prev": "20cd3f07-ab3d-4d46-8f55-266b0e2d444e",
     "regions": {
      "95ceda32-f8bc-4002-b4b3-ff61d928cb53": {
       "attrs": {
        "height": 0.8,
        "width": 0.8,
        "x": 0.1,
        "y": 0.1
       },
       "content": {
        "cell": "be6cbbf0-0f61-429c-9e12-6649ce65abef",
        "part": "whole"
       },
       "id": "95ceda32-f8bc-4002-b4b3-ff61d928cb53"
      }
     }
    },
    "c8c89119-2180-4b62-b568-e8f971cba6c6": {
     "id": "c8c89119-2180-4b62-b568-e8f971cba6c6",
     "prev": "ddac5085-8067-4bfb-bce9-55c1d7b2d448",
     "regions": {
      "cfcd74d4-efac-4c95-86bf-97eec1e69d54": {
       "attrs": {
        "height": 0.8,
        "width": 0.8,
        "x": 0.1,
        "y": 0.1
       },
       "content": {
        "cell": "9fab9d6a-f4af-476d-93d3-85c594b1a328",
        "part": "whole"
       },
       "id": "cfcd74d4-efac-4c95-86bf-97eec1e69d54"
      }
     }
    },
    "d2decc70-8ae7-4134-b3fd-1c65818ea625": {
     "id": "d2decc70-8ae7-4134-b3fd-1c65818ea625",
     "prev": "7d5965f1-cc33-4cd0-8408-fc331f386d70",
     "regions": {
      "8e95bb27-31cf-4b1b-a55c-a1672745e7d9": {
       "attrs": {
        "height": 0.8,
        "width": 0.8,
        "x": 0.1,
        "y": 0.1
       },
       "content": {
        "cell": "19b6d3aa-f824-47cb-9a32-bcb3d5650a59",
        "part": "whole"
       },
       "id": "8e95bb27-31cf-4b1b-a55c-a1672745e7d9"
      }
     }
    },
    "d5dfe5e4-beac-4b04-bf78-773920b7b870": {
     "id": "d5dfe5e4-beac-4b04-bf78-773920b7b870",
     "prev": "137b248b-90cd-4c86-9a0c-3a6f197fdf41",
     "regions": {
      "40d4b9b9-c2af-4dd9-920e-5d6f22a07977": {
       "attrs": {
        "height": 0.8,
        "width": 0.8,
        "x": 0.1,
        "y": 0.1
       },
       "content": {
        "cell": "fa4748bf-5cc6-4198-93e0-f7d1a73cb700",
        "part": "whole"
       },
       "id": "40d4b9b9-c2af-4dd9-920e-5d6f22a07977"
      }
     }
    },
    "d84bda6f-5fbb-467e-b80f-3e63e92e3710": {
     "id": "d84bda6f-5fbb-467e-b80f-3e63e92e3710",
     "prev": "3372f19a-348b-41f1-92aa-18770c91a163",
     "regions": {
      "d077e524-b697-4558-9be8-3743fcdc6f65": {
       "attrs": {
        "height": 0.8,
        "width": 0.8,
        "x": 0.1,
        "y": 0.1
       },
       "content": {
        "cell": "51eb7f96-4c92-4fb3-a322-4524be6306f2",
        "part": "whole"
       },
       "id": "d077e524-b697-4558-9be8-3743fcdc6f65"
      }
     }
    },
    "ddac5085-8067-4bfb-bce9-55c1d7b2d448": {
     "id": "ddac5085-8067-4bfb-bce9-55c1d7b2d448",
     "prev": "d5dfe5e4-beac-4b04-bf78-773920b7b870",
     "regions": {
      "f6619d39-2d36-454a-8086-41a69a57b2af": {
       "attrs": {
        "height": 0.8,
        "width": 0.8,
        "x": 0.1,
        "y": 0.1
       },
       "content": {
        "cell": "a2c0e1c2-2a94-4ff7-b6fd-e40322622759",
        "part": "whole"
       },
       "id": "f6619d39-2d36-454a-8086-41a69a57b2af"
      }
     }
    },
    "f167bb7e-8e39-4a8b-967d-4ca055644cb6": {
     "id": "f167bb7e-8e39-4a8b-967d-4ca055644cb6",
     "prev": null,
     "regions": {
      "8b8619ef-d303-46ef-87ae-ced9e424a429": {
       "attrs": {
        "height": 0.8,
        "width": 0.8,
        "x": 0.1,
        "y": 0.1
       },
       "content": {
        "cell": "58ea0c82-6859-4da8-9c47-46d418431e2f",
        "part": "whole"
       },
       "id": "8b8619ef-d303-46ef-87ae-ced9e424a429"
      }
     }
    },
    "f3ae494a-b9b1-422a-9b0b-15270e30bc1a": {
     "id": "f3ae494a-b9b1-422a-9b0b-15270e30bc1a",
     "prev": "5ada7f64-eec4-4b8f-9834-ede10c173a4c",
     "regions": {
      "08ab61ea-6c8d-4312-874f-8a1e84807a2e": {
       "attrs": {
        "height": 0.8,
        "width": 0.8,
        "x": 0.1,
        "y": 0.1
       },
       "content": {
        "cell": "67a7847c-ad20-489a-b664-719833f74e72",
        "part": "whole"
       },
       "id": "08ab61ea-6c8d-4312-874f-8a1e84807a2e"
      }
     }
    }
   },
   "themes": {}
  }
 },
 "nbformat": 4,
 "nbformat_minor": 0
}
