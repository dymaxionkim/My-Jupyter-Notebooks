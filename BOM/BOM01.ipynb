{
 "cells": [
  {
   "cell_type": "code",
   "execution_count": null,
   "metadata": {
    "collapsed": true
   },
   "outputs": [],
   "source": [
    "# BOM 연구\n",
    "\n",
    "## 목적\n",
    "* CATIA에서 만들어준 .xls 형식의 BOM 파일을 읽어들여, 실무적으로 사용하기 좋은 형태로 가공해 주는 기능 구현\n",
    "\n",
    "## 도구 및 방법\n",
    "* Julia Lang 및 [Taro](https://github.com/aviks/Taro.jl) 패키지 사용\n",
    "* 우선 Taro 패키지를 설치해 본다."
   ]
  },
  {
   "cell_type": "code",
   "execution_count": 1,
   "metadata": {
    "collapsed": false
   },
   "outputs": [
    {
     "name": "stderr",
     "output_type": "stream",
     "text": [
      "INFO: Cloning cache of JavaCall from git://github.com/aviks/JavaCall.jl.git\n",
      "INFO: Cloning cache of Memoize from git://github.com/simonster/Memoize.jl.git\n",
      "INFO: Cloning cache of Taro from git://github.com/aviks/Taro.jl.git\n",
      "INFO: Installing JavaCall v0.3.3\n",
      "INFO: Installing Memoize v0.0.1\n",
      "INFO: Installing Taro v0.2.1\n",
      "INFO: Building Taro\n",
      "INFO:   Downloading tika-app-1.10.jar from Maven Central\n",
      "  % Total    % Received % Xferd  Average Speed   Time    Time     Time  Current\n",
      "                                 Dload  Upload   Total   Spent    Left  Speed\n",
      "100   161  100   161    0     0    168      0 --:--:-- --:--:-- --:--:--   168\n",
      "100 45.0M  100 45.0M    0     0  1758k      0  0:00:26  0:00:26 --:--:-- 2129k\n",
      "INFO:   Downloading fop-2.0 binary from Apache OSUOSL Mirror\n",
      "  % Total    % Received % Xferd  Average Speed   Time    Time     Time  Current\n",
      "                                 Dload  Upload   Total   Spent    Left  Speed\n",
      "100 17.3M  100 17.3M    0     0  1708k      0  0:00:10  0:00:10 --:--:-- 2724k\n",
      "INFO: Package database updated\n"
     ]
    },
    {
     "name": "stdout",
     "output_type": "stream",
     "text": [
      "Loaded /usr/lib/jvm/default-java/jre/lib/amd64/server/libjvm.so\n"
     ]
    },
    {
     "name": "stderr",
     "output_type": "stream",
     "text": [
      "INFO: METADATA is out-of-date — you may not have the latest version of Taro\n",
      "INFO: Use `Pkg.update()` to get the latest versions of your packages\n",
      "INFO: Precompiling module DataFrames...\n",
      "INFO: Recompiling stale cache file /home/dong/.julia/lib/v0.4/Reexport.ji for module Reexport.\n"
     ]
    }
   ],
   "source": [
    "Pkg.add(\"Taro\")\n",
    "using Taro\n",
    "Taro.init()"
   ]
  },
  {
   "cell_type": "markdown",
   "metadata": {},
   "source": [
    "## Taro 패키지 연습\n",
    "\n",
    "* .xls 파일을 읽어들이기"
   ]
  },
  {
   "cell_type": "code",
   "execution_count": 14,
   "metadata": {
    "collapsed": false
   },
   "outputs": [
    {
     "data": {
      "text/html": [
       "<table class=\"data-frame\"><tr><th></th><th>x1</th><th>x2</th><th>x3</th><th>x4</th><th>x5</th></tr><tr><th>1</th><td>Bill of Material: _TRCWS_PC_TOTAL_ASM</td><td>NA</td><td>NA</td><td>NA</td><td>NA</td></tr><tr><th>2</th><td>Quantity</td><td>Part Number</td><td>Type</td><td>Nomenclature</td><td>Revision</td></tr><tr><th>3</th><td>1</td><td>_TRCWS_PC_TOTAL_SKEL</td><td>Part</td><td>_TRCWS_PC_TOTAL_SKEL</td><td>33</td></tr><tr><th>4</th><td>1</td><td>TRCWS_PC_ITX_ASM</td><td>Assembly</td><td>TRCWS_PC_ITX_ASM</td><td>9</td></tr><tr><th>5</th><td>1</td><td>TRCWS_PC_CASE_LEFT_ASM</td><td>Assembly</td><td>TRCWS_PC_CASE_LEFT_ASM</td><td>7</td></tr><tr><th>6</th><td>1</td><td>TRCWS_PC_CASE_RIGHT_ASM</td><td>Assembly</td><td>TRCWS_PC_CASE_RIGHT_ASM</td><td>8</td></tr><tr><th>7</th><td>1</td><td>TRCWS_PC_CASE_REAR</td><td>Part</td><td>TRCWS_PC_CASE_REAR</td><td>8</td></tr><tr><th>8</th><td>1</td><td>TRCWS_PC_CASE_TOP_ASM</td><td>Assembly</td><td>TRCWS_PC_CASE_TOP_ASM</td><td>5</td></tr><tr><th>9</th><td>1</td><td>TRCWS_PC_CASE_BOT_ASM</td><td>Assembly</td><td>TRCWS_PC_CASE_BOT_ASM</td><td>5</td></tr><tr><th>10</th><td>1</td><td>TRCWS_PC_CASE_FRONT_ASM</td><td>Assembly</td><td>TRCWS_PC_CASE_FRONT_ASM</td><td>3</td></tr><tr><th>11</th><td>NA</td><td>NA</td><td>NA</td><td>NA</td><td>NA</td></tr><tr><th>12</th><td>Bill of Material: TRCWS_PC_ITX_ASM</td><td>NA</td><td>NA</td><td>NA</td><td>NA</td></tr><tr><th>13</th><td>Quantity</td><td>Part Number</td><td>Type</td><td>Nomenclature</td><td>Revision</td></tr><tr><th>14</th><td>1</td><td>TRCWS_PC_ITX_BRKT_MAIN_ASM</td><td>Assembly</td><td>TRCWS_PC_ITX_BRKT_MAIN_ASM</td><td>13</td></tr><tr><th>15</th><td>1</td><td>TRCWS_PC_ITX_BRKT_SUB_ASM</td><td>Assembly</td><td>TRCWS_PC_ITX_BRKT_SUB_ASM</td><td>9</td></tr><tr><th>16</th><td>NA</td><td>NA</td><td>NA</td><td>NA</td><td>NA</td></tr><tr><th>17</th><td>Bill of Material: TRCWS_PC_ITX_BRKT_MAIN_ASM</td><td>NA</td><td>NA</td><td>NA</td><td>NA</td></tr><tr><th>18</th><td>Quantity</td><td>Part Number</td><td>Type</td><td>Nomenclature</td><td>Revision</td></tr><tr><th>19</th><td>1</td><td>TRCWS_PC_ITX_BRKT_MAIN</td><td>Part</td><td>TRCWS_PC_ITX_BRKT_MAIN</td><td>48</td></tr><tr><th>20</th><td>1</td><td>TRCWS_PCB_USB</td><td>Part</td><td>TRCWS_PCB_USB</td><td>10</td></tr><tr><th>21</th><td>8</td><td>RDBOLT_M3X6L</td><td>Part</td><td>RDBOLT_M3X6L</td><td>1</td></tr><tr><th>22</th><td>1</td><td>FAN_60X60X10</td><td>Part</td><td>FAN_60X60X10</td><td>3</td></tr><tr><th>23</th><td>4</td><td>WRENCH_BOLT_M4X20L</td><td>Part</td><td>WRENCH_BOLT_M4X20L</td><td>1</td></tr><tr><th>24</th><td>1</td><td>TRCWS_PCB_SMPS</td><td>Part</td><td>TRCWS_PCB_SMPS</td><td>3</td></tr><tr><th>25</th><td>1</td><td>TRCWS_PCB_ITX_ASM</td><td>Assembly</td><td>TRCWS_PCB_ITX_ASM</td><td>7</td></tr><tr><th>26</th><td>1</td><td>TRCWS_PCB_VGA_ASM</td><td>Assembly</td><td>TRCWS_PCB_VGA_ASM</td><td>1</td></tr><tr><th>27</th><td>1</td><td>TRCWS_PCB_VGA_EXT</td><td>Part</td><td>TRCWS_PCB_VGA_EXT</td><td>2</td></tr><tr><th>28</th><td>2</td><td>TRCWS_PC_ITX_CONDUCT</td><td>Part</td><td>TRCWS_PC_ITX_CONDUCT</td><td>5</td></tr><tr><th>29</th><td>NA</td><td>NA</td><td>NA</td><td>NA</td><td>NA</td></tr><tr><th>30</th><td>Bill of Material: TRCWS_PCB_ITX_ASM</td><td>NA</td><td>NA</td><td>NA</td><td>NA</td></tr><tr><th>&vellip;</th><td>&vellip;</td><td>&vellip;</td><td>&vellip;</td><td>&vellip;</td><td>&vellip;</td></tr></table>"
      ],
      "text/plain": [
       "101x5 DataFrames.DataFrame\n",
       "| Row | x1                                      | x2                        |\n",
       "|-----|-----------------------------------------|---------------------------|\n",
       "| 1   | \"Bill of Material: _TRCWS_PC_TOTAL_ASM\" | NA                        |\n",
       "| 2   | \"Quantity\"                              | \"Part Number\"             |\n",
       "| 3   | \"1\"                                     | \"_TRCWS_PC_TOTAL_SKEL\"    |\n",
       "| 4   | \"1\"                                     | \"TRCWS_PC_ITX_ASM\"        |\n",
       "| 5   | \"1\"                                     | \"TRCWS_PC_CASE_LEFT_ASM\"  |\n",
       "| 6   | \"1\"                                     | \"TRCWS_PC_CASE_RIGHT_ASM\" |\n",
       "| 7   | \"1\"                                     | \"TRCWS_PC_CASE_REAR\"      |\n",
       "| 8   | \"1\"                                     | \"TRCWS_PC_CASE_TOP_ASM\"   |\n",
       "| 9   | \"1\"                                     | \"TRCWS_PC_CASE_BOT_ASM\"   |\n",
       "| 10  | \"1\"                                     | \"TRCWS_PC_CASE_FRONT_ASM\" |\n",
       "| 11  | NA                                      | NA                        |\n",
       "⋮\n",
       "| 90  | \"1\"                                     | \"TRCWS_PC_HOOD_ASM\"       |\n",
       "| 91  | \"1\"                                     | \"TRCWS_PC_PANEL_ASM\"      |\n",
       "| 92  | NA                                      | NA                        |\n",
       "| 93  | \"Bill of Material: TRCWS_PC_HOOD_ASM\"   | NA                        |\n",
       "| 94  | \"Quantity\"                              | \"Part Number\"             |\n",
       "| 95  | \"1\"                                     | \"TRCWS_PC_HOOD\"           |\n",
       "| 96  | \"4\"                                     | \"WRENCH_BOLT_M4X10L\"      |\n",
       "| 97  | NA                                      | NA                        |\n",
       "| 98  | \"Bill of Material: TRCWS_PC_PANEL_ASM\"  | NA                        |\n",
       "| 99  | \"Quantity\"                              | \"Part Number\"             |\n",
       "| 100 | \"1\"                                     | \"TRCWS_PC_PANEL\"          |\n",
       "| 101 | \"4\"                                     | \"WRENCH_BOLT_M4X10L\"      |\n",
       "\n",
       "| Row | x3         | x4                        | x5         |\n",
       "|-----|------------|---------------------------|------------|\n",
       "| 1   | NA         | NA                        | NA         |\n",
       "| 2   | \"Type\"     | \"Nomenclature\"            | \"Revision\" |\n",
       "| 3   | \"Part\"     | \"_TRCWS_PC_TOTAL_SKEL\"    | \"33\"       |\n",
       "| 4   | \"Assembly\" | \"TRCWS_PC_ITX_ASM\"        | \"9\"        |\n",
       "| 5   | \"Assembly\" | \"TRCWS_PC_CASE_LEFT_ASM\"  | \"7\"        |\n",
       "| 6   | \"Assembly\" | \"TRCWS_PC_CASE_RIGHT_ASM\" | \"8\"        |\n",
       "| 7   | \"Part\"     | \"TRCWS_PC_CASE_REAR\"      | \"8\"        |\n",
       "| 8   | \"Assembly\" | \"TRCWS_PC_CASE_TOP_ASM\"   | \"5\"        |\n",
       "| 9   | \"Assembly\" | \"TRCWS_PC_CASE_BOT_ASM\"   | \"5\"        |\n",
       "| 10  | \"Assembly\" | \"TRCWS_PC_CASE_FRONT_ASM\" | \"3\"        |\n",
       "| 11  | NA         | NA                        | NA         |\n",
       "⋮\n",
       "| 90  | \"Assembly\" | \"TRCWS_PC_HOOD_ASM\"       | \"6\"        |\n",
       "| 91  | \"Assembly\" | \"TRCWS_PC_PANEL_ASM\"      | \"4\"        |\n",
       "| 92  | NA         | NA                        | NA         |\n",
       "| 93  | NA         | NA                        | NA         |\n",
       "| 94  | \"Type\"     | \"Nomenclature\"            | \"Revision\" |\n",
       "| 95  | \"Part\"     | \"TRCWS_PC_HOOD\"           | \"10\"       |\n",
       "| 96  | \"Part\"     | \"WRENCH_BOLT_M4X10L\"      | \"1\"        |\n",
       "| 97  | NA         | NA                        | NA         |\n",
       "| 98  | NA         | NA                        | NA         |\n",
       "| 99  | \"Type\"     | \"Nomenclature\"            | \"Revision\" |\n",
       "| 100 | \"Part\"     | \"TRCWS_PC_PANEL\"          | \"5\"        |\n",
       "| 101 | \"Part\"     | \"WRENCH_BOLT_M4X10L\"      | \"1\"        |"
      ]
     },
     "execution_count": 14,
     "metadata": {},
     "output_type": "execute_result"
    }
   ],
   "source": [
    "A = Taro.readxl(\"_trcws_pc_total_asm.xls\", \"Sheet1\", \"A2:E103\")"
   ]
  },
  {
   "cell_type": "code",
   "execution_count": 19,
   "metadata": {
    "collapsed": false
   },
   "outputs": [
    {
     "data": {
      "text/plain": [
       "\"Bill of Material: _TRCWS_PC_TOTAL_ASM\""
      ]
     },
     "execution_count": 19,
     "metadata": {},
     "output_type": "execute_result"
    }
   ],
   "source": [
    "A[1,1]"
   ]
  },
  {
   "cell_type": "code",
   "execution_count": 21,
   "metadata": {
    "collapsed": false
   },
   "outputs": [
    {
     "data": {
      "text/html": [
       "<table class=\"data-frame\"><tr><th></th><th>x1</th><th>x2</th><th>x3</th><th>x4</th><th>x5</th></tr><tr><th>1</th><td>Quantity</td><td>Part Number</td><td>Type</td><td>Nomenclature</td><td>Revision</td></tr></table>"
      ],
      "text/plain": [
       "1x5 DataFrames.DataFrame\n",
       "| Row | x1         | x2            | x3     | x4             | x5         |\n",
       "|-----|------------|---------------|--------|----------------|------------|\n",
       "| 1   | \"Quantity\" | \"Part Number\" | \"Type\" | \"Nomenclature\" | \"Revision\" |"
      ]
     },
     "execution_count": 21,
     "metadata": {},
     "output_type": "execute_result"
    }
   ],
   "source": [
    "A[2,:]"
   ]
  },
  {
   "cell_type": "code",
   "execution_count": 23,
   "metadata": {
    "collapsed": false
   },
   "outputs": [
    {
     "data": {
      "text/html": [
       "<table class=\"data-frame\"><tr><th></th><th>x1</th><th>x2</th><th>x3</th><th>x4</th><th>x5</th></tr><tr><th>1</th><td>1</td><td>TRCWS_PC_ITX_ASM</td><td>Assembly</td><td>TRCWS_PC_ITX_ASM</td><td>9</td></tr></table>"
      ],
      "text/plain": [
       "1x5 DataFrames.DataFrame\n",
       "| Row | x1  | x2                 | x3         | x4                 | x5  |\n",
       "|-----|-----|--------------------|------------|--------------------|-----|\n",
       "| 1   | \"1\" | \"TRCWS_PC_ITX_ASM\" | \"Assembly\" | \"TRCWS_PC_ITX_ASM\" | \"9\" |"
      ]
     },
     "execution_count": 23,
     "metadata": {},
     "output_type": "execute_result"
    }
   ],
   "source": [
    "A[4,:]"
   ]
  },
  {
   "cell_type": "markdown",
   "metadata": {},
   "source": [
    "* Quantity, Part Number, Type, Nomenclature, Revision 중에서 Quantity, Part Number, Type의 3가지 항목만 사용할 것이므로 데이타를 정제한다.\n"
   ]
  },
  {
   "cell_type": "code",
   "execution_count": 24,
   "metadata": {
    "collapsed": false
   },
   "outputs": [
    {
     "data": {
      "text/html": [
       "<table class=\"data-frame\"><tr><th></th><th>x1</th><th>x2</th><th>x3</th></tr><tr><th>1</th><td>Bill of Material: _TRCWS_PC_TOTAL_ASM</td><td>NA</td><td>NA</td></tr><tr><th>2</th><td>Quantity</td><td>Part Number</td><td>Type</td></tr><tr><th>3</th><td>1</td><td>_TRCWS_PC_TOTAL_SKEL</td><td>Part</td></tr><tr><th>4</th><td>1</td><td>TRCWS_PC_ITX_ASM</td><td>Assembly</td></tr><tr><th>5</th><td>1</td><td>TRCWS_PC_CASE_LEFT_ASM</td><td>Assembly</td></tr><tr><th>6</th><td>1</td><td>TRCWS_PC_CASE_RIGHT_ASM</td><td>Assembly</td></tr><tr><th>7</th><td>1</td><td>TRCWS_PC_CASE_REAR</td><td>Part</td></tr><tr><th>8</th><td>1</td><td>TRCWS_PC_CASE_TOP_ASM</td><td>Assembly</td></tr><tr><th>9</th><td>1</td><td>TRCWS_PC_CASE_BOT_ASM</td><td>Assembly</td></tr><tr><th>10</th><td>1</td><td>TRCWS_PC_CASE_FRONT_ASM</td><td>Assembly</td></tr><tr><th>11</th><td>NA</td><td>NA</td><td>NA</td></tr><tr><th>12</th><td>Bill of Material: TRCWS_PC_ITX_ASM</td><td>NA</td><td>NA</td></tr><tr><th>13</th><td>Quantity</td><td>Part Number</td><td>Type</td></tr><tr><th>14</th><td>1</td><td>TRCWS_PC_ITX_BRKT_MAIN_ASM</td><td>Assembly</td></tr><tr><th>15</th><td>1</td><td>TRCWS_PC_ITX_BRKT_SUB_ASM</td><td>Assembly</td></tr><tr><th>16</th><td>NA</td><td>NA</td><td>NA</td></tr><tr><th>17</th><td>Bill of Material: TRCWS_PC_ITX_BRKT_MAIN_ASM</td><td>NA</td><td>NA</td></tr><tr><th>18</th><td>Quantity</td><td>Part Number</td><td>Type</td></tr><tr><th>19</th><td>1</td><td>TRCWS_PC_ITX_BRKT_MAIN</td><td>Part</td></tr><tr><th>20</th><td>1</td><td>TRCWS_PCB_USB</td><td>Part</td></tr><tr><th>21</th><td>8</td><td>RDBOLT_M3X6L</td><td>Part</td></tr><tr><th>22</th><td>1</td><td>FAN_60X60X10</td><td>Part</td></tr><tr><th>23</th><td>4</td><td>WRENCH_BOLT_M4X20L</td><td>Part</td></tr><tr><th>24</th><td>1</td><td>TRCWS_PCB_SMPS</td><td>Part</td></tr><tr><th>25</th><td>1</td><td>TRCWS_PCB_ITX_ASM</td><td>Assembly</td></tr><tr><th>26</th><td>1</td><td>TRCWS_PCB_VGA_ASM</td><td>Assembly</td></tr><tr><th>27</th><td>1</td><td>TRCWS_PCB_VGA_EXT</td><td>Part</td></tr><tr><th>28</th><td>2</td><td>TRCWS_PC_ITX_CONDUCT</td><td>Part</td></tr><tr><th>29</th><td>NA</td><td>NA</td><td>NA</td></tr><tr><th>30</th><td>Bill of Material: TRCWS_PCB_ITX_ASM</td><td>NA</td><td>NA</td></tr><tr><th>&vellip;</th><td>&vellip;</td><td>&vellip;</td><td>&vellip;</td></tr></table>"
      ],
      "text/plain": [
       "101x3 DataFrames.DataFrame\n",
       "| Row | x1                                      | x2                        |\n",
       "|-----|-----------------------------------------|---------------------------|\n",
       "| 1   | \"Bill of Material: _TRCWS_PC_TOTAL_ASM\" | NA                        |\n",
       "| 2   | \"Quantity\"                              | \"Part Number\"             |\n",
       "| 3   | \"1\"                                     | \"_TRCWS_PC_TOTAL_SKEL\"    |\n",
       "| 4   | \"1\"                                     | \"TRCWS_PC_ITX_ASM\"        |\n",
       "| 5   | \"1\"                                     | \"TRCWS_PC_CASE_LEFT_ASM\"  |\n",
       "| 6   | \"1\"                                     | \"TRCWS_PC_CASE_RIGHT_ASM\" |\n",
       "| 7   | \"1\"                                     | \"TRCWS_PC_CASE_REAR\"      |\n",
       "| 8   | \"1\"                                     | \"TRCWS_PC_CASE_TOP_ASM\"   |\n",
       "| 9   | \"1\"                                     | \"TRCWS_PC_CASE_BOT_ASM\"   |\n",
       "| 10  | \"1\"                                     | \"TRCWS_PC_CASE_FRONT_ASM\" |\n",
       "| 11  | NA                                      | NA                        |\n",
       "⋮\n",
       "| 90  | \"1\"                                     | \"TRCWS_PC_HOOD_ASM\"       |\n",
       "| 91  | \"1\"                                     | \"TRCWS_PC_PANEL_ASM\"      |\n",
       "| 92  | NA                                      | NA                        |\n",
       "| 93  | \"Bill of Material: TRCWS_PC_HOOD_ASM\"   | NA                        |\n",
       "| 94  | \"Quantity\"                              | \"Part Number\"             |\n",
       "| 95  | \"1\"                                     | \"TRCWS_PC_HOOD\"           |\n",
       "| 96  | \"4\"                                     | \"WRENCH_BOLT_M4X10L\"      |\n",
       "| 97  | NA                                      | NA                        |\n",
       "| 98  | \"Bill of Material: TRCWS_PC_PANEL_ASM\"  | NA                        |\n",
       "| 99  | \"Quantity\"                              | \"Part Number\"             |\n",
       "| 100 | \"1\"                                     | \"TRCWS_PC_PANEL\"          |\n",
       "| 101 | \"4\"                                     | \"WRENCH_BOLT_M4X10L\"      |\n",
       "\n",
       "| Row | x3         |\n",
       "|-----|------------|\n",
       "| 1   | NA         |\n",
       "| 2   | \"Type\"     |\n",
       "| 3   | \"Part\"     |\n",
       "| 4   | \"Assembly\" |\n",
       "| 5   | \"Assembly\" |\n",
       "| 6   | \"Assembly\" |\n",
       "| 7   | \"Part\"     |\n",
       "| 8   | \"Assembly\" |\n",
       "| 9   | \"Assembly\" |\n",
       "| 10  | \"Assembly\" |\n",
       "| 11  | NA         |\n",
       "⋮\n",
       "| 90  | \"Assembly\" |\n",
       "| 91  | \"Assembly\" |\n",
       "| 92  | NA         |\n",
       "| 93  | NA         |\n",
       "| 94  | \"Type\"     |\n",
       "| 95  | \"Part\"     |\n",
       "| 96  | \"Part\"     |\n",
       "| 97  | NA         |\n",
       "| 98  | NA         |\n",
       "| 99  | \"Type\"     |\n",
       "| 100 | \"Part\"     |\n",
       "| 101 | \"Part\"     |"
      ]
     },
     "execution_count": 24,
     "metadata": {},
     "output_type": "execute_result"
    }
   ],
   "source": [
    "A = Taro.readxl(\"_trcws_pc_total_asm.xls\", \"Sheet1\", \"A2:C103\")"
   ]
  },
  {
   "cell_type": "code",
   "execution_count": 25,
   "metadata": {
    "collapsed": false
   },
   "outputs": [
    {
     "data": {
      "text/html": [
       "<table class=\"data-frame\"><tr><th></th><th>x1</th><th>x2</th><th>x3</th></tr><tr><th>1</th><td>1</td><td>TRCWS_PC_ITX_ASM</td><td>Assembly</td></tr></table>"
      ],
      "text/plain": [
       "1x3 DataFrames.DataFrame\n",
       "| Row | x1  | x2                 | x3         |\n",
       "|-----|-----|--------------------|------------|\n",
       "| 1   | \"1\" | \"TRCWS_PC_ITX_ASM\" | \"Assembly\" |"
      ]
     },
     "execution_count": 25,
     "metadata": {},
     "output_type": "execute_result"
    }
   ],
   "source": [
    "A[4,:]"
   ]
  },
  {
   "cell_type": "markdown",
   "metadata": {},
   "source": [
    "* 얻어진 행렬의 사이즈를 파악한다."
   ]
  },
  {
   "cell_type": "code",
   "execution_count": 32,
   "metadata": {
    "collapsed": false
   },
   "outputs": [
    {
     "data": {
      "text/plain": [
       "(101,3)"
      ]
     },
     "execution_count": 32,
     "metadata": {},
     "output_type": "execute_result"
    }
   ],
   "source": [
    "Size = size(A)"
   ]
  },
  {
   "cell_type": "code",
   "execution_count": 37,
   "metadata": {
    "collapsed": false
   },
   "outputs": [
    {
     "data": {
      "text/plain": [
       "101"
      ]
     },
     "execution_count": 37,
     "metadata": {},
     "output_type": "execute_result"
    }
   ],
   "source": [
    "Size[1]"
   ]
  },
  {
   "cell_type": "code",
   "execution_count": 40,
   "metadata": {
    "collapsed": false
   },
   "outputs": [
    {
     "data": {
      "text/plain": [
       "3"
      ]
     },
     "execution_count": 40,
     "metadata": {},
     "output_type": "execute_result"
    }
   ],
   "source": [
    "Size[2]"
   ]
  },
  {
   "cell_type": "markdown",
   "metadata": {},
   "source": [
    "* Tajo가 사용하고 있는 [DataFrame](https://github.com/JuliaStats/DataFrames.jl) 패키지의 기능을 이용하여 정보를 얻어내 본다.\n",
    "* DataFrame 패키지 입문 설명서 : https://en.wikibooks.org/wiki/Introducing_Julia/DataFrames"
   ]
  },
  {
   "cell_type": "code",
   "execution_count": 41,
   "metadata": {
    "collapsed": false
   },
   "outputs": [
    {
     "data": {
      "text/plain": [
       "DataFrames.DataFrame"
      ]
     },
     "execution_count": 41,
     "metadata": {},
     "output_type": "execute_result"
    }
   ],
   "source": [
    "typeof(A)"
   ]
  },
  {
   "cell_type": "code",
   "execution_count": 42,
   "metadata": {
    "collapsed": false
   },
   "outputs": [
    {
     "data": {
      "text/plain": [
       "3-element Array{Symbol,1}:\n",
       " :x1\n",
       " :x2\n",
       " :x3"
      ]
     },
     "execution_count": 42,
     "metadata": {},
     "output_type": "execute_result"
    }
   ],
   "source": [
    "names(A)"
   ]
  },
  {
   "cell_type": "code",
   "execution_count": 47,
   "metadata": {
    "collapsed": false
   },
   "outputs": [],
   "source": [
    "\n",
    "using DataFrames"
   ]
  },
  {
   "cell_type": "code",
   "execution_count": 48,
   "metadata": {
    "collapsed": false
   },
   "outputs": [
    {
     "data": {
      "text/html": [
       "<table class=\"data-frame\"><tr><th></th><th>x1</th><th>x2</th><th>x3</th></tr><tr><th>1</th><td>Bill of Material: _TRCWS_PC_TOTAL_ASM</td><td>NA</td><td>NA</td></tr><tr><th>2</th><td>Quantity</td><td>Part Number</td><td>Type</td></tr><tr><th>3</th><td>1</td><td>_TRCWS_PC_TOTAL_SKEL</td><td>Part</td></tr><tr><th>4</th><td>1</td><td>TRCWS_PC_ITX_ASM</td><td>Assembly</td></tr><tr><th>5</th><td>1</td><td>TRCWS_PC_CASE_LEFT_ASM</td><td>Assembly</td></tr><tr><th>6</th><td>1</td><td>TRCWS_PC_CASE_RIGHT_ASM</td><td>Assembly</td></tr></table>"
      ],
      "text/plain": [
       "6x3 DataFrames.DataFrame\n",
       "| Row | x1                                      | x2                        |\n",
       "|-----|-----------------------------------------|---------------------------|\n",
       "| 1   | \"Bill of Material: _TRCWS_PC_TOTAL_ASM\" | NA                        |\n",
       "| 2   | \"Quantity\"                              | \"Part Number\"             |\n",
       "| 3   | \"1\"                                     | \"_TRCWS_PC_TOTAL_SKEL\"    |\n",
       "| 4   | \"1\"                                     | \"TRCWS_PC_ITX_ASM\"        |\n",
       "| 5   | \"1\"                                     | \"TRCWS_PC_CASE_LEFT_ASM\"  |\n",
       "| 6   | \"1\"                                     | \"TRCWS_PC_CASE_RIGHT_ASM\" |\n",
       "\n",
       "| Row | x3         |\n",
       "|-----|------------|\n",
       "| 1   | NA         |\n",
       "| 2   | \"Type\"     |\n",
       "| 3   | \"Part\"     |\n",
       "| 4   | \"Assembly\" |\n",
       "| 5   | \"Assembly\" |\n",
       "| 6   | \"Assembly\" |"
      ]
     },
     "execution_count": 48,
     "metadata": {},
     "output_type": "execute_result"
    }
   ],
   "source": [
    "head(A)"
   ]
  },
  {
   "cell_type": "code",
   "execution_count": 49,
   "metadata": {
    "collapsed": false
   },
   "outputs": [
    {
     "data": {
      "text/html": [
       "<table class=\"data-frame\"><tr><th></th><th>x1</th><th>x2</th><th>x3</th></tr><tr><th>1</th><td>4</td><td>WRENCH_BOLT_M4X10L</td><td>Part</td></tr><tr><th>2</th><td>NA</td><td>NA</td><td>NA</td></tr><tr><th>3</th><td>Bill of Material: TRCWS_PC_PANEL_ASM</td><td>NA</td><td>NA</td></tr><tr><th>4</th><td>Quantity</td><td>Part Number</td><td>Type</td></tr><tr><th>5</th><td>1</td><td>TRCWS_PC_PANEL</td><td>Part</td></tr><tr><th>6</th><td>4</td><td>WRENCH_BOLT_M4X10L</td><td>Part</td></tr></table>"
      ],
      "text/plain": [
       "6x3 DataFrames.DataFrame\n",
       "| Row | x1                                     | x2                   | x3     |\n",
       "|-----|----------------------------------------|----------------------|--------|\n",
       "| 1   | \"4\"                                    | \"WRENCH_BOLT_M4X10L\" | \"Part\" |\n",
       "| 2   | NA                                     | NA                   | NA     |\n",
       "| 3   | \"Bill of Material: TRCWS_PC_PANEL_ASM\" | NA                   | NA     |\n",
       "| 4   | \"Quantity\"                             | \"Part Number\"        | \"Type\" |\n",
       "| 5   | \"1\"                                    | \"TRCWS_PC_PANEL\"     | \"Part\" |\n",
       "| 6   | \"4\"                                    | \"WRENCH_BOLT_M4X10L\" | \"Part\" |"
      ]
     },
     "execution_count": 49,
     "metadata": {},
     "output_type": "execute_result"
    }
   ],
   "source": [
    "tail(A)"
   ]
  },
  {
   "cell_type": "code",
   "execution_count": 51,
   "metadata": {
    "collapsed": false
   },
   "outputs": [
    {
     "name": "stdout",
     "output_type": "stream",
     "text": [
      "101x3 DataFrames.DataFrame\n",
      "| Col # | Name | Eltype | Missing |\n",
      "|-------|------|--------|---------|\n",
      "| 1     | x1   | Any    | 12      |\n",
      "| 2     | x2   | Any    | 25      |\n",
      "| 3     | x3   | Any    | 25      |"
     ]
    }
   ],
   "source": [
    "showcols(A)"
   ]
  },
  {
   "cell_type": "code",
   "execution_count": 52,
   "metadata": {
    "collapsed": false
   },
   "outputs": [
    {
     "data": {
      "text/plain": [
       "101-element DataArrays.DataArray{Any,1}:\n",
       " \"Bill of Material: _TRCWS_PC_TOTAL_ASM\"\n",
       " \"Quantity\"                             \n",
       " \"1\"                                    \n",
       " \"1\"                                    \n",
       " \"1\"                                    \n",
       " \"1\"                                    \n",
       " \"1\"                                    \n",
       " \"1\"                                    \n",
       " \"1\"                                    \n",
       " \"1\"                                    \n",
       " NA                                     \n",
       " \"Bill of Material: TRCWS_PC_ITX_ASM\"   \n",
       " \"Quantity\"                             \n",
       " ⋮                                      \n",
       " \"1\"                                    \n",
       " \"1\"                                    \n",
       " NA                                     \n",
       " \"Bill of Material: TRCWS_PC_HOOD_ASM\"  \n",
       " \"Quantity\"                             \n",
       " \"1\"                                    \n",
       " \"4\"                                    \n",
       " NA                                     \n",
       " \"Bill of Material: TRCWS_PC_PANEL_ASM\" \n",
       " \"Quantity\"                             \n",
       " \"1\"                                    \n",
       " \"4\"                                    "
      ]
     },
     "execution_count": 52,
     "metadata": {},
     "output_type": "execute_result"
    }
   ],
   "source": [
    "A[:x1]"
   ]
  },
  {
   "cell_type": "code",
   "execution_count": 53,
   "metadata": {
    "collapsed": false
   },
   "outputs": [
    {
     "data": {
      "text/plain": [
       "101-element DataArrays.DataArray{Any,1}:\n",
       " NA                       \n",
       " \"Part Number\"            \n",
       " \"_TRCWS_PC_TOTAL_SKEL\"   \n",
       " \"TRCWS_PC_ITX_ASM\"       \n",
       " \"TRCWS_PC_CASE_LEFT_ASM\" \n",
       " \"TRCWS_PC_CASE_RIGHT_ASM\"\n",
       " \"TRCWS_PC_CASE_REAR\"     \n",
       " \"TRCWS_PC_CASE_TOP_ASM\"  \n",
       " \"TRCWS_PC_CASE_BOT_ASM\"  \n",
       " \"TRCWS_PC_CASE_FRONT_ASM\"\n",
       " NA                       \n",
       " NA                       \n",
       " \"Part Number\"            \n",
       " ⋮                        \n",
       " \"TRCWS_PC_HOOD_ASM\"      \n",
       " \"TRCWS_PC_PANEL_ASM\"     \n",
       " NA                       \n",
       " NA                       \n",
       " \"Part Number\"            \n",
       " \"TRCWS_PC_HOOD\"          \n",
       " \"WRENCH_BOLT_M4X10L\"     \n",
       " NA                       \n",
       " NA                       \n",
       " \"Part Number\"            \n",
       " \"TRCWS_PC_PANEL\"         \n",
       " \"WRENCH_BOLT_M4X10L\"     "
      ]
     },
     "execution_count": 53,
     "metadata": {},
     "output_type": "execute_result"
    }
   ],
   "source": [
    "A[:x2]"
   ]
  },
  {
   "cell_type": "code",
   "execution_count": 54,
   "metadata": {
    "collapsed": false
   },
   "outputs": [
    {
     "data": {
      "text/plain": [
       "101-element DataArrays.DataArray{Any,1}:\n",
       " NA        \n",
       " \"Type\"    \n",
       " \"Part\"    \n",
       " \"Assembly\"\n",
       " \"Assembly\"\n",
       " \"Assembly\"\n",
       " \"Part\"    \n",
       " \"Assembly\"\n",
       " \"Assembly\"\n",
       " \"Assembly\"\n",
       " NA        \n",
       " NA        \n",
       " \"Type\"    \n",
       " ⋮         \n",
       " \"Assembly\"\n",
       " \"Assembly\"\n",
       " NA        \n",
       " NA        \n",
       " \"Type\"    \n",
       " \"Part\"    \n",
       " \"Part\"    \n",
       " NA        \n",
       " NA        \n",
       " \"Type\"    \n",
       " \"Part\"    \n",
       " \"Part\"    "
      ]
     },
     "execution_count": 54,
     "metadata": {},
     "output_type": "execute_result"
    }
   ],
   "source": [
    "A[:x3]"
   ]
  },
  {
   "cell_type": "markdown",
   "metadata": {},
   "source": [
    "* 특정 영역의 데이타만 쏙 뽑아내기"
   ]
  },
  {
   "cell_type": "code",
   "execution_count": 55,
   "metadata": {
    "collapsed": false
   },
   "outputs": [
    {
     "data": {
      "text/html": [
       "<table class=\"data-frame\"><tr><th></th><th>x1</th><th>x2</th><th>x3</th></tr><tr><th>1</th><td>1</td><td>_TRCWS_PC_TOTAL_SKEL</td><td>Part</td></tr><tr><th>2</th><td>1</td><td>TRCWS_PC_ITX_ASM</td><td>Assembly</td></tr><tr><th>3</th><td>1</td><td>TRCWS_PC_CASE_LEFT_ASM</td><td>Assembly</td></tr><tr><th>4</th><td>1</td><td>TRCWS_PC_CASE_RIGHT_ASM</td><td>Assembly</td></tr><tr><th>5</th><td>1</td><td>TRCWS_PC_CASE_REAR</td><td>Part</td></tr><tr><th>6</th><td>1</td><td>TRCWS_PC_CASE_TOP_ASM</td><td>Assembly</td></tr><tr><th>7</th><td>1</td><td>TRCWS_PC_CASE_BOT_ASM</td><td>Assembly</td></tr><tr><th>8</th><td>1</td><td>TRCWS_PC_CASE_FRONT_ASM</td><td>Assembly</td></tr></table>"
      ],
      "text/plain": [
       "8x3 DataFrames.DataFrame\n",
       "| Row | x1  | x2                        | x3         |\n",
       "|-----|-----|---------------------------|------------|\n",
       "| 1   | \"1\" | \"_TRCWS_PC_TOTAL_SKEL\"    | \"Part\"     |\n",
       "| 2   | \"1\" | \"TRCWS_PC_ITX_ASM\"        | \"Assembly\" |\n",
       "| 3   | \"1\" | \"TRCWS_PC_CASE_LEFT_ASM\"  | \"Assembly\" |\n",
       "| 4   | \"1\" | \"TRCWS_PC_CASE_RIGHT_ASM\" | \"Assembly\" |\n",
       "| 5   | \"1\" | \"TRCWS_PC_CASE_REAR\"      | \"Part\"     |\n",
       "| 6   | \"1\" | \"TRCWS_PC_CASE_TOP_ASM\"   | \"Assembly\" |\n",
       "| 7   | \"1\" | \"TRCWS_PC_CASE_BOT_ASM\"   | \"Assembly\" |\n",
       "| 8   | \"1\" | \"TRCWS_PC_CASE_FRONT_ASM\" | \"Assembly\" |"
      ]
     },
     "execution_count": 55,
     "metadata": {},
     "output_type": "execute_result"
    }
   ],
   "source": [
    "A[3:10,[:x1,:x2,:x3]]"
   ]
  },
  {
   "cell_type": "code",
   "execution_count": 60,
   "metadata": {
    "collapsed": false
   },
   "outputs": [
    {
     "data": {
      "text/html": [
       "<table class=\"data-frame\"><tr><th></th><th>Quantity</th><th>PartNumber</th><th>Type</th></tr><tr><th>1</th><td>Bill of Material: _TRCWS_PC_TOTAL_ASM</td><td>NA</td><td>NA</td></tr><tr><th>2</th><td>Quantity</td><td>Part Number</td><td>Type</td></tr><tr><th>3</th><td>1</td><td>_TRCWS_PC_TOTAL_SKEL</td><td>Part</td></tr><tr><th>4</th><td>1</td><td>TRCWS_PC_ITX_ASM</td><td>Assembly</td></tr><tr><th>5</th><td>1</td><td>TRCWS_PC_CASE_LEFT_ASM</td><td>Assembly</td></tr><tr><th>6</th><td>1</td><td>TRCWS_PC_CASE_RIGHT_ASM</td><td>Assembly</td></tr><tr><th>7</th><td>1</td><td>TRCWS_PC_CASE_REAR</td><td>Part</td></tr><tr><th>8</th><td>1</td><td>TRCWS_PC_CASE_TOP_ASM</td><td>Assembly</td></tr><tr><th>9</th><td>1</td><td>TRCWS_PC_CASE_BOT_ASM</td><td>Assembly</td></tr><tr><th>10</th><td>1</td><td>TRCWS_PC_CASE_FRONT_ASM</td><td>Assembly</td></tr><tr><th>11</th><td>NA</td><td>NA</td><td>NA</td></tr><tr><th>12</th><td>Bill of Material: TRCWS_PC_ITX_ASM</td><td>NA</td><td>NA</td></tr><tr><th>13</th><td>Quantity</td><td>Part Number</td><td>Type</td></tr><tr><th>14</th><td>1</td><td>TRCWS_PC_ITX_BRKT_MAIN_ASM</td><td>Assembly</td></tr><tr><th>15</th><td>1</td><td>TRCWS_PC_ITX_BRKT_SUB_ASM</td><td>Assembly</td></tr><tr><th>16</th><td>NA</td><td>NA</td><td>NA</td></tr><tr><th>17</th><td>Bill of Material: TRCWS_PC_ITX_BRKT_MAIN_ASM</td><td>NA</td><td>NA</td></tr><tr><th>18</th><td>Quantity</td><td>Part Number</td><td>Type</td></tr><tr><th>19</th><td>1</td><td>TRCWS_PC_ITX_BRKT_MAIN</td><td>Part</td></tr><tr><th>20</th><td>1</td><td>TRCWS_PCB_USB</td><td>Part</td></tr><tr><th>21</th><td>8</td><td>RDBOLT_M3X6L</td><td>Part</td></tr><tr><th>22</th><td>1</td><td>FAN_60X60X10</td><td>Part</td></tr><tr><th>23</th><td>4</td><td>WRENCH_BOLT_M4X20L</td><td>Part</td></tr><tr><th>24</th><td>1</td><td>TRCWS_PCB_SMPS</td><td>Part</td></tr><tr><th>25</th><td>1</td><td>TRCWS_PCB_ITX_ASM</td><td>Assembly</td></tr><tr><th>26</th><td>1</td><td>TRCWS_PCB_VGA_ASM</td><td>Assembly</td></tr><tr><th>27</th><td>1</td><td>TRCWS_PCB_VGA_EXT</td><td>Part</td></tr><tr><th>28</th><td>2</td><td>TRCWS_PC_ITX_CONDUCT</td><td>Part</td></tr><tr><th>29</th><td>NA</td><td>NA</td><td>NA</td></tr><tr><th>30</th><td>Bill of Material: TRCWS_PCB_ITX_ASM</td><td>NA</td><td>NA</td></tr><tr><th>&vellip;</th><td>&vellip;</td><td>&vellip;</td><td>&vellip;</td></tr></table>"
      ],
      "text/plain": [
       "101x3 DataFrames.DataFrame\n",
       "| Row | Quantity                                | PartNumber                |\n",
       "|-----|-----------------------------------------|---------------------------|\n",
       "| 1   | \"Bill of Material: _TRCWS_PC_TOTAL_ASM\" | NA                        |\n",
       "| 2   | \"Quantity\"                              | \"Part Number\"             |\n",
       "| 3   | \"1\"                                     | \"_TRCWS_PC_TOTAL_SKEL\"    |\n",
       "| 4   | \"1\"                                     | \"TRCWS_PC_ITX_ASM\"        |\n",
       "| 5   | \"1\"                                     | \"TRCWS_PC_CASE_LEFT_ASM\"  |\n",
       "| 6   | \"1\"                                     | \"TRCWS_PC_CASE_RIGHT_ASM\" |\n",
       "| 7   | \"1\"                                     | \"TRCWS_PC_CASE_REAR\"      |\n",
       "| 8   | \"1\"                                     | \"TRCWS_PC_CASE_TOP_ASM\"   |\n",
       "| 9   | \"1\"                                     | \"TRCWS_PC_CASE_BOT_ASM\"   |\n",
       "| 10  | \"1\"                                     | \"TRCWS_PC_CASE_FRONT_ASM\" |\n",
       "| 11  | NA                                      | NA                        |\n",
       "⋮\n",
       "| 90  | \"1\"                                     | \"TRCWS_PC_HOOD_ASM\"       |\n",
       "| 91  | \"1\"                                     | \"TRCWS_PC_PANEL_ASM\"      |\n",
       "| 92  | NA                                      | NA                        |\n",
       "| 93  | \"Bill of Material: TRCWS_PC_HOOD_ASM\"   | NA                        |\n",
       "| 94  | \"Quantity\"                              | \"Part Number\"             |\n",
       "| 95  | \"1\"                                     | \"TRCWS_PC_HOOD\"           |\n",
       "| 96  | \"4\"                                     | \"WRENCH_BOLT_M4X10L\"      |\n",
       "| 97  | NA                                      | NA                        |\n",
       "| 98  | \"Bill of Material: TRCWS_PC_PANEL_ASM\"  | NA                        |\n",
       "| 99  | \"Quantity\"                              | \"Part Number\"             |\n",
       "| 100 | \"1\"                                     | \"TRCWS_PC_PANEL\"          |\n",
       "| 101 | \"4\"                                     | \"WRENCH_BOLT_M4X10L\"      |\n",
       "\n",
       "| Row | Type       |\n",
       "|-----|------------|\n",
       "| 1   | NA         |\n",
       "| 2   | \"Type\"     |\n",
       "| 3   | \"Part\"     |\n",
       "| 4   | \"Assembly\" |\n",
       "| 5   | \"Assembly\" |\n",
       "| 6   | \"Assembly\" |\n",
       "| 7   | \"Part\"     |\n",
       "| 8   | \"Assembly\" |\n",
       "| 9   | \"Assembly\" |\n",
       "| 10  | \"Assembly\" |\n",
       "| 11  | NA         |\n",
       "⋮\n",
       "| 90  | \"Assembly\" |\n",
       "| 91  | \"Assembly\" |\n",
       "| 92  | NA         |\n",
       "| 93  | NA         |\n",
       "| 94  | \"Type\"     |\n",
       "| 95  | \"Part\"     |\n",
       "| 96  | \"Part\"     |\n",
       "| 97  | NA         |\n",
       "| 98  | NA         |\n",
       "| 99  | \"Type\"     |\n",
       "| 100 | \"Part\"     |\n",
       "| 101 | \"Part\"     |"
      ]
     },
     "execution_count": 60,
     "metadata": {},
     "output_type": "execute_result"
    }
   ],
   "source": [
    "rename!(A, [:x1, :x2, :x3], [:Quantity, :PartNumber, :Type])\n"
   ]
  },
  {
   "cell_type": "markdown",
   "metadata": {},
   "source": [
    "* `\tBill of Material: ` 문구가 포함된 행을 파악한다.\n"
   ]
  },
  {
   "cell_type": "code",
   "execution_count": 62,
   "metadata": {
    "collapsed": false
   },
   "outputs": [
    {
     "ename": "LoadError",
     "evalue": "LoadError: MethodError: `contains` has no method matching contains(::DataArrays.NAtype, ::ASCIIString)\nClosest candidates are:\n  contains(!Matched::Function, ::Any, !Matched::Any)\n  contains(!Matched::AbstractString, ::AbstractString)\nwhile loading In[62], in expression starting on line 9",
     "output_type": "error",
     "traceback": [
      "LoadError: MethodError: `contains` has no method matching contains(::DataArrays.NAtype, ::ASCIIString)\nClosest candidates are:\n  contains(!Matched::Function, ::Any, !Matched::Any)\n  contains(!Matched::AbstractString, ::AbstractString)\nwhile loading In[62], in expression starting on line 9",
      "",
      " in findstringarray at In[62]:4"
     ]
    }
   ],
   "source": [
    "function findstringarray(ary, s)\n",
    "   res = Any[]\n",
    "   for e in ary\n",
    "    contains(e, s) ? push!(res, true) : push!(res, false)\n",
    "   end\n",
    "   return res\n",
    "end\n",
    "\n",
    "findstringarray(A[:,:Quantity], \"Bill of Material: \")"
   ]
  },
  {
   "cell_type": "code",
   "execution_count": 65,
   "metadata": {
    "collapsed": false
   },
   "outputs": [
    {
     "data": {
      "text/plain": [
       "\"Bill of Material: _TRCWS_PC_TOTAL_ASM\""
      ]
     },
     "execution_count": 65,
     "metadata": {},
     "output_type": "execute_result"
    }
   ],
   "source": [
    "A[1,:Quantity]"
   ]
  },
  {
   "cell_type": "code",
   "execution_count": 66,
   "metadata": {
    "collapsed": false
   },
   "outputs": [
    {
     "data": {
      "text/plain": [
       "true"
      ]
     },
     "execution_count": 66,
     "metadata": {},
     "output_type": "execute_result"
    }
   ],
   "source": [
    "A[1,:Quantity] == \"Bill of Material: _TRCWS_PC_TOTAL_ASM\""
   ]
  },
  {
   "cell_type": "code",
   "execution_count": 67,
   "metadata": {
    "collapsed": false
   },
   "outputs": [
    {
     "data": {
      "text/plain": [
       "false"
      ]
     },
     "execution_count": 67,
     "metadata": {},
     "output_type": "execute_result"
    }
   ],
   "source": [
    "A[1,:Quantity] == \"Bill of Material: \""
   ]
  },
  {
   "cell_type": "markdown",
   "metadata": {},
   "source": [
    "* contains 함수 사용\n",
    "https://en.wikibooks.org/wiki/Introducing_Julia/Strings_and_characters"
   ]
  },
  {
   "cell_type": "code",
   "execution_count": 70,
   "metadata": {
    "collapsed": false
   },
   "outputs": [
    {
     "data": {
      "text/plain": [
       "true"
      ]
     },
     "execution_count": 70,
     "metadata": {},
     "output_type": "execute_result"
    }
   ],
   "source": [
    "contains(A[1,:Quantity], \"Bill of Material: \")"
   ]
  },
  {
   "cell_type": "markdown",
   "metadata": {},
   "source": [
    "* search 함수 사용"
   ]
  },
  {
   "cell_type": "code",
   "execution_count": 73,
   "metadata": {
    "collapsed": false
   },
   "outputs": [
    {
     "data": {
      "text/plain": [
       "1:18"
      ]
     },
     "execution_count": 73,
     "metadata": {},
     "output_type": "execute_result"
    }
   ],
   "source": [
    "search(A[1,:Quantity], \"Bill of Material: \")"
   ]
  },
  {
   "cell_type": "code",
   "execution_count": 5,
   "metadata": {
    "collapsed": false
   },
   "outputs": [
    {
     "data": {
      "text/plain": [
       "(1001,3)"
      ]
     },
     "execution_count": 5,
     "metadata": {},
     "output_type": "execute_result"
    }
   ],
   "source": [
    "using Taro\n",
    "#Taro.init()\n",
    "A = Taro.readxl(\"_trcws_pc_total_asm.xls\", \"Sheet1\", \"A2:C1003\")\n",
    "size(A)"
   ]
  },
  {
   "cell_type": "code",
   "execution_count": null,
   "metadata": {
    "collapsed": true
   },
   "outputs": [],
   "source": []
  }
 ],
 "metadata": {
  "anaconda-cloud": {},
  "kernelspec": {
   "display_name": "Julia 0.5.0",
   "language": "julia",
   "name": "julia-0.5"
  },
  "language_info": {
   "file_extension": ".jl",
   "mimetype": "application/julia",
   "name": "julia",
   "version": "0.5.0"
  }
 },
 "nbformat": 4,
 "nbformat_minor": 0
}
