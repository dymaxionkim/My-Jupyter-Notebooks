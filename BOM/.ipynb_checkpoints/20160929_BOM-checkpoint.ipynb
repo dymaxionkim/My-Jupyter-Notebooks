{
 "cells": [
  {
   "cell_type": "markdown",
   "metadata": {},
   "source": [
    "# ExcelReaders.jl\n",
    "\n",
    "* Source : https://github.com/davidanthoff/ExcelReaders.jl\n",
    "* 엑셀 파일 읽어들이는 툴.  파이썬 xlrd 베이스.  (비슷한 기능을 하는 Taro.jl은 자바 Tika/POI 베이스)\n",
    "* 시스템에 자바가 설치되어 있지 않으므로, 파이썬 베이스인 ExcelReaders.jl을 설치하기로 함."
   ]
  },
  {
   "cell_type": "code",
   "execution_count": 1,
   "metadata": {
    "collapsed": false
   },
   "outputs": [
    {
     "name": "stderr",
     "output_type": "stream",
     "text": [
      "INFO: Cloning cache of DataArrays from https://github.com/JuliaStats/DataArrays.jl.git\n",
      "INFO: Cloning cache of DataFrames from https://github.com/JuliaStats/DataFrames.jl.git\n",
      "INFO: Cloning cache of Dates from https://github.com/quinnj/Dates.jl.git\n",
      "INFO: Cloning cache of ExcelReaders from https://github.com/davidanthoff/ExcelReaders.jl.git\n",
      "INFO: Cloning cache of GZip from https://github.com/JuliaIO/GZip.jl.git\n",
      "INFO: Cloning cache of SortingAlgorithms from https://github.com/JuliaLang/SortingAlgorithms.jl.git\n",
      "INFO: Installing DataArrays v0.3.8\n",
      "INFO: Installing DataFrames v0.8.3\n",
      "INFO: Installing Dates v0.4.4\n",
      "INFO: Installing ExcelReaders v0.6.0\n",
      "INFO: Installing GZip v0.2.20\n",
      "INFO: Installing SortingAlgorithms v0.1.0\n",
      "INFO: Building Rmath\n",
      "INFO: Building PyCall\n",
      "INFO: PyCall is using /home/dong/anaconda3/bin/python (Python 3.5.2) at /home/dong/anaconda3/bin/python, libpython = /home/dong/anaconda3/lib/libpython3.5m\n",
      "INFO: Package database updated\n",
      "INFO: METADATA is out-of-date — you may not have the latest version of ExcelReaders\n",
      "INFO: Use `Pkg.update()` to get the latest versions of your packages\n"
     ]
    }
   ],
   "source": [
    "# 패키지 설치\n",
    "Pkg.add(\"ExcelReaders\")"
   ]
  },
  {
   "cell_type": "code",
   "execution_count": 2,
   "metadata": {
    "collapsed": false
   },
   "outputs": [
    {
     "name": "stderr",
     "output_type": "stream",
     "text": [
      "INFO: Updating METADATA...\n",
      "INFO: Updating cache of DataFrames...\n",
      "INFO: Updating cache of DataFrames...\n",
      "INFO: Computing changes...\n",
      "INFO: Upgrading StatsBase: v0.9.0 => v0.10.0\n",
      "INFO: Removing Rmath v0.1.3\n",
      "INFO: Removing StatsFuns v0.3.1\n"
     ]
    }
   ],
   "source": [
    "Pkg.update()"
   ]
  },
  {
   "cell_type": "markdown",
   "metadata": {},
   "source": [
    "# Dataframes.jl\n",
    "\n",
    "* 파이썬 Pandas 기반.  표(데이블)를 다루는 가장 일반적인 툴.\n",
    "* Source : https://github.com/JuliaStats/DataFrames.jl\n",
    "* Doc : \n",
    "  * http://juliastats.github.io/DataFrames.jl/latest/index.html\n",
    "  * https://dataframesjl.readthedocs.io/en/latest/\n",
    "  * https://en.wikibooks.org/wiki/Introducing_Julia/DataFrames#Finding_values_in_DataFrames\n",
    "  * http://sinhrks.hatenablog.com/entry/2015/12/23/003321"
   ]
  },
  {
   "cell_type": "code",
   "execution_count": 3,
   "metadata": {
    "collapsed": false
   },
   "outputs": [
    {
     "name": "stderr",
     "output_type": "stream",
     "text": [
      "INFO: Nothing to be done\n"
     ]
    }
   ],
   "source": [
    "# 패키지 설치\n",
    "Pkg.add(\"DataFrames\")"
   ]
  },
  {
   "cell_type": "code",
   "execution_count": 8,
   "metadata": {
    "collapsed": false
   },
   "outputs": [
    {
     "data": {
      "text/plain": [
       "v\"0.8.3\""
      ]
     },
     "execution_count": 8,
     "metadata": {},
     "output_type": "execute_result"
    }
   ],
   "source": [
    "# 패키지가 설치되어 있는지 확인\n",
    "Pkg.installed(\"DataFrames\")"
   ]
  },
  {
   "cell_type": "markdown",
   "metadata": {},
   "source": [
    "### 예제 함수 모음\n",
    "* https://github.com/YongHee-Kim/noProgrammer.jl/blob/master/noProgrammer.jl"
   ]
  },
  {
   "cell_type": "markdown",
   "metadata": {},
   "source": [
    "### Bash 커널로 현재 디렉토리의 파일 확인"
   ]
  },
  {
   "cell_type": "code",
   "execution_count": 1,
   "metadata": {
    "collapsed": false
   },
   "outputs": [
    {
     "name": "stdout",
     "output_type": "stream",
     "text": [
      "20160929_BOM.ipynb  BOM01.ipynb  _trcws_pc_total_asm.xls\r\n"
     ]
    }
   ],
   "source": [
    "ls"
   ]
  },
  {
   "cell_type": "markdown",
   "metadata": {},
   "source": [
    "### Julia 커널로 돌아온 후, 작업 준비"
   ]
  },
  {
   "cell_type": "code",
   "execution_count": 1,
   "metadata": {
    "collapsed": false
   },
   "outputs": [],
   "source": [
    "using ExcelReaders\n",
    "using DataFrames"
   ]
  },
  {
   "cell_type": "markdown",
   "metadata": {},
   "source": [
    "### 엑셀 파일 읽기"
   ]
  },
  {
   "cell_type": "code",
   "execution_count": 2,
   "metadata": {
    "collapsed": false
   },
   "outputs": [
    {
     "data": {
      "text/plain": [
       "150×5 DataArrays.DataArray{Any,2}:\n",
       " \"2015년 12월 25일 금요일 오전 12:27:43\"          …  NA        \n",
       " NA                                          NA        \n",
       " \"Bill of Material: _TRCWS_PC_TOTAL_ASM\"     NA        \n",
       " \"Quantity\"                                  \"Revision\"\n",
       " \"1\"                                         \"33\"      \n",
       " \"1\"                                      …  \"9\"       \n",
       " \"1\"                                         \"7\"       \n",
       " \"1\"                                         \"8\"       \n",
       " \"1\"                                         \"8\"       \n",
       " \"1\"                                         \"5\"       \n",
       " \"1\"                                      …  \"5\"       \n",
       " \"1\"                                         \"3\"       \n",
       " NA                                          NA        \n",
       " ⋮                                        ⋱            \n",
       " \"1\"                                         NA        \n",
       " \"3\"                                         NA        \n",
       " \"16\"                                     …  NA        \n",
       " \"1\"                                         NA        \n",
       " \"1\"                                         NA        \n",
       " \"1\"                                         NA        \n",
       " \"2\"                                         NA        \n",
       " \"1\"                                      …  NA        \n",
       " \"1\"                                         NA        \n",
       " \"1\"                                         NA        \n",
       " \"1\"                                         NA        \n",
       " \"1\"                                         NA        "
      ]
     },
     "execution_count": 2,
     "metadata": {},
     "output_type": "execute_result"
    }
   ],
   "source": [
    "# 지정 파일의 Sheet1 시트의 내용 전부 다 읽어들이기\n",
    "data = readxlsheet(\"_trcws_pc_total_asm.xls\", \"Sheet1\")"
   ]
  },
  {
   "cell_type": "markdown",
   "metadata": {},
   "source": [
    "### 엑셀 파일을 읽어서 DataFrames 구조체로 바로 넣기"
   ]
  },
  {
   "cell_type": "code",
   "execution_count": 13,
   "metadata": {
    "collapsed": false
   },
   "outputs": [
    {
     "ename": "LoadError",
     "evalue": "LoadError: There can't be empty cells in the header row.\nwhile loading In[13], in expression starting on line 1",
     "output_type": "error",
     "traceback": [
      "LoadError: There can't be empty cells in the header row.\nwhile loading In[13], in expression starting on line 1",
      "",
      " in #readxl_internal#12(::Bool, ::Array{Symbol,1}, ::Function, ::Type{DataFrames.DataFrame}, ::ExcelReaders.ExcelFile, ::String, ::Int32, ::Int32, ::Int32, ::Int32) at /home/dong/.julia/v0.5/ExcelReaders/src/ExcelReaders.jl:280",
      " in (::ExcelReaders.#kw##readxl_internal)(::Array{Any,1}, ::ExcelReaders.#readxl_internal, ::Type{DataFrames.DataFrame}, ::ExcelReaders.ExcelFile, ::String, ::Int32, ::Int32, ::Int32, ::Int32) at ./<missing>:0",
      " in #readxlsheet#11(::Bool, ::Array{Symbol,1}, ::Array{Any,1}, ::Function, ::Type{DataFrames.DataFrame}, ::ExcelReaders.ExcelFile, ::String) at /home/dong/.julia/v0.5/ExcelReaders/src/ExcelReaders.jl:268",
      " in (::ExcelReaders.#kw##readxlsheet)(::Array{Any,1}, ::ExcelReaders.#readxlsheet, ::Type{DataFrames.DataFrame}, ::ExcelReaders.ExcelFile, ::String) at ./<missing>:0",
      " in #readxlsheet#10(::Bool, ::Array{Symbol,1}, ::Array{Any,1}, ::Function, ::Type{DataFrames.DataFrame}, ::String, ::String) at /home/dong/.julia/v0.5/ExcelReaders/src/ExcelReaders.jl:262",
      " in readxlsheet(::Type{DataFrames.DataFrame}, ::String, ::String) at /home/dong/.julia/v0.5/ExcelReaders/src/ExcelReaders.jl:261"
     ]
    }
   ],
   "source": [
    "df = readxlsheet(DataFrame, \"_trcws_pc_total_asm.xls\", \"Sheet1\")"
   ]
  },
  {
   "cell_type": "markdown",
   "metadata": {},
   "source": [
    "#### 에러가 났으므로 헤더를 생략하는 옵션을 줘서 다시 읽어보자."
   ]
  },
  {
   "cell_type": "code",
   "execution_count": 14,
   "metadata": {
    "collapsed": false
   },
   "outputs": [
    {
     "data": {
      "text/html": [
       "<table class=\"data-frame\"><tr><th></th><th>x1</th><th>x2</th><th>x3</th><th>x4</th><th>x5</th></tr><tr><th>1</th><td>2015년 12월 25일 금요일 오전 12:27:43</td><td>NA</td><td>NA</td><td>NA</td><td>NA</td></tr><tr><th>2</th><td>NA</td><td>NA</td><td>NA</td><td>NA</td><td>NA</td></tr><tr><th>3</th><td>Bill of Material: _TRCWS_PC_TOTAL_ASM</td><td>NA</td><td>NA</td><td>NA</td><td>NA</td></tr><tr><th>4</th><td>Quantity</td><td>Part Number</td><td>Type</td><td>Nomenclature</td><td>Revision</td></tr><tr><th>5</th><td>1</td><td>_TRCWS_PC_TOTAL_SKEL</td><td>Part</td><td>_TRCWS_PC_TOTAL_SKEL</td><td>33</td></tr><tr><th>6</th><td>1</td><td>TRCWS_PC_ITX_ASM</td><td>Assembly</td><td>TRCWS_PC_ITX_ASM</td><td>9</td></tr><tr><th>7</th><td>1</td><td>TRCWS_PC_CASE_LEFT_ASM</td><td>Assembly</td><td>TRCWS_PC_CASE_LEFT_ASM</td><td>7</td></tr><tr><th>8</th><td>1</td><td>TRCWS_PC_CASE_RIGHT_ASM</td><td>Assembly</td><td>TRCWS_PC_CASE_RIGHT_ASM</td><td>8</td></tr><tr><th>9</th><td>1</td><td>TRCWS_PC_CASE_REAR</td><td>Part</td><td>TRCWS_PC_CASE_REAR</td><td>8</td></tr><tr><th>10</th><td>1</td><td>TRCWS_PC_CASE_TOP_ASM</td><td>Assembly</td><td>TRCWS_PC_CASE_TOP_ASM</td><td>5</td></tr><tr><th>11</th><td>1</td><td>TRCWS_PC_CASE_BOT_ASM</td><td>Assembly</td><td>TRCWS_PC_CASE_BOT_ASM</td><td>5</td></tr><tr><th>12</th><td>1</td><td>TRCWS_PC_CASE_FRONT_ASM</td><td>Assembly</td><td>TRCWS_PC_CASE_FRONT_ASM</td><td>3</td></tr><tr><th>13</th><td>NA</td><td>NA</td><td>NA</td><td>NA</td><td>NA</td></tr><tr><th>14</th><td>Bill of Material: TRCWS_PC_ITX_ASM</td><td>NA</td><td>NA</td><td>NA</td><td>NA</td></tr><tr><th>15</th><td>Quantity</td><td>Part Number</td><td>Type</td><td>Nomenclature</td><td>Revision</td></tr><tr><th>16</th><td>1</td><td>TRCWS_PC_ITX_BRKT_MAIN_ASM</td><td>Assembly</td><td>TRCWS_PC_ITX_BRKT_MAIN_ASM</td><td>13</td></tr><tr><th>17</th><td>1</td><td>TRCWS_PC_ITX_BRKT_SUB_ASM</td><td>Assembly</td><td>TRCWS_PC_ITX_BRKT_SUB_ASM</td><td>9</td></tr><tr><th>18</th><td>NA</td><td>NA</td><td>NA</td><td>NA</td><td>NA</td></tr><tr><th>19</th><td>Bill of Material: TRCWS_PC_ITX_BRKT_MAIN_ASM</td><td>NA</td><td>NA</td><td>NA</td><td>NA</td></tr><tr><th>20</th><td>Quantity</td><td>Part Number</td><td>Type</td><td>Nomenclature</td><td>Revision</td></tr><tr><th>21</th><td>1</td><td>TRCWS_PC_ITX_BRKT_MAIN</td><td>Part</td><td>TRCWS_PC_ITX_BRKT_MAIN</td><td>48</td></tr><tr><th>22</th><td>1</td><td>TRCWS_PCB_USB</td><td>Part</td><td>TRCWS_PCB_USB</td><td>10</td></tr><tr><th>23</th><td>8</td><td>RDBOLT_M3X6L</td><td>Part</td><td>RDBOLT_M3X6L</td><td>1</td></tr><tr><th>24</th><td>1</td><td>FAN_60X60X10</td><td>Part</td><td>FAN_60X60X10</td><td>3</td></tr><tr><th>25</th><td>4</td><td>WRENCH_BOLT_M4X20L</td><td>Part</td><td>WRENCH_BOLT_M4X20L</td><td>1</td></tr><tr><th>26</th><td>1</td><td>TRCWS_PCB_SMPS</td><td>Part</td><td>TRCWS_PCB_SMPS</td><td>3</td></tr><tr><th>27</th><td>1</td><td>TRCWS_PCB_ITX_ASM</td><td>Assembly</td><td>TRCWS_PCB_ITX_ASM</td><td>7</td></tr><tr><th>28</th><td>1</td><td>TRCWS_PCB_VGA_ASM</td><td>Assembly</td><td>TRCWS_PCB_VGA_ASM</td><td>1</td></tr><tr><th>29</th><td>1</td><td>TRCWS_PCB_VGA_EXT</td><td>Part</td><td>TRCWS_PCB_VGA_EXT</td><td>2</td></tr><tr><th>30</th><td>2</td><td>TRCWS_PC_ITX_CONDUCT</td><td>Part</td><td>TRCWS_PC_ITX_CONDUCT</td><td>5</td></tr><tr><th>&vellip;</th><td>&vellip;</td><td>&vellip;</td><td>&vellip;</td><td>&vellip;</td><td>&vellip;</td></tr></table>"
      ],
      "text/plain": [
       "150×5 DataFrames.DataFrame\n",
       "│ Row │ x1                                      │ x2                        │\n",
       "├─────┼─────────────────────────────────────────┼───────────────────────────┤\n",
       "│ 1   │ \"2015년 12월 25일 금요일 오전 12:27:43\" │ NA                        │\n",
       "│ 2   │ NA                                      │ NA                        │\n",
       "│ 3   │ \"Bill of Material: _TRCWS_PC_TOTAL_ASM\" │ NA                        │\n",
       "│ 4   │ \"Quantity\"                              │ \"Part Number\"             │\n",
       "│ 5   │ \"1\"                                     │ \"_TRCWS_PC_TOTAL_SKEL\"    │\n",
       "│ 6   │ \"1\"                                     │ \"TRCWS_PC_ITX_ASM\"        │\n",
       "│ 7   │ \"1\"                                     │ \"TRCWS_PC_CASE_LEFT_ASM\"  │\n",
       "│ 8   │ \"1\"                                     │ \"TRCWS_PC_CASE_RIGHT_ASM\" │\n",
       "│ 9   │ \"1\"                                     │ \"TRCWS_PC_CASE_REAR\"      │\n",
       "│ 10  │ \"1\"                                     │ \"TRCWS_PC_CASE_TOP_ASM\"   │\n",
       "│ 11  │ \"1\"                                     │ \"TRCWS_PC_CASE_BOT_ASM\"   │\n",
       "⋮\n",
       "│ 139 │ \"1\"                                     │ \"MS3470W18\"               │\n",
       "│ 140 │ \"3\"                                     │ \"MS3470W14\"               │\n",
       "│ 141 │ \"16\"                                    │ \"CSBOLT_M3X10L\"           │\n",
       "│ 142 │ \"1\"                                     │ \"METALSW_D19\"             │\n",
       "│ 143 │ \"1\"                                     │ \"TRCWS_PC_CASE_REAR\"      │\n",
       "│ 144 │ \"1\"                                     │ \"TRCWS_PC_CASE_TOP\"       │\n",
       "│ 145 │ \"2\"                                     │ \"TRCWS_PC_SEAL_B\"         │\n",
       "│ 146 │ \"1\"                                     │ \"TRCWS_PC_CASE_BOT\"       │\n",
       "│ 147 │ \"1\"                                     │ \"TRCWS_PC_CASE_FRONT\"     │\n",
       "│ 148 │ \"1\"                                     │ \"FILTER_60X60X6_5\"        │\n",
       "│ 149 │ \"1\"                                     │ \"TRCWS_PC_HOOD\"           │\n",
       "│ 150 │ \"1\"                                     │ \"TRCWS_PC_PANEL\"          │\n",
       "\n",
       "│ Row │ x3         │ x4                        │ x5         │\n",
       "├─────┼────────────┼───────────────────────────┼────────────┤\n",
       "│ 1   │ NA         │ NA                        │ NA         │\n",
       "│ 2   │ NA         │ NA                        │ NA         │\n",
       "│ 3   │ NA         │ NA                        │ NA         │\n",
       "│ 4   │ \"Type\"     │ \"Nomenclature\"            │ \"Revision\" │\n",
       "│ 5   │ \"Part\"     │ \"_TRCWS_PC_TOTAL_SKEL\"    │ \"33\"       │\n",
       "│ 6   │ \"Assembly\" │ \"TRCWS_PC_ITX_ASM\"        │ \"9\"        │\n",
       "│ 7   │ \"Assembly\" │ \"TRCWS_PC_CASE_LEFT_ASM\"  │ \"7\"        │\n",
       "│ 8   │ \"Assembly\" │ \"TRCWS_PC_CASE_RIGHT_ASM\" │ \"8\"        │\n",
       "│ 9   │ \"Part\"     │ \"TRCWS_PC_CASE_REAR\"      │ \"8\"        │\n",
       "│ 10  │ \"Assembly\" │ \"TRCWS_PC_CASE_TOP_ASM\"   │ \"5\"        │\n",
       "│ 11  │ \"Assembly\" │ \"TRCWS_PC_CASE_BOT_ASM\"   │ \"5\"        │\n",
       "⋮\n",
       "│ 139 │ NA         │ NA                        │ NA         │\n",
       "│ 140 │ NA         │ NA                        │ NA         │\n",
       "│ 141 │ NA         │ NA                        │ NA         │\n",
       "│ 142 │ NA         │ NA                        │ NA         │\n",
       "│ 143 │ NA         │ NA                        │ NA         │\n",
       "│ 144 │ NA         │ NA                        │ NA         │\n",
       "│ 145 │ NA         │ NA                        │ NA         │\n",
       "│ 146 │ NA         │ NA                        │ NA         │\n",
       "│ 147 │ NA         │ NA                        │ NA         │\n",
       "│ 148 │ NA         │ NA                        │ NA         │\n",
       "│ 149 │ NA         │ NA                        │ NA         │\n",
       "│ 150 │ NA         │ NA                        │ NA         │"
      ]
     },
     "execution_count": 14,
     "metadata": {},
     "output_type": "execute_result"
    }
   ],
   "source": [
    "df = readxlsheet(DataFrame, \"_trcws_pc_total_asm.xls\", \"Sheet1\", header=false)"
   ]
  },
  {
   "cell_type": "markdown",
   "metadata": {},
   "source": [
    "## 읽어들이기 성공!"
   ]
  },
  {
   "cell_type": "markdown",
   "metadata": {},
   "source": [
    "### 1행,2행은 쓸데 없으므로 삭제하자."
   ]
  },
  {
   "cell_type": "code",
   "execution_count": 16,
   "metadata": {
    "collapsed": false,
    "scrolled": false
   },
   "outputs": [
    {
     "data": {
      "text/html": [
       "<table class=\"data-frame\"><tr><th></th><th>x1</th><th>x2</th><th>x3</th><th>x4</th><th>x5</th></tr><tr><th>1</th><td>Bill of Material: _TRCWS_PC_TOTAL_ASM</td><td>NA</td><td>NA</td><td>NA</td><td>NA</td></tr><tr><th>2</th><td>Quantity</td><td>Part Number</td><td>Type</td><td>Nomenclature</td><td>Revision</td></tr><tr><th>3</th><td>1</td><td>_TRCWS_PC_TOTAL_SKEL</td><td>Part</td><td>_TRCWS_PC_TOTAL_SKEL</td><td>33</td></tr><tr><th>4</th><td>1</td><td>TRCWS_PC_ITX_ASM</td><td>Assembly</td><td>TRCWS_PC_ITX_ASM</td><td>9</td></tr><tr><th>5</th><td>1</td><td>TRCWS_PC_CASE_LEFT_ASM</td><td>Assembly</td><td>TRCWS_PC_CASE_LEFT_ASM</td><td>7</td></tr><tr><th>6</th><td>1</td><td>TRCWS_PC_CASE_RIGHT_ASM</td><td>Assembly</td><td>TRCWS_PC_CASE_RIGHT_ASM</td><td>8</td></tr><tr><th>7</th><td>1</td><td>TRCWS_PC_CASE_REAR</td><td>Part</td><td>TRCWS_PC_CASE_REAR</td><td>8</td></tr><tr><th>8</th><td>1</td><td>TRCWS_PC_CASE_TOP_ASM</td><td>Assembly</td><td>TRCWS_PC_CASE_TOP_ASM</td><td>5</td></tr><tr><th>9</th><td>1</td><td>TRCWS_PC_CASE_BOT_ASM</td><td>Assembly</td><td>TRCWS_PC_CASE_BOT_ASM</td><td>5</td></tr><tr><th>10</th><td>1</td><td>TRCWS_PC_CASE_FRONT_ASM</td><td>Assembly</td><td>TRCWS_PC_CASE_FRONT_ASM</td><td>3</td></tr><tr><th>11</th><td>NA</td><td>NA</td><td>NA</td><td>NA</td><td>NA</td></tr><tr><th>12</th><td>Bill of Material: TRCWS_PC_ITX_ASM</td><td>NA</td><td>NA</td><td>NA</td><td>NA</td></tr><tr><th>13</th><td>Quantity</td><td>Part Number</td><td>Type</td><td>Nomenclature</td><td>Revision</td></tr><tr><th>14</th><td>1</td><td>TRCWS_PC_ITX_BRKT_MAIN_ASM</td><td>Assembly</td><td>TRCWS_PC_ITX_BRKT_MAIN_ASM</td><td>13</td></tr><tr><th>15</th><td>1</td><td>TRCWS_PC_ITX_BRKT_SUB_ASM</td><td>Assembly</td><td>TRCWS_PC_ITX_BRKT_SUB_ASM</td><td>9</td></tr><tr><th>16</th><td>NA</td><td>NA</td><td>NA</td><td>NA</td><td>NA</td></tr><tr><th>17</th><td>Bill of Material: TRCWS_PC_ITX_BRKT_MAIN_ASM</td><td>NA</td><td>NA</td><td>NA</td><td>NA</td></tr><tr><th>18</th><td>Quantity</td><td>Part Number</td><td>Type</td><td>Nomenclature</td><td>Revision</td></tr><tr><th>19</th><td>1</td><td>TRCWS_PC_ITX_BRKT_MAIN</td><td>Part</td><td>TRCWS_PC_ITX_BRKT_MAIN</td><td>48</td></tr><tr><th>20</th><td>1</td><td>TRCWS_PCB_USB</td><td>Part</td><td>TRCWS_PCB_USB</td><td>10</td></tr><tr><th>21</th><td>8</td><td>RDBOLT_M3X6L</td><td>Part</td><td>RDBOLT_M3X6L</td><td>1</td></tr><tr><th>22</th><td>1</td><td>FAN_60X60X10</td><td>Part</td><td>FAN_60X60X10</td><td>3</td></tr><tr><th>23</th><td>4</td><td>WRENCH_BOLT_M4X20L</td><td>Part</td><td>WRENCH_BOLT_M4X20L</td><td>1</td></tr><tr><th>24</th><td>1</td><td>TRCWS_PCB_SMPS</td><td>Part</td><td>TRCWS_PCB_SMPS</td><td>3</td></tr><tr><th>25</th><td>1</td><td>TRCWS_PCB_ITX_ASM</td><td>Assembly</td><td>TRCWS_PCB_ITX_ASM</td><td>7</td></tr><tr><th>26</th><td>1</td><td>TRCWS_PCB_VGA_ASM</td><td>Assembly</td><td>TRCWS_PCB_VGA_ASM</td><td>1</td></tr><tr><th>27</th><td>1</td><td>TRCWS_PCB_VGA_EXT</td><td>Part</td><td>TRCWS_PCB_VGA_EXT</td><td>2</td></tr><tr><th>28</th><td>2</td><td>TRCWS_PC_ITX_CONDUCT</td><td>Part</td><td>TRCWS_PC_ITX_CONDUCT</td><td>5</td></tr><tr><th>29</th><td>NA</td><td>NA</td><td>NA</td><td>NA</td><td>NA</td></tr><tr><th>30</th><td>Bill of Material: TRCWS_PCB_ITX_ASM</td><td>NA</td><td>NA</td><td>NA</td><td>NA</td></tr><tr><th>&vellip;</th><td>&vellip;</td><td>&vellip;</td><td>&vellip;</td><td>&vellip;</td><td>&vellip;</td></tr></table>"
      ],
      "text/plain": [
       "148×5 DataFrames.DataFrame\n",
       "│ Row │ x1                                      │ x2                        │\n",
       "├─────┼─────────────────────────────────────────┼───────────────────────────┤\n",
       "│ 1   │ \"Bill of Material: _TRCWS_PC_TOTAL_ASM\" │ NA                        │\n",
       "│ 2   │ \"Quantity\"                              │ \"Part Number\"             │\n",
       "│ 3   │ \"1\"                                     │ \"_TRCWS_PC_TOTAL_SKEL\"    │\n",
       "│ 4   │ \"1\"                                     │ \"TRCWS_PC_ITX_ASM\"        │\n",
       "│ 5   │ \"1\"                                     │ \"TRCWS_PC_CASE_LEFT_ASM\"  │\n",
       "│ 6   │ \"1\"                                     │ \"TRCWS_PC_CASE_RIGHT_ASM\" │\n",
       "│ 7   │ \"1\"                                     │ \"TRCWS_PC_CASE_REAR\"      │\n",
       "│ 8   │ \"1\"                                     │ \"TRCWS_PC_CASE_TOP_ASM\"   │\n",
       "│ 9   │ \"1\"                                     │ \"TRCWS_PC_CASE_BOT_ASM\"   │\n",
       "│ 10  │ \"1\"                                     │ \"TRCWS_PC_CASE_FRONT_ASM\" │\n",
       "│ 11  │ NA                                      │ NA                        │\n",
       "⋮\n",
       "│ 137 │ \"1\"                                     │ \"MS3470W18\"               │\n",
       "│ 138 │ \"3\"                                     │ \"MS3470W14\"               │\n",
       "│ 139 │ \"16\"                                    │ \"CSBOLT_M3X10L\"           │\n",
       "│ 140 │ \"1\"                                     │ \"METALSW_D19\"             │\n",
       "│ 141 │ \"1\"                                     │ \"TRCWS_PC_CASE_REAR\"      │\n",
       "│ 142 │ \"1\"                                     │ \"TRCWS_PC_CASE_TOP\"       │\n",
       "│ 143 │ \"2\"                                     │ \"TRCWS_PC_SEAL_B\"         │\n",
       "│ 144 │ \"1\"                                     │ \"TRCWS_PC_CASE_BOT\"       │\n",
       "│ 145 │ \"1\"                                     │ \"TRCWS_PC_CASE_FRONT\"     │\n",
       "│ 146 │ \"1\"                                     │ \"FILTER_60X60X6_5\"        │\n",
       "│ 147 │ \"1\"                                     │ \"TRCWS_PC_HOOD\"           │\n",
       "│ 148 │ \"1\"                                     │ \"TRCWS_PC_PANEL\"          │\n",
       "\n",
       "│ Row │ x3         │ x4                        │ x5         │\n",
       "├─────┼────────────┼───────────────────────────┼────────────┤\n",
       "│ 1   │ NA         │ NA                        │ NA         │\n",
       "│ 2   │ \"Type\"     │ \"Nomenclature\"            │ \"Revision\" │\n",
       "│ 3   │ \"Part\"     │ \"_TRCWS_PC_TOTAL_SKEL\"    │ \"33\"       │\n",
       "│ 4   │ \"Assembly\" │ \"TRCWS_PC_ITX_ASM\"        │ \"9\"        │\n",
       "│ 5   │ \"Assembly\" │ \"TRCWS_PC_CASE_LEFT_ASM\"  │ \"7\"        │\n",
       "│ 6   │ \"Assembly\" │ \"TRCWS_PC_CASE_RIGHT_ASM\" │ \"8\"        │\n",
       "│ 7   │ \"Part\"     │ \"TRCWS_PC_CASE_REAR\"      │ \"8\"        │\n",
       "│ 8   │ \"Assembly\" │ \"TRCWS_PC_CASE_TOP_ASM\"   │ \"5\"        │\n",
       "│ 9   │ \"Assembly\" │ \"TRCWS_PC_CASE_BOT_ASM\"   │ \"5\"        │\n",
       "│ 10  │ \"Assembly\" │ \"TRCWS_PC_CASE_FRONT_ASM\" │ \"3\"        │\n",
       "│ 11  │ NA         │ NA                        │ NA         │\n",
       "⋮\n",
       "│ 137 │ NA         │ NA                        │ NA         │\n",
       "│ 138 │ NA         │ NA                        │ NA         │\n",
       "│ 139 │ NA         │ NA                        │ NA         │\n",
       "│ 140 │ NA         │ NA                        │ NA         │\n",
       "│ 141 │ NA         │ NA                        │ NA         │\n",
       "│ 142 │ NA         │ NA                        │ NA         │\n",
       "│ 143 │ NA         │ NA                        │ NA         │\n",
       "│ 144 │ NA         │ NA                        │ NA         │\n",
       "│ 145 │ NA         │ NA                        │ NA         │\n",
       "│ 146 │ NA         │ NA                        │ NA         │\n",
       "│ 147 │ NA         │ NA                        │ NA         │\n",
       "│ 148 │ NA         │ NA                        │ NA         │"
      ]
     },
     "execution_count": 16,
     "metadata": {},
     "output_type": "execute_result"
    }
   ],
   "source": [
    "df = deleterows!(df, 1:2)"
   ]
  },
  {
   "cell_type": "markdown",
   "metadata": {},
   "source": [
    "### 테이블의 속성들을 파악하자."
   ]
  },
  {
   "cell_type": "code",
   "execution_count": 17,
   "metadata": {
    "collapsed": false
   },
   "outputs": [
    {
     "data": {
      "text/plain": [
       "DataFrames.DataFrame"
      ]
     },
     "execution_count": 17,
     "metadata": {},
     "output_type": "execute_result"
    }
   ],
   "source": [
    "# 데이타 타입 파악\n",
    "typeof(df)"
   ]
  },
  {
   "cell_type": "code",
   "execution_count": 19,
   "metadata": {
    "collapsed": false
   },
   "outputs": [
    {
     "data": {
      "text/plain": [
       "5-element Array{Symbol,1}:\n",
       " :x1\n",
       " :x2\n",
       " :x3\n",
       " :x4\n",
       " :x5"
      ]
     },
     "execution_count": 19,
     "metadata": {},
     "output_type": "execute_result"
    }
   ],
   "source": [
    "# 각 컬럼들(열)의 이름 파악\n",
    "names(df)"
   ]
  },
  {
   "cell_type": "code",
   "execution_count": 20,
   "metadata": {
    "collapsed": false
   },
   "outputs": [
    {
     "data": {
      "text/plain": [
       "(148,5)"
      ]
     },
     "execution_count": 20,
     "metadata": {},
     "output_type": "execute_result"
    }
   ],
   "source": [
    "# 테이블 사이즈 파악 (행,열)\n",
    "size(df)"
   ]
  },
  {
   "cell_type": "code",
   "execution_count": 21,
   "metadata": {
    "collapsed": false
   },
   "outputs": [
    {
     "data": {
      "text/plain": [
       "5"
      ]
     },
     "execution_count": 21,
     "metadata": {},
     "output_type": "execute_result"
    }
   ],
   "source": [
    "# 열의 길이 파악\n",
    "length(df)"
   ]
  },
  {
   "cell_type": "code",
   "execution_count": 22,
   "metadata": {
    "collapsed": false
   },
   "outputs": [
    {
     "data": {
      "text/html": [
       "<table class=\"data-frame\"><tr><th></th><th>x1</th><th>x2</th><th>x3</th><th>x4</th><th>x5</th></tr><tr><th>1</th><td>Bill of Material: _TRCWS_PC_TOTAL_ASM</td><td>NA</td><td>NA</td><td>NA</td><td>NA</td></tr><tr><th>2</th><td>Quantity</td><td>Part Number</td><td>Type</td><td>Nomenclature</td><td>Revision</td></tr><tr><th>3</th><td>1</td><td>_TRCWS_PC_TOTAL_SKEL</td><td>Part</td><td>_TRCWS_PC_TOTAL_SKEL</td><td>33</td></tr><tr><th>4</th><td>1</td><td>TRCWS_PC_ITX_ASM</td><td>Assembly</td><td>TRCWS_PC_ITX_ASM</td><td>9</td></tr><tr><th>5</th><td>1</td><td>TRCWS_PC_CASE_LEFT_ASM</td><td>Assembly</td><td>TRCWS_PC_CASE_LEFT_ASM</td><td>7</td></tr><tr><th>6</th><td>1</td><td>TRCWS_PC_CASE_RIGHT_ASM</td><td>Assembly</td><td>TRCWS_PC_CASE_RIGHT_ASM</td><td>8</td></tr></table>"
      ],
      "text/plain": [
       "6×5 DataFrames.DataFrame\n",
       "│ Row │ x1                                      │ x2                        │\n",
       "├─────┼─────────────────────────────────────────┼───────────────────────────┤\n",
       "│ 1   │ \"Bill of Material: _TRCWS_PC_TOTAL_ASM\" │ NA                        │\n",
       "│ 2   │ \"Quantity\"                              │ \"Part Number\"             │\n",
       "│ 3   │ \"1\"                                     │ \"_TRCWS_PC_TOTAL_SKEL\"    │\n",
       "│ 4   │ \"1\"                                     │ \"TRCWS_PC_ITX_ASM\"        │\n",
       "│ 5   │ \"1\"                                     │ \"TRCWS_PC_CASE_LEFT_ASM\"  │\n",
       "│ 6   │ \"1\"                                     │ \"TRCWS_PC_CASE_RIGHT_ASM\" │\n",
       "\n",
       "│ Row │ x3         │ x4                        │ x5         │\n",
       "├─────┼────────────┼───────────────────────────┼────────────┤\n",
       "│ 1   │ NA         │ NA                        │ NA         │\n",
       "│ 2   │ \"Type\"     │ \"Nomenclature\"            │ \"Revision\" │\n",
       "│ 3   │ \"Part\"     │ \"_TRCWS_PC_TOTAL_SKEL\"    │ \"33\"       │\n",
       "│ 4   │ \"Assembly\" │ \"TRCWS_PC_ITX_ASM\"        │ \"9\"        │\n",
       "│ 5   │ \"Assembly\" │ \"TRCWS_PC_CASE_LEFT_ASM\"  │ \"7\"        │\n",
       "│ 6   │ \"Assembly\" │ \"TRCWS_PC_CASE_RIGHT_ASM\" │ \"8\"        │"
      ]
     },
     "execution_count": 22,
     "metadata": {},
     "output_type": "execute_result"
    }
   ],
   "source": [
    "# 최초 6행까지만 빨리 보여주기\n",
    "head(df)"
   ]
  },
  {
   "cell_type": "code",
   "execution_count": 23,
   "metadata": {
    "collapsed": false
   },
   "outputs": [
    {
     "data": {
      "text/html": [
       "<table class=\"data-frame\"><tr><th></th><th>x1</th><th>x2</th><th>x3</th><th>x4</th><th>x5</th></tr><tr><th>1</th><td>2</td><td>TRCWS_PC_SEAL_B</td><td>NA</td><td>NA</td><td>NA</td></tr><tr><th>2</th><td>1</td><td>TRCWS_PC_CASE_BOT</td><td>NA</td><td>NA</td><td>NA</td></tr><tr><th>3</th><td>1</td><td>TRCWS_PC_CASE_FRONT</td><td>NA</td><td>NA</td><td>NA</td></tr><tr><th>4</th><td>1</td><td>FILTER_60X60X6_5</td><td>NA</td><td>NA</td><td>NA</td></tr><tr><th>5</th><td>1</td><td>TRCWS_PC_HOOD</td><td>NA</td><td>NA</td><td>NA</td></tr><tr><th>6</th><td>1</td><td>TRCWS_PC_PANEL</td><td>NA</td><td>NA</td><td>NA</td></tr></table>"
      ],
      "text/plain": [
       "6×5 DataFrames.DataFrame\n",
       "│ Row │ x1  │ x2                    │ x3 │ x4 │ x5 │\n",
       "├─────┼─────┼───────────────────────┼────┼────┼────┤\n",
       "│ 1   │ \"2\" │ \"TRCWS_PC_SEAL_B\"     │ NA │ NA │ NA │\n",
       "│ 2   │ \"1\" │ \"TRCWS_PC_CASE_BOT\"   │ NA │ NA │ NA │\n",
       "│ 3   │ \"1\" │ \"TRCWS_PC_CASE_FRONT\" │ NA │ NA │ NA │\n",
       "│ 4   │ \"1\" │ \"FILTER_60X60X6_5\"    │ NA │ NA │ NA │\n",
       "│ 5   │ \"1\" │ \"TRCWS_PC_HOOD\"       │ NA │ NA │ NA │\n",
       "│ 6   │ \"1\" │ \"TRCWS_PC_PANEL\"      │ NA │ NA │ NA │"
      ]
     },
     "execution_count": 23,
     "metadata": {},
     "output_type": "execute_result"
    }
   ],
   "source": [
    "# 마지막 6행만 빨리 보여주기\n",
    "tail(df)"
   ]
  },
  {
   "cell_type": "code",
   "execution_count": 24,
   "metadata": {
    "collapsed": false
   },
   "outputs": [
    {
     "name": "stdout",
     "output_type": "stream",
     "text": [
      "148×5 DataFrames.DataFrame\n",
      "│ Col # │ Name │ Eltype │ Missing │\n",
      "├───────┼──────┼────────┼─────────┤\n",
      "│ 1     │ x1   │ String │ 14      │\n",
      "│ 2     │ x2   │ String │ 30      │\n",
      "│ 3     │ x3   │ String │ 72      │\n",
      "│ 4     │ x4   │ String │ 72      │\n",
      "│ 5     │ x5   │ String │ 72      │"
     ]
    }
   ],
   "source": [
    "# 각 컬럼(열)의 데이타 속성 확인\n",
    "showcols(df)"
   ]
  },
  {
   "cell_type": "code",
   "execution_count": 43,
   "metadata": {
    "collapsed": false
   },
   "outputs": [
    {
     "data": {
      "text/plain": [
       "148-element DataArrays.DataArray{String,1}:\n",
       " NA        \n",
       " \"Type\"    \n",
       " \"Part\"    \n",
       " \"Assembly\"\n",
       " \"Assembly\"\n",
       " \"Assembly\"\n",
       " \"Part\"    \n",
       " \"Assembly\"\n",
       " \"Assembly\"\n",
       " \"Assembly\"\n",
       " NA        \n",
       " NA        \n",
       " \"Type\"    \n",
       " ⋮         \n",
       " NA        \n",
       " NA        \n",
       " NA        \n",
       " NA        \n",
       " NA        \n",
       " NA        \n",
       " NA        \n",
       " NA        \n",
       " NA        \n",
       " NA        \n",
       " NA        \n",
       " NA        "
      ]
     },
     "execution_count": 43,
     "metadata": {},
     "output_type": "execute_result"
    }
   ],
   "source": [
    "# 3열만 따서 확인\n",
    "df[:,3]"
   ]
  },
  {
   "cell_type": "code",
   "execution_count": 42,
   "metadata": {
    "collapsed": false
   },
   "outputs": [
    {
     "data": {
      "text/html": [
       "<table class=\"data-frame\"><tr><th></th><th>x1</th><th>x2</th><th>x3</th><th>x4</th><th>x5</th></tr><tr><th>1</th><td>Quantity</td><td>Part Number</td><td>Type</td><td>Nomenclature</td><td>Revision</td></tr></table>"
      ],
      "text/plain": [
       "1×5 DataFrames.DataFrame\n",
       "│ Row │ x1         │ x2            │ x3     │ x4             │ x5         │\n",
       "├─────┼────────────┼───────────────┼────────┼────────────────┼────────────┤\n",
       "│ 1   │ \"Quantity\" │ \"Part Number\" │ \"Type\" │ \"Nomenclature\" │ \"Revision\" │"
      ]
     },
     "execution_count": 42,
     "metadata": {},
     "output_type": "execute_result"
    }
   ],
   "source": [
    "# 2행만 따서 확인\n",
    "df[2,:]"
   ]
  },
  {
   "cell_type": "code",
   "execution_count": null,
   "metadata": {
    "collapsed": true
   },
   "outputs": [],
   "source": []
  },
  {
   "cell_type": "markdown",
   "metadata": {},
   "source": [
    "### 뒤에 붙어있는 PartList가 시작하는 지점을 찾는다.\n",
    "\n",
    "* PartList 시작 지점의 구문 형식은 다음과 같다.\n"
   ]
  },
  {
   "cell_type": "code",
   "execution_count": null,
   "metadata": {
    "collapsed": true
   },
   "outputs": [],
   "source": [
    "\n",
    "Recapitulation of: _TRCWS_PC_TOTAL_ASM\n",
    "Different parts: 41\n",
    "Total parts: 182"
   ]
  },
  {
   "cell_type": "markdown",
   "metadata": {},
   "source": [
    "* 위에서, `_TRCWS_PC_TOTAL_ASM`, `41`, `182`는 가변적이다."
   ]
  },
  {
   "cell_type": "code",
   "execution_count": 44,
   "metadata": {
    "collapsed": false
   },
   "outputs": [
    {
     "data": {
      "text/plain": [
       "findstringarray (generic function with 1 method)"
      ]
     },
     "execution_count": 44,
     "metadata": {},
     "output_type": "execute_result"
    }
   ],
   "source": [
    "# 특정 구문을 찾는 함수\n",
    "function findstringarray(ary, s)\n",
    "   res = Any[]\n",
    "   for e in ary\n",
    "    contains(e, s) ? push!(res, true) : push!(res, false)\n",
    "   end\n",
    "   return res\n",
    "end"
   ]
  },
  {
   "cell_type": "code",
   "execution_count": 8,
   "metadata": {
    "collapsed": false
   },
   "outputs": [
    {
     "ename": "LoadError",
     "evalue": "LoadError: UndefVarError: iris not defined\nwhile loading In[8], in expression starting on line 1",
     "output_type": "error",
     "traceback": [
      "LoadError: UndefVarError: iris not defined\nwhile loading In[8], in expression starting on line 1",
      ""
     ]
    }
   ],
   "source": [
    "iris[iris[:Species] .== \"Quantity\", :]"
   ]
  },
  {
   "cell_type": "code",
   "execution_count": null,
   "metadata": {
    "collapsed": true
   },
   "outputs": [],
   "source": []
  },
  {
   "cell_type": "code",
   "execution_count": null,
   "metadata": {
    "collapsed": true
   },
   "outputs": [],
   "source": []
  },
  {
   "cell_type": "code",
   "execution_count": null,
   "metadata": {
    "collapsed": true
   },
   "outputs": [],
   "source": []
  },
  {
   "cell_type": "code",
   "execution_count": null,
   "metadata": {
    "collapsed": true
   },
   "outputs": [],
   "source": []
  },
  {
   "cell_type": "code",
   "execution_count": null,
   "metadata": {
    "collapsed": true
   },
   "outputs": [],
   "source": []
  },
  {
   "cell_type": "code",
   "execution_count": null,
   "metadata": {
    "collapsed": true
   },
   "outputs": [],
   "source": []
  },
  {
   "cell_type": "code",
   "execution_count": null,
   "metadata": {
    "collapsed": true
   },
   "outputs": [],
   "source": []
  }
 ],
 "metadata": {
  "anaconda-cloud": {},
  "kernelspec": {
   "display_name": "Julia 0.5.0",
   "language": "julia",
   "name": "julia-0.5"
  },
  "language_info": {
   "file_extension": ".jl",
   "mimetype": "application/julia",
   "name": "julia",
   "version": "0.5.0"
  }
 },
 "nbformat": 4,
 "nbformat_minor": 0
}
