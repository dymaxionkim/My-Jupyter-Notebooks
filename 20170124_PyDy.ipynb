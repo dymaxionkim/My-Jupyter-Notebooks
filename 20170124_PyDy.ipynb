{
 "cells": [
  {
   "cell_type": "markdown",
   "metadata": {},
   "source": [
    "# Dynamics\n",
    "\n",
    "* http://www.moorepants.info/blog/npendulum.html\n",
    "* http://docs.sympy.org/dev/modules/physics/mechanics/index.html\n",
    "* https://github.com/pydy/pydy\n",
    "* https://dymaxionkim.github.io/beautiful-jekyll/1998-12-31-InvertedPendulum/\n"
   ]
  },
  {
   "cell_type": "markdown",
   "metadata": {},
   "source": [
    "## PyDy\n",
    "on Python 3.5"
   ]
  },
  {
   "cell_type": "markdown",
   "metadata": {},
   "source": [
    "conda install -c pydy pydy\n",
    "conda install -c pydy pydy-examples"
   ]
  },
  {
   "cell_type": "markdown",
   "metadata": {},
   "source": [
    "## Exampe with PyDy\n",
    "* This is an example of a simple one degree of freedom system: a mass under the influence of a spring, damper, gravity and an external force:"
   ]
  },
  {
   "cell_type": "code",
   "execution_count": 3,
   "metadata": {
    "collapsed": false
   },
   "outputs": [
    {
     "data": {
      "text/plain": [
       "(Matrix([[-c*v(t) + g*m - k*x(t) + F(t)]]), Matrix([[-m*Derivative(v(t), t)]]))"
      ]
     },
     "execution_count": 3,
     "metadata": {},
     "output_type": "execute_result"
    }
   ],
   "source": [
    "from sympy import symbols\n",
    "import sympy.physics.mechanics as me\n",
    "\n",
    "mass, stiffness, damping, gravity = symbols('m, k, c, g')\n",
    "\n",
    "position, speed = me.dynamicsymbols('x v')\n",
    "positiond = me.dynamicsymbols('x', 1)\n",
    "force = me.dynamicsymbols('F')\n",
    "\n",
    "ceiling = me.ReferenceFrame('N')\n",
    "\n",
    "origin = me.Point('origin')\n",
    "origin.set_vel(ceiling, 0)\n",
    "\n",
    "center = origin.locatenew('center', position * ceiling.x)\n",
    "center.set_vel(ceiling, speed * ceiling.x)\n",
    "\n",
    "block = me.Particle('block', center, mass)\n",
    "\n",
    "kinematic_equations = [speed - positiond]\n",
    "\n",
    "force_magnitude = mass * gravity - stiffness * position - damping * speed + force\n",
    "forces = [(center, force_magnitude * ceiling.x)]\n",
    "\n",
    "particles = [block]\n",
    "\n",
    "kane = me.KanesMethod(ceiling, q_ind=[position], u_ind=[speed],\n",
    "                      kd_eqs=kinematic_equations)\n",
    "kane.kanes_equations(forces, particles)"
   ]
  },
  {
   "cell_type": "code",
   "execution_count": 5,
   "metadata": {
    "collapsed": false,
    "scrolled": true
   },
   "outputs": [],
   "source": [
    "from numpy import array, linspace, sin\n",
    "from pydy.system import System\n",
    "\n",
    "sys = System(kane,\n",
    "             constants={mass: 1.0, stiffness: 1.0,\n",
    "                        damping: 0.2, gravity: 9.8},\n",
    "             specifieds={force: lambda x, t: sin(t)},\n",
    "             initial_conditions={position: 0.1, speed: -1.0},\n",
    "             times=linspace(0.0, 10.0, 1000))"
   ]
  },
  {
   "cell_type": "code",
   "execution_count": 6,
   "metadata": {
    "collapsed": false
   },
   "outputs": [],
   "source": [
    "y = sys.integrate()"
   ]
  },
  {
   "cell_type": "code",
   "execution_count": 7,
   "metadata": {
    "collapsed": false
   },
   "outputs": [
    {
     "data": {
      "image/png": "[encoded data removed]",
      "text/plain": [
       "<matplotlib.figure.Figure at 0x7f62fb67a320>"
      ]
     },
     "metadata": {},
     "output_type": "display_data"
    }
   ],
   "source": [
    "import matplotlib.pyplot as plt\n",
    "\n",
    "plt.plot(sys.times, y)\n",
    "plt.legend((str(position), str(speed)))\n",
    "plt.show()"
   ]
  },
  {
   "cell_type": "markdown",
   "metadata": {},
   "source": [
    "## Tutorial \n",
    "* https://github.com/pydy/pydy/blob/master/examples/tutorials/beginner.ipynb"
   ]
  },
  {
   "cell_type": "code",
   "execution_count": 8,
   "metadata": {
    "collapsed": true
   },
   "outputs": [],
   "source": [
    "from sympy import symbols\n",
    "from sympy.physics.mechanics import *"
   ]
  },
  {
   "cell_type": "code",
   "execution_count": 9,
   "metadata": {
    "collapsed": false
   },
   "outputs": [
    {
     "data": {
      "text/plain": [
       "['A',\n",
       " 'B',\n",
       " 'Body',\n",
       " 'CoordinateSym',\n",
       " 'Dyadic',\n",
       " 'I',\n",
       " 'In',\n",
       " 'KanesMethod',\n",
       " 'LagrangesMethod',\n",
       " 'Lagrangian',\n",
       " 'Linearizer',\n",
       " 'Out',\n",
       " 'P',\n",
       " 'Particle',\n",
       " 'Point',\n",
       " 'ReferenceFrame',\n",
       " 'RigidBody',\n",
       " 'Symbol',\n",
       " 'System',\n",
       " 'Vector',\n",
       " '_',\n",
       " '_3',\n",
       " '__',\n",
       " '___',\n",
       " '__builtin__',\n",
       " '__builtins__',\n",
       " '__doc__',\n",
       " '__loader__',\n",
       " '__name__',\n",
       " '__package__',\n",
       " '__spec__',\n",
       " '_dh',\n",
       " '_i',\n",
       " '_i1',\n",
       " '_i2',\n",
       " '_i3',\n",
       " '_i4',\n",
       " '_i5',\n",
       " '_i6',\n",
       " '_i7',\n",
       " '_i8',\n",
       " '_i9',\n",
       " '_ih',\n",
       " '_ii',\n",
       " '_iii',\n",
       " '_oh',\n",
       " '_sh',\n",
       " 'angular_momentum',\n",
       " 'array',\n",
       " 'block',\n",
       " 'ceiling',\n",
       " 'center',\n",
       " 'cross',\n",
       " 'curl',\n",
       " 'damping',\n",
       " 'divergence',\n",
       " 'dot',\n",
       " 'dynamicsymbols',\n",
       " 'exit',\n",
       " 'express',\n",
       " 'find_dynamicsymbols',\n",
       " 'force',\n",
       " 'force_magnitude',\n",
       " 'forces',\n",
       " 'get_ipython',\n",
       " 'get_motion_params',\n",
       " 'gradient',\n",
       " 'gravity',\n",
       " 'inertia',\n",
       " 'inertia_of_point_mass',\n",
       " 'init_vprinting',\n",
       " 'is_conservative',\n",
       " 'is_solenoidal',\n",
       " 'kane',\n",
       " 'kinematic_equations',\n",
       " 'kinetic_energy',\n",
       " 'linear_momentum',\n",
       " 'linspace',\n",
       " 'm',\n",
       " 'mass',\n",
       " 'me',\n",
       " 'mechanics_printing',\n",
       " 'mlatex',\n",
       " 'mpprint',\n",
       " 'mprint',\n",
       " 'msprint',\n",
       " 'msubs',\n",
       " 'origin',\n",
       " 'outer',\n",
       " 'pa',\n",
       " 'partial_velocity',\n",
       " 'particles',\n",
       " 'plt',\n",
       " 'po',\n",
       " 'position',\n",
       " 'positiond',\n",
       " 'potential_energy',\n",
       " 'quit',\n",
       " 'scalar_potential',\n",
       " 'scalar_potential_difference',\n",
       " 'sin',\n",
       " 'speed',\n",
       " 'stiffness',\n",
       " 'symbols',\n",
       " 'sys',\n",
       " 'time_derivative',\n",
       " 'vlatex',\n",
       " 'vpprint',\n",
       " 'vprint',\n",
       " 'vsprint',\n",
       " 'vsstrrepr',\n",
       " 'y']"
      ]
     },
     "execution_count": 9,
     "metadata": {},
     "output_type": "execute_result"
    }
   ],
   "source": [
    "dir()"
   ]
  },
  {
   "cell_type": "code",
   "execution_count": 10,
   "metadata": {
    "collapsed": false
   },
   "outputs": [
    {
     "name": "stdout",
     "output_type": "stream",
     "text": [
      "Help on class ReferenceFrame in module sympy.physics.vector.frame:\n",
      "\n",
      "class ReferenceFrame(builtins.object)\n",
      " |  A reference frame in classical mechanics.\n",
      " |  \n",
      " |  ReferenceFrame is a class used to represent a reference frame in classical\n",
      " |  mechanics. It has a standard basis of three unit vectors in the frame's\n",
      " |  x, y, and z directions.\n",
      " |  \n",
      " |  It also can have a rotation relative to a parent frame; this rotation is\n",
      " |  defined by a direction cosine matrix relating this frame's basis vectors to\n",
      " |  the parent frame's basis vectors.  It can also have an angular velocity\n",
      " |  vector, defined in another frame.\n",
      " |  \n",
      " |  Methods defined here:\n",
      " |  \n",
      " |  __getitem__(self, ind)\n",
      " |      Returns basis vector for the provided index, if the index is a string.\n",
      " |      \n",
      " |      If the index is a number, returns the coordinate variable correspon-\n",
      " |      -ding to that index.\n",
      " |  \n",
      " |  __init__(self, name, indices=None, latexs=None, variables=None)\n",
      " |      ReferenceFrame initialization method.\n",
      " |      \n",
      " |      A ReferenceFrame has a set of orthonormal basis vectors, along with\n",
      " |      orientations relative to other ReferenceFrames and angular velocities\n",
      " |      relative to other ReferenceFrames.\n",
      " |      \n",
      " |      Parameters\n",
      " |      ==========\n",
      " |      \n",
      " |      indices : list (of strings)\n",
      " |          If custom indices are desired for console, pretty, and LaTeX\n",
      " |          printing, supply three as a list. The basis vectors can then be\n",
      " |          accessed with the get_item method.\n",
      " |      latexs : list (of strings)\n",
      " |          If custom names are desired for LaTeX printing of each basis\n",
      " |          vector, supply the names here in a list.\n",
      " |      \n",
      " |      Examples\n",
      " |      ========\n",
      " |      \n",
      " |      >>> from sympy.physics.vector import ReferenceFrame, vlatex\n",
      " |      >>> N = ReferenceFrame('N')\n",
      " |      >>> N.x\n",
      " |      N.x\n",
      " |      >>> O = ReferenceFrame('O', indices=('1', '2', '3'))\n",
      " |      >>> O.x\n",
      " |      O['1']\n",
      " |      >>> O['1']\n",
      " |      O['1']\n",
      " |      >>> P = ReferenceFrame('P', latexs=('A1', 'A2', 'A3'))\n",
      " |      >>> vlatex(P.x)\n",
      " |      'A1'\n",
      " |  \n",
      " |  __iter__(self)\n",
      " |  \n",
      " |  __repr__ = __str__(self)\n",
      " |  \n",
      " |  __str__(self)\n",
      " |      Returns the name of the frame.\n",
      " |  \n",
      " |  ang_acc_in(self, otherframe)\n",
      " |      Returns the angular acceleration Vector of the ReferenceFrame.\n",
      " |      \n",
      " |      Effectively returns the Vector:\n",
      " |      ^N alpha ^B\n",
      " |      which represent the angular acceleration of B in N, where B is self, and\n",
      " |      N is otherframe.\n",
      " |      \n",
      " |      Parameters\n",
      " |      ==========\n",
      " |      \n",
      " |      otherframe : ReferenceFrame\n",
      " |          The ReferenceFrame which the angular acceleration is returned in.\n",
      " |      \n",
      " |      Examples\n",
      " |      ========\n",
      " |      \n",
      " |      >>> from sympy.physics.vector import ReferenceFrame, Vector\n",
      " |      >>> N = ReferenceFrame('N')\n",
      " |      >>> A = ReferenceFrame('A')\n",
      " |      >>> V = 10 * N.x\n",
      " |      >>> A.set_ang_acc(N, V)\n",
      " |      >>> A.ang_acc_in(N)\n",
      " |      10*N.x\n",
      " |  \n",
      " |  ang_vel_in(self, otherframe)\n",
      " |      Returns the angular velocity Vector of the ReferenceFrame.\n",
      " |      \n",
      " |      Effectively returns the Vector:\n",
      " |      ^N omega ^B\n",
      " |      which represent the angular velocity of B in N, where B is self, and\n",
      " |      N is otherframe.\n",
      " |      \n",
      " |      Parameters\n",
      " |      ==========\n",
      " |      \n",
      " |      otherframe : ReferenceFrame\n",
      " |          The ReferenceFrame which the angular velocity is returned in.\n",
      " |      \n",
      " |      Examples\n",
      " |      ========\n",
      " |      \n",
      " |      >>> from sympy.physics.vector import ReferenceFrame, Vector\n",
      " |      >>> N = ReferenceFrame('N')\n",
      " |      >>> A = ReferenceFrame('A')\n",
      " |      >>> V = 10 * N.x\n",
      " |      >>> A.set_ang_vel(N, V)\n",
      " |      >>> A.ang_vel_in(N)\n",
      " |      10*N.x\n",
      " |  \n",
      " |  dcm(self, otherframe)\n",
      " |      The direction cosine matrix between frames.\n",
      " |      \n",
      " |      This gives the DCM between this frame and the otherframe.\n",
      " |      The format is N.xyz = N.dcm(B) * B.xyz\n",
      " |      A SymPy Matrix is returned.\n",
      " |      \n",
      " |      Parameters\n",
      " |      ==========\n",
      " |      \n",
      " |      otherframe : ReferenceFrame\n",
      " |          The otherframe which the DCM is generated to.\n",
      " |      \n",
      " |      Examples\n",
      " |      ========\n",
      " |      \n",
      " |      >>> from sympy.physics.vector import ReferenceFrame, Vector\n",
      " |      >>> from sympy import symbols\n",
      " |      >>> q1 = symbols('q1')\n",
      " |      >>> N = ReferenceFrame('N')\n",
      " |      >>> A = N.orientnew('A', 'Axis', [q1, N.x])\n",
      " |      >>> N.dcm(A)\n",
      " |      Matrix([\n",
      " |      [1,       0,        0],\n",
      " |      [0, cos(q1), -sin(q1)],\n",
      " |      [0, sin(q1),  cos(q1)]])\n",
      " |  \n",
      " |  orient(self, parent, rot_type, amounts, rot_order='')\n",
      " |      Defines the orientation of this frame relative to a parent frame.\n",
      " |      \n",
      " |      Parameters\n",
      " |      ==========\n",
      " |      \n",
      " |      parent : ReferenceFrame\n",
      " |          The frame that this ReferenceFrame will have its orientation matrix\n",
      " |          defined in relation to.\n",
      " |      rot_type : str\n",
      " |          The type of orientation matrix that is being created. Supported\n",
      " |          types are 'Body', 'Space', 'Quaternion', and 'Axis'. See examples\n",
      " |          for correct usage.\n",
      " |      amounts : list OR value\n",
      " |          The quantities that the orientation matrix will be defined by.\n",
      " |      rot_order : str\n",
      " |          If applicable, the order of a series of rotations.\n",
      " |      \n",
      " |      Examples\n",
      " |      ========\n",
      " |      \n",
      " |      >>> from sympy.physics.vector import ReferenceFrame, Vector\n",
      " |      >>> from sympy import symbols\n",
      " |      >>> q0, q1, q2, q3, q4 = symbols('q0 q1 q2 q3 q4')\n",
      " |      >>> N = ReferenceFrame('N')\n",
      " |      >>> B = ReferenceFrame('B')\n",
      " |      \n",
      " |      Now we have a choice of how to implement the orientation. First is\n",
      " |      Body. Body orientation takes this reference frame through three\n",
      " |      successive simple rotations. Acceptable rotation orders are of length\n",
      " |      3, expressed in XYZ or 123, and cannot have a rotation about about an\n",
      " |      axis twice in a row.\n",
      " |      \n",
      " |      >>> B.orient(N, 'Body', [q1, q2, q3], '123')\n",
      " |      >>> B.orient(N, 'Body', [q1, q2, 0], 'ZXZ')\n",
      " |      >>> B.orient(N, 'Body', [0, 0, 0], 'XYX')\n",
      " |      \n",
      " |      Next is Space. Space is like Body, but the rotations are applied in the\n",
      " |      opposite order.\n",
      " |      \n",
      " |      >>> B.orient(N, 'Space', [q1, q2, q3], '312')\n",
      " |      \n",
      " |      Next is Quaternion. This orients the new ReferenceFrame with\n",
      " |      Quaternions, defined as a finite rotation about lambda, a unit vector,\n",
      " |      by some amount theta.\n",
      " |      This orientation is described by four parameters:\n",
      " |      q0 = cos(theta/2)\n",
      " |      q1 = lambda_x sin(theta/2)\n",
      " |      q2 = lambda_y sin(theta/2)\n",
      " |      q3 = lambda_z sin(theta/2)\n",
      " |      Quaternion does not take in a rotation order.\n",
      " |      \n",
      " |      >>> B.orient(N, 'Quaternion', [q0, q1, q2, q3])\n",
      " |      \n",
      " |      Last is Axis. This is a rotation about an arbitrary, non-time-varying\n",
      " |      axis by some angle. The axis is supplied as a Vector. This is how\n",
      " |      simple rotations are defined.\n",
      " |      \n",
      " |      >>> B.orient(N, 'Axis', [q1, N.x + 2 * N.y])\n",
      " |  \n",
      " |  orientnew(self, newname, rot_type, amounts, rot_order='', variables=None, indices=None, latexs=None)\n",
      " |      Creates a new ReferenceFrame oriented with respect to this Frame.\n",
      " |      \n",
      " |      See ReferenceFrame.orient() for acceptable rotation types, amounts,\n",
      " |      and orders. Parent is going to be self.\n",
      " |      \n",
      " |      Parameters\n",
      " |      ==========\n",
      " |      \n",
      " |      newname : str\n",
      " |          The name for the new ReferenceFrame\n",
      " |      rot_type : str\n",
      " |          The type of orientation matrix that is being created.\n",
      " |      amounts : list OR value\n",
      " |          The quantities that the orientation matrix will be defined by.\n",
      " |      rot_order : str\n",
      " |          If applicable, the order of a series of rotations.\n",
      " |      \n",
      " |      \n",
      " |      Examples\n",
      " |      ========\n",
      " |      \n",
      " |      >>> from sympy.physics.vector import ReferenceFrame, Vector\n",
      " |      >>> from sympy import symbols\n",
      " |      >>> q1 = symbols('q1')\n",
      " |      >>> N = ReferenceFrame('N')\n",
      " |      >>> A = N.orientnew('A', 'Axis', [q1, N.x])\n",
      " |      \n",
      " |      \n",
      " |      .orient() documentation:\n",
      " |      \n",
      " |      ========================\n",
      " |      \n",
      " |      Defines the orientation of this frame relative to a parent frame.\n",
      " |      \n",
      " |      Parameters\n",
      " |      ==========\n",
      " |      \n",
      " |      parent : ReferenceFrame\n",
      " |          The frame that this ReferenceFrame will have its orientation matrix\n",
      " |          defined in relation to.\n",
      " |      rot_type : str\n",
      " |          The type of orientation matrix that is being created. Supported\n",
      " |          types are 'Body', 'Space', 'Quaternion', and 'Axis'. See examples\n",
      " |          for correct usage.\n",
      " |      amounts : list OR value\n",
      " |          The quantities that the orientation matrix will be defined by.\n",
      " |      rot_order : str\n",
      " |          If applicable, the order of a series of rotations.\n",
      " |      \n",
      " |      Examples\n",
      " |      ========\n",
      " |      \n",
      " |      >>> from sympy.physics.vector import ReferenceFrame, Vector\n",
      " |      >>> from sympy import symbols\n",
      " |      >>> q0, q1, q2, q3, q4 = symbols('q0 q1 q2 q3 q4')\n",
      " |      >>> N = ReferenceFrame('N')\n",
      " |      >>> B = ReferenceFrame('B')\n",
      " |      \n",
      " |      Now we have a choice of how to implement the orientation. First is\n",
      " |      Body. Body orientation takes this reference frame through three\n",
      " |      successive simple rotations. Acceptable rotation orders are of length\n",
      " |      3, expressed in XYZ or 123, and cannot have a rotation about about an\n",
      " |      axis twice in a row.\n",
      " |      \n",
      " |      >>> B.orient(N, 'Body', [q1, q2, q3], '123')\n",
      " |      >>> B.orient(N, 'Body', [q1, q2, 0], 'ZXZ')\n",
      " |      >>> B.orient(N, 'Body', [0, 0, 0], 'XYX')\n",
      " |      \n",
      " |      Next is Space. Space is like Body, but the rotations are applied in the\n",
      " |      opposite order.\n",
      " |      \n",
      " |      >>> B.orient(N, 'Space', [q1, q2, q3], '312')\n",
      " |      \n",
      " |      Next is Quaternion. This orients the new ReferenceFrame with\n",
      " |      Quaternions, defined as a finite rotation about lambda, a unit vector,\n",
      " |      by some amount theta.\n",
      " |      This orientation is described by four parameters:\n",
      " |      q0 = cos(theta/2)\n",
      " |      q1 = lambda_x sin(theta/2)\n",
      " |      q2 = lambda_y sin(theta/2)\n",
      " |      q3 = lambda_z sin(theta/2)\n",
      " |      Quaternion does not take in a rotation order.\n",
      " |      \n",
      " |      >>> B.orient(N, 'Quaternion', [q0, q1, q2, q3])\n",
      " |      \n",
      " |      Last is Axis. This is a rotation about an arbitrary, non-time-varying\n",
      " |      axis by some angle. The axis is supplied as a Vector. This is how\n",
      " |      simple rotations are defined.\n",
      " |      \n",
      " |      >>> B.orient(N, 'Axis', [q1, N.x + 2 * N.y])\n",
      " |  \n",
      " |  set_ang_acc(self, otherframe, value)\n",
      " |      Define the angular acceleration Vector in a ReferenceFrame.\n",
      " |      \n",
      " |      Defines the angular acceleration of this ReferenceFrame, in another.\n",
      " |      Angular acceleration can be defined with respect to multiple different\n",
      " |      ReferenceFrames. Care must be taken to not create loops which are\n",
      " |      inconsistent.\n",
      " |      \n",
      " |      Parameters\n",
      " |      ==========\n",
      " |      \n",
      " |      otherframe : ReferenceFrame\n",
      " |          A ReferenceFrame to define the angular acceleration in\n",
      " |      value : Vector\n",
      " |          The Vector representing angular acceleration\n",
      " |      \n",
      " |      Examples\n",
      " |      ========\n",
      " |      \n",
      " |      >>> from sympy.physics.vector import ReferenceFrame, Vector\n",
      " |      >>> N = ReferenceFrame('N')\n",
      " |      >>> A = ReferenceFrame('A')\n",
      " |      >>> V = 10 * N.x\n",
      " |      >>> A.set_ang_acc(N, V)\n",
      " |      >>> A.ang_acc_in(N)\n",
      " |      10*N.x\n",
      " |  \n",
      " |  set_ang_vel(self, otherframe, value)\n",
      " |      Define the angular velocity vector in a ReferenceFrame.\n",
      " |      \n",
      " |      Defines the angular velocity of this ReferenceFrame, in another.\n",
      " |      Angular velocity can be defined with respect to multiple different\n",
      " |      ReferenceFrames. Care must be taken to not create loops which are\n",
      " |      inconsistent.\n",
      " |      \n",
      " |      Parameters\n",
      " |      ==========\n",
      " |      \n",
      " |      otherframe : ReferenceFrame\n",
      " |          A ReferenceFrame to define the angular velocity in\n",
      " |      value : Vector\n",
      " |          The Vector representing angular velocity\n",
      " |      \n",
      " |      Examples\n",
      " |      ========\n",
      " |      \n",
      " |      >>> from sympy.physics.vector import ReferenceFrame, Vector\n",
      " |      >>> N = ReferenceFrame('N')\n",
      " |      >>> A = ReferenceFrame('A')\n",
      " |      >>> V = 10 * N.x\n",
      " |      >>> A.set_ang_vel(N, V)\n",
      " |      >>> A.ang_vel_in(N)\n",
      " |      10*N.x\n",
      " |  \n",
      " |  variable_map(self, otherframe)\n",
      " |      Returns a dictionary which expresses the coordinate variables\n",
      " |      of this frame in terms of the variables of otherframe.\n",
      " |      \n",
      " |      If Vector.simp is True, returns a simplified version of the mapped\n",
      " |      values. Else, returns them without simplification.\n",
      " |      \n",
      " |      Simplification of the expressions may take time.\n",
      " |      \n",
      " |      Parameters\n",
      " |      ==========\n",
      " |      \n",
      " |      otherframe : ReferenceFrame\n",
      " |          The other frame to map the variables to\n",
      " |      \n",
      " |      Examples\n",
      " |      ========\n",
      " |      \n",
      " |      >>> from sympy.physics.vector import ReferenceFrame, dynamicsymbols\n",
      " |      >>> A = ReferenceFrame('A')\n",
      " |      >>> q = dynamicsymbols('q')\n",
      " |      >>> B = A.orientnew('B', 'Axis', [q, A.z])\n",
      " |      >>> A.variable_map(B)\n",
      " |      {A_x: B_x*cos(q(t)) - B_y*sin(q(t)), A_y: B_x*sin(q(t)) + B_y*cos(q(t)), A_z: B_z}\n",
      " |  \n",
      " |  ----------------------------------------------------------------------\n",
      " |  Data descriptors defined here:\n",
      " |  \n",
      " |  __dict__\n",
      " |      dictionary for instance variables (if defined)\n",
      " |  \n",
      " |  __weakref__\n",
      " |      list of weak references to the object (if defined)\n",
      " |  \n",
      " |  x\n",
      " |      The basis Vector for the ReferenceFrame, in the x direction.\n",
      " |  \n",
      " |  y\n",
      " |      The basis Vector for the ReferenceFrame, in the y direction.\n",
      " |  \n",
      " |  z\n",
      " |      The basis Vector for the ReferenceFrame, in the z direction.\n",
      "\n"
     ]
    }
   ],
   "source": [
    "help(ReferenceFrame)"
   ]
  },
  {
   "cell_type": "code",
   "execution_count": 11,
   "metadata": {
    "collapsed": true
   },
   "outputs": [],
   "source": [
    "N = ReferenceFrame('N')"
   ]
  },
  {
   "cell_type": "code",
   "execution_count": 12,
   "metadata": {
    "collapsed": false
   },
   "outputs": [
    {
     "data": {
      "text/plain": [
       "['__class__',\n",
       " '__delattr__',\n",
       " '__dict__',\n",
       " '__dir__',\n",
       " '__doc__',\n",
       " '__eq__',\n",
       " '__format__',\n",
       " '__ge__',\n",
       " '__getattribute__',\n",
       " '__getitem__',\n",
       " '__gt__',\n",
       " '__hash__',\n",
       " '__init__',\n",
       " '__iter__',\n",
       " '__le__',\n",
       " '__lt__',\n",
       " '__module__',\n",
       " '__ne__',\n",
       " '__new__',\n",
       " '__reduce__',\n",
       " '__reduce_ex__',\n",
       " '__repr__',\n",
       " '__setattr__',\n",
       " '__sizeof__',\n",
       " '__str__',\n",
       " '__subclasshook__',\n",
       " '__weakref__',\n",
       " '_ang_acc_dict',\n",
       " '_ang_vel_dict',\n",
       " '_cur',\n",
       " '_dcm_cache',\n",
       " '_dcm_dict',\n",
       " '_dict_list',\n",
       " '_dlist',\n",
       " '_var_dict',\n",
       " '_w_diff_dcm',\n",
       " '_x',\n",
       " '_y',\n",
       " '_z',\n",
       " 'ang_acc_in',\n",
       " 'ang_vel_in',\n",
       " 'dcm',\n",
       " 'indices',\n",
       " 'latex_vecs',\n",
       " 'name',\n",
       " 'orient',\n",
       " 'orientnew',\n",
       " 'pretty_vecs',\n",
       " 'set_ang_acc',\n",
       " 'set_ang_vel',\n",
       " 'str_vecs',\n",
       " 'variable_map',\n",
       " 'varlist',\n",
       " 'x',\n",
       " 'y',\n",
       " 'z']"
      ]
     },
     "execution_count": 12,
     "metadata": {},
     "output_type": "execute_result"
    }
   ],
   "source": [
    "dir(N)"
   ]
  },
  {
   "cell_type": "code",
   "execution_count": 13,
   "metadata": {
    "collapsed": true
   },
   "outputs": [],
   "source": [
    "v = 1 * N.x + 2 * N.y + 3 * N.z"
   ]
  },
  {
   "cell_type": "code",
   "execution_count": 14,
   "metadata": {
    "collapsed": false
   },
   "outputs": [
    {
     "name": "stdout",
     "output_type": "stream",
     "text": [
      "N.x + 2*N.y + 3*N.z\n"
     ]
    }
   ],
   "source": [
    "print(v)"
   ]
  },
  {
   "cell_type": "code",
   "execution_count": 15,
   "metadata": {
    "collapsed": false
   },
   "outputs": [
    {
     "data": {
      "text/plain": [
       "2*N.x + 4*N.y + 6*N.z"
      ]
     },
     "execution_count": 15,
     "metadata": {},
     "output_type": "execute_result"
    }
   ],
   "source": [
    "2 * v"
   ]
  },
  {
   "cell_type": "code",
   "execution_count": 16,
   "metadata": {
    "collapsed": false
   },
   "outputs": [
    {
     "data": {
      "text/plain": [
       "0.333333333333333*N.x + 0.666666666666667*N.y + N.z"
      ]
     },
     "execution_count": 16,
     "metadata": {},
     "output_type": "execute_result"
    }
   ],
   "source": [
    "v / 3.0"
   ]
  },
  {
   "cell_type": "code",
   "execution_count": 17,
   "metadata": {
    "collapsed": false
   },
   "outputs": [
    {
     "data": {
      "text/plain": [
       "2*N.x + 4*N.y + 6*N.z"
      ]
     },
     "execution_count": 17,
     "metadata": {},
     "output_type": "execute_result"
    }
   ],
   "source": [
    "v + v"
   ]
  },
  {
   "cell_type": "code",
   "execution_count": 19,
   "metadata": {
    "collapsed": true
   },
   "outputs": [],
   "source": [
    "w = 5 * N.x + 7 * N.y\n"
   ]
  },
  {
   "cell_type": "code",
   "execution_count": 20,
   "metadata": {
    "collapsed": false
   },
   "outputs": [
    {
     "data": {
      "text/plain": [
       "- 4*N.x - 5*N.y + 3*N.z"
      ]
     },
     "execution_count": 20,
     "metadata": {},
     "output_type": "execute_result"
    }
   ],
   "source": [
    "v - w"
   ]
  },
  {
   "cell_type": "code",
   "execution_count": 21,
   "metadata": {
    "collapsed": false
   },
   "outputs": [
    {
     "data": {
      "text/plain": [
       "['__add__',\n",
       " '__and__',\n",
       " '__class__',\n",
       " '__delattr__',\n",
       " '__dict__',\n",
       " '__dir__',\n",
       " '__div__',\n",
       " '__doc__',\n",
       " '__eq__',\n",
       " '__format__',\n",
       " '__ge__',\n",
       " '__getattribute__',\n",
       " '__gt__',\n",
       " '__hash__',\n",
       " '__init__',\n",
       " '__le__',\n",
       " '__lt__',\n",
       " '__module__',\n",
       " '__mul__',\n",
       " '__ne__',\n",
       " '__neg__',\n",
       " '__new__',\n",
       " '__or__',\n",
       " '__radd__',\n",
       " '__rand__',\n",
       " '__reduce__',\n",
       " '__reduce_ex__',\n",
       " '__repr__',\n",
       " '__rmul__',\n",
       " '__ror__',\n",
       " '__rsub__',\n",
       " '__setattr__',\n",
       " '__sizeof__',\n",
       " '__str__',\n",
       " '__sub__',\n",
       " '__subclasshook__',\n",
       " '__truediv__',\n",
       " '__weakref__',\n",
       " '__xor__',\n",
       " '_latex',\n",
       " '_pretty',\n",
       " '_sympyrepr',\n",
       " '_sympystr',\n",
       " 'applyfunc',\n",
       " 'args',\n",
       " 'cross',\n",
       " 'diff',\n",
       " 'doit',\n",
       " 'dot',\n",
       " 'dt',\n",
       " 'express',\n",
       " 'magnitude',\n",
       " 'normalize',\n",
       " 'outer',\n",
       " 'separate',\n",
       " 'simp',\n",
       " 'simplify',\n",
       " 'subs',\n",
       " 'to_matrix']"
      ]
     },
     "execution_count": 21,
     "metadata": {},
     "output_type": "execute_result"
    }
   ],
   "source": [
    "dir(v)"
   ]
  },
  {
   "cell_type": "code",
   "execution_count": 22,
   "metadata": {
    "collapsed": false
   },
   "outputs": [
    {
     "data": {
      "text/plain": [
       "sqrt(14)"
      ]
     },
     "execution_count": 22,
     "metadata": {},
     "output_type": "execute_result"
    }
   ],
   "source": [
    "v.magnitude()"
   ]
  },
  {
   "cell_type": "code",
   "execution_count": 23,
   "metadata": {
    "collapsed": false
   },
   "outputs": [
    {
     "data": {
      "text/plain": [
       "sqrt(14)/14*N.x + sqrt(14)/7*N.y + 3*sqrt(14)/14*N.z"
      ]
     },
     "execution_count": 23,
     "metadata": {},
     "output_type": "execute_result"
    }
   ],
   "source": [
    "v.normalize()"
   ]
  },
  {
   "cell_type": "code",
   "execution_count": 24,
   "metadata": {
    "collapsed": false
   },
   "outputs": [
    {
     "data": {
      "text/plain": [
       "[(Matrix([\n",
       "  [1],\n",
       "  [2],\n",
       "  [3]]), N)]"
      ]
     },
     "execution_count": 24,
     "metadata": {},
     "output_type": "execute_result"
    }
   ],
   "source": [
    "v.args"
   ]
  },
  {
   "cell_type": "code",
   "execution_count": 25,
   "metadata": {
    "collapsed": false
   },
   "outputs": [
    {
     "data": {
      "text/plain": [
       "19"
      ]
     },
     "execution_count": 25,
     "metadata": {},
     "output_type": "execute_result"
    }
   ],
   "source": [
    "dot(v, w)"
   ]
  },
  {
   "cell_type": "code",
   "execution_count": 26,
   "metadata": {
    "collapsed": false
   },
   "outputs": [
    {
     "data": {
      "text/plain": [
       "- 21*N.x + 15*N.y - 3*N.z"
      ]
     },
     "execution_count": 26,
     "metadata": {},
     "output_type": "execute_result"
    }
   ],
   "source": [
    "cross(v, w)"
   ]
  },
  {
   "cell_type": "code",
   "execution_count": 27,
   "metadata": {
    "collapsed": true
   },
   "outputs": [],
   "source": [
    "a1, a2, a3 = symbols('a1 a2 a3')\n",
    "b1, b2, b3 = symbols('b1 b2 b3')"
   ]
  },
  {
   "cell_type": "code",
   "execution_count": 28,
   "metadata": {
    "collapsed": true
   },
   "outputs": [],
   "source": [
    "x = a1 * N.x + a2 * N.y + a3 * N.z\n",
    "y = b1 * N.x + b2 * N.y + b3 * N.z"
   ]
  },
  {
   "cell_type": "code",
   "execution_count": 29,
   "metadata": {
    "collapsed": false
   },
   "outputs": [
    {
     "data": {
      "text/plain": [
       "a1*b1 + a2*b2 + a3*b3"
      ]
     },
     "execution_count": 29,
     "metadata": {},
     "output_type": "execute_result"
    }
   ],
   "source": [
    "dot(x, y)"
   ]
  },
  {
   "cell_type": "code",
   "execution_count": 30,
   "metadata": {
    "collapsed": false
   },
   "outputs": [
    {
     "data": {
      "text/plain": [
       "(a2*b3 - a3*b2)*N.x + (-a1*b3 + a3*b1)*N.y + (a1*b2 - a2*b1)*N.z"
      ]
     },
     "execution_count": 30,
     "metadata": {},
     "output_type": "execute_result"
    }
   ],
   "source": [
    "z = cross(x, y)\n",
    "z"
   ]
  },
  {
   "cell_type": "code",
   "execution_count": 31,
   "metadata": {
    "collapsed": false
   },
   "outputs": [
    {
     "data": {
      "text/plain": [
       "a1 + 2*a2 + 3*a3"
      ]
     },
     "execution_count": 31,
     "metadata": {},
     "output_type": "execute_result"
    }
   ],
   "source": [
    "dot(v, x)"
   ]
  },
  {
   "cell_type": "code",
   "execution_count": 32,
   "metadata": {
    "collapsed": false
   },
   "outputs": [
    {
     "data": {
      "text/plain": [
       "- b3*N.y + b2*N.z"
      ]
     },
     "execution_count": 32,
     "metadata": {},
     "output_type": "execute_result"
    }
   ],
   "source": [
    "z.diff(a1, N)"
   ]
  },
  {
   "cell_type": "code",
   "execution_count": 33,
   "metadata": {
    "collapsed": true
   },
   "outputs": [],
   "source": [
    "A = ReferenceFrame('A')\n",
    "alpha = symbols('alpha')\n",
    "A.orient(N, 'Axis', [alpha, N.x])"
   ]
  },
  {
   "cell_type": "code",
   "execution_count": 34,
   "metadata": {
    "collapsed": false
   },
   "outputs": [
    {
     "data": {
      "text/plain": [
       "Matrix([\n",
       "[1,           0,          0],\n",
       "[0,  cos(alpha), sin(alpha)],\n",
       "[0, -sin(alpha), cos(alpha)]])"
      ]
     },
     "execution_count": 34,
     "metadata": {},
     "output_type": "execute_result"
    }
   ],
   "source": [
    "A.dcm(N)"
   ]
  },
  {
   "cell_type": "code",
   "execution_count": 35,
   "metadata": {
    "collapsed": false
   },
   "outputs": [
    {
     "data": {
      "text/plain": [
       "A.x + (3*sin(alpha) + 2*cos(alpha))*A.y + (-2*sin(alpha) + 3*cos(alpha))*A.z"
      ]
     },
     "execution_count": 35,
     "metadata": {},
     "output_type": "execute_result"
    }
   ],
   "source": [
    "v.express(A)"
   ]
  },
  {
   "cell_type": "code",
   "execution_count": 36,
   "metadata": {
    "collapsed": false
   },
   "outputs": [
    {
     "data": {
      "text/plain": [
       "(a2*b3 - a3*b2)*A.x + ((a1*b2 - a2*b1)*sin(alpha) + (-a1*b3 + a3*b1)*cos(alpha))*A.y + ((a1*b2 - a2*b1)*cos(alpha) - (-a1*b3 + a3*b1)*sin(alpha))*A.z"
      ]
     },
     "execution_count": 36,
     "metadata": {},
     "output_type": "execute_result"
    }
   ],
   "source": [
    "z.express(A)\n"
   ]
  },
  {
   "cell_type": "code",
   "execution_count": 37,
   "metadata": {
    "collapsed": false
   },
   "outputs": [
    {
     "data": {
      "text/plain": [
       "(beta(t), d(t))"
      ]
     },
     "execution_count": 37,
     "metadata": {},
     "output_type": "execute_result"
    }
   ],
   "source": [
    "beta, d = dynamicsymbols('beta d')\n",
    "beta, d"
   ]
  },
  {
   "cell_type": "code",
   "execution_count": 38,
   "metadata": {
    "collapsed": true
   },
   "outputs": [],
   "source": [
    "B = A.orientnew('B', 'Axis', (beta, A.y))"
   ]
  },
  {
   "cell_type": "code",
   "execution_count": 39,
   "metadata": {
    "collapsed": true
   },
   "outputs": [],
   "source": [
    "vec = d * B.z"
   ]
  },
  {
   "cell_type": "code",
   "execution_count": 40,
   "metadata": {
    "collapsed": false
   },
   "outputs": [
    {
     "data": {
      "text/plain": [
       "beta'*A.y"
      ]
     },
     "execution_count": 40,
     "metadata": {},
     "output_type": "execute_result"
    }
   ],
   "source": [
    "B.ang_vel_in(N)"
   ]
  },
  {
   "cell_type": "code",
   "execution_count": 41,
   "metadata": {
    "collapsed": false
   },
   "outputs": [
    {
     "data": {
      "text/plain": [
       "d*beta'*B.x + d'*B.z"
      ]
     },
     "execution_count": 41,
     "metadata": {},
     "output_type": "execute_result"
    }
   ],
   "source": [
    "vecdot = vec.dt(N)\n",
    "vecdot"
   ]
  },
  {
   "cell_type": "code",
   "execution_count": 42,
   "metadata": {
    "collapsed": false
   },
   "outputs": [
    {
     "data": {
      "text/plain": [
       "(d*cos(beta)*beta' + sin(beta)*d')*N.x + (d*sin(alpha)*sin(beta)*beta' - sin(alpha)*cos(beta)*d')*N.y + (-d*sin(beta)*cos(alpha)*beta' + cos(alpha)*cos(beta)*d')*N.z"
      ]
     },
     "execution_count": 42,
     "metadata": {},
     "output_type": "execute_result"
    }
   ],
   "source": [
    "vecdot.express(N)"
   ]
  },
  {
   "cell_type": "code",
   "execution_count": 43,
   "metadata": {
    "collapsed": false
   },
   "outputs": [
    {
     "data": {
      "text/plain": [
       "(theta(t), Derivative(theta(t), t))"
      ]
     },
     "execution_count": 43,
     "metadata": {},
     "output_type": "execute_result"
    }
   ],
   "source": [
    "theta = dynamicsymbols('theta')\n",
    "thetad = dynamicsymbols('theta', 1)\n",
    "theta, thetad"
   ]
  },
  {
   "cell_type": "markdown",
   "metadata": {},
   "source": [
    "## Double Pendulum Integration\n",
    "* https://github.com/pydy/pydy/blob/master/examples/double_pendulum/scipy/double_pendulum_integration.py"
   ]
  },
  {
   "cell_type": "code",
   "execution_count": 44,
   "metadata": {
    "collapsed": false
   },
   "outputs": [
    {
     "data": {
      "image/png": "[encoded data removed]",
      "text/plain": [
       "<matplotlib.figure.Figure at 0x7f62eded2c88>"
      ]
     },
     "metadata": {},
     "output_type": "display_data"
    }
   ],
   "source": [
    "#!/usr/bin/env python\n",
    "\n",
    "# This is an example of integrating the equations of motion for a double\n",
    "# pendulum which were generated with sympy.physics.mechanics. We make use of\n",
    "# SciPy/NumPy for the integration routines and Matplotlib for plotting.\n",
    "#\n",
    "# Steps taken:\n",
    "# 1. Turned on mechanics_printing() in sympy.physics.mechanics for proper\n",
    "# output for copying the equations to this file.\n",
    "# 2. Import zeros, sin, cos, linspace from NumPy, odeint from SciPy and pyplot\n",
    "# from Matplotlib.\n",
    "# 3. Write a function definition that returns the right hand side of the\n",
    "# first order form of the equations of motion. rhd(y, t, *parameters)\n",
    "# 4. Called odeint with rhs, y0, t and the parameters.\n",
    "# 5. Plotted the results.\n",
    "\n",
    "from numpy import sin, cos, linspace, zeros\n",
    "import matplotlib.pyplot as plt\n",
    "from scipy.integrate import odeint\n",
    "\n",
    "## Integration ##\n",
    "\n",
    "def rhs(y, t, l, m, g):\n",
    "    \"\"\"Returns the derivatives of the states at the given time for the given\n",
    "    set of parameters.\n",
    "\n",
    "    Parameters\n",
    "    ----------\n",
    "    y : array_like, shape(n,)\n",
    "        An array of the current states.\n",
    "    t : float\n",
    "        The current time.\n",
    "    l : float\n",
    "        Pendulum length.\n",
    "    m : float\n",
    "        Pendulum mass.\n",
    "    g : float\n",
    "        Acceleration due to gravity.\n",
    "\n",
    "    Returns\n",
    "    -------\n",
    "    dydt : array_like, shape(n,)\n",
    "        An array of the current derivatives of the states.\n",
    "\n",
    "    Notes\n",
    "    -----\n",
    "    The units and order of the states, time and parameters should be\n",
    "    consistent.\n",
    "\n",
    "    \"\"\"\n",
    "    # Unpack the states so you can use the variable names in the\n",
    "    # sympy.physics.mechanics equations\n",
    "    q1 = y[0]\n",
    "    q2 = y[1]\n",
    "    u1 = y[2]\n",
    "    u2 = y[3]\n",
    "    # or you can make use of python's tuple unpacking for a one liner\n",
    "    # q1, q2, u1, u2 = y\n",
    "\n",
    "    # Initialize a vector for the derivatives.\n",
    "    dydt = zeros((len(y)))\n",
    "\n",
    "    # Compute the derivatives, these are pasted in from the\n",
    "    # sympy.physics.mechanics results.\n",
    "    dydt[0] = u1\n",
    "    dydt[1] = u2\n",
    "    dydt[2] = (-g*sin(q1)*sin(q2)**2 + 2*g*sin(q1) -\n",
    "        g*sin(q2)*cos(q1)*cos(q2) + 2*l*u1**2*sin(q1)*cos(q1)*cos(q2)**2 -\n",
    "        l*u1**2*sin(q1)*cos(q1) - 2*l*u1**2*sin(q2)*cos(q1)**2*cos(q2) +\n",
    "        l*u1**2*sin(q2)*cos(q2) + l*u2**2*sin(q1)*cos(q2) -\n",
    "        l*u2**2*sin(q2)*cos(q1))/(l*(sin(q1)**2*sin(q2)**2 +\n",
    "        2*sin(q1)*sin(q2)*cos(q1)*cos(q2) + cos(q1)**2*cos(q2)**2 - 2))\n",
    "    dydt[3] = (-sin(q1)*sin(q2)/2 - cos(q1)*cos(q2)/2)*(2*g*l*m*sin(q1) -\n",
    "        l**2*m*(-sin(q1)*cos(q2) +\n",
    "        sin(q2)*cos(q1))*u2**2)/(l**2*m*(sin(q1)*sin(q2)/2 +\n",
    "        cos(q1)*cos(q2)/2)*(sin(q1)*sin(q2) + cos(q1)*cos(q2)) -\n",
    "        l**2*m) + (g*l*m*sin(q2) - l**2*m*(sin(q1)*cos(q2) -\n",
    "        sin(q2)*cos(q1))*u1**2)/(l**2*m*(sin(q1)*sin(q2)/2 +\n",
    "        cos(q1)*cos(q2)/2)*(sin(q1)*sin(q2) + cos(q1)*cos(q2))\n",
    "        - l**2*m)\n",
    "\n",
    "    # Return the derivatives.\n",
    "    return dydt\n",
    "\n",
    "# Specify the length, mass and acceleration due to gravity.\n",
    "parameters = (1, 1, 9.8)\n",
    "# Specify initial conditions for the states.\n",
    "y0 = [.1, .2, 0, 0]\n",
    "# Create a time vector.\n",
    "t = linspace(0, 5)\n",
    "# Integrate the equations of motion.\n",
    "y = odeint(rhs, y0, t, parameters)\n",
    "\n",
    "\n",
    "## Plotting ##\n",
    "\n",
    "# Create an empty figure.\n",
    "fig = plt.figure()\n",
    "\n",
    "# Add a single axes to the figure.\n",
    "ax = fig.add_subplot(1, 1, 1)\n",
    "\n",
    "# Plot the states versus time.\n",
    "ax.plot(t, y)\n",
    "\n",
    "# Add a title, axes labels and a legend.\n",
    "ax.set_title('Double Pendulum Example')\n",
    "ax.set_xlabel('Time (s)')\n",
    "ax.set_ylabel('Angle, Angluar rate (rad, rad/s)')\n",
    "ax.legend(['q1', 'q2', 'u1', 'u2'])\n",
    "\n",
    "# Display the figure.\n",
    "plt.show()\n"
   ]
  },
  {
   "cell_type": "markdown",
   "metadata": {},
   "source": [
    "## Simple Pendulum Example\n",
    "* https://github.com/pydy/pydy/tree/master/examples/simple_pendulum\n",
    "\n",
    "\n",
    "![Pendulum](https://rawgithub.com/pydy/pydy/master/examples/simple_pendulum/pendulum.svg)\n",
    "\n"
   ]
  },
  {
   "cell_type": "code",
   "execution_count": 45,
   "metadata": {
    "collapsed": false
   },
   "outputs": [
    {
     "name": "stdout",
     "output_type": "stream",
     "text": [
      "⎡                         2      ⎤\n",
      "⎢                   2    d       ⎥\n",
      "⎢g⋅l⋅m⋅sin(θ(t)) + l ⋅m⋅───(θ(t))⎥\n",
      "⎢                         2      ⎥\n",
      "⎣                       dt       ⎦\n"
     ]
    }
   ],
   "source": [
    "# This code requires sympy 1.0 to run\n",
    "\n",
    "from sympy import *\n",
    "from sympy.physics.mechanics import LagrangesMethod, Lagrangian\n",
    "from sympy.physics.mechanics import ReferenceFrame, Particle, Point\n",
    "from sympy.physics.mechanics import dynamicsymbols\n",
    "\n",
    "# System state variables\n",
    "theta = dynamicsymbols('theta')\n",
    "thetad = dynamicsymbols('theta', 1)\n",
    "\n",
    "# Other system variables\n",
    "m, l, g = symbols('m l g')\n",
    "\n",
    "# Set up the reference frames\n",
    "# Reference frame A set up in the plane perpendicular to the page containing\n",
    "# segment OP\n",
    "N = ReferenceFrame('N')\n",
    "A = N.orientnew('A', 'Axis', [theta, N.z])\n",
    "\n",
    "# Set up the points and particles\n",
    "O = Point('O')\n",
    "P = O.locatenew('P', l * A.x)\n",
    "\n",
    "Pa = Particle('Pa', P, m)\n",
    "\n",
    "# Set up velocities\n",
    "A.set_ang_vel(N, thetad * N.z)\n",
    "O.set_vel(N, 0)\n",
    "P.v2pt_theory(O, N, A)\n",
    "\n",
    "# Set up the lagrangian\n",
    "L = Lagrangian(N, Pa)\n",
    "\n",
    "# Create the list of forces acting on the system\n",
    "fl = [(P, g * m * N.x)]\n",
    "\n",
    "# Create the equations of motion using lagranges method\n",
    "l = LagrangesMethod(L, [theta], forcelist=fl, frame=N)\n",
    "\n",
    "pprint(l.form_lagranges_equations())\n"
   ]
  },
  {
   "cell_type": "code",
   "execution_count": null,
   "metadata": {
    "collapsed": true
   },
   "outputs": [],
   "source": []
  }
 ],
 "metadata": {
  "anaconda-cloud": {},
  "kernelspec": {
   "display_name": "Python [conda root]",
   "language": "python",
   "name": "conda-root-py"
  },
  "language_info": {
   "codemirror_mode": {
    "name": "ipython",
    "version": 3
   },
   "file_extension": ".py",
   "mimetype": "text/x-python",
   "name": "python",
   "nbconvert_exporter": "python",
   "pygments_lexer": "ipython3",
   "version": "3.5.2"
  },
  "nav_menu": {},
  "toc": {
   "navigate_menu": true,
   "number_sections": true,
   "sideBar": true,
   "threshold": 6,
   "toc_cell": false,
   "toc_section_display": "block",
   "toc_window_display": false
  }
 },
 "nbformat": 4,
 "nbformat_minor": 1
}
