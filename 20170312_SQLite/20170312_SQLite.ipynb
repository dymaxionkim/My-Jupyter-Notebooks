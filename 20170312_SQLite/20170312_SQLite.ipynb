{
 "cells": [
  {
   "cell_type": "code",
   "execution_count": 149,
   "metadata": {
    "collapsed": false,
    "scrolled": false
   },
   "outputs": [
    {
     "name": "stderr",
     "output_type": "stream",
     "text": [
      "\u001b[1m\u001b[34mINFO: Nothing to be done\n",
      "\u001b[0m"
     ]
    }
   ],
   "source": [
    "Pkg.add(\"SQLite\")"
   ]
  },
  {
   "cell_type": "code",
   "execution_count": 150,
   "metadata": {
    "collapsed": false
   },
   "outputs": [
    {
     "name": "stderr",
     "output_type": "stream",
     "text": [
      "\u001b[1m\u001b[34mINFO: Updating METADATA...\n",
      "\u001b[0m\u001b[1m\u001b[34mINFO: Updating cache of DataFrames...\n",
      "\u001b[0m\u001b[1m\u001b[34mINFO: Updating cache of DataFrames...\n",
      "\u001b[0m\u001b[1m\u001b[34mINFO: Computing changes...\n",
      "\u001b[0m\u001b[1m\u001b[34mINFO: No packages to install, update or remove\n",
      "\u001b[0m"
     ]
    }
   ],
   "source": [
    "Pkg.update()"
   ]
  },
  {
   "cell_type": "code",
   "execution_count": 151,
   "metadata": {
    "collapsed": false,
    "scrolled": true
   },
   "outputs": [],
   "source": [
    "using SQLite"
   ]
  },
  {
   "cell_type": "markdown",
   "metadata": {},
   "source": [
    "## DB 파일 생성"
   ]
  },
  {
   "cell_type": "code",
   "execution_count": 152,
   "metadata": {
    "collapsed": false
   },
   "outputs": [
    {
     "data": {
      "text/plain": [
       "SQLite.DB(\"test.sqlite\")"
      ]
     },
     "execution_count": 152,
     "metadata": {},
     "output_type": "execute_result"
    }
   ],
   "source": [
    "db = SQLite.DB(\"test.sqlite\")"
   ]
  },
  {
   "cell_type": "markdown",
   "metadata": {},
   "source": [
    "## 테이블 생성"
   ]
  },
  {
   "cell_type": "code",
   "execution_count": 178,
   "metadata": {
    "collapsed": false,
    "scrolled": true
   },
   "outputs": [
    {
     "data": {
      "text/html": [
       "<table class=\"data-frame\"><thead><tr><th></th></tr></thead><tbody></tbody></table>"
      ],
      "text/plain": [
       "0×0 DataFrames.DataFrame\n"
      ]
     },
     "execution_count": 178,
     "metadata": {},
     "output_type": "execute_result"
    }
   ],
   "source": [
    "SQLite.query(db,\n",
    "    \"CREATE TABLE partlist (ERP_CODE, NAME, TYPE, DESCRIPTION, MATERIAL, \n",
    "    TREATMENT, DESIGNER, CHECKER, DIVISION, SUPPLIER, UNIT_PRICE);\")"
   ]
  },
  {
   "cell_type": "markdown",
   "metadata": {},
   "source": [
    "## 테이블 전체 내용 확인"
   ]
  },
  {
   "cell_type": "code",
   "execution_count": 179,
   "metadata": {
    "collapsed": false,
    "scrolled": true
   },
   "outputs": [
    {
     "data": {
      "text/html": [
       "<table class=\"data-frame\"><thead><tr><th></th><th>ERP_CODE</th><th>NAME</th><th>TYPE</th><th>DESCRIPTION</th><th>MATERIAL</th><th>TREATMENT</th><th>DESIGNER</th><th>CHECKER</th><th>DIVISION</th><th>SUPPLIER</th><th>UNIT_PRICE</th></tr></thead><tbody></tbody></table>"
      ],
      "text/plain": [
       "0×11 DataFrames.DataFrame\n"
      ]
     },
     "execution_count": 179,
     "metadata": {},
     "output_type": "execute_result"
    }
   ],
   "source": [
    "SQLite.query(db, \"SELECT * FROM partlist\")"
   ]
  },
  {
   "cell_type": "markdown",
   "metadata": {},
   "source": [
    "## 테이블 삭제"
   ]
  },
  {
   "cell_type": "code",
   "execution_count": 220,
   "metadata": {
    "collapsed": false
   },
   "outputs": [
    {
     "data": {
      "text/html": [
       "<table class=\"data-frame\"><thead><tr><th></th></tr></thead><tbody></tbody></table>"
      ],
      "text/plain": [
       "0×0 DataFrames.DataFrame\n"
      ]
     },
     "execution_count": 220,
     "metadata": {},
     "output_type": "execute_result"
    }
   ],
   "source": [
    "SQLite.query(db, \"DROP TABLE IF EXISTS partlist\")"
   ]
  },
  {
   "cell_type": "markdown",
   "metadata": {},
   "source": [
    "## 테이블 재생성\n",
    "\n",
    "* UNIQUE CONSTRAINT 추가"
   ]
  },
  {
   "cell_type": "code",
   "execution_count": 221,
   "metadata": {
    "collapsed": false
   },
   "outputs": [
    {
     "data": {
      "text/html": [
       "<table class=\"data-frame\"><thead><tr><th></th></tr></thead><tbody></tbody></table>"
      ],
      "text/plain": [
       "0×0 DataFrames.DataFrame\n"
      ]
     },
     "execution_count": 221,
     "metadata": {},
     "output_type": "execute_result"
    }
   ],
   "source": [
    "SQLite.query(db,\n",
    "    \"CREATE TABLE partlist (ERP_CODE, NAME, TYPE, DESCRIPTION, MATERIAL, \n",
    "    TREATMENT, DESIGNER, CHECKER, DIVISION, SUPPLIER, UNIT_PRICE\n",
    "    , CONSTRAINT erp_code UNIQUE (ERP_CODE));\")"
   ]
  },
  {
   "cell_type": "code",
   "execution_count": 222,
   "metadata": {
    "collapsed": false
   },
   "outputs": [
    {
     "data": {
      "text/html": [
       "<table class=\"data-frame\"><thead><tr><th></th><th>ERP_CODE</th><th>NAME</th><th>TYPE</th><th>DESCRIPTION</th><th>MATERIAL</th><th>TREATMENT</th><th>DESIGNER</th><th>CHECKER</th><th>DIVISION</th><th>SUPPLIER</th><th>UNIT_PRICE</th></tr></thead><tbody></tbody></table>"
      ],
      "text/plain": [
       "0×11 DataFrames.DataFrame\n"
      ]
     },
     "execution_count": 222,
     "metadata": {},
     "output_type": "execute_result"
    }
   ],
   "source": [
    "SQLite.query(db, \"SELECT * FROM partlist\")"
   ]
  },
  {
   "cell_type": "markdown",
   "metadata": {},
   "source": [
    "## 테이블 내용 추가"
   ]
  },
  {
   "cell_type": "code",
   "execution_count": 223,
   "metadata": {
    "collapsed": false
   },
   "outputs": [
    {
     "data": {
      "text/html": [
       "<table class=\"data-frame\"><thead><tr><th></th></tr></thead><tbody></tbody></table>"
      ],
      "text/plain": [
       "0×0 DataFrames.DataFrame\n"
      ]
     },
     "execution_count": 223,
     "metadata": {},
     "output_type": "execute_result"
    }
   ],
   "source": [
    "SQLite.query(db, \"INSERT INTO partlist\n",
    "    VALUES\n",
    "    ('H200001', 'B_GLOS_E6-10-208-50', 'ASSEMBLY', 'Hinge 0.9Nm', '-', \n",
    "    '-', 'KimDH', 'KimDH', 'HealthCare', 'Glos', 7000);\")"
   ]
  },
  {
   "cell_type": "code",
   "execution_count": 224,
   "metadata": {
    "collapsed": false
   },
   "outputs": [
    {
     "data": {
      "text/html": [
       "<table class=\"data-frame\"><thead><tr><th></th><th>ERP_CODE</th><th>NAME</th><th>TYPE</th><th>DESCRIPTION</th><th>MATERIAL</th><th>TREATMENT</th><th>DESIGNER</th><th>CHECKER</th><th>DIVISION</th><th>SUPPLIER</th><th>UNIT_PRICE</th></tr></thead><tbody><tr><th>1</th><td>Nullable{String}(\"H200001\")</td><td>Nullable{String}(\"B_GLOS_E6-10-208-50\")</td><td>Nullable{String}(\"ASSEMBLY\")</td><td>Nullable{String}(\"Hinge 0.9Nm\")</td><td>Nullable{String}(\"-\")</td><td>Nullable{String}(\"-\")</td><td>Nullable{String}(\"KimDH\")</td><td>Nullable{String}(\"KimDH\")</td><td>Nullable{String}(\"HealthCare\")</td><td>Nullable{String}(\"Glos\")</td><td>Nullable{Int64}(7000)</td></tr></tbody></table>"
      ],
      "text/plain": [
       "1×11 DataFrames.DataFrame\n",
       "│ Row │ ERP_CODE  │ NAME                  │ TYPE       │ DESCRIPTION   │\n",
       "├─────┼───────────┼───────────────────────┼────────────┼───────────────┤\n",
       "│ 1   │ \"H200001\" │ \"B_GLOS_E6-10-208-50\" │ \"ASSEMBLY\" │ \"Hinge 0.9Nm\" │\n",
       "\n",
       "│ Row │ MATERIAL │ TREATMENT │ DESIGNER │ CHECKER │ DIVISION     │ SUPPLIER │\n",
       "├─────┼──────────┼───────────┼──────────┼─────────┼──────────────┼──────────┤\n",
       "│ 1   │ \"-\"      │ \"-\"       │ \"KimDH\"  │ \"KimDH\" │ \"HealthCare\" │ \"Glos\"   │\n",
       "\n",
       "│ Row │ UNIT_PRICE │\n",
       "├─────┼────────────┤\n",
       "│ 1   │ 7000       │"
      ]
     },
     "execution_count": 224,
     "metadata": {},
     "output_type": "execute_result"
    }
   ],
   "source": [
    "SQLite.query(db, \"SELECT * FROM partlist\")"
   ]
  },
  {
   "cell_type": "code",
   "execution_count": 225,
   "metadata": {
    "collapsed": false
   },
   "outputs": [
    {
     "data": {
      "text/html": [
       "<table class=\"data-frame\"><thead><tr><th></th></tr></thead><tbody></tbody></table>"
      ],
      "text/plain": [
       "0×0 DataFrames.DataFrame\n"
      ]
     },
     "execution_count": 225,
     "metadata": {},
     "output_type": "execute_result"
    }
   ],
   "source": [
    "SQLite.query(db, \"INSERT INTO partlist\n",
    "    VALUES\n",
    "    ('H300001', 'M_LPL2_MID_PANEL_SUB', 'PART', 'SheetMetal', 'A5052', \n",
    "    'Powder Coating (Matte Silver)', 'KimDH', 'KimDH', 'HealthCare', '-', 20000);\")"
   ]
  },
  {
   "cell_type": "code",
   "execution_count": 226,
   "metadata": {
    "collapsed": false
   },
   "outputs": [
    {
     "data": {
      "text/html": [
       "<table class=\"data-frame\"><thead><tr><th></th><th>ERP_CODE</th><th>NAME</th><th>TYPE</th><th>DESCRIPTION</th><th>MATERIAL</th><th>TREATMENT</th><th>DESIGNER</th><th>CHECKER</th><th>DIVISION</th><th>SUPPLIER</th><th>UNIT_PRICE</th></tr></thead><tbody><tr><th>1</th><td>Nullable{String}(\"H200001\")</td><td>Nullable{String}(\"B_GLOS_E6-10-208-50\")</td><td>Nullable{String}(\"ASSEMBLY\")</td><td>Nullable{String}(\"Hinge 0.9Nm\")</td><td>Nullable{String}(\"-\")</td><td>Nullable{String}(\"-\")</td><td>Nullable{String}(\"KimDH\")</td><td>Nullable{String}(\"KimDH\")</td><td>Nullable{String}(\"HealthCare\")</td><td>Nullable{String}(\"Glos\")</td><td>Nullable{Int64}(7000)</td></tr><tr><th>2</th><td>Nullable{String}(\"H300001\")</td><td>Nullable{String}(\"M_LPL2_MID_PANEL_SUB\")</td><td>Nullable{String}(\"PART\")</td><td>Nullable{String}(\"SheetMetal\")</td><td>Nullable{String}(\"A5052\")</td><td>Nullable{String}(\"Powder Coating (Matte Silver)\")</td><td>Nullable{String}(\"KimDH\")</td><td>Nullable{String}(\"KimDH\")</td><td>Nullable{String}(\"HealthCare\")</td><td>Nullable{String}(\"-\")</td><td>Nullable{Int64}(20000)</td></tr></tbody></table>"
      ],
      "text/plain": [
       "2×11 DataFrames.DataFrame\n",
       "│ Row │ ERP_CODE  │ NAME                   │ TYPE       │ DESCRIPTION   │\n",
       "├─────┼───────────┼────────────────────────┼────────────┼───────────────┤\n",
       "│ 1   │ \"H200001\" │ \"B_GLOS_E6-10-208-50\"  │ \"ASSEMBLY\" │ \"Hinge 0.9Nm\" │\n",
       "│ 2   │ \"H300001\" │ \"M_LPL2_MID_PANEL_SUB\" │ \"PART\"     │ \"SheetMetal\"  │\n",
       "\n",
       "│ Row │ MATERIAL │ TREATMENT                       │ DESIGNER │ CHECKER │\n",
       "├─────┼──────────┼─────────────────────────────────┼──────────┼─────────┤\n",
       "│ 1   │ \"-\"      │ \"-\"                             │ \"KimDH\"  │ \"KimDH\" │\n",
       "│ 2   │ \"A5052\"  │ \"Powder Coating (Matte Silver)\" │ \"KimDH\"  │ \"KimDH\" │\n",
       "\n",
       "│ Row │ DIVISION     │ SUPPLIER │ UNIT_PRICE │\n",
       "├─────┼──────────────┼──────────┼────────────┤\n",
       "│ 1   │ \"HealthCare\" │ \"Glos\"   │ 7000       │\n",
       "│ 2   │ \"HealthCare\" │ \"-\"      │ 20000      │"
      ]
     },
     "execution_count": 226,
     "metadata": {},
     "output_type": "execute_result"
    }
   ],
   "source": [
    "SQLite.query(db, \"SELECT * FROM partlist\")"
   ]
  },
  {
   "cell_type": "markdown",
   "metadata": {},
   "source": [
    "## 테이블 내용 서칭"
   ]
  },
  {
   "cell_type": "code",
   "execution_count": 227,
   "metadata": {
    "collapsed": false
   },
   "outputs": [
    {
     "data": {
      "text/html": [
       "<table class=\"data-frame\"><thead><tr><th></th><th>'TYPE'</th></tr></thead><tbody><tr><th>1</th><td>Nullable{String}(\"TYPE\")</td></tr><tr><th>2</th><td>Nullable{String}(\"TYPE\")</td></tr></tbody></table>"
      ],
      "text/plain": [
       "2×1 DataFrames.DataFrame\n",
       "│ Row │ 'TYPE' │\n",
       "├─────┼────────┤\n",
       "│ 1   │ \"TYPE\" │\n",
       "│ 2   │ \"TYPE\" │"
      ]
     },
     "execution_count": 227,
     "metadata": {},
     "output_type": "execute_result"
    }
   ],
   "source": [
    "SQLite.query(db, \"SELECT 'TYPE' FROM partlist\")"
   ]
  },
  {
   "cell_type": "code",
   "execution_count": 228,
   "metadata": {
    "collapsed": false,
    "scrolled": true
   },
   "outputs": [
    {
     "data": {
      "text/html": [
       "<table class=\"data-frame\"><thead><tr><th></th><th>'M_LPL2_MID_PANEL_SUB'</th></tr></thead><tbody><tr><th>1</th><td>Nullable{String}(\"M_LPL2_MID_PANEL_SUB\")</td></tr><tr><th>2</th><td>Nullable{String}(\"M_LPL2_MID_PANEL_SUB\")</td></tr></tbody></table>"
      ],
      "text/plain": [
       "2×1 DataFrames.DataFrame\n",
       "│ Row │ 'M_LPL2_MID_PANEL_SUB' │\n",
       "├─────┼────────────────────────┤\n",
       "│ 1   │ \"M_LPL2_MID_PANEL_SUB\" │\n",
       "│ 2   │ \"M_LPL2_MID_PANEL_SUB\" │"
      ]
     },
     "execution_count": 228,
     "metadata": {},
     "output_type": "execute_result"
    }
   ],
   "source": [
    "SQLite.query(db, \"SELECT 'M_LPL2_MID_PANEL_SUB' FROM partlist\")"
   ]
  },
  {
   "cell_type": "code",
   "execution_count": 229,
   "metadata": {
    "collapsed": false
   },
   "outputs": [
    {
     "data": {
      "text/html": [
       "<table class=\"data-frame\"><thead><tr><th></th><th>ERP_CODE</th><th>NAME</th><th>TYPE</th><th>DESCRIPTION</th><th>MATERIAL</th><th>TREATMENT</th><th>DESIGNER</th><th>CHECKER</th><th>DIVISION</th><th>SUPPLIER</th><th>UNIT_PRICE</th></tr></thead><tbody><tr><th>1</th><td>Nullable{String}(\"H300001\")</td><td>Nullable{String}(\"M_LPL2_MID_PANEL_SUB\")</td><td>Nullable{String}(\"PART\")</td><td>Nullable{String}(\"SheetMetal\")</td><td>Nullable{String}(\"A5052\")</td><td>Nullable{String}(\"Powder Coating (Matte Silver)\")</td><td>Nullable{String}(\"KimDH\")</td><td>Nullable{String}(\"KimDH\")</td><td>Nullable{String}(\"HealthCare\")</td><td>Nullable{String}(\"-\")</td><td>Nullable{Int64}(20000)</td></tr></tbody></table>"
      ],
      "text/plain": [
       "1×11 DataFrames.DataFrame\n",
       "│ Row │ ERP_CODE  │ NAME                   │ TYPE   │ DESCRIPTION  │ MATERIAL │\n",
       "├─────┼───────────┼────────────────────────┼────────┼──────────────┼──────────┤\n",
       "│ 1   │ \"H300001\" │ \"M_LPL2_MID_PANEL_SUB\" │ \"PART\" │ \"SheetMetal\" │ \"A5052\"  │\n",
       "\n",
       "│ Row │ TREATMENT                       │ DESIGNER │ CHECKER │ DIVISION     │\n",
       "├─────┼─────────────────────────────────┼──────────┼─────────┼──────────────┤\n",
       "│ 1   │ \"Powder Coating (Matte Silver)\" │ \"KimDH\"  │ \"KimDH\" │ \"HealthCare\" │\n",
       "\n",
       "│ Row │ SUPPLIER │ UNIT_PRICE │\n",
       "├─────┼──────────┼────────────┤\n",
       "│ 1   │ \"-\"      │ 20000      │"
      ]
     },
     "execution_count": 229,
     "metadata": {},
     "output_type": "execute_result"
    }
   ],
   "source": [
    "SQLite.query(db, \"SELECT * FROM partlist WHERE NAME='M_LPL2_MID_PANEL_SUB'\")"
   ]
  },
  {
   "cell_type": "markdown",
   "metadata": {},
   "source": [
    "## 전체 행 수 카운트"
   ]
  },
  {
   "cell_type": "code",
   "execution_count": 230,
   "metadata": {
    "collapsed": false,
    "scrolled": true
   },
   "outputs": [
    {
     "data": {
      "text/html": [
       "<table class=\"data-frame\"><thead><tr><th></th><th>COUNT(*)</th></tr></thead><tbody><tr><th>1</th><td>Nullable{Int64}(2)</td></tr></tbody></table>"
      ],
      "text/plain": [
       "1×1 DataFrames.DataFrame\n",
       "│ Row │ COUNT(*) │\n",
       "├─────┼──────────┤\n",
       "│ 1   │ 2        │"
      ]
     },
     "execution_count": 230,
     "metadata": {},
     "output_type": "execute_result"
    }
   ],
   "source": [
    "SQLite.query(db, \"SELECT COUNT(*) FROM partlist\")"
   ]
  },
  {
   "cell_type": "markdown",
   "metadata": {},
   "source": [
    "## 내용 변경 업데이트"
   ]
  },
  {
   "cell_type": "code",
   "execution_count": 231,
   "metadata": {
    "collapsed": false,
    "scrolled": false
   },
   "outputs": [
    {
     "data": {
      "text/html": [
       "<table class=\"data-frame\"><thead><tr><th></th><th>ERP_CODE</th><th>NAME</th><th>TYPE</th><th>DESCRIPTION</th><th>MATERIAL</th><th>TREATMENT</th><th>DESIGNER</th><th>CHECKER</th><th>DIVISION</th><th>SUPPLIER</th><th>UNIT_PRICE</th></tr></thead><tbody><tr><th>1</th><td>Nullable{String}(\"H200001\")</td><td>Nullable{String}(\"B_GLOS_E6-10-208-50\")</td><td>Nullable{String}(\"ASSEMBLY\")</td><td>Nullable{String}(\"Hinge 0.9Nm\")</td><td>Nullable{String}(\"-\")</td><td>Nullable{String}(\"-\")</td><td>Nullable{String}(\"KimDH\")</td><td>Nullable{String}(\"KimDH\")</td><td>Nullable{String}(\"HealthCare\")</td><td>Nullable{String}(\"Glos\")</td><td>Nullable{Int64}(7000)</td></tr><tr><th>2</th><td>Nullable{String}(\"H300001\")</td><td>Nullable{String}(\"M_LPL2_MID_PANEL_SUB\")</td><td>Nullable{String}(\"PART\")</td><td>Nullable{String}(\"SheetMetal\")</td><td>Nullable{String}(\"A5052\")</td><td>Nullable{String}(\"Powder Coating (Matte Silver)\")</td><td>Nullable{String}(\"KimDH\")</td><td>Nullable{String}(\"KimDH\")</td><td>Nullable{String}(\"HealthCare\")</td><td>Nullable{String}(\"-\")</td><td>Nullable{Int64}(20000)</td></tr></tbody></table>"
      ],
      "text/plain": [
       "2×11 DataFrames.DataFrame\n",
       "│ Row │ ERP_CODE  │ NAME                   │ TYPE       │ DESCRIPTION   │\n",
       "├─────┼───────────┼────────────────────────┼────────────┼───────────────┤\n",
       "│ 1   │ \"H200001\" │ \"B_GLOS_E6-10-208-50\"  │ \"ASSEMBLY\" │ \"Hinge 0.9Nm\" │\n",
       "│ 2   │ \"H300001\" │ \"M_LPL2_MID_PANEL_SUB\" │ \"PART\"     │ \"SheetMetal\"  │\n",
       "\n",
       "│ Row │ MATERIAL │ TREATMENT                       │ DESIGNER │ CHECKER │\n",
       "├─────┼──────────┼─────────────────────────────────┼──────────┼─────────┤\n",
       "│ 1   │ \"-\"      │ \"-\"                             │ \"KimDH\"  │ \"KimDH\" │\n",
       "│ 2   │ \"A5052\"  │ \"Powder Coating (Matte Silver)\" │ \"KimDH\"  │ \"KimDH\" │\n",
       "\n",
       "│ Row │ DIVISION     │ SUPPLIER │ UNIT_PRICE │\n",
       "├─────┼──────────────┼──────────┼────────────┤\n",
       "│ 1   │ \"HealthCare\" │ \"Glos\"   │ 7000       │\n",
       "│ 2   │ \"HealthCare\" │ \"-\"      │ 20000      │"
      ]
     },
     "execution_count": 231,
     "metadata": {},
     "output_type": "execute_result"
    }
   ],
   "source": [
    "SQLite.query(db, \"UPDATE partlist SET ERP_CODE = 'H300099' WHERE ERP_CODE = 'H300002'\")\n",
    "SQLite.query(db, \"SELECT * FROM partlist\")"
   ]
  },
  {
   "cell_type": "code",
   "execution_count": 232,
   "metadata": {
    "collapsed": false
   },
   "outputs": [
    {
     "data": {
      "text/html": [
       "<table class=\"data-frame\"><thead><tr><th></th><th>ERP_CODE</th><th>NAME</th><th>TYPE</th><th>DESCRIPTION</th><th>MATERIAL</th><th>TREATMENT</th><th>DESIGNER</th><th>CHECKER</th><th>DIVISION</th><th>SUPPLIER</th><th>UNIT_PRICE</th></tr></thead><tbody><tr><th>1</th><td>Nullable{String}(\"H200001\")</td><td>Nullable{String}(\"B_GLOS_E6-10-208-50\")</td><td>Nullable{String}(\"ASSEMBLY\")</td><td>Nullable{String}(\"Hinge 0.9Nm\")</td><td>Nullable{String}(\"-\")</td><td>Nullable{String}(\"-\")</td><td>Nullable{String}(\"KimDH\")</td><td>Nullable{String}(\"KimDH\")</td><td>Nullable{String}(\"HealthCare\")</td><td>Nullable{String}(\"Glos\")</td><td>Nullable{Int64}(7000)</td></tr><tr><th>2</th><td>Nullable{String}(\"H300001\")</td><td>Nullable{String}(\"M_LPL2_MID_PANEL_SUB\")</td><td>Nullable{String}(\"PART\")</td><td>Nullable{String}(\"SheetMetal\")</td><td>Nullable{String}(\"A5052\")</td><td>Nullable{String}(\"Powder Coating (Matte Silver)\")</td><td>Nullable{String}(\"KimDH\")</td><td>Nullable{String}(\"KimDH\")</td><td>Nullable{String}(\"HealthCare\")</td><td>Nullable{String}(\"-\")</td><td>Nullable{Int64}(20000)</td></tr></tbody></table>"
      ],
      "text/plain": [
       "2×11 DataFrames.DataFrame\n",
       "│ Row │ ERP_CODE  │ NAME                   │ TYPE       │ DESCRIPTION   │\n",
       "├─────┼───────────┼────────────────────────┼────────────┼───────────────┤\n",
       "│ 1   │ \"H200001\" │ \"B_GLOS_E6-10-208-50\"  │ \"ASSEMBLY\" │ \"Hinge 0.9Nm\" │\n",
       "│ 2   │ \"H300001\" │ \"M_LPL2_MID_PANEL_SUB\" │ \"PART\"     │ \"SheetMetal\"  │\n",
       "\n",
       "│ Row │ MATERIAL │ TREATMENT                       │ DESIGNER │ CHECKER │\n",
       "├─────┼──────────┼─────────────────────────────────┼──────────┼─────────┤\n",
       "│ 1   │ \"-\"      │ \"-\"                             │ \"KimDH\"  │ \"KimDH\" │\n",
       "│ 2   │ \"A5052\"  │ \"Powder Coating (Matte Silver)\" │ \"KimDH\"  │ \"KimDH\" │\n",
       "\n",
       "│ Row │ DIVISION     │ SUPPLIER │ UNIT_PRICE │\n",
       "├─────┼──────────────┼──────────┼────────────┤\n",
       "│ 1   │ \"HealthCare\" │ \"Glos\"   │ 7000       │\n",
       "│ 2   │ \"HealthCare\" │ \"-\"      │ 20000      │"
      ]
     },
     "execution_count": 232,
     "metadata": {},
     "output_type": "execute_result"
    }
   ],
   "source": [
    "SQLite.query(db, \"UPDATE partlist SET MATERIAL = 'A6061' WHERE ERP_CODE = 'H300099'\")\n",
    "SQLite.query(db, \"SELECT * FROM partlist\")"
   ]
  },
  {
   "cell_type": "markdown",
   "metadata": {},
   "source": [
    "## 테이블 확인"
   ]
  },
  {
   "cell_type": "code",
   "execution_count": 233,
   "metadata": {
    "collapsed": false,
    "scrolled": true
   },
   "outputs": [
    {
     "data": {
      "text/html": [
       "<table class=\"data-frame\"><thead><tr><th></th><th>name</th></tr></thead><tbody><tr><th>1</th><td>Nullable{String}(\"partlist\")</td></tr></tbody></table>"
      ],
      "text/plain": [
       "1×1 DataFrames.DataFrame\n",
       "│ Row │ name       │\n",
       "├─────┼────────────┤\n",
       "│ 1   │ \"partlist\" │"
      ]
     },
     "execution_count": 233,
     "metadata": {},
     "output_type": "execute_result"
    }
   ],
   "source": [
    "SQLite.tables(db)"
   ]
  },
  {
   "cell_type": "markdown",
   "metadata": {},
   "source": [
    "## 정렬"
   ]
  },
  {
   "cell_type": "code",
   "execution_count": 234,
   "metadata": {
    "collapsed": false,
    "scrolled": false
   },
   "outputs": [
    {
     "data": {
      "text/html": [
       "<table class=\"data-frame\"><thead><tr><th></th><th>ERP_CODE</th><th>NAME</th><th>TYPE</th><th>DESCRIPTION</th><th>MATERIAL</th><th>TREATMENT</th><th>DESIGNER</th><th>CHECKER</th><th>DIVISION</th><th>SUPPLIER</th><th>UNIT_PRICE</th></tr></thead><tbody><tr><th>1</th><td>Nullable{String}(\"H200001\")</td><td>Nullable{String}(\"B_GLOS_E6-10-208-50\")</td><td>Nullable{String}(\"ASSEMBLY\")</td><td>Nullable{String}(\"Hinge 0.9Nm\")</td><td>Nullable{String}(\"-\")</td><td>Nullable{String}(\"-\")</td><td>Nullable{String}(\"KimDH\")</td><td>Nullable{String}(\"KimDH\")</td><td>Nullable{String}(\"HealthCare\")</td><td>Nullable{String}(\"Glos\")</td><td>Nullable{Int64}(7000)</td></tr><tr><th>2</th><td>Nullable{String}(\"H300001\")</td><td>Nullable{String}(\"M_LPL2_MID_PANEL_SUB\")</td><td>Nullable{String}(\"PART\")</td><td>Nullable{String}(\"SheetMetal\")</td><td>Nullable{String}(\"A5052\")</td><td>Nullable{String}(\"Powder Coating (Matte Silver)\")</td><td>Nullable{String}(\"KimDH\")</td><td>Nullable{String}(\"KimDH\")</td><td>Nullable{String}(\"HealthCare\")</td><td>Nullable{String}(\"-\")</td><td>Nullable{Int64}(20000)</td></tr></tbody></table>"
      ],
      "text/plain": [
       "2×11 DataFrames.DataFrame\n",
       "│ Row │ ERP_CODE  │ NAME                   │ TYPE       │ DESCRIPTION   │\n",
       "├─────┼───────────┼────────────────────────┼────────────┼───────────────┤\n",
       "│ 1   │ \"H200001\" │ \"B_GLOS_E6-10-208-50\"  │ \"ASSEMBLY\" │ \"Hinge 0.9Nm\" │\n",
       "│ 2   │ \"H300001\" │ \"M_LPL2_MID_PANEL_SUB\" │ \"PART\"     │ \"SheetMetal\"  │\n",
       "\n",
       "│ Row │ MATERIAL │ TREATMENT                       │ DESIGNER │ CHECKER │\n",
       "├─────┼──────────┼─────────────────────────────────┼──────────┼─────────┤\n",
       "│ 1   │ \"-\"      │ \"-\"                             │ \"KimDH\"  │ \"KimDH\" │\n",
       "│ 2   │ \"A5052\"  │ \"Powder Coating (Matte Silver)\" │ \"KimDH\"  │ \"KimDH\" │\n",
       "\n",
       "│ Row │ DIVISION     │ SUPPLIER │ UNIT_PRICE │\n",
       "├─────┼──────────────┼──────────┼────────────┤\n",
       "│ 1   │ \"HealthCare\" │ \"Glos\"   │ 7000       │\n",
       "│ 2   │ \"HealthCare\" │ \"-\"      │ 20000      │"
      ]
     },
     "execution_count": 234,
     "metadata": {},
     "output_type": "execute_result"
    }
   ],
   "source": [
    "SQLite.query(db, \"SELECT * FROM partlist ORDER BY ERP_CODE;\")"
   ]
  },
  {
   "cell_type": "markdown",
   "metadata": {},
   "source": [
    "## 역순정렬"
   ]
  },
  {
   "cell_type": "code",
   "execution_count": 235,
   "metadata": {
    "collapsed": false,
    "scrolled": false
   },
   "outputs": [
    {
     "data": {
      "text/html": [
       "<table class=\"data-frame\"><thead><tr><th></th><th>ERP_CODE</th><th>NAME</th><th>TYPE</th><th>DESCRIPTION</th><th>MATERIAL</th><th>TREATMENT</th><th>DESIGNER</th><th>CHECKER</th><th>DIVISION</th><th>SUPPLIER</th><th>UNIT_PRICE</th></tr></thead><tbody><tr><th>1</th><td>Nullable{String}(\"H300001\")</td><td>Nullable{String}(\"M_LPL2_MID_PANEL_SUB\")</td><td>Nullable{String}(\"PART\")</td><td>Nullable{String}(\"SheetMetal\")</td><td>Nullable{String}(\"A5052\")</td><td>Nullable{String}(\"Powder Coating (Matte Silver)\")</td><td>Nullable{String}(\"KimDH\")</td><td>Nullable{String}(\"KimDH\")</td><td>Nullable{String}(\"HealthCare\")</td><td>Nullable{String}(\"-\")</td><td>Nullable{Int64}(20000)</td></tr><tr><th>2</th><td>Nullable{String}(\"H200001\")</td><td>Nullable{String}(\"B_GLOS_E6-10-208-50\")</td><td>Nullable{String}(\"ASSEMBLY\")</td><td>Nullable{String}(\"Hinge 0.9Nm\")</td><td>Nullable{String}(\"-\")</td><td>Nullable{String}(\"-\")</td><td>Nullable{String}(\"KimDH\")</td><td>Nullable{String}(\"KimDH\")</td><td>Nullable{String}(\"HealthCare\")</td><td>Nullable{String}(\"Glos\")</td><td>Nullable{Int64}(7000)</td></tr></tbody></table>"
      ],
      "text/plain": [
       "2×11 DataFrames.DataFrame\n",
       "│ Row │ ERP_CODE  │ NAME                   │ TYPE       │ DESCRIPTION   │\n",
       "├─────┼───────────┼────────────────────────┼────────────┼───────────────┤\n",
       "│ 1   │ \"H300001\" │ \"M_LPL2_MID_PANEL_SUB\" │ \"PART\"     │ \"SheetMetal\"  │\n",
       "│ 2   │ \"H200001\" │ \"B_GLOS_E6-10-208-50\"  │ \"ASSEMBLY\" │ \"Hinge 0.9Nm\" │\n",
       "\n",
       "│ Row │ MATERIAL │ TREATMENT                       │ DESIGNER │ CHECKER │\n",
       "├─────┼──────────┼─────────────────────────────────┼──────────┼─────────┤\n",
       "│ 1   │ \"A5052\"  │ \"Powder Coating (Matte Silver)\" │ \"KimDH\"  │ \"KimDH\" │\n",
       "│ 2   │ \"-\"      │ \"-\"                             │ \"KimDH\"  │ \"KimDH\" │\n",
       "\n",
       "│ Row │ DIVISION     │ SUPPLIER │ UNIT_PRICE │\n",
       "├─────┼──────────────┼──────────┼────────────┤\n",
       "│ 1   │ \"HealthCare\" │ \"-\"      │ 20000      │\n",
       "│ 2   │ \"HealthCare\" │ \"Glos\"   │ 7000       │"
      ]
     },
     "execution_count": 235,
     "metadata": {},
     "output_type": "execute_result"
    }
   ],
   "source": [
    "SQLite.query(db, \"SELECT * FROM partlist ORDER BY ERP_CODE DESC;\")"
   ]
  },
  {
   "cell_type": "markdown",
   "metadata": {},
   "source": [
    "## Max,Min 값 찾기"
   ]
  },
  {
   "cell_type": "code",
   "execution_count": 236,
   "metadata": {
    "collapsed": false
   },
   "outputs": [
    {
     "data": {
      "text/html": [
       "<table class=\"data-frame\"><thead><tr><th></th><th>MAX(ERP_CODE)</th></tr></thead><tbody><tr><th>1</th><td>Nullable{String}(\"H300001\")</td></tr></tbody></table>"
      ],
      "text/plain": [
       "1×1 DataFrames.DataFrame\n",
       "│ Row │ MAX(ERP_CODE) │\n",
       "├─────┼───────────────┤\n",
       "│ 1   │ \"H300001\"     │"
      ]
     },
     "execution_count": 236,
     "metadata": {},
     "output_type": "execute_result"
    }
   ],
   "source": [
    "SQLite.query(db, \"SELECT MAX(ERP_CODE) FROM partlist\")"
   ]
  },
  {
   "cell_type": "code",
   "execution_count": 237,
   "metadata": {
    "collapsed": false
   },
   "outputs": [
    {
     "data": {
      "text/html": [
       "<table class=\"data-frame\"><thead><tr><th></th><th>MIN(ERP_CODE)</th></tr></thead><tbody><tr><th>1</th><td>Nullable{String}(\"H200001\")</td></tr></tbody></table>"
      ],
      "text/plain": [
       "1×1 DataFrames.DataFrame\n",
       "│ Row │ MIN(ERP_CODE) │\n",
       "├─────┼───────────────┤\n",
       "│ 1   │ \"H200001\"     │"
      ]
     },
     "execution_count": 237,
     "metadata": {},
     "output_type": "execute_result"
    }
   ],
   "source": [
    "SQLite.query(db, \"SELECT MIN(ERP_CODE) FROM partlist\")"
   ]
  },
  {
   "cell_type": "markdown",
   "metadata": {},
   "source": [
    "## 중복 레코드가 없으면 Insert, 있으면 Update\n",
    "\n",
    "* 전제조건 : 기본 키(Primary key) 또는 Unique 제약조건을 가지는 컬럼이 존재해야 함.\n",
    "* Ref : http://lovedb.tistory.com/358\n",
    "* 현재의 테이블에서는, `ERP_CODE`가 UNIQUE CONSTARINT를 가지고 있으므로 이를 기준으로 중복 여부를 판단하게 됨."
   ]
  },
  {
   "cell_type": "code",
   "execution_count": 238,
   "metadata": {
    "collapsed": false
   },
   "outputs": [
    {
     "data": {
      "text/html": [
       "<table class=\"data-frame\"><thead><tr><th></th><th>ERP_CODE</th><th>NAME</th><th>TYPE</th><th>DESCRIPTION</th><th>MATERIAL</th><th>TREATMENT</th><th>DESIGNER</th><th>CHECKER</th><th>DIVISION</th><th>SUPPLIER</th><th>UNIT_PRICE</th></tr></thead><tbody><tr><th>1</th><td>Nullable{String}(\"H200001\")</td><td>Nullable{String}(\"B_GLOS_E6-10-208-50\")</td><td>Nullable{String}(\"ASSEMBLY\")</td><td>Nullable{String}(\"Hinge 0.9Nm\")</td><td>Nullable{String}(\"-\")</td><td>Nullable{String}(\"-\")</td><td>Nullable{String}(\"KimDH\")</td><td>Nullable{String}(\"KimDH\")</td><td>Nullable{String}(\"HealthCare\")</td><td>Nullable{String}(\"Glos\")</td><td>Nullable{Int64}(7000)</td></tr><tr><th>2</th><td>Nullable{String}(\"H300001\")</td><td>Nullable{String}()</td><td>Nullable{String}()</td><td>Nullable{String}()</td><td>Nullable{String}(\"Steel\")</td><td>Nullable{String}()</td><td>Nullable{String}()</td><td>Nullable{String}()</td><td>Nullable{String}()</td><td>Nullable{String}()</td><td>Nullable{Int64}()</td></tr></tbody></table>"
      ],
      "text/plain": [
       "2×11 DataFrames.DataFrame\n",
       "│ Row │ ERP_CODE  │ NAME                  │ TYPE       │ DESCRIPTION   │\n",
       "├─────┼───────────┼───────────────────────┼────────────┼───────────────┤\n",
       "│ 1   │ \"H200001\" │ \"B_GLOS_E6-10-208-50\" │ \"ASSEMBLY\" │ \"Hinge 0.9Nm\" │\n",
       "│ 2   │ \"H300001\" │ #NULL                 │ #NULL      │ #NULL         │\n",
       "\n",
       "│ Row │ MATERIAL │ TREATMENT │ DESIGNER │ CHECKER │ DIVISION     │ SUPPLIER │\n",
       "├─────┼──────────┼───────────┼──────────┼─────────┼──────────────┼──────────┤\n",
       "│ 1   │ \"-\"      │ \"-\"       │ \"KimDH\"  │ \"KimDH\" │ \"HealthCare\" │ \"Glos\"   │\n",
       "│ 2   │ \"Steel\"  │ #NULL     │ #NULL    │ #NULL   │ #NULL        │ #NULL    │\n",
       "\n",
       "│ Row │ UNIT_PRICE │\n",
       "├─────┼────────────┤\n",
       "│ 1   │ 7000       │\n",
       "│ 2   │ #NULL      │"
      ]
     },
     "execution_count": 238,
     "metadata": {},
     "output_type": "execute_result"
    }
   ],
   "source": [
    "SQLite.query(db, \"INSERT OR REPLACE INTO partlist (ERP_CODE, MATERIAL) VALUES ('H300001', 'Steel');\")\n",
    "SQLite.query(db, \"SELECT * FROM partlist\")"
   ]
  },
  {
   "cell_type": "code",
   "execution_count": 239,
   "metadata": {
    "collapsed": false
   },
   "outputs": [
    {
     "data": {
      "text/html": [
       "<table class=\"data-frame\"><thead><tr><th></th><th>ERP_CODE</th><th>NAME</th><th>TYPE</th><th>DESCRIPTION</th><th>MATERIAL</th><th>TREATMENT</th><th>DESIGNER</th><th>CHECKER</th><th>DIVISION</th><th>SUPPLIER</th><th>UNIT_PRICE</th></tr></thead><tbody><tr><th>1</th><td>Nullable{String}(\"H200001\")</td><td>Nullable{String}(\"B_GLOS_E6-10-208-50\")</td><td>Nullable{String}(\"ASSEMBLY\")</td><td>Nullable{String}(\"Hinge 0.9Nm\")</td><td>Nullable{String}(\"-\")</td><td>Nullable{String}(\"-\")</td><td>Nullable{String}(\"KimDH\")</td><td>Nullable{String}(\"KimDH\")</td><td>Nullable{String}(\"HealthCare\")</td><td>Nullable{String}(\"Glos\")</td><td>Nullable{Int64}(7000)</td></tr><tr><th>2</th><td>Nullable{String}(\"H300001\")</td><td>Nullable{String}()</td><td>Nullable{String}()</td><td>Nullable{String}()</td><td>Nullable{String}(\"Steel\")</td><td>Nullable{String}()</td><td>Nullable{String}()</td><td>Nullable{String}()</td><td>Nullable{String}()</td><td>Nullable{String}()</td><td>Nullable{Int64}()</td></tr><tr><th>3</th><td>Nullable{String}(\"H300002\")</td><td>Nullable{String}(\"M_LPL2_TOP\")</td><td>Nullable{String}(\"PART\")</td><td>Nullable{String}(\"Tooling\")</td><td>Nullable{String}(\"A6061\")</td><td>Nullable{String}(\"Anodizing\")</td><td>Nullable{String}(\"KimDH\")</td><td>Nullable{String}(\"KimDH\")</td><td>Nullable{String}(\"HealthCare\")</td><td>Nullable{String}(\"-\")</td><td>Nullable{Int64}(55000)</td></tr></tbody></table>"
      ],
      "text/plain": [
       "3×11 DataFrames.DataFrame\n",
       "│ Row │ ERP_CODE  │ NAME                  │ TYPE       │ DESCRIPTION   │\n",
       "├─────┼───────────┼───────────────────────┼────────────┼───────────────┤\n",
       "│ 1   │ \"H200001\" │ \"B_GLOS_E6-10-208-50\" │ \"ASSEMBLY\" │ \"Hinge 0.9Nm\" │\n",
       "│ 2   │ \"H300001\" │ #NULL                 │ #NULL      │ #NULL         │\n",
       "│ 3   │ \"H300002\" │ \"M_LPL2_TOP\"          │ \"PART\"     │ \"Tooling\"     │\n",
       "\n",
       "│ Row │ MATERIAL │ TREATMENT   │ DESIGNER │ CHECKER │ DIVISION     │ SUPPLIER │\n",
       "├─────┼──────────┼─────────────┼──────────┼─────────┼──────────────┼──────────┤\n",
       "│ 1   │ \"-\"      │ \"-\"         │ \"KimDH\"  │ \"KimDH\" │ \"HealthCare\" │ \"Glos\"   │\n",
       "│ 2   │ \"Steel\"  │ #NULL       │ #NULL    │ #NULL   │ #NULL        │ #NULL    │\n",
       "│ 3   │ \"A6061\"  │ \"Anodizing\" │ \"KimDH\"  │ \"KimDH\" │ \"HealthCare\" │ \"-\"      │\n",
       "\n",
       "│ Row │ UNIT_PRICE │\n",
       "├─────┼────────────┤\n",
       "│ 1   │ 7000       │\n",
       "│ 2   │ #NULL      │\n",
       "│ 3   │ 55000      │"
      ]
     },
     "execution_count": 239,
     "metadata": {},
     "output_type": "execute_result"
    }
   ],
   "source": [
    "SQLite.query(db, \"INSERT OR REPLACE INTO partlist\n",
    "    (ERP_CODE, NAME, TYPE, DESCRIPTION, MATERIAL, \n",
    "    TREATMENT, DESIGNER, CHECKER, DIVISION, SUPPLIER, UNIT_PRICE)\n",
    "    VALUES \n",
    "    ('H300002', 'M_LPL2_TOP', 'PART', 'Tooling', 'A6061', \n",
    "    'Anodizing', 'KimDH', 'KimDH', 'HealthCare', '-', 55000);\")\n",
    "SQLite.query(db, \"SELECT * FROM partlist\")"
   ]
  },
  {
   "cell_type": "code",
   "execution_count": 240,
   "metadata": {
    "collapsed": false,
    "scrolled": true
   },
   "outputs": [
    {
     "data": {
      "text/html": [
       "<table class=\"data-frame\"><thead><tr><th></th><th>ERP_CODE</th><th>NAME</th><th>TYPE</th><th>DESCRIPTION</th><th>MATERIAL</th><th>TREATMENT</th><th>DESIGNER</th><th>CHECKER</th><th>DIVISION</th><th>SUPPLIER</th><th>UNIT_PRICE</th></tr></thead><tbody><tr><th>1</th><td>Nullable{String}(\"H200001\")</td><td>Nullable{String}(\"B_GLOS_E6-10-208-50\")</td><td>Nullable{String}(\"ASSEMBLY\")</td><td>Nullable{String}(\"Hinge 0.9Nm\")</td><td>Nullable{String}(\"-\")</td><td>Nullable{String}(\"-\")</td><td>Nullable{String}(\"KimDH\")</td><td>Nullable{String}(\"KimDH\")</td><td>Nullable{String}(\"HealthCare\")</td><td>Nullable{String}(\"Glos\")</td><td>Nullable{Int64}(7000)</td></tr><tr><th>2</th><td>Nullable{String}(\"H300001\")</td><td>Nullable{String}()</td><td>Nullable{String}()</td><td>Nullable{String}()</td><td>Nullable{String}(\"Steel\")</td><td>Nullable{String}()</td><td>Nullable{String}()</td><td>Nullable{String}()</td><td>Nullable{String}()</td><td>Nullable{String}()</td><td>Nullable{Int64}()</td></tr><tr><th>3</th><td>Nullable{String}(\"H300002\")</td><td>Nullable{String}(\"M_LPL2_TOP\")</td><td>Nullable{String}(\"PART\")</td><td>Nullable{String}(\"Tooling\")</td><td>Nullable{String}(\"A6061\")</td><td>Nullable{String}(\"Anodizing\")</td><td>Nullable{String}(\"김동호\")</td><td>Nullable{String}(\"KimDH\")</td><td>Nullable{String}(\"HealthCare\")</td><td>Nullable{String}(\"-\")</td><td>Nullable{Int64}(55000)</td></tr></tbody></table>"
      ],
      "text/plain": [
       "3×11 DataFrames.DataFrame\n",
       "│ Row │ ERP_CODE  │ NAME                  │ TYPE       │ DESCRIPTION   │\n",
       "├─────┼───────────┼───────────────────────┼────────────┼───────────────┤\n",
       "│ 1   │ \"H200001\" │ \"B_GLOS_E6-10-208-50\" │ \"ASSEMBLY\" │ \"Hinge 0.9Nm\" │\n",
       "│ 2   │ \"H300001\" │ #NULL                 │ #NULL      │ #NULL         │\n",
       "│ 3   │ \"H300002\" │ \"M_LPL2_TOP\"          │ \"PART\"     │ \"Tooling\"     │\n",
       "\n",
       "│ Row │ MATERIAL │ TREATMENT   │ DESIGNER    │ CHECKER │ DIVISION     │\n",
       "├─────┼──────────┼─────────────┼─────────────┼─────────┼──────────────┤\n",
       "│ 1   │ \"-\"      │ \"-\"         │ \"KimDH\"     │ \"KimDH\" │ \"HealthCare\" │\n",
       "│ 2   │ \"Steel\"  │ #NULL       │ #NULL       │ #NULL   │ #NULL        │\n",
       "│ 3   │ \"A6061\"  │ \"Anodizing\" │ \"김동호\" │ \"KimDH\" │ \"HealthCare\" │\n",
       "\n",
       "│ Row │ SUPPLIER │ UNIT_PRICE │\n",
       "├─────┼──────────┼────────────┤\n",
       "│ 1   │ \"Glos\"   │ 7000       │\n",
       "│ 2   │ #NULL    │ #NULL      │\n",
       "│ 3   │ \"-\"      │ 55000      │"
      ]
     },
     "execution_count": 240,
     "metadata": {},
     "output_type": "execute_result"
    }
   ],
   "source": [
    "SQLite.query(db, \"INSERT OR REPLACE INTO partlist\n",
    "    (ERP_CODE, NAME, TYPE, DESCRIPTION, MATERIAL, \n",
    "    TREATMENT, DESIGNER, CHECKER, DIVISION, SUPPLIER, UNIT_PRICE)\n",
    "    VALUES \n",
    "    ('H300002', 'M_LPL2_TOP', 'PART', 'Tooling', 'A6061', \n",
    "    'Anodizing', '김동호', 'KimDH', 'HealthCare', '-', 55000);\")\n",
    "SQLite.query(db, \"SELECT * FROM partlist\")"
   ]
  },
  {
   "cell_type": "markdown",
   "metadata": {},
   "source": [
    "## ERP_CODE 추출"
   ]
  },
  {
   "cell_type": "code",
   "execution_count": 290,
   "metadata": {
    "collapsed": false
   },
   "outputs": [
    {
     "name": "stdout",
     "output_type": "stream",
     "text": [
      "2\n",
      "2\n"
     ]
    }
   ],
   "source": [
    "a = SQLite.query(db, \"SELECT MAX(ERP_CODE) FROM partlist\")\n",
    "b = string(a[1,1])[19:25]\n",
    "\n",
    "# b[3]이 숫자일 경우와, 알파벳일 경우를 분리하여 취급\n",
    "# if b[3] == 0,10\n",
    "\n",
    "# b[3]이 숫자일 경우에는...\n",
    "c = parse(Int,b[3:7])\n",
    "println(c)\n",
    "\n",
    "# b[3]이 알파벳일 경우에는...\n",
    "d = parse(Int,b[4:7])\n",
    "println(d)"
   ]
  },
  {
   "cell_type": "code",
   "execution_count": 293,
   "metadata": {
    "collapsed": false
   },
   "outputs": [
    {
     "name": "stdout",
     "output_type": "stream",
     "text": [
      "%5d2"
     ]
    }
   ],
   "source": [
    "print(\"%5d\",c)"
   ]
  },
  {
   "cell_type": "code",
   "execution_count": null,
   "metadata": {
    "collapsed": true
   },
   "outputs": [],
   "source": []
  }
 ],
 "metadata": {
  "kernelspec": {
   "display_name": "Julia 0.5.1",
   "language": "julia",
   "name": "julia-0.5"
  },
  "language_info": {
   "file_extension": ".jl",
   "mimetype": "application/julia",
   "name": "julia",
   "version": "0.5.1"
  }
 },
 "nbformat": 4,
 "nbformat_minor": 2
}
