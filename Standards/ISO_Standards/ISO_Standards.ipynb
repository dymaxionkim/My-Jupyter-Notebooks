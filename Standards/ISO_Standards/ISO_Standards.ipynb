{
 "cells": [
  {
   "cell_type": "code",
   "execution_count": 2,
   "metadata": {
    "collapsed": false
   },
   "outputs": [
    {
     "name": "stderr",
     "output_type": "stream",
     "text": [
      "INFO: Cloning cache of JavaCall from git://github.com/aviks/JavaCall.jl.git\n",
      "INFO: Cloning cache of Memoize from git://github.com/simonster/Memoize.jl.git\n",
      "INFO: Cloning cache of Taro from git://github.com/aviks/Taro.jl.git\n",
      "INFO: Installing JavaCall v0.3.3\n",
      "INFO: Installing Memoize v0.0.1\n",
      "INFO: Installing Taro v0.2.1\n",
      "INFO: Building Taro\n",
      "INFO:   Downloading tika-app-1.10.jar from Maven Central\n",
      "  % Total    % Received % Xferd  Average Speed   Time    Time     Time  Current\n",
      "                                 Dload  Upload   Total   Spent    Left  Speed\n",
      "100   161  100   161    0     0    256      0 --:--:-- --:--:-- --:--:--   256\n",
      "100 45.0M  100 45.0M    0     0  3643k      0  0:00:12  0:00:12 --:--:-- 5544k\n",
      "INFO:   Downloading fop-2.0 binary from Apache OSUOSL Mirror\n",
      "  % Total    % Received % Xferd  Average Speed   Time    Time     Time  Current\n",
      "                                 Dload  Upload   Total   Spent    Left  Speed\n",
      "100 17.3M  100 17.3M    0     0  3266k      0  0:00:05  0:00:05 --:--:-- 3733k\n",
      "INFO: Package database updated\n",
      "INFO: METADATA is out-of-date — you may not have the latest version of Taro\n",
      "INFO: Use `Pkg.update()` to get the latest versions of your packages\n"
     ]
    }
   ],
   "source": [
    "Pkg.add(\"Taro\")"
   ]
  },
  {
   "cell_type": "code",
   "execution_count": 2,
   "metadata": {
    "collapsed": false
   },
   "outputs": [
    {
     "name": "stdout",
     "output_type": "stream",
     "text": [
      "Loaded /usr/lib/jvm/default-java/jre/lib/amd64/server/libjvm.so\n"
     ]
    }
   ],
   "source": [
    "using Taro\n",
    "Taro.init()"
   ]
  },
  {
   "cell_type": "code",
   "execution_count": 3,
   "metadata": {
    "collapsed": false
   },
   "outputs": [
    {
     "data": {
      "text/html": [
       "<table class=\"data-frame\"><tr><th></th><th>PartNumber</th><th>PartName</th><th>Designation</th><th>d_dia_mm_</th><th>P_pitch_mm_</th><th>threading_mm_</th><th>l_length_mm_</th><th>c_max_mm_</th><th>c_min_mm_</th><th>da_max_mm_</th><th>ds_max_mm_</th><th>dw_min_mm_</th><th>e_min_mm_</th><th>lf_max_mm_</th><th>k_max_head_depth_mm_</th><th>kw_head_edge_length_mm_</th><th>r_min_mm_</th><th>s_nom_across_flats_mm_</th><th>ls_shoulder_length_mm_</th><th>lg_shoulder_length_mm_</th><th>Grade</th><th>Material</th><th>Reference</th><th>Edition</th></tr><tr><th>1</th><td>ISO 4014 BOLT M1.6x12 STEEL GRADE A HEXAGON HEAD</td><td>ISO_4014_M1.6x12_STEEL_GRADE_A_HEXAGON_HEAD_BOLT</td><td>M1.6</td><td>1.6</td><td>0.35</td><td>9.0</td><td>12.0</td><td>0.25</td><td>0.1</td><td>2.0</td><td>1.6</td><td>2.27</td><td>3.41</td><td>0.6</td><td>1.225</td><td>0.68</td><td>0.1</td><td>3.2</td><td>1.2</td><td>3.0</td><td>A</td><td>St</td><td>ISO 4014</td><td>1999.0</td></tr><tr><th>2</th><td>ISO 4014 BOLT M1.6x16 STEEL GRADE A HEXAGON HEAD</td><td>ISO_4014_M1.6x16_STEEL_GRADE_A_HEXAGON_HEAD_BOLT</td><td>M1.6</td><td>1.6</td><td>0.35</td><td>9.0</td><td>16.0</td><td>0.25</td><td>0.1</td><td>2.0</td><td>1.6</td><td>2.27</td><td>3.41</td><td>0.6</td><td>1.225</td><td>0.68</td><td>0.1</td><td>3.2</td><td>5.2</td><td>7.0</td><td>A</td><td>St</td><td>ISO 4014</td><td>1999.0</td></tr><tr><th>3</th><td>ISO 4014 BOLT M2x16 STEEL GRADE A HEXAGON HEAD</td><td>ISO_4014_M2x16_STEEL_GRADE_A_HEXAGON_HEAD_BOLT</td><td>M2</td><td>2.0</td><td>0.4</td><td>10.0</td><td>16.0</td><td>0.25</td><td>0.1</td><td>2.6</td><td>2.0</td><td>3.07</td><td>4.32</td><td>0.8</td><td>1.525</td><td>0.89</td><td>0.1</td><td>4.0</td><td>4.0</td><td>6.0</td><td>A</td><td>St</td><td>ISO 4014</td><td>1999.0</td></tr><tr><th>4</th><td>ISO 4014 BOLT M2x20 STEEL GRADE A HEXAGON HEAD</td><td>ISO_4014_M2x20_STEEL_GRADE_A_HEXAGON_HEAD_BOLT</td><td>M2</td><td>2.0</td><td>0.4</td><td>10.0</td><td>20.0</td><td>0.25</td><td>0.1</td><td>2.6</td><td>2.0</td><td>3.07</td><td>4.32</td><td>0.8</td><td>1.525</td><td>0.89</td><td>0.1</td><td>4.0</td><td>8.0</td><td>10.0</td><td>A</td><td>St</td><td>ISO 4014</td><td>1999.0</td></tr><tr><th>5</th><td>ISO 4014 BOLT M2.5x16 STEEL GRADE A HEXAGON HEAD</td><td>ISO_4014_M2.5x16_STEEL_GRADE_A_HEXAGON_HEAD_BOLT</td><td>M2.5</td><td>2.5</td><td>0.45</td><td>11.0</td><td>16.0</td><td>0.25</td><td>0.1</td><td>3.1</td><td>2.5</td><td>4.07</td><td>5.45</td><td>1.0</td><td>1.825</td><td>1.1</td><td>0.1</td><td>5.0</td><td>2.75</td><td>5.0</td><td>A</td><td>St</td><td>ISO 4014</td><td>1999.0</td></tr><tr><th>6</th><td>ISO 4014 BOLT M2.5x20 STEEL GRADE A HEXAGON HEAD</td><td>ISO_4014_M2.5x20_STEEL_GRADE_A_HEXAGON_HEAD_BOLT</td><td>M2.5</td><td>2.5</td><td>0.45</td><td>11.0</td><td>20.0</td><td>0.25</td><td>0.1</td><td>3.1</td><td>2.5</td><td>4.07</td><td>5.45</td><td>1.0</td><td>1.825</td><td>1.1</td><td>0.1</td><td>5.0</td><td>6.75</td><td>9.0</td><td>A</td><td>St</td><td>ISO 4014</td><td>1999.0</td></tr><tr><th>7</th><td>ISO 4014 BOLT M2.5x25 STEEL GRADE A HEXAGON HEAD</td><td>ISO_4014_M2.5x25_STEEL_GRADE_A_HEXAGON_HEAD_BOLT</td><td>M2.5</td><td>2.5</td><td>0.45</td><td>11.0</td><td>25.0</td><td>0.25</td><td>0.1</td><td>3.1</td><td>2.5</td><td>4.07</td><td>5.45</td><td>1.0</td><td>1.825</td><td>1.1</td><td>0.1</td><td>5.0</td><td>11.75</td><td>14.0</td><td>A</td><td>St</td><td>ISO 4014</td><td>1999.0</td></tr><tr><th>8</th><td>ISO 4014 BOLT M3x20 STEEL GRADE A HEXAGON HEAD</td><td>ISO_4014_M3x20_STEEL_GRADE_A_HEXAGON_HEAD_BOLT</td><td>M3</td><td>3.0</td><td>0.5</td><td>12.0</td><td>20.0</td><td>0.4</td><td>0.15</td><td>3.6</td><td>3.0</td><td>4.57</td><td>6.01</td><td>1.0</td><td>2.125</td><td>1.31</td><td>0.1</td><td>5.5</td><td>5.5</td><td>8.0</td><td>A</td><td>St</td><td>ISO 4014</td><td>1999.0</td></tr><tr><th>9</th><td>ISO 4014 BOLT M3x25 STEEL GRADE A HEXAGON HEAD</td><td>ISO_4014_M3x25_STEEL_GRADE_A_HEXAGON_HEAD_BOLT</td><td>M3</td><td>3.0</td><td>0.5</td><td>12.0</td><td>25.0</td><td>0.4</td><td>0.15</td><td>3.6</td><td>3.0</td><td>4.57</td><td>6.01</td><td>1.0</td><td>2.125</td><td>1.31</td><td>0.1</td><td>5.5</td><td>10.5</td><td>13.0</td><td>A</td><td>St</td><td>ISO 4014</td><td>1999.0</td></tr><tr><th>10</th><td>ISO 4014 BOLT M3x30 STEEL GRADE A HEXAGON HEAD</td><td>ISO_4014_M3x30_STEEL_GRADE_A_HEXAGON_HEAD_BOLT</td><td>M3</td><td>3.0</td><td>0.5</td><td>12.0</td><td>30.0</td><td>0.4</td><td>0.15</td><td>3.6</td><td>3.0</td><td>4.57</td><td>6.01</td><td>1.0</td><td>2.125</td><td>1.31</td><td>0.1</td><td>5.5</td><td>15.5</td><td>18.0</td><td>A</td><td>St</td><td>ISO 4014</td><td>1999.0</td></tr><tr><th>11</th><td>ISO 4014 BOLT M4x25 STEEL GRADE A HEXAGON HEAD</td><td>ISO_4014_M4x25_STEEL_GRADE_A_HEXAGON_HEAD_BOLT</td><td>M4</td><td>4.0</td><td>0.7</td><td>14.0</td><td>25.0</td><td>0.4</td><td>0.15</td><td>4.7</td><td>4.0</td><td>5.88</td><td>7.66</td><td>1.2</td><td>2.925</td><td>1.87</td><td>0.2</td><td>7.0</td><td>7.5</td><td>11.0</td><td>A</td><td>St</td><td>ISO 4014</td><td>1999.0</td></tr><tr><th>12</th><td>ISO 4014 BOLT M4x30 STEEL GRADE A HEXAGON HEAD</td><td>ISO_4014_M4x30_STEEL_GRADE_A_HEXAGON_HEAD_BOLT</td><td>M4</td><td>4.0</td><td>0.7</td><td>14.0</td><td>30.0</td><td>0.4</td><td>0.15</td><td>4.7</td><td>4.0</td><td>5.88</td><td>7.66</td><td>1.2</td><td>2.925</td><td>1.87</td><td>0.2</td><td>7.0</td><td>12.5</td><td>16.0</td><td>A</td><td>St</td><td>ISO 4014</td><td>1999.0</td></tr><tr><th>13</th><td>ISO 4014 BOLT M4x35 STEEL GRADE A HEXAGON HEAD</td><td>ISO_4014_M4x35_STEEL_GRADE_A_HEXAGON_HEAD_BOLT</td><td>M4</td><td>4.0</td><td>0.7</td><td>14.0</td><td>35.0</td><td>0.4</td><td>0.15</td><td>4.7</td><td>4.0</td><td>5.88</td><td>7.66</td><td>1.2</td><td>2.925</td><td>1.87</td><td>0.2</td><td>7.0</td><td>17.5</td><td>21.0</td><td>A</td><td>St</td><td>ISO 4014</td><td>1999.0</td></tr><tr><th>14</th><td>ISO 4014 BOLT M4x40 STEEL GRADE A HEXAGON HEAD</td><td>ISO_4014_M4x40_STEEL_GRADE_A_HEXAGON_HEAD_BOLT</td><td>M4</td><td>4.0</td><td>0.7</td><td>14.0</td><td>40.0</td><td>0.4</td><td>0.15</td><td>4.7</td><td>4.0</td><td>5.88</td><td>7.66</td><td>1.2</td><td>2.925</td><td>1.87</td><td>0.2</td><td>7.0</td><td>22.5</td><td>26.0</td><td>A</td><td>St</td><td>ISO 4014</td><td>1999.0</td></tr><tr><th>15</th><td>ISO 4014 BOLT M5x25 STEEL GRADE A HEXAGON HEAD</td><td>ISO_4014_M5x25_STEEL_GRADE_A_HEXAGON_HEAD_BOLT</td><td>M5</td><td>5.0</td><td>0.8</td><td>16.0</td><td>25.0</td><td>0.5</td><td>0.15</td><td>5.7</td><td>5.0</td><td>6.88</td><td>8.79</td><td>1.2</td><td>3.65</td><td>2.35</td><td>0.2</td><td>8.0</td><td>5.0</td><td>9.0</td><td>A</td><td>St</td><td>ISO 4014</td><td>1999.0</td></tr><tr><th>16</th><td>ISO 4014 BOLT M5x30 STEEL GRADE A HEXAGON HEAD</td><td>ISO_4014_M5x30_STEEL_GRADE_A_HEXAGON_HEAD_BOLT</td><td>M5</td><td>5.0</td><td>0.8</td><td>16.0</td><td>30.0</td><td>0.5</td><td>0.15</td><td>5.7</td><td>5.0</td><td>6.88</td><td>8.79</td><td>1.2</td><td>3.65</td><td>2.35</td><td>0.2</td><td>8.0</td><td>10.0</td><td>14.0</td><td>A</td><td>St</td><td>ISO 4014</td><td>1999.0</td></tr><tr><th>17</th><td>ISO 4014 BOLT M5x35 STEEL GRADE A HEXAGON HEAD</td><td>ISO_4014_M5x35_STEEL_GRADE_A_HEXAGON_HEAD_BOLT</td><td>M5</td><td>5.0</td><td>0.8</td><td>16.0</td><td>35.0</td><td>0.5</td><td>0.15</td><td>5.7</td><td>5.0</td><td>6.88</td><td>8.79</td><td>1.2</td><td>3.65</td><td>2.35</td><td>0.2</td><td>8.0</td><td>15.0</td><td>19.0</td><td>A</td><td>St</td><td>ISO 4014</td><td>1999.0</td></tr><tr><th>18</th><td>ISO 4014 BOLT M5x40 STEEL GRADE A HEXAGON HEAD</td><td>ISO_4014_M5x40_STEEL_GRADE_A_HEXAGON_HEAD_BOLT</td><td>M5</td><td>5.0</td><td>0.8</td><td>16.0</td><td>40.0</td><td>0.5</td><td>0.15</td><td>5.7</td><td>5.0</td><td>6.88</td><td>8.79</td><td>1.2</td><td>3.65</td><td>2.35</td><td>0.2</td><td>8.0</td><td>20.0</td><td>24.0</td><td>A</td><td>St</td><td>ISO 4014</td><td>1999.0</td></tr><tr><th>19</th><td>ISO 4014 BOLT M5x45 STEEL GRADE A HEXAGON HEAD</td><td>ISO_4014_M5x45_STEEL_GRADE_A_HEXAGON_HEAD_BOLT</td><td>M5</td><td>5.0</td><td>0.8</td><td>16.0</td><td>45.0</td><td>0.5</td><td>0.15</td><td>5.7</td><td>5.0</td><td>6.88</td><td>8.79</td><td>1.2</td><td>3.65</td><td>2.35</td><td>0.2</td><td>8.0</td><td>25.0</td><td>29.0</td><td>A</td><td>St</td><td>ISO 4014</td><td>1999.0</td></tr><tr><th>20</th><td>ISO 4014 BOLT M5x50 STEEL GRADE A HEXAGON HEAD</td><td>ISO_4014_M5x50_STEEL_GRADE_A_HEXAGON_HEAD_BOLT</td><td>M5</td><td>5.0</td><td>0.8</td><td>16.0</td><td>50.0</td><td>0.5</td><td>0.15</td><td>5.7</td><td>5.0</td><td>6.88</td><td>8.79</td><td>1.2</td><td>3.65</td><td>2.35</td><td>0.2</td><td>8.0</td><td>30.0</td><td>34.0</td><td>A</td><td>St</td><td>ISO 4014</td><td>1999.0</td></tr><tr><th>21</th><td>ISO 4014 BOLT M6x30 STEEL GRADE A HEXAGON HEAD</td><td>ISO_4014_M6x30_STEEL_GRADE_A_HEXAGON_HEAD_BOLT</td><td>M6</td><td>6.0</td><td>1.0</td><td>18.0</td><td>30.0</td><td>0.5</td><td>0.15</td><td>6.8</td><td>6.0</td><td>8.88</td><td>11.05</td><td>1.4</td><td>4.15</td><td>2.7</td><td>0.25</td><td>10.0</td><td>7.0</td><td>12.0</td><td>A</td><td>St</td><td>ISO 4014</td><td>1999.0</td></tr><tr><th>22</th><td>ISO 4014 BOLT M6x35 STEEL GRADE A HEXAGON HEAD</td><td>ISO_4014_M6x35_STEEL_GRADE_A_HEXAGON_HEAD_BOLT</td><td>M6</td><td>6.0</td><td>1.0</td><td>18.0</td><td>35.0</td><td>0.5</td><td>0.15</td><td>6.8</td><td>6.0</td><td>8.88</td><td>11.05</td><td>1.4</td><td>4.15</td><td>2.7</td><td>0.25</td><td>10.0</td><td>12.0</td><td>17.0</td><td>A</td><td>St</td><td>ISO 4014</td><td>1999.0</td></tr><tr><th>23</th><td>ISO 4014 BOLT M6x40 STEEL GRADE A HEXAGON HEAD</td><td>ISO_4014_M6x40_STEEL_GRADE_A_HEXAGON_HEAD_BOLT</td><td>M6</td><td>6.0</td><td>1.0</td><td>18.0</td><td>40.0</td><td>0.5</td><td>0.15</td><td>6.8</td><td>6.0</td><td>8.88</td><td>11.05</td><td>1.4</td><td>4.15</td><td>2.7</td><td>0.25</td><td>10.0</td><td>17.0</td><td>22.0</td><td>A</td><td>St</td><td>ISO 4014</td><td>1999.0</td></tr><tr><th>24</th><td>ISO 4014 BOLT M6x45 STEEL GRADE A HEXAGON HEAD</td><td>ISO_4014_M6x45_STEEL_GRADE_A_HEXAGON_HEAD_BOLT</td><td>M6</td><td>6.0</td><td>1.0</td><td>18.0</td><td>45.0</td><td>0.5</td><td>0.15</td><td>6.8</td><td>6.0</td><td>8.88</td><td>11.05</td><td>1.4</td><td>4.15</td><td>2.7</td><td>0.25</td><td>10.0</td><td>22.0</td><td>27.0</td><td>A</td><td>St</td><td>ISO 4014</td><td>1999.0</td></tr><tr><th>25</th><td>ISO 4014 BOLT M6x50 STEEL GRADE A HEXAGON HEAD</td><td>ISO_4014_M6x50_STEEL_GRADE_A_HEXAGON_HEAD_BOLT</td><td>M6</td><td>6.0</td><td>1.0</td><td>18.0</td><td>50.0</td><td>0.5</td><td>0.15</td><td>6.8</td><td>6.0</td><td>8.88</td><td>11.05</td><td>1.4</td><td>4.15</td><td>2.7</td><td>0.25</td><td>10.0</td><td>27.0</td><td>32.0</td><td>A</td><td>St</td><td>ISO 4014</td><td>1999.0</td></tr><tr><th>26</th><td>ISO 4014 BOLT M6x55 STEEL GRADE A HEXAGON HEAD</td><td>ISO_4014_M6x55_STEEL_GRADE_A_HEXAGON_HEAD_BOLT</td><td>M6</td><td>6.0</td><td>1.0</td><td>18.0</td><td>55.0</td><td>0.5</td><td>0.15</td><td>6.8</td><td>6.0</td><td>8.88</td><td>11.05</td><td>1.4</td><td>4.15</td><td>2.7</td><td>0.25</td><td>10.0</td><td>32.0</td><td>37.0</td><td>A</td><td>St</td><td>ISO 4014</td><td>1999.0</td></tr><tr><th>27</th><td>ISO 4014 BOLT M6x60 STEEL GRADE A HEXAGON HEAD</td><td>ISO_4014_M6x60_STEEL_GRADE_A_HEXAGON_HEAD_BOLT</td><td>M6</td><td>6.0</td><td>1.0</td><td>18.0</td><td>60.0</td><td>0.5</td><td>0.15</td><td>6.8</td><td>6.0</td><td>8.88</td><td>11.05</td><td>1.4</td><td>4.15</td><td>2.7</td><td>0.25</td><td>10.0</td><td>37.0</td><td>42.0</td><td>A</td><td>St</td><td>ISO 4014</td><td>1999.0</td></tr><tr><th>28</th><td>ISO 4014 BOLT M8x40 STEEL GRADE A HEXAGON HEAD</td><td>ISO_4014_M8x40_STEEL_GRADE_A_HEXAGON_HEAD_BOLT</td><td>M8</td><td>8.0</td><td>1.25</td><td>22.0</td><td>40.0</td><td>0.6</td><td>0.15</td><td>9.2</td><td>8.0</td><td>11.63</td><td>14.38</td><td>2.0</td><td>5.45</td><td>3.61</td><td>0.4</td><td>13.0</td><td>11.75</td><td>18.0</td><td>A</td><td>St</td><td>ISO 4014</td><td>1999.0</td></tr><tr><th>29</th><td>ISO 4014 BOLT M8x45 STEEL GRADE A HEXAGON HEAD</td><td>ISO_4014_M8x45_STEEL_GRADE_A_HEXAGON_HEAD_BOLT</td><td>M8</td><td>8.0</td><td>1.25</td><td>22.0</td><td>45.0</td><td>0.6</td><td>0.15</td><td>9.2</td><td>8.0</td><td>11.63</td><td>14.38</td><td>2.0</td><td>5.45</td><td>3.61</td><td>0.4</td><td>13.0</td><td>16.75</td><td>23.0</td><td>A</td><td>St</td><td>ISO 4014</td><td>1999.0</td></tr><tr><th>30</th><td>ISO 4014 BOLT M8x50 STEEL GRADE A HEXAGON HEAD</td><td>ISO_4014_M8x50_STEEL_GRADE_A_HEXAGON_HEAD_BOLT</td><td>M8</td><td>8.0</td><td>1.25</td><td>22.0</td><td>50.0</td><td>0.6</td><td>0.15</td><td>9.2</td><td>8.0</td><td>11.63</td><td>14.38</td><td>2.0</td><td>5.45</td><td>3.61</td><td>0.4</td><td>13.0</td><td>21.75</td><td>28.0</td><td>A</td><td>St</td><td>ISO 4014</td><td>1999.0</td></tr><tr><th>&vellip;</th><td>&vellip;</td><td>&vellip;</td><td>&vellip;</td><td>&vellip;</td><td>&vellip;</td><td>&vellip;</td><td>&vellip;</td><td>&vellip;</td><td>&vellip;</td><td>&vellip;</td><td>&vellip;</td><td>&vellip;</td><td>&vellip;</td><td>&vellip;</td><td>&vellip;</td><td>&vellip;</td><td>&vellip;</td><td>&vellip;</td><td>&vellip;</td><td>&vellip;</td><td>&vellip;</td><td>&vellip;</td><td>&vellip;</td><td>&vellip;</td></tr></table>"
      ],
      "text/plain": [
       "199x24 DataFrames.DataFrame\n",
       "| Row | PartNumber                                         |\n",
       "|-----|----------------------------------------------------|\n",
       "| 1   | \"ISO 4014 BOLT M1.6x12 STEEL GRADE A HEXAGON HEAD\" |\n",
       "| 2   | \"ISO 4014 BOLT M1.6x16 STEEL GRADE A HEXAGON HEAD\" |\n",
       "| 3   | \"ISO 4014 BOLT M2x16 STEEL GRADE A HEXAGON HEAD\"   |\n",
       "| 4   | \"ISO 4014 BOLT M2x20 STEEL GRADE A HEXAGON HEAD\"   |\n",
       "| 5   | \"ISO 4014 BOLT M2.5x16 STEEL GRADE A HEXAGON HEAD\" |\n",
       "| 6   | \"ISO 4014 BOLT M2.5x20 STEEL GRADE A HEXAGON HEAD\" |\n",
       "| 7   | \"ISO 4014 BOLT M2.5x25 STEEL GRADE A HEXAGON HEAD\" |\n",
       "| 8   | \"ISO 4014 BOLT M3x20 STEEL GRADE A HEXAGON HEAD\"   |\n",
       "| 9   | \"ISO 4014 BOLT M3x25 STEEL GRADE A HEXAGON HEAD\"   |\n",
       "| 10  | \"ISO 4014 BOLT M3x30 STEEL GRADE A HEXAGON HEAD\"   |\n",
       "| 11  | \"ISO 4014 BOLT M4x25 STEEL GRADE A HEXAGON HEAD\"   |\n",
       "⋮\n",
       "| 188 | NA                                                 |\n",
       "| 189 | NA                                                 |\n",
       "| 190 | NA                                                 |\n",
       "| 191 | NA                                                 |\n",
       "| 192 | NA                                                 |\n",
       "| 193 | NA                                                 |\n",
       "| 194 | NA                                                 |\n",
       "| 195 | NA                                                 |\n",
       "| 196 | NA                                                 |\n",
       "| 197 | NA                                                 |\n",
       "| 198 | NA                                                 |\n",
       "| 199 | NA                                                 |\n",
       "\n",
       "| Row | PartName                                           | Designation |\n",
       "|-----|----------------------------------------------------|-------------|\n",
       "| 1   | \"ISO_4014_M1.6x12_STEEL_GRADE_A_HEXAGON_HEAD_BOLT\" | \"M1.6\"      |\n",
       "| 2   | \"ISO_4014_M1.6x16_STEEL_GRADE_A_HEXAGON_HEAD_BOLT\" | \"M1.6\"      |\n",
       "| 3   | \"ISO_4014_M2x16_STEEL_GRADE_A_HEXAGON_HEAD_BOLT\"   | \"M2\"        |\n",
       "| 4   | \"ISO_4014_M2x20_STEEL_GRADE_A_HEXAGON_HEAD_BOLT\"   | \"M2\"        |\n",
       "| 5   | \"ISO_4014_M2.5x16_STEEL_GRADE_A_HEXAGON_HEAD_BOLT\" | \"M2.5\"      |\n",
       "| 6   | \"ISO_4014_M2.5x20_STEEL_GRADE_A_HEXAGON_HEAD_BOLT\" | \"M2.5\"      |\n",
       "| 7   | \"ISO_4014_M2.5x25_STEEL_GRADE_A_HEXAGON_HEAD_BOLT\" | \"M2.5\"      |\n",
       "| 8   | \"ISO_4014_M3x20_STEEL_GRADE_A_HEXAGON_HEAD_BOLT\"   | \"M3\"        |\n",
       "| 9   | \"ISO_4014_M3x25_STEEL_GRADE_A_HEXAGON_HEAD_BOLT\"   | \"M3\"        |\n",
       "| 10  | \"ISO_4014_M3x30_STEEL_GRADE_A_HEXAGON_HEAD_BOLT\"   | \"M3\"        |\n",
       "| 11  | \"ISO_4014_M4x25_STEEL_GRADE_A_HEXAGON_HEAD_BOLT\"   | \"M4\"        |\n",
       "⋮\n",
       "| 188 | NA                                                 | NA          |\n",
       "| 189 | NA                                                 | NA          |\n",
       "| 190 | NA                                                 | NA          |\n",
       "| 191 | NA                                                 | NA          |\n",
       "| 192 | NA                                                 | NA          |\n",
       "| 193 | NA                                                 | NA          |\n",
       "| 194 | NA                                                 | NA          |\n",
       "| 195 | NA                                                 | NA          |\n",
       "| 196 | NA                                                 | NA          |\n",
       "| 197 | NA                                                 | NA          |\n",
       "| 198 | NA                                                 | NA          |\n",
       "| 199 | NA                                                 | NA          |\n",
       "\n",
       "| Row | d_dia_mm_ | P_pitch_mm_ | threading_mm_ | l_length_mm_ | c_max_mm_ |\n",
       "|-----|-----------|-------------|---------------|--------------|-----------|\n",
       "| 1   | 1.6       | 0.35        | 9.0           | 12.0         | 0.25      |\n",
       "| 2   | 1.6       | 0.35        | 9.0           | 16.0         | 0.25      |\n",
       "| 3   | 2.0       | 0.4         | 10.0          | 16.0         | 0.25      |\n",
       "| 4   | 2.0       | 0.4         | 10.0          | 20.0         | 0.25      |\n",
       "| 5   | 2.5       | 0.45        | 11.0          | 16.0         | 0.25      |\n",
       "| 6   | 2.5       | 0.45        | 11.0          | 20.0         | 0.25      |\n",
       "| 7   | 2.5       | 0.45        | 11.0          | 25.0         | 0.25      |\n",
       "| 8   | 3.0       | 0.5         | 12.0          | 20.0         | 0.4       |\n",
       "| 9   | 3.0       | 0.5         | 12.0          | 25.0         | 0.4       |\n",
       "| 10  | 3.0       | 0.5         | 12.0          | 30.0         | 0.4       |\n",
       "| 11  | 4.0       | 0.7         | 14.0          | 25.0         | 0.4       |\n",
       "⋮\n",
       "| 188 | NA        | NA          | NA            | NA           | NA        |\n",
       "| 189 | NA        | NA          | NA            | NA           | NA        |\n",
       "| 190 | NA        | NA          | NA            | NA           | NA        |\n",
       "| 191 | NA        | NA          | NA            | NA           | NA        |\n",
       "| 192 | NA        | NA          | NA            | NA           | NA        |\n",
       "| 193 | NA        | NA          | NA            | NA           | NA        |\n",
       "| 194 | NA        | NA          | NA            | NA           | NA        |\n",
       "| 195 | NA        | NA          | NA            | NA           | NA        |\n",
       "| 196 | NA        | NA          | NA            | NA           | NA        |\n",
       "| 197 | NA        | NA          | NA            | NA           | NA        |\n",
       "| 198 | NA        | NA          | NA            | NA           | NA        |\n",
       "| 199 | NA        | NA          | NA            | NA           | NA        |\n",
       "\n",
       "| Row | c_min_mm_ | da_max_mm_ | ds_max_mm_ | dw_min_mm_ | e_min_mm_ |\n",
       "|-----|-----------|------------|------------|------------|-----------|\n",
       "| 1   | 0.1       | 2.0        | 1.6        | 2.27       | 3.41      |\n",
       "| 2   | 0.1       | 2.0        | 1.6        | 2.27       | 3.41      |\n",
       "| 3   | 0.1       | 2.6        | 2.0        | 3.07       | 4.32      |\n",
       "| 4   | 0.1       | 2.6        | 2.0        | 3.07       | 4.32      |\n",
       "| 5   | 0.1       | 3.1        | 2.5        | 4.07       | 5.45      |\n",
       "| 6   | 0.1       | 3.1        | 2.5        | 4.07       | 5.45      |\n",
       "| 7   | 0.1       | 3.1        | 2.5        | 4.07       | 5.45      |\n",
       "| 8   | 0.15      | 3.6        | 3.0        | 4.57       | 6.01      |\n",
       "| 9   | 0.15      | 3.6        | 3.0        | 4.57       | 6.01      |\n",
       "| 10  | 0.15      | 3.6        | 3.0        | 4.57       | 6.01      |\n",
       "| 11  | 0.15      | 4.7        | 4.0        | 5.88       | 7.66      |\n",
       "⋮\n",
       "| 188 | NA        | NA         | NA         | NA         | NA        |\n",
       "| 189 | NA        | NA         | NA         | NA         | NA        |\n",
       "| 190 | NA        | NA         | NA         | NA         | NA        |\n",
       "| 191 | NA        | NA         | NA         | NA         | NA        |\n",
       "| 192 | NA        | NA         | NA         | NA         | NA        |\n",
       "| 193 | NA        | NA         | NA         | NA         | NA        |\n",
       "| 194 | NA        | NA         | NA         | NA         | NA        |\n",
       "| 195 | NA        | NA         | NA         | NA         | NA        |\n",
       "| 196 | NA        | NA         | NA         | NA         | NA        |\n",
       "| 197 | NA        | NA         | NA         | NA         | NA        |\n",
       "| 198 | NA        | NA         | NA         | NA         | NA        |\n",
       "| 199 | NA        | NA         | NA         | NA         | NA        |\n",
       "\n",
       "| Row | lf_max_mm_ | k_max_head_depth_mm_ | kw_head_edge_length_mm_ |\n",
       "|-----|------------|----------------------|-------------------------|\n",
       "| 1   | 0.6        | 1.225                | 0.68                    |\n",
       "| 2   | 0.6        | 1.225                | 0.68                    |\n",
       "| 3   | 0.8        | 1.525                | 0.89                    |\n",
       "| 4   | 0.8        | 1.525                | 0.89                    |\n",
       "| 5   | 1.0        | 1.825                | 1.1                     |\n",
       "| 6   | 1.0        | 1.825                | 1.1                     |\n",
       "| 7   | 1.0        | 1.825                | 1.1                     |\n",
       "| 8   | 1.0        | 2.125                | 1.31                    |\n",
       "| 9   | 1.0        | 2.125                | 1.31                    |\n",
       "| 10  | 1.0        | 2.125                | 1.31                    |\n",
       "| 11  | 1.2        | 2.925                | 1.87                    |\n",
       "⋮\n",
       "| 188 | NA         | NA                   | NA                      |\n",
       "| 189 | NA         | NA                   | NA                      |\n",
       "| 190 | NA         | NA                   | NA                      |\n",
       "| 191 | NA         | NA                   | NA                      |\n",
       "| 192 | NA         | NA                   | NA                      |\n",
       "| 193 | NA         | NA                   | NA                      |\n",
       "| 194 | NA         | NA                   | NA                      |\n",
       "| 195 | NA         | NA                   | NA                      |\n",
       "| 196 | NA         | NA                   | NA                      |\n",
       "| 197 | NA         | NA                   | NA                      |\n",
       "| 198 | NA         | NA                   | NA                      |\n",
       "| 199 | NA         | NA                   | NA                      |\n",
       "\n",
       "| Row | r_min_mm_ | s_nom_across_flats_mm_ | ls_shoulder_length_mm_ |\n",
       "|-----|-----------|------------------------|------------------------|\n",
       "| 1   | 0.1       | 3.2                    | 1.2                    |\n",
       "| 2   | 0.1       | 3.2                    | 5.2                    |\n",
       "| 3   | 0.1       | 4.0                    | 4.0                    |\n",
       "| 4   | 0.1       | 4.0                    | 8.0                    |\n",
       "| 5   | 0.1       | 5.0                    | 2.75                   |\n",
       "| 6   | 0.1       | 5.0                    | 6.75                   |\n",
       "| 7   | 0.1       | 5.0                    | 11.75                  |\n",
       "| 8   | 0.1       | 5.5                    | 5.5                    |\n",
       "| 9   | 0.1       | 5.5                    | 10.5                   |\n",
       "| 10  | 0.1       | 5.5                    | 15.5                   |\n",
       "| 11  | 0.2       | 7.0                    | 7.5                    |\n",
       "⋮\n",
       "| 188 | NA        | NA                     | NA                     |\n",
       "| 189 | NA        | NA                     | NA                     |\n",
       "| 190 | NA        | NA                     | NA                     |\n",
       "| 191 | NA        | NA                     | NA                     |\n",
       "| 192 | NA        | NA                     | NA                     |\n",
       "| 193 | NA        | NA                     | NA                     |\n",
       "| 194 | NA        | NA                     | NA                     |\n",
       "| 195 | NA        | NA                     | NA                     |\n",
       "| 196 | NA        | NA                     | NA                     |\n",
       "| 197 | NA        | NA                     | NA                     |\n",
       "| 198 | NA        | NA                     | NA                     |\n",
       "| 199 | NA        | NA                     | NA                     |\n",
       "\n",
       "| Row | lg_shoulder_length_mm_ | Grade | Material | Reference  | Edition |\n",
       "|-----|------------------------|-------|----------|------------|---------|\n",
       "| 1   | 3.0                    | \"A\"   | \"St\"     | \"ISO 4014\" | 1999.0  |\n",
       "| 2   | 7.0                    | \"A\"   | \"St\"     | \"ISO 4014\" | 1999.0  |\n",
       "| 3   | 6.0                    | \"A\"   | \"St\"     | \"ISO 4014\" | 1999.0  |\n",
       "| 4   | 10.0                   | \"A\"   | \"St\"     | \"ISO 4014\" | 1999.0  |\n",
       "| 5   | 5.0                    | \"A\"   | \"St\"     | \"ISO 4014\" | 1999.0  |\n",
       "| 6   | 9.0                    | \"A\"   | \"St\"     | \"ISO 4014\" | 1999.0  |\n",
       "| 7   | 14.0                   | \"A\"   | \"St\"     | \"ISO 4014\" | 1999.0  |\n",
       "| 8   | 8.0                    | \"A\"   | \"St\"     | \"ISO 4014\" | 1999.0  |\n",
       "| 9   | 13.0                   | \"A\"   | \"St\"     | \"ISO 4014\" | 1999.0  |\n",
       "| 10  | 18.0                   | \"A\"   | \"St\"     | \"ISO 4014\" | 1999.0  |\n",
       "| 11  | 11.0                   | \"A\"   | \"St\"     | \"ISO 4014\" | 1999.0  |\n",
       "⋮\n",
       "| 188 | NA                     | NA    | NA       | NA         | NA      |\n",
       "| 189 | NA                     | NA    | NA       | NA         | NA      |\n",
       "| 190 | NA                     | NA    | NA       | NA         | NA      |\n",
       "| 191 | NA                     | NA    | NA       | NA         | NA      |\n",
       "| 192 | NA                     | NA    | NA       | NA         | NA      |\n",
       "| 193 | NA                     | NA    | NA       | NA         | NA      |\n",
       "| 194 | NA                     | NA    | NA       | NA         | NA      |\n",
       "| 195 | NA                     | NA    | NA       | NA         | NA      |\n",
       "| 196 | NA                     | NA    | NA       | NA         | NA      |\n",
       "| 197 | NA                     | NA    | NA       | NA         | NA      |\n",
       "| 198 | NA                     | NA    | NA       | NA         | NA      |\n",
       "| 199 | NA                     | NA    | NA       | NA         | NA      |"
      ]
     },
     "execution_count": 3,
     "metadata": {},
     "output_type": "execute_result"
    }
   ],
   "source": [
    "ISO_4014_GRADES_A_B_HEXAGON_HEAD_BOLT = Taro.readxl(\"./Bolts/ISO_4014_GRADES_A_B_HEXAGON_HEAD_BOLT.xlsx\", \"ISO_4014_GRADES_A_B_HEXAGON_HEA\", \"A1:X200\")"
   ]
  },
  {
   "cell_type": "code",
   "execution_count": 4,
   "metadata": {
    "collapsed": false
   },
   "outputs": [
    {
     "data": {
      "text/plain": [
       "199-element DataArrays.DataArray{Any,1}:\n",
       " \"ISO 4014 BOLT M1.6x12 STEEL GRADE A HEXAGON HEAD\"\n",
       " \"ISO 4014 BOLT M1.6x16 STEEL GRADE A HEXAGON HEAD\"\n",
       " \"ISO 4014 BOLT M2x16 STEEL GRADE A HEXAGON HEAD\"  \n",
       " \"ISO 4014 BOLT M2x20 STEEL GRADE A HEXAGON HEAD\"  \n",
       " \"ISO 4014 BOLT M2.5x16 STEEL GRADE A HEXAGON HEAD\"\n",
       " \"ISO 4014 BOLT M2.5x20 STEEL GRADE A HEXAGON HEAD\"\n",
       " \"ISO 4014 BOLT M2.5x25 STEEL GRADE A HEXAGON HEAD\"\n",
       " \"ISO 4014 BOLT M3x20 STEEL GRADE A HEXAGON HEAD\"  \n",
       " \"ISO 4014 BOLT M3x25 STEEL GRADE A HEXAGON HEAD\"  \n",
       " \"ISO 4014 BOLT M3x30 STEEL GRADE A HEXAGON HEAD\"  \n",
       " \"ISO 4014 BOLT M4x25 STEEL GRADE A HEXAGON HEAD\"  \n",
       " \"ISO 4014 BOLT M4x30 STEEL GRADE A HEXAGON HEAD\"  \n",
       " \"ISO 4014 BOLT M4x35 STEEL GRADE A HEXAGON HEAD\"  \n",
       " ⋮                                                 \n",
       " NA                                                \n",
       " NA                                                \n",
       " NA                                                \n",
       " NA                                                \n",
       " NA                                                \n",
       " NA                                                \n",
       " NA                                                \n",
       " NA                                                \n",
       " NA                                                \n",
       " NA                                                \n",
       " NA                                                \n",
       " NA                                                "
      ]
     },
     "execution_count": 4,
     "metadata": {},
     "output_type": "execute_result"
    }
   ],
   "source": [
    "ISO_4014_GRADES_A_B_HEXAGON_HEAD_BOLT[:PartNumber]"
   ]
  },
  {
   "cell_type": "code",
   "execution_count": 4,
   "metadata": {
    "collapsed": false
   },
   "outputs": [
    {
     "data": {
      "text/plain": [
       "199-element DataArrays.DataArray{Any,1}:\n",
       " \"ISO_4014_M1.6x12_STEEL_GRADE_A_HEXAGON_HEAD_BOLT\"\n",
       " \"ISO_4014_M1.6x16_STEEL_GRADE_A_HEXAGON_HEAD_BOLT\"\n",
       " \"ISO_4014_M2x16_STEEL_GRADE_A_HEXAGON_HEAD_BOLT\"  \n",
       " \"ISO_4014_M2x20_STEEL_GRADE_A_HEXAGON_HEAD_BOLT\"  \n",
       " \"ISO_4014_M2.5x16_STEEL_GRADE_A_HEXAGON_HEAD_BOLT\"\n",
       " \"ISO_4014_M2.5x20_STEEL_GRADE_A_HEXAGON_HEAD_BOLT\"\n",
       " \"ISO_4014_M2.5x25_STEEL_GRADE_A_HEXAGON_HEAD_BOLT\"\n",
       " \"ISO_4014_M3x20_STEEL_GRADE_A_HEXAGON_HEAD_BOLT\"  \n",
       " \"ISO_4014_M3x25_STEEL_GRADE_A_HEXAGON_HEAD_BOLT\"  \n",
       " \"ISO_4014_M3x30_STEEL_GRADE_A_HEXAGON_HEAD_BOLT\"  \n",
       " \"ISO_4014_M4x25_STEEL_GRADE_A_HEXAGON_HEAD_BOLT\"  \n",
       " \"ISO_4014_M4x30_STEEL_GRADE_A_HEXAGON_HEAD_BOLT\"  \n",
       " \"ISO_4014_M4x35_STEEL_GRADE_A_HEXAGON_HEAD_BOLT\"  \n",
       " ⋮                                                 \n",
       " NA                                                \n",
       " NA                                                \n",
       " NA                                                \n",
       " NA                                                \n",
       " NA                                                \n",
       " NA                                                \n",
       " NA                                                \n",
       " NA                                                \n",
       " NA                                                \n",
       " NA                                                \n",
       " NA                                                \n",
       " NA                                                "
      ]
     },
     "execution_count": 4,
     "metadata": {},
     "output_type": "execute_result"
    }
   ],
   "source": [
    "ISO_4014_GRADES_A_B_HEXAGON_HEAD_BOLT[:PartName]"
   ]
  },
  {
   "cell_type": "code",
   "execution_count": 13,
   "metadata": {
    "collapsed": false
   },
   "outputs": [
    {
     "data": {
      "text/plain": [
       "false"
      ]
     },
     "execution_count": 13,
     "metadata": {},
     "output_type": "execute_result"
    }
   ],
   "source": [
    "\"NA\" == ISO_4014_GRADES_A_B_HEXAGON_HEAD_BOLT[1,:PartName]"
   ]
  },
  {
   "cell_type": "code",
   "execution_count": null,
   "metadata": {
    "collapsed": true
   },
   "outputs": [],
   "source": []
  }
 ],
 "metadata": {
  "kernelspec": {
   "display_name": "Julia 0.4.1",
   "language": "julia",
   "name": "julia-0.4"
  },
  "language_info": {
   "file_extension": ".jl",
   "mimetype": "application/julia",
   "name": "julia",
   "version": "0.4.2"
  }
 },
 "nbformat": 4,
 "nbformat_minor": 0
}
