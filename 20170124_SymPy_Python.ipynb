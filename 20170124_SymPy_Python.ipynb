{
 "cells": [
  {
   "cell_type": "markdown",
   "metadata": {},
   "source": [
    "# SymPy on Python\n",
    "* http://docs.sympy.org/latest/modules/physics/mechanics/masses.html"
   ]
  },
  {
   "cell_type": "markdown",
   "metadata": {},
   "source": [
    "## Rigid Body"
   ]
  },
  {
   "cell_type": "code",
   "execution_count": 3,
   "metadata": {
    "collapsed": false
   },
   "outputs": [],
   "source": [
    "from sympy import Symbol\n",
    "from sympy.physics.mechanics import ReferenceFrame, Point, RigidBody\n",
    "from sympy.physics.mechanics import outer\n",
    "\n",
    "m = Symbol('m')\n",
    "A = ReferenceFrame('A')\n",
    "P = Point('P')\n",
    "I = outer(A.x, A.x)\n",
    "\n",
    "# Create a rigid body\n",
    "B = RigidBody('B', P, A, m, (I, P))\n"
   ]
  },
  {
   "cell_type": "markdown",
   "metadata": {},
   "source": [
    "## Lagrangian"
   ]
  },
  {
   "cell_type": "code",
   "execution_count": 18,
   "metadata": {
    "collapsed": false
   },
   "outputs": [],
   "source": [
    "from sympy import symbols\n",
    "from sympy.physics.mechanics import dynamicsymbols, ReferenceFrame, outer\n",
    "from sympy.physics.mechanics import RigidBody, Particle, mechanics_printing\n",
    "from sympy.physics.mechanics import kinetic_energy, potential_energy, Lagrangian, Point\n",
    "\n",
    "mechanics_printing()\n",
    "m, M, l1, g, h, H = symbols('m M l1 g h H')\n",
    "omega = dynamicsymbols('omega')\n",
    "N = ReferenceFrame('N')\n",
    "O = Point('O')\n",
    "O.set_vel(N, 0 * N.x)\n",
    "Ac = O.locatenew('Ac', l1 * N.x)\n",
    "P = Ac.locatenew('P', l1 * N.x)\n",
    "a = ReferenceFrame('a')\n",
    "a.set_ang_vel(N, omega * N.z)\n",
    "Ac.v2pt_theory(O, N, a)\n",
    "P.v2pt_theory(O, N, a)\n",
    "Pa = Particle('Pa', P, m)\n",
    "I = outer(N.z, N.z)\n",
    "A = RigidBody('A', Ac, a, M, (I, Ac))"
   ]
  },
  {
   "cell_type": "code",
   "execution_count": 19,
   "metadata": {
    "collapsed": false
   },
   "outputs": [
    {
     "data": {
      "image/png": "[encoded data removed]",
      "text/latex": [
       "$$2 l_{1}^{2} m \\omega^{2}$$"
      ],
      "text/plain": [
       "    2    2\n",
       "2⋅l₁ ⋅m⋅ω "
      ]
     },
     "execution_count": 19,
     "metadata": {},
     "output_type": "execute_result"
    }
   ],
   "source": [
    "kinetic_energy(N, Pa)"
   ]
  },
  {
   "cell_type": "code",
   "execution_count": 20,
   "metadata": {
    "collapsed": false
   },
   "outputs": [
    {
     "data": {
      "image/png": "[encoded data removed]",
      "text/latex": [
       "$$\\frac{M l_{1}^{2}}{2} \\omega^{2} + 2 l_{1}^{2} m \\omega^{2} + \\frac{\\omega^{2}}{2}$$"
      ],
      "text/plain": [
       "    2  2                 2\n",
       "M⋅l₁ ⋅ω        2    2   ω \n",
       "──────── + 2⋅l₁ ⋅m⋅ω  + ──\n",
       "   2                    2 "
      ]
     },
     "execution_count": 20,
     "metadata": {},
     "output_type": "execute_result"
    }
   ],
   "source": [
    "kinetic_energy(N, Pa, A)"
   ]
  },
  {
   "cell_type": "code",
   "execution_count": 21,
   "metadata": {
    "collapsed": false
   },
   "outputs": [
    {
     "data": {
      "image/png": "[encoded data removed]",
      "text/latex": [
       "$$H M g + g h m$$"
      ],
      "text/plain": [
       "H⋅M⋅g + g⋅h⋅m"
      ]
     },
     "execution_count": 21,
     "metadata": {},
     "output_type": "execute_result"
    }
   ],
   "source": [
    "Pa.potential_energy = m * g * h\n",
    "A.potential_energy = M * g * H\n",
    "potential_energy(A, Pa)"
   ]
  },
  {
   "cell_type": "code",
   "execution_count": 28,
   "metadata": {
    "collapsed": false
   },
   "outputs": [
    {
     "data": {
      "image/png": "[encoded data removed]",
      "text/latex": [
       "$$- H M g + \\frac{M l_{1}^{2}}{2} \\omega^{2} - g h m + 2 l_{1}^{2} m \\omega^{2} + \\frac{\\omega^{2}}{2}$$"
      ],
      "text/plain": [
       "             2  2                         2\n",
       "         M⋅l₁ ⋅ω                2    2   ω \n",
       "-H⋅M⋅g + ──────── - g⋅h⋅m + 2⋅l₁ ⋅m⋅ω  + ──\n",
       "            2                            2 "
      ]
     },
     "execution_count": 28,
     "metadata": {},
     "output_type": "execute_result"
    }
   ],
   "source": [
    "Lagrangian(N, Pa, A)"
   ]
  },
  {
   "cell_type": "markdown",
   "metadata": {},
   "source": [
    "## Lagrange’s Method in Physics/Mechanics\n",
    "* http://docs.sympy.org/latest/modules/physics/mechanics/lagrange.html"
   ]
  },
  {
   "cell_type": "code",
   "execution_count": 31,
   "metadata": {
    "collapsed": true
   },
   "outputs": [],
   "source": [
    "from sympy.physics.mechanics import *\n",
    "\n",
    "q1, q2 = dynamicsymbols('q1 q2')\n",
    "q1d, q2d = dynamicsymbols('q1 q2', 1)\n",
    "L = q1d**2 + q2d**2"
   ]
  },
  {
   "cell_type": "code",
   "execution_count": 34,
   "metadata": {
    "collapsed": false
   },
   "outputs": [],
   "source": [
    "LM = LagrangesMethod(L, [q1, q2])"
   ]
  },
  {
   "cell_type": "code",
   "execution_count": 39,
   "metadata": {
    "collapsed": false
   },
   "outputs": [
    {
     "data": {
      "text/latex": [
       "$$\\left[\\begin{matrix}2 \\ddot{q}_{1}\\\\2 \\ddot{q}_{2}\\end{matrix}\\right]$$"
      ],
      "text/plain": [
       "⎡2⋅q₁̈⎤\n",
       "⎢     ⎥\n",
       "⎣2⋅q₂̈⎦"
      ]
     },
     "execution_count": 39,
     "metadata": {},
     "output_type": "execute_result"
    }
   ],
   "source": [
    "mechanics_printing(pretty_print=True)\n",
    "LM.form_lagranges_equations()"
   ]
  },
  {
   "cell_type": "code",
   "execution_count": 40,
   "metadata": {
    "collapsed": false
   },
   "outputs": [
    {
     "data": {
      "text/latex": [
       "$$\\left[\\begin{matrix}2 & 0\\\\0 & 2\\end{matrix}\\right]$$"
      ],
      "text/plain": [
       "⎡2  0⎤\n",
       "⎢    ⎥\n",
       "⎣0  2⎦"
      ]
     },
     "execution_count": 40,
     "metadata": {},
     "output_type": "execute_result"
    }
   ],
   "source": [
    "LM.mass_matrix"
   ]
  },
  {
   "cell_type": "code",
   "execution_count": 41,
   "metadata": {
    "collapsed": false
   },
   "outputs": [
    {
     "data": {
      "text/latex": [
       "$$\\left[\\begin{matrix}0\\\\0\\end{matrix}\\right]$$"
      ],
      "text/plain": [
       "⎡0⎤\n",
       "⎢ ⎥\n",
       "⎣0⎦"
      ]
     },
     "execution_count": 41,
     "metadata": {},
     "output_type": "execute_result"
    }
   ],
   "source": [
    "LM.forcing"
   ]
  },
  {
   "cell_type": "code",
   "execution_count": 42,
   "metadata": {
    "collapsed": true
   },
   "outputs": [],
   "source": [
    "LM = LagrangesMethod(L, [q1, q2], hol_coneqs=[q1 - q2])"
   ]
  },
  {
   "cell_type": "code",
   "execution_count": 43,
   "metadata": {
    "collapsed": false
   },
   "outputs": [
    {
     "data": {
      "text/latex": [
       "$$\\left[\\begin{matrix}lam_{1} + 2 \\ddot{q}_{1}\\\\- lam_{1} + 2 \\ddot{q}_{2}\\end{matrix}\\right]$$"
      ],
      "text/plain": [
       "⎡lam₁ + 2⋅q₁̈ ⎤\n",
       "⎢             ⎥\n",
       "⎣-lam₁ + 2⋅q₂̈⎦"
      ]
     },
     "execution_count": 43,
     "metadata": {},
     "output_type": "execute_result"
    }
   ],
   "source": [
    "LM.form_lagranges_equations()"
   ]
  },
  {
   "cell_type": "code",
   "execution_count": 44,
   "metadata": {
    "collapsed": false
   },
   "outputs": [
    {
     "data": {
      "text/latex": [
       "$$\\left[\\begin{matrix}1 & 0 & 0 & 0 & 0\\\\0 & 1 & 0 & 0 & 0\\\\0 & 0 & 2 & 0 & -1\\\\0 & 0 & 0 & 2 & 1\\\\0 & 0 & 1 & -1 & 0\\end{matrix}\\right]$$"
      ],
      "text/plain": [
       "⎡1  0  0  0   0 ⎤\n",
       "⎢               ⎥\n",
       "⎢0  1  0  0   0 ⎥\n",
       "⎢               ⎥\n",
       "⎢0  0  2  0   -1⎥\n",
       "⎢               ⎥\n",
       "⎢0  0  0  2   1 ⎥\n",
       "⎢               ⎥\n",
       "⎣0  0  1  -1  0 ⎦"
      ]
     },
     "execution_count": 44,
     "metadata": {},
     "output_type": "execute_result"
    }
   ],
   "source": [
    "LM.mass_matrix_full"
   ]
  },
  {
   "cell_type": "code",
   "execution_count": 45,
   "metadata": {
    "collapsed": false
   },
   "outputs": [
    {
     "data": {
      "text/latex": [
       "$$\\left[\\begin{matrix}\\dot{q}_{1}\\\\\\dot{q}_{2}\\\\0\\\\0\\\\0\\end{matrix}\\right]$$"
      ],
      "text/plain": [
       "⎡q₁̇⎤\n",
       "⎢   ⎥\n",
       "⎢q₂̇⎥\n",
       "⎢   ⎥\n",
       "⎢ 0 ⎥\n",
       "⎢   ⎥\n",
       "⎢ 0 ⎥\n",
       "⎢   ⎥\n",
       "⎣ 0 ⎦"
      ]
     },
     "execution_count": 45,
     "metadata": {},
     "output_type": "execute_result"
    }
   ],
   "source": [
    "LM.forcing_full"
   ]
  },
  {
   "cell_type": "code",
   "execution_count": 46,
   "metadata": {
    "collapsed": false
   },
   "outputs": [
    {
     "data": {
      "text/latex": [
       "$$\\left[\\begin{matrix}2 \\ddot{q}_{1} - 7\\\\2 \\ddot{q}_{2}\\end{matrix}\\right]$$"
      ],
      "text/plain": [
       "⎡2⋅q₁̈ - 7⎤\n",
       "⎢         ⎥\n",
       "⎣  2⋅q₂̈  ⎦"
      ]
     },
     "execution_count": 46,
     "metadata": {},
     "output_type": "execute_result"
    }
   ],
   "source": [
    "N = ReferenceFrame('N')\n",
    "P = Point('P')\n",
    "P.set_vel(N, q1d * N.x)\n",
    "FL = [(P, 7 * N.x)]\n",
    "LM = LagrangesMethod(L, [q1, q2], forcelist=FL, frame=N)\n",
    "LM.form_lagranges_equations()\n"
   ]
  },
  {
   "cell_type": "markdown",
   "metadata": {},
   "source": [
    "## Examples for Physics/Mechanics\n",
    "* http://docs.sympy.org/latest/modules/physics/mechanics/examples.html"
   ]
  },
  {
   "cell_type": "markdown",
   "metadata": {},
   "source": [
    "#### Nonminimal Coordinates Pendulum (Lagrange's Method)\n",
    "\n",
    "![](http://docs.sympy.org/latest/_images/pendulum_nonmin.svg)"
   ]
  },
  {
   "cell_type": "code",
   "execution_count": 47,
   "metadata": {
    "collapsed": true
   },
   "outputs": [],
   "source": [
    "from sympy.physics.mechanics import *\n",
    "from sympy import symbols, atan, Matrix\n",
    "\n",
    "q1, q2 = dynamicsymbols('q1:3')\n",
    "q1d, q2d = dynamicsymbols('q1:3', level=1)\n",
    "L, m, g, t = symbols('L, m, g, t')"
   ]
  },
  {
   "cell_type": "code",
   "execution_count": 48,
   "metadata": {
    "collapsed": true
   },
   "outputs": [],
   "source": [
    " # Compose World Frame\n",
    "N = ReferenceFrame('N')\n",
    "pN = Point('N*')\n",
    "pN.set_vel(N, 0)\n",
    "# A.x is along the pendulum\n",
    "theta1 = atan(q2/q1)\n",
    "A = N.orientnew('A', 'axis', [theta1, N.z])"
   ]
  },
  {
   "cell_type": "code",
   "execution_count": 49,
   "metadata": {
    "collapsed": true
   },
   "outputs": [],
   "source": [
    "# Create point P, the pendulum mass\n",
    "P = pN.locatenew('P1', q1*N.x + q2*N.y)\n",
    "P.set_vel(N, P.pos_from(pN).dt(N))\n",
    "pP = Particle('pP', P, m)"
   ]
  },
  {
   "cell_type": "code",
   "execution_count": 50,
   "metadata": {
    "collapsed": true
   },
   "outputs": [],
   "source": [
    "# Holonomic Constraint Equations\n",
    "f_c = Matrix([q1**2 + q2**2 - L**2])\n"
   ]
  },
  {
   "cell_type": "code",
   "execution_count": 51,
   "metadata": {
    "collapsed": true
   },
   "outputs": [],
   "source": [
    "# Input the force resultant at P\n",
    "R = m*g*N.x"
   ]
  },
  {
   "cell_type": "code",
   "execution_count": 53,
   "metadata": {
    "collapsed": true
   },
   "outputs": [],
   "source": [
    "# Calculate the lagrangian, and form the equations of motion\n",
    "Lag = Lagrangian(N, pP)\n",
    "LM = LagrangesMethod(Lag, [q1, q2], hol_coneqs=f_c, forcelist=[(P, R)], frame=N)\n",
    "lag_eqs = LM.form_lagranges_equations()"
   ]
  },
  {
   "cell_type": "code",
   "execution_count": 54,
   "metadata": {
    "collapsed": true
   },
   "outputs": [],
   "source": [
    "# Compose operating point\n",
    "op_point = {q1: L, q2: 0, q1d: 0, q2d: 0, q1d.diff(t): 0, q2d.diff(t): 0}"
   ]
  },
  {
   "cell_type": "code",
   "execution_count": 55,
   "metadata": {
    "collapsed": true
   },
   "outputs": [],
   "source": [
    "# Solve for multiplier operating point\n",
    "lam_op = LM.solve_multipliers(op_point=op_point)"
   ]
  },
  {
   "cell_type": "code",
   "execution_count": 56,
   "metadata": {
    "collapsed": false
   },
   "outputs": [
    {
     "data": {
      "text/latex": [
       "$$\\left[\\begin{matrix}0 & 1\\\\- \\frac{g}{L} & 0\\end{matrix}\\right]$$"
      ],
      "text/plain": [
       "⎡ 0   1⎤\n",
       "⎢      ⎥\n",
       "⎢-g    ⎥\n",
       "⎢───  0⎥\n",
       "⎣ L    ⎦"
      ]
     },
     "execution_count": 56,
     "metadata": {},
     "output_type": "execute_result"
    }
   ],
   "source": [
    "op_point.update(lam_op)\n",
    "# Perform the Linearization\n",
    "A, B, inp_vec = LM.linearize([q2], [q2d], [q1], [q1d], op_point=op_point, A_and_B=True)\n",
    "A\n"
   ]
  },
  {
   "cell_type": "code",
   "execution_count": 57,
   "metadata": {
    "collapsed": false
   },
   "outputs": [
    {
     "data": {
      "text/latex": [
       "$$\\left[\\begin{matrix}\\end{matrix}\\right]$$"
      ],
      "text/plain": [
       "[]"
      ]
     },
     "execution_count": 57,
     "metadata": {},
     "output_type": "execute_result"
    }
   ],
   "source": [
    "B"
   ]
  },
  {
   "cell_type": "markdown",
   "metadata": {},
   "source": [
    "__Result : __\n",
    "\n",
    "$$\n",
    "\\begin{bmatrix}\n",
    "  \\dot{q_2} \\\\ \\ddot{q_2}\n",
    "\\end{bmatrix}\n",
    "=\n",
    "\\begin{bmatrix}\n",
    "  0 & 1 \\\\\n",
    "  \\frac{-g}{L} & 0\n",
    "\\end{bmatrix}\n",
    "\\begin{bmatrix}\n",
    "  q_2 \\\\ \\dot{q_2}\n",
    "\\end{bmatrix}\n",
    "$$"
   ]
  },
  {
   "cell_type": "code",
   "execution_count": 59,
   "metadata": {
    "collapsed": false
   },
   "outputs": [
    {
     "name": "stdout",
     "output_type": "stream",
     "text": [
      "Variable                      Type                  Data/Info\n",
      "-------------------------------------------------------------\n",
      "A                             MutableDenseMatrix    Matrix([[0, 1], [-g/L, 0]])\n",
      "Ac                            Point                 Ac\n",
      "B                             MutableDenseMatrix    Matrix(0, 0, [])\n",
      "Body                          type                  <class 'sympy.physics.mechanics.body.Body'>\n",
      "CoordinateSym                 ManagedProperties     <class 'sympy.physics.vec<...>tor.frame.CoordinateSym'>\n",
      "Dyadic                        type                  <class 'sympy.physics.vector.dyadic.Dyadic'>\n",
      "FL                            list                  n=1\n",
      "H                             Symbol                H\n",
      "I                             Dyadic                (N.z|N.z)\n",
      "KanesMethod                   type                  <class 'sympy.physics.mec<...>hanics.kane.KanesMethod'>\n",
      "L                             Symbol                L\n",
      "LM                            LagrangesMethod       <sympy.physics.mechanics.<...>object at 0x7fcb7ec2fa58>\n",
      "Lag                           Add                   m*Derivative(q1(t), t)**2<...>Derivative(q2(t), t)**2/2\n",
      "LagrangesMethod               type                  <class 'sympy.physics.mec<...>agrange.LagrangesMethod'>\n",
      "Lagrangian                    function              <function Lagrangian at 0x7fcb9815e598>\n",
      "Linearizer                    type                  <class 'sympy.physics.mec<...>cs.linearize.Linearizer'>\n",
      "M                             Symbol                M\n",
      "Matrix                        type                  <class 'sympy.matrices.dense.MutableDenseMatrix'>\n",
      "N                             ReferenceFrame        N\n",
      "O                             Point                 O\n",
      "P                             Point                 P1\n",
      "Pa                            Particle              Pa\n",
      "Particle                      type                  <class 'sympy.physics.mec<...>anics.particle.Particle'>\n",
      "Point                         type                  <class 'sympy.physics.vector.point.Point'>\n",
      "R                             Vector                g*m*N.x\n",
      "ReferenceFrame                type                  <class 'sympy.physics.vec<...>or.frame.ReferenceFrame'>\n",
      "RigidBody                     type                  <class 'sympy.physics.mec<...>ics.rigidbody.RigidBody'>\n",
      "Symbol                        ManagedProperties     <class 'sympy.core.symbol.Symbol'>\n",
      "Vector                        type                  <class 'sympy.physics.vector.vector.Vector'>\n",
      "a                             ReferenceFrame        a\n",
      "angular_momentum              function              <function angular_momentum at 0x7fcb9815e400>\n",
      "atan                          FunctionClass         atan\n",
      "cross                         function              <function cross at 0x7fcb9814f8c8>\n",
      "curl                          function              <function curl at 0x7fcb9814ff28>\n",
      "divergence                    function              <function divergence at 0x7fcb98156048>\n",
      "dot                           function              <function dot at 0x7fcb9814f950>\n",
      "dynamicsymbols                function              <function dynamicsymbols at 0x7fcb9814fd08>\n",
      "express                       function              <function express at 0x7fcb9814f9d8>\n",
      "f_c                           MutableDenseMatrix    Matrix([[-L**2 + q1(t)**2 + q2(t)**2]])\n",
      "find_dynamicsymbols           function              <function find_dynamicsymbols at 0x7fcb9815e620>\n",
      "g                             Symbol                g\n",
      "get_motion_params             function              <function get_motion_params at 0x7fcb9814fbf8>\n",
      "gradient                      function              <function gradient at 0x7fcb981560d0>\n",
      "h                             Symbol                h\n",
      "inertia                       function              <function inertia at 0x7fcb9815e268>\n",
      "inertia_of_point_mass         function              <function inertia_of_poin<...>t_mass at 0x7fcb9815e2f0>\n",
      "init_vprinting                function              <function init_vprinting at 0x7fcb9814e0d0>\n",
      "inp_vec                       MutableDenseMatrix    Matrix(0, 0, [])\n",
      "is_conservative               function              <function is_conservative at 0x7fcb98156158>\n",
      "is_solenoidal                 function              <function is_solenoidal at 0x7fcb981561e0>\n",
      "kinematic_equations           function              <function kinematic_equations at 0x7fcb9814fb70>\n",
      "kinetic_energy                function              <function kinetic_energy at 0x7fcb9815e488>\n",
      "l1                            Symbol                l1\n",
      "lag_eqs                       MutableDenseMatrix    Matrix([[-g*m + m*Derivat<...>, t) + 2*lam1(t)*q2(t)]])\n",
      "lam_op                        dict                  n=1\n",
      "linear_momentum               function              <function linear_momentum at 0x7fcb9815e378>\n",
      "m                             Symbol                m\n",
      "mechanics_printing            function              <function mechanics_printing at 0x7fcb9815e1e0>\n",
      "mlatex                        function              <function vlatex at 0x7fcb9814e048>\n",
      "mpprint                       function              <function vpprint at 0x7fcb9813ff28>\n",
      "mprint                        function              <function vprint at 0x7fcb9813f9d8>\n",
      "msprint                       function              <function vsprint at 0x7fcb9813fea0>\n",
      "msubs                         function              <function msubs at 0x7fcb9815e6a8>\n",
      "omega                         omega                 omega(t)\n",
      "op_point                      dict                  n=7\n",
      "outer                         function              <function outer at 0x7fcb9814fae8>\n",
      "pN                            Point                 N*\n",
      "pP                            Particle              pP\n",
      "partial_velocity              function              <function partial_velocity at 0x7fcb9814fc80>\n",
      "potential_energy              function              <function potential_energy at 0x7fcb9815e510>\n",
      "q1                            q1                    q1(t)\n",
      "q1d                           Derivative            Derivative(q1(t), t)\n",
      "q2                            q2                    q2(t)\n",
      "q2d                           Derivative            Derivative(q2(t), t)\n",
      "scalar_potential              function              <function scalar_potential at 0x7fcb98156268>\n",
      "scalar_potential_difference   function              <function scalar_potentia<...>erence at 0x7fcb981562f0>\n",
      "symbols                       function              <function symbols at 0x7fcb98afa488>\n",
      "t                             Symbol                t\n",
      "theta1                        atan                  atan(q2(t)/q1(t))\n",
      "time_derivative               function              <function time_derivative at 0x7fcb9814fa60>\n",
      "vlatex                        function              <function vlatex at 0x7fcb9814e048>\n",
      "vpprint                       function              <function vpprint at 0x7fcb9813ff28>\n",
      "vprint                        function              <function vprint at 0x7fcb9813f9d8>\n",
      "vsprint                       function              <function vsprint at 0x7fcb9813fea0>\n",
      "vsstrrepr                     function              <function vsstrrepr at 0x7fcb9813fe18>\n"
     ]
    }
   ],
   "source": [
    "%whos"
   ]
  },
  {
   "cell_type": "code",
   "execution_count": 60,
   "metadata": {
    "collapsed": false
   },
   "outputs": [
    {
     "name": "stdout",
     "output_type": "stream",
     "text": [
      "from sympy import Symbol\n",
      "from sympy.physics.mechanics import ReferenceFrame, Point, RigidBody\n",
      "from sympy.physics.mechanics import outer\n",
      "\n",
      "m = Symbol('m')\n",
      "A = ReferenceFrame('A')\n",
      "P = Point('P')\n",
      "I = outer(A.x, A.x)\n",
      "\n",
      "# Create a rigid body\n",
      "B = RigidBody('B', P, A, m, (I, P))\n",
      "from sympy import Symbol\n",
      "from sympy.physics.mechanics import ReferenceFrame, Point, RigidBody\n",
      "from sympy.physics.mechanics import outer\n",
      "\n",
      "m = Symbol('m')\n",
      "A = ReferenceFrame('A')\n",
      "P = Point('P')\n",
      "I = outer(A.x, A.x)\n",
      "\n",
      "# Create a rigid body\n",
      "B = RigidBody('B', P, A, m, (I, P))\n",
      "B\n",
      "from sympy import Symbol\n",
      "from sympy.physics.mechanics import ReferenceFrame, Point, RigidBody\n",
      "from sympy.physics.mechanics import outer\n",
      "\n",
      "m = Symbol('m')\n",
      "A = ReferenceFrame('A')\n",
      "P = Point('P')\n",
      "I = outer(A.x, A.x)\n",
      "\n",
      "# Create a rigid body\n",
      "B = RigidBody('B', P, A, m, (I, P))\n",
      "kinetic_energy(A, P)\n",
      "from symp.physics.mechanics import kinetic_energy, potential_energy\n",
      "\n",
      "kinetic_energy(A, P)\n",
      "from sympy.physics.mechanics import kinetic_energy, potential_energy\n",
      "\n",
      "kinetic_energy(A, P)\n",
      "from sympy.physics.mechanics import kinetic_energy, potential_energy\n",
      "\n",
      "kinetic_energy(A)\n",
      "from sympy.physics.mechanics import kinetic_energy, potential_energy\n",
      "\n",
      "kinetic_energy(A,B)\n",
      "from sympy.physics.mechanics import kinetic_energy, potential_energy\n",
      "\n",
      "kinetic_energy(B)\n",
      "from sympy.physics.mechanics import kinetic_energy, potential_energy\n",
      "\n",
      "kinetic_energy(A, B)\n",
      "from sympy.physics.mechanics import kinetic_energy, potential_energy\n",
      "\n",
      "kinetic_energy(A)\n",
      "from sympy import symbols\n",
      "from sympy.physics.mechanics import dynamicsymbols, ReferenceFrame, outer\n",
      "from sympy.physics.mechanics import RigidBody, Particle, mechanics_printing\n",
      "from symp.physics.mechanics import kinetic_energy, potential_energy, Point\n",
      "\n",
      "mechanics_printing()\n",
      "m, M, l1, g, h, H = symbols('m M l1 g h H')\n",
      "omega = dynamicsymbols('omega')\n",
      "N = ReferenceFrame('N')\n",
      "O = Point('O')\n",
      "O.set_vel(N, 0 * N.x)\n",
      "Ac = O.locatenew('Ac', l1 * N.x)\n",
      "P = Ac.locatenew('P', l1 * N.x)\n",
      "a = ReferenceFrame('a')\n",
      "a.set_ang_vel(N, omega * N.z)\n",
      "Ac.v2pt_theory(O, N, a)\n",
      "P.v2pt_theory(O, N, a)\n",
      "Pa = Particle('Pa', P, m)\n",
      "I = outer(N.z, N.z)\n",
      "A = RigidBody('A', Ac, a, M, (I, Ac))\n",
      "from sympy import symbols\n",
      "from sympy.physics.mechanics import dynamicsymbols, ReferenceFrame, outer\n",
      "from sympy.physics.mechanics import RigidBody, Particle, mechanics_printing\n",
      "from sympy.physics.mechanics import kinetic_energy, potential_energy, Point\n",
      "\n",
      "mechanics_printing()\n",
      "m, M, l1, g, h, H = symbols('m M l1 g h H')\n",
      "omega = dynamicsymbols('omega')\n",
      "N = ReferenceFrame('N')\n",
      "O = Point('O')\n",
      "O.set_vel(N, 0 * N.x)\n",
      "Ac = O.locatenew('Ac', l1 * N.x)\n",
      "P = Ac.locatenew('P', l1 * N.x)\n",
      "a = ReferenceFrame('a')\n",
      "a.set_ang_vel(N, omega * N.z)\n",
      "Ac.v2pt_theory(O, N, a)\n",
      "P.v2pt_theory(O, N, a)\n",
      "Pa = Particle('Pa', P, m)\n",
      "I = outer(N.z, N.z)\n",
      "A = RigidBody('A', Ac, a, M, (I, Ac))\n",
      "kinetic_energy(N, Pa)\n",
      "kinetic_energy(N, Pa, A)\n",
      "Pa.potential_energy = m * g * h\n",
      "A.potential_energy = M * g * H\n",
      "potential_energy(A, Pa)\n",
      "Lagrangian(Pa, A)\n",
      "from sympy import symbols\n",
      "from sympy.physics.mechanics import dynamicsymbols, ReferenceFrame, outer\n",
      "from sympy.physics.mechanics import RigidBody, Particle, mechanics_printing\n",
      "from sympy.physics.mechanics import kinetic_energy, potential_energy, Lagrangian, Point\n",
      "\n",
      "mechanics_printing()\n",
      "m, M, l1, g, h, H = symbols('m M l1 g h H')\n",
      "omega = dynamicsymbols('omega')\n",
      "N = ReferenceFrame('N')\n",
      "O = Point('O')\n",
      "O.set_vel(N, 0 * N.x)\n",
      "Ac = O.locatenew('Ac', l1 * N.x)\n",
      "P = Ac.locatenew('P', l1 * N.x)\n",
      "a = ReferenceFrame('a')\n",
      "a.set_ang_vel(N, omega * N.z)\n",
      "Ac.v2pt_theory(O, N, a)\n",
      "P.v2pt_theory(O, N, a)\n",
      "Pa = Particle('Pa', P, m)\n",
      "I = outer(N.z, N.z)\n",
      "A = RigidBody('A', Ac, a, M, (I, Ac))\n",
      "kinetic_energy(N, Pa)\n",
      "kinetic_energy(N, Pa, A)\n",
      "Pa.potential_energy = m * g * h\n",
      "A.potential_energy = M * g * H\n",
      "potential_energy(A, Pa)\n",
      "Lagrangian(Pa, A)\n",
      "Lagrangian(A, Pa)\n",
      "Lagrangian(Pa, A)\n",
      "Lagrangian(N, Pa, A)\n",
      "L = Lagrangian(N, Pa, A)\n",
      "L = Lagrangian(N, Pa, A)\n",
      "L\n",
      "Lagrangian(N, Pa, A)\n",
      "help(mechanics_printing\n",
      "help(mechanics_printing)\n",
      "from sympy.physics.mechanics import *\n",
      "\n",
      "q1, q2 = dynamicsymbols('q1 q2')\n",
      "q1d, q2d = dynamicsymbols('q1 q2', 1)\n",
      "L = q1d**2 + q2d**2\n",
      "LM = LagrangesMethod(L, [q1, q2])\n",
      "LM = LagrangesMethod(L, [q1, q2])\n",
      "LM\n",
      "LM = LagrangesMethod(L, [q1, q2])\n",
      "LM.form_lagranges_equations()\n",
      "mechanics_printing(pretty_print=False)\n",
      "LM.form_lagranges_equations()\n",
      "mechanics_printing(pretty_print=true)\n",
      "LM.form_lagranges_equations()\n",
      "mechanics_printing(pretty_print=false)\n",
      "LM.form_lagranges_equations()\n",
      "mechanics_printing(pretty_print=True)\n",
      "LM.form_lagranges_equations()\n",
      "LM.mass_matrix\n",
      "LM.forcing\n",
      "LM = LagrangesMethod(L, [q1, q2], hol_coneqs=[q1 - q2])\n",
      "LM.form_lagranges_equations()\n",
      "LM.mass_matrix_full\n",
      "LM.forcing_full\n",
      "N = ReferenceFrame('N')\n",
      "P = Point('P')\n",
      "P.set_vel(N, q1d * N.x)\n",
      "FL = [(P, 7 * N.x)]\n",
      "LM = LagrangesMethod(L, [q1, q2], forcelist=FL, frame=N)\n",
      "LM.form_lagranges_equations()\n",
      "from sympy.physics.mechanics import *\n",
      "from sympy import symbols, atan, Matrix\n",
      "\n",
      "q1, q2 = dynamicsymbols('q1:3')\n",
      "q1d, q2d = dynamicsymbols('q1:3', level=1)\n",
      "L, m, g, t = symbols('L, m, g, t')\n",
      " # Compose World Frame\n",
      "N = ReferenceFrame('N')\n",
      "pN = Point('N*')\n",
      "pN.set_vel(N, 0)\n",
      "# A.x is along the pendulum\n",
      "theta1 = atan(q2/q1)\n",
      "A = N.orientnew('A', 'axis', [theta1, N.z])\n",
      "# Create point P, the pendulum mass\n",
      "P = pN.locatenew('P1', q1*N.x + q2*N.y)\n",
      "P.set_vel(N, P.pos_from(pN).dt(N))\n",
      "pP = Particle('pP', P, m)\n",
      "# Holonomic Constraint Equations\n",
      "f_c = Matrix([q1**2 + q2**2 - L**2])\n",
      "# Input the force resultant at P\n",
      "R = m*g*N.x\n",
      "# Calculate the lagrangian, and form the equations of motion\n",
      "Lag = Lagrangian(N, pP)\n",
      "LM = LagrangesMethod(Lag, [q1, q2], hol_coneqs=f_c, forcelist=[(P, R)], frame=N)\n",
      "lag_eqs = LM.form_lagranges_equations()\n",
      "# Calculate the lagrangian, and form the equations of motion\n",
      "Lag = Lagrangian(N, pP)\n",
      "LM = LagrangesMethod(Lag, [q1, q2], hol_coneqs=f_c, forcelist=[(P, R)], frame=N)\n",
      "lag_eqs = LM.form_lagranges_equations()\n",
      "# Compose operating point\n",
      "op_point = {q1: L, q2: 0, q1d: 0, q2d: 0, q1d.diff(t): 0, q2d.diff(t): 0}\n",
      "# Solve for multiplier operating point\n",
      "lam_op = LM.solve_multipliers(op_point=op_point)\n",
      "op_point.update(lam_op)\n",
      "# Perform the Linearization\n",
      "A, B, inp_vec = LM.linearize([q2], [q2d], [q1], [q1d], op_point=op_point, A_and_B=True)\n",
      "A\n",
      "B\n",
      "%ls\n",
      "%whos\n",
      "%history\n"
     ]
    }
   ],
   "source": [
    "%history"
   ]
  },
  {
   "cell_type": "code",
   "execution_count": null,
   "metadata": {
    "collapsed": true
   },
   "outputs": [],
   "source": []
  }
 ],
 "metadata": {
  "anaconda-cloud": {},
  "kernelspec": {
   "display_name": "Python [conda root]",
   "language": "python",
   "name": "conda-root-py"
  },
  "language_info": {
   "codemirror_mode": {
    "name": "ipython",
    "version": 3
   },
   "file_extension": ".py",
   "mimetype": "text/x-python",
   "name": "python",
   "nbconvert_exporter": "python",
   "pygments_lexer": "ipython3",
   "version": "3.5.2"
  },
  "nav_menu": {},
  "toc": {
   "navigate_menu": true,
   "number_sections": true,
   "sideBar": true,
   "threshold": 6,
   "toc_cell": false,
   "toc_section_display": "block",
   "toc_window_display": false
  }
 },
 "nbformat": 4,
 "nbformat_minor": 1
}
