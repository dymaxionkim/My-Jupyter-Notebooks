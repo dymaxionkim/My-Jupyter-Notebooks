{
 "cells": [
  {
   "cell_type": "markdown",
   "metadata": {},
   "source": [
    "# Interact.jl\n",
    "* Repository : https://github.com/JuliaGizmos/Interact.jl"
   ]
  },
  {
   "cell_type": "markdown",
   "metadata": {},
   "source": [
    "## 설치"
   ]
  },
  {
   "cell_type": "code",
   "execution_count": 2,
   "metadata": {
    "collapsed": false
   },
   "outputs": [
    {
     "name": "stderr",
     "output_type": "stream",
     "text": [
      "\u001b[1m\u001b[34mINFO: Cloning cache of Interact from https://github.com/JuliaGizmos/Interact.jl.git\n",
      "\u001b[0m\u001b[1m\u001b[34mINFO: Installing Interact v0.4.3\n",
      "\u001b[0m\u001b[1m\u001b[34mINFO: Building Interact\n",
      "\u001b[0m\u001b[1m\u001b[34mINFO: Enabling widgetsnbextension\n",
      "\u001b[0mEnabling notebook extension jupyter-js-widgets/extension...\n",
      "      - Validating: \u001b[32mOK\u001b[0m\n",
      "\u001b[1m\u001b[34mINFO: ipywidgets version found: 5.2.2\n",
      "\u001b[0m\u001b[1m\u001b[34mINFO: A compatible version of ipywidgets was found. All good.\n",
      "\u001b[0m\u001b[1m\u001b[34mINFO: Package database updated\n",
      "\u001b[0m\u001b[1m\u001b[34mINFO: METADATA is out-of-date — you may not have the latest version of Interact\n",
      "\u001b[0m\u001b[1m\u001b[34mINFO: Use `Pkg.update()` to get the latest versions of your packages\n",
      "\u001b[0m"
     ]
    },
    {
     "name": "stdout",
     "output_type": "stream",
     "text": [
      "search: \u001b[1mu\u001b[22m\u001b[1ms\u001b[22m\u001b[1mi\u001b[22m\u001b[1mn\u001b[22m\u001b[1mg\u001b[22m S\u001b[1mu\u001b[22mb\u001b[1mS\u001b[22mtr\u001b[1mi\u001b[22m\u001b[1mn\u001b[22m\u001b[1mg\u001b[22m takeb\u001b[1mu\u001b[22mf_\u001b[1ms\u001b[22mtr\u001b[1mi\u001b[22m\u001b[1mn\u001b[22m\u001b[1mg\u001b[22m incl\u001b[1mu\u001b[22mde_\u001b[1ms\u001b[22mtr\u001b[1mi\u001b[22m\u001b[1mn\u001b[22m\u001b[1mg\u001b[22m \u001b[1mu\u001b[22mn\u001b[1ms\u001b[22mafe_str\u001b[1mi\u001b[22m\u001b[1mn\u001b[22m\u001b[1mg\u001b[22m\n",
      "\n",
      "search: \u001b[1mu\u001b[22m\u001b[1ms\u001b[22m\u001b[1mi\u001b[22m\u001b[1mn\u001b[22m\u001b[1mg\u001b[22m S\u001b[1mu\u001b[22mb\u001b[1mS\u001b[22mtr\u001b[1mi\u001b[22m\u001b[1mn\u001b[22m\u001b[1mg\u001b[22m takeb\u001b[1mu\u001b[22mf_\u001b[1ms\u001b[22mtr\u001b[1mi\u001b[22m\u001b[1mn\u001b[22m\u001b[1mg\u001b[22m incl\u001b[1mu\u001b[22mde_\u001b[1ms\u001b[22mtr\u001b[1mi\u001b[22m\u001b[1mn\u001b[22m\u001b[1mg\u001b[22m \u001b[1mu\u001b[22mn\u001b[1ms\u001b[22mafe_str\u001b[1mi\u001b[22m\u001b[1mn\u001b[22m\u001b[1mg\u001b[22m\n",
      "\n"
     ]
    }
   ],
   "source": [
    "Pkg.add(\"Interact\")"
   ]
  },
  {
   "cell_type": "code",
   "execution_count": 2,
   "metadata": {
    "collapsed": false
   },
   "outputs": [
    {
     "data": {
      "text/html": [
       "<div id=\"interact-js-shim\">\n",
       "    <script charset=\"utf-8\">\n",
       "(function (IPython, $, _, MathJax) {\n",
       "    $.event.special.destroyed = {\n",
       "\tremove: function(o) {\n",
       "\t    if (o.handler) {\n",
       "\t\to.handler.apply(this, arguments)\n",
       "\t    }\n",
       "\t}\n",
       "    }\n",
       "\n",
       "    var OutputArea = IPython.version >= \"4.0.0\" ? require(\"notebook/js/outputarea\").OutputArea : IPython.OutputArea;\n",
       "\n",
       "    var redrawValue = function (container, type, val) {\n",
       "\tvar selector = $(\"<div/>\");\n",
       "\tvar oa = new OutputArea(_.extend(selector, {\n",
       "\t    selector: selector,\n",
       "\t    prompt_area: true,\n",
       "\t    events: IPython.events,\n",
       "\t    keyboard_manager: IPython.keyboard_manager\n",
       "\t})); // Hack to work with IPython 2.1.0\n",
       "\n",
       "\tswitch (type) {\n",
       "\tcase \"image/png\":\n",
       "            var _src = 'data:' + type + ';base64,' + val;\n",
       "\t    $(container).find(\"img\").attr('src', _src);\n",
       "\t    break;\n",
       "\tcase \"text/latex\":\n",
       "\t\tif (MathJax){\n",
       "\t\t\tvar math = MathJax.Hub.getAllJax(container)[0];\n",
       "\t\t\tMathJax.Hub.Queue([\"Text\", math, val.replace(/^\\${1,2}|\\${1,2}$/g, '')]);\n",
       "\t\t\tbreak;\n",
       "\t\t}\n",
       "\tdefault:\n",
       "\t    var toinsert = OutputArea.append_map[type].apply(\n",
       "\t\toa, [val, {}, selector]\n",
       "\t    );\n",
       "\t    $(container).empty().append(toinsert.contents());\n",
       "\t    selector.remove();\n",
       "\t}\n",
       "    }\n",
       "\n",
       "\n",
       "    $(document).ready(function() {\n",
       "\tfunction initComm(evt, data) {\n",
       "\t    var comm_manager = data.kernel.comm_manager;\n",
       "        //_.extend(comm_manager.targets, require(\"widgets/js/widget\"))\n",
       "\t    comm_manager.register_target(\"Signal\", function (comm) {\n",
       "            comm.on_msg(function (msg) {\n",
       "                var val = msg.content.data.value;\n",
       "                $(\".signal-\" + comm.comm_id).each(function() {\n",
       "                var type = $(this).data(\"type\");\n",
       "                if (typeof(val[type]) !== \"undefined\" && val[type] !== null) {\n",
       "                    redrawValue(this, type, val[type], type);\n",
       "                }\n",
       "                });\n",
       "                delete val;\n",
       "                delete msg.content.data.value;\n",
       "            });\n",
       "\t    });\n",
       "\n",
       "\t    // coordingate with Comm and redraw Signals\n",
       "\t    // XXX: Test using Reactive here to improve performance\n",
       "\t    $([IPython.events]).on(\n",
       "\t\t'output_appended.OutputArea', function (event, type, value, md, toinsert) {\n",
       "\t\t    if (md && md.reactive) {\n",
       "                // console.log(md.comm_id);\n",
       "                toinsert.addClass(\"signal-\" + md.comm_id);\n",
       "                toinsert.data(\"type\", type);\n",
       "                // Signal back indicating the mimetype required\n",
       "                var comm_manager = IPython.notebook.kernel.comm_manager;\n",
       "                var comm = comm_manager.comms[md.comm_id];\n",
       "                comm.then(function (c) {\n",
       "                    c.send({action: \"subscribe_mime\",\n",
       "                       mime: type});\n",
       "                    toinsert.bind(\"destroyed\", function() {\n",
       "                        c.send({action: \"unsubscribe_mime\",\n",
       "                               mime: type});\n",
       "                    });\n",
       "                })\n",
       "\t\t    }\n",
       "\t    });\n",
       "\t}\n",
       "\n",
       "\ttry {\n",
       "\t    // try to initialize right away. otherwise, wait on the status_started event.\n",
       "\t    initComm(undefined, IPython.notebook);\n",
       "\t} catch (e) {\n",
       "\t    $([IPython.events]).on('kernel_created.Kernel kernel_created.Session', initComm);\n",
       "\t}\n",
       "    });\n",
       "})(IPython, jQuery, _, MathJax);\n",
       "</script>\n",
       "    <script>\n",
       "        window.interactLoadedFlag = true\n",
       "       $(\"#interact-js-shim\").bind(\"destroyed\", function () {\n",
       "           if (window.interactLoadedFlag) {\n",
       "               console.warn(\"JavaScript required by Interact will be removed if you remove this cell or run using Interact more than once.\")\n",
       "           }\n",
       "       })\n",
       "       $([IPython.events]).on(\"kernel_starting.Kernel kernel_restarting.Kernel\", function () { window.interactLoadedFlag = false })\n",
       "   </script>\n",
       "</div>"
      ]
     },
     "metadata": {},
     "output_type": "display_data"
    }
   ],
   "source": [
    "using Interact\n",
    "using PyPlot"
   ]
  },
  {
   "cell_type": "markdown",
   "metadata": {},
   "source": [
    "## 위젯\n",
    "* Ref : https://github.com/JuliaGizmos/Interact.jl/blob/master/doc/notebooks/"
   ]
  },
  {
   "cell_type": "markdown",
   "metadata": {},
   "source": [
    "### 슬라이더"
   ]
  },
  {
   "cell_type": "code",
   "execution_count": 10,
   "metadata": {
    "collapsed": false
   },
   "outputs": [
    {
     "data": {
      "text/html": [],
      "text/plain": [
       "Interact.Slider{Float64}(Signal{Float64}(3.141592653589793, nactions=1),\"\",3.141592653589793,0.0:0.7853981633974483:6.283185307179586,\"horizontal\",true,\".3f\",true)"
      ]
     },
     "execution_count": 10,
     "metadata": {},
     "output_type": "execute_result"
    }
   ],
   "source": [
    "float_slider = slider(0:π/4:2π)"
   ]
  },
  {
   "cell_type": "code",
   "execution_count": 11,
   "metadata": {
    "collapsed": false
   },
   "outputs": [
    {
     "data": {
      "text/html": [],
      "text/plain": [
       "Interact.Slider{Int64}(Signal{Int64}(5, nactions=1),\"\",5,1:10,\"horizontal\",true,\"d\",true)"
      ]
     },
     "execution_count": 11,
     "metadata": {},
     "output_type": "execute_result"
    }
   ],
   "source": [
    "int_slider = slider(1:10)"
   ]
  },
  {
   "cell_type": "code",
   "execution_count": 12,
   "metadata": {
    "collapsed": false
   },
   "outputs": [
    {
     "data": {
      "text/plain": [
       "5"
      ]
     },
     "execution_count": 12,
     "metadata": {
      "comm_id": "076fd5db-fe83-4374-a32e-c75984ba072e",
      "reactive": true
     },
     "output_type": "execute_result"
    }
   ],
   "source": [
    "signal(int_slider)"
   ]
  },
  {
   "cell_type": "markdown",
   "metadata": {},
   "source": [
    "### 체크박스"
   ]
  },
  {
   "cell_type": "code",
   "execution_count": 17,
   "metadata": {
    "collapsed": false,
    "scrolled": false
   },
   "outputs": [
    {
     "data": {
      "text/html": [],
      "text/plain": [
       "Interact.Checkbox(Signal{Bool}(true, nactions=0),\"\",true)"
      ]
     },
     "metadata": {},
     "output_type": "display_data"
    }
   ],
   "source": [
    "display(checkbox(true))"
   ]
  },
  {
   "cell_type": "code",
   "execution_count": 16,
   "metadata": {
    "collapsed": false
   },
   "outputs": [
    {
     "data": {
      "text/html": [],
      "text/plain": [
       "Interact.Checkbox(Signal{Bool}(true, nactions=0),\"\",true)"
      ]
     },
     "execution_count": 16,
     "metadata": {},
     "output_type": "execute_result"
    }
   ],
   "source": [
    "checkbox(true)"
   ]
  },
  {
   "cell_type": "markdown",
   "metadata": {},
   "source": [
    "### 토글"
   ]
  },
  {
   "cell_type": "code",
   "execution_count": 18,
   "metadata": {
    "collapsed": false
   },
   "outputs": [
    {
     "data": {
      "text/html": [],
      "text/plain": [
       "Interact.ToggleButton(Signal{Bool}(true, nactions=0),\"Mary called\",true)"
      ]
     },
     "execution_count": 18,
     "metadata": {},
     "output_type": "execute_result"
    }
   ],
   "source": [
    "status = togglebutton(\"Mary called\", value=true)"
   ]
  },
  {
   "cell_type": "code",
   "execution_count": 22,
   "metadata": {
    "collapsed": false
   },
   "outputs": [
    {
     "data": {
      "text/plain": [
       "\"Mary didn't call\""
      ]
     },
     "execution_count": 22,
     "metadata": {
      "comm_id": "0ff532a8-df94-4715-b69c-7308e1bbd1ea",
      "reactive": true
     },
     "output_type": "execute_result"
    }
   ],
   "source": [
    "map(s -> s ? \"Mary called\" : \"Mary didn't call\", signal(status))"
   ]
  },
  {
   "cell_type": "markdown",
   "metadata": {},
   "source": [
    "### 버튼"
   ]
  },
  {
   "cell_type": "code",
   "execution_count": 29,
   "metadata": {
    "collapsed": false
   },
   "outputs": [
    {
     "data": {
      "text/html": [],
      "text/plain": [
       "Interact.Button{Void}(Signal{Void}(nothing, nactions=0),\"Click Me\",nothing)"
      ]
     },
     "execution_count": 29,
     "metadata": {},
     "output_type": "execute_result"
    }
   ],
   "source": [
    "b = button(\"Click Me\")"
   ]
  },
  {
   "cell_type": "code",
   "execution_count": 30,
   "metadata": {
    "collapsed": false
   },
   "outputs": [
    {
     "data": {
      "text/plain": [
       "0"
      ]
     },
     "execution_count": 30,
     "metadata": {
      "comm_id": "778cd38a-ba2f-4536-8d73-4ddacedd04d0",
      "reactive": true
     },
     "output_type": "execute_result"
    }
   ],
   "source": [
    "foldp((acc, value) -> acc + 1, 0, signal(b))"
   ]
  },
  {
   "cell_type": "markdown",
   "metadata": {},
   "source": [
    "### 드랍다운"
   ]
  },
  {
   "cell_type": "code",
   "execution_count": 31,
   "metadata": {
    "collapsed": false
   },
   "outputs": [
    {
     "data": {
      "text/html": [],
      "text/plain": [
       "Interact.Options{:Dropdown,String}(Signal{String}(one, nactions=1),\"\",\"one\",\"one\",Interact.OptionDict(DataStructures.OrderedDict(\"one\"=>\"one\",\"two\"=>\"two\",\"three\"=>\"three\"),Dict(\"two\"=>\"two\",\"one\"=>\"one\",\"three\"=>\"three\")),Any[],Any[],true,\"horizontal\")"
      ]
     },
     "execution_count": 31,
     "metadata": {},
     "output_type": "execute_result"
    }
   ],
   "source": [
    "a = dropdown([\"one\", \"two\", \"three\"])"
   ]
  },
  {
   "cell_type": "code",
   "execution_count": 33,
   "metadata": {
    "collapsed": false
   },
   "outputs": [
    {
     "data": {
      "text/plain": [
       "\"two\""
      ]
     },
     "execution_count": 33,
     "metadata": {
      "comm_id": "e173cafc-eb53-49c3-8745-519b305f6bdd",
      "reactive": true
     },
     "output_type": "execute_result"
    }
   ],
   "source": [
    "signal(a)\n"
   ]
  },
  {
   "cell_type": "markdown",
   "metadata": {},
   "source": [
    "### 라디오버튼"
   ]
  },
  {
   "cell_type": "code",
   "execution_count": 34,
   "metadata": {
    "collapsed": false
   },
   "outputs": [
    {
     "data": {
      "text/html": [],
      "text/plain": [
       "Interact.Options{:RadioButtons,Function}(Signal{Function}(-, nactions=1),\"\",-,\"Sub\",Interact.OptionDict(DataStructures.OrderedDict{String,Function}(\"Sub\"=>-,\"Add\"=>+,\"Exp\"=>^),Dict{Function,String}(Pair{Function,String}(^,\"Exp\"),Pair{Function,String}(+,\"Add\"),Pair{Function,String}(-,\"Sub\"))),Any[],Any[],true,\"horizontal\")"
      ]
     },
     "execution_count": 34,
     "metadata": {},
     "output_type": "execute_result"
    }
   ],
   "source": [
    "f = radiobuttons(Dict(\"Add\" => +, \"Sub\" => -, \"Exp\" => ^))"
   ]
  },
  {
   "cell_type": "code",
   "execution_count": 35,
   "metadata": {
    "collapsed": false
   },
   "outputs": [
    {
     "data": {
      "text/plain": [
       "2.718281828459045 + 3.141592653589793im"
      ]
     },
     "execution_count": 35,
     "metadata": {
      "comm_id": "b1db2f3b-8985-4af6-b156-6651d306fc5e",
      "reactive": true
     },
     "output_type": "execute_result"
    }
   ],
   "source": [
    "map(g -> g(e, π*im), signal(f))"
   ]
  },
  {
   "cell_type": "markdown",
   "metadata": {},
   "source": [
    "### 토글버튼"
   ]
  },
  {
   "cell_type": "code",
   "execution_count": 36,
   "metadata": {
    "collapsed": false
   },
   "outputs": [
    {
     "data": {
      "text/html": [],
      "text/plain": [
       "Interact.Options{:ToggleButtons,Function}(Signal{Function}(+, nactions=1),\"\",+,\"Add\",Interact.OptionDict(DataStructures.OrderedDict{String,Function}(\"Add\"=>+,\"Sub\"=>-,\"Exp\"=>^),Dict{Function,String}(Pair{Function,String}(^,\"Exp\"),Pair{Function,String}(+,\"Add\"),Pair{Function,String}(-,\"Sub\"))),Any[],Any[],true,\"horizontal\")"
      ]
     },
     "execution_count": 36,
     "metadata": {},
     "output_type": "execute_result"
    }
   ],
   "source": [
    "f_ = togglebuttons([(\"Add\", +), (\"Sub\", -), (\"Exp\", ^)])"
   ]
  },
  {
   "cell_type": "code",
   "execution_count": 38,
   "metadata": {
    "collapsed": false
   },
   "outputs": [
    {
     "data": {
      "text/plain": [
       "-1.0 + 1.2246467991473532e-16im"
      ]
     },
     "execution_count": 38,
     "metadata": {
      "comm_id": "6e35e021-780b-4d0e-8814-e4c3fb5754fd",
      "reactive": true
     },
     "output_type": "execute_result"
    }
   ],
   "source": [
    "map(g -> g(e, π*im), signal(f_))"
   ]
  },
  {
   "cell_type": "markdown",
   "metadata": {},
   "source": [
    "### 텍스트박스"
   ]
  },
  {
   "cell_type": "code",
   "execution_count": 39,
   "metadata": {
    "collapsed": false
   },
   "outputs": [
    {
     "data": {
      "text/html": [],
      "text/plain": [
       "Interact.Textbox{String}(Signal{String}(Change me, nactions=1),\"\",nothing,\"Change me\")"
      ]
     },
     "execution_count": 39,
     "metadata": {},
     "output_type": "execute_result"
    }
   ],
   "source": [
    "string_box = textbox(\"Change me\")"
   ]
  },
  {
   "cell_type": "code",
   "execution_count": 40,
   "metadata": {
    "collapsed": false
   },
   "outputs": [
    {
     "data": {
      "text/plain": [
       "\"안녕하세요!\""
      ]
     },
     "execution_count": 40,
     "metadata": {
      "comm_id": "c13cefc4-1e5d-4726-b017-a9dee428851d",
      "reactive": true
     },
     "output_type": "execute_result"
    }
   ],
   "source": [
    "signal(string_box)"
   ]
  },
  {
   "cell_type": "code",
   "execution_count": 41,
   "metadata": {
    "collapsed": false
   },
   "outputs": [
    {
     "data": {
      "text/html": [],
      "text/plain": [
       "Interact.Textbox{Int64}(Signal{Int64}(0, nactions=1),\"\",nothing,0)"
      ]
     },
     "execution_count": 41,
     "metadata": {},
     "output_type": "execute_result"
    }
   ],
   "source": [
    "int_box = textbox(0)"
   ]
  },
  {
   "cell_type": "code",
   "execution_count": 43,
   "metadata": {
    "collapsed": false
   },
   "outputs": [
    {
     "data": {
      "text/plain": [
       "2002"
      ]
     },
     "execution_count": 43,
     "metadata": {
      "comm_id": "97181858-f00e-4c31-abeb-ef008b856b42",
      "reactive": true
     },
     "output_type": "execute_result"
    }
   ],
   "source": [
    "signal(int_box)"
   ]
  },
  {
   "cell_type": "code",
   "execution_count": 44,
   "metadata": {
    "collapsed": false
   },
   "outputs": [
    {
     "data": {
      "text/html": [],
      "text/plain": [
       "Interact.Textbox{Float64}(Signal{Float64}(0.0, nactions=1),\"\",nothing,0.0)"
      ]
     },
     "execution_count": 44,
     "metadata": {},
     "output_type": "execute_result"
    }
   ],
   "source": [
    "float_box = textbox(0.0)"
   ]
  },
  {
   "cell_type": "code",
   "execution_count": 46,
   "metadata": {
    "collapsed": false
   },
   "outputs": [
    {
     "data": {
      "text/plain": [
       "56.28796123"
      ]
     },
     "execution_count": 46,
     "metadata": {
      "comm_id": "68758203-6508-4e6e-8f7e-13a25c02eb9e",
      "reactive": true
     },
     "output_type": "execute_result"
    }
   ],
   "source": [
    "signal(float_box)"
   ]
  },
  {
   "cell_type": "code",
   "execution_count": 51,
   "metadata": {
    "collapsed": false
   },
   "outputs": [
    {
     "data": {
      "text/html": [],
      "text/plain": [
       "Interact.Textbox{Float64}(Signal{Float64}(6.283185307179586, nactions=1),\"\",-10.0:1.0:10.0,6.283185307179586)"
      ]
     },
     "execution_count": 51,
     "metadata": {},
     "output_type": "execute_result"
    }
   ],
   "source": [
    "bounded_float_box = textbox(2pi, range=-10.0:10)"
   ]
  },
  {
   "cell_type": "code",
   "execution_count": 52,
   "metadata": {
    "collapsed": false
   },
   "outputs": [
    {
     "data": {
      "text/plain": [
       "9.88"
      ]
     },
     "execution_count": 52,
     "metadata": {
      "comm_id": "76a72d30-2555-4450-8f29-6973afe94b8f",
      "reactive": true
     },
     "output_type": "execute_result"
    }
   ],
   "source": [
    "signal(bounded_float_box)"
   ]
  },
  {
   "cell_type": "markdown",
   "metadata": {},
   "source": [
    "### 텍스트 에어리어"
   ]
  },
  {
   "cell_type": "code",
   "execution_count": 53,
   "metadata": {
    "collapsed": false
   },
   "outputs": [
    {
     "data": {
      "text/html": [],
      "text/plain": [
       "Interact.Textarea{String}(Signal{String}(Your very own $\\LaTeX$ editor, nactions=0),\"\",\"Your very own \\$\\\\LaTeX\\$ editor\")"
      ]
     },
     "execution_count": 53,
     "metadata": {},
     "output_type": "execute_result"
    }
   ],
   "source": [
    "tex = textarea(\"Your very own \\$\\\\LaTeX\\$ editor\")"
   ]
  },
  {
   "cell_type": "code",
   "execution_count": 55,
   "metadata": {
    "collapsed": false,
    "scrolled": true
   },
   "outputs": [
    {
     "data": {
      "text/html": [],
      "text/plain": [
       "Interact.Latex(\"\",\"Your very own \\$\\\\LaTeX\\$ editor\\n\")"
      ]
     },
     "execution_count": 55,
     "metadata": {},
     "output_type": "execute_result"
    }
   ],
   "source": [
    "map(latex, signal(tex))"
   ]
  },
  {
   "cell_type": "markdown",
   "metadata": {},
   "source": [
    "### 위젯 펑션"
   ]
  },
  {
   "cell_type": "code",
   "execution_count": 68,
   "metadata": {
    "collapsed": false
   },
   "outputs": [
    {
     "data": {
      "text/html": [],
      "text/plain": [
       "Interact.Options{:SelectionSlider,Int64}(Signal{Int64}(5, nactions=1),\"\",5,\"5\",Interact.OptionDict(DataStructures.OrderedDict(\"1\"=>1,\"2\"=>2,\"3\"=>3,\"4\"=>4,\"5\"=>5,\"6\"=>6,\"7\"=>7,\"8\"=>8,\"9\"=>9,\"10\"=>10…),Dict(7=>\"7\",4=>\"4\",9=>\"9\",10=>\"10\",2=>\"2\",3=>\"3\",5=>\"5\",8=>\"8\",6=>\"6\",1=>\"1\"…)),Any[],Any[],true,\"horizontal\")"
      ]
     },
     "metadata": {},
     "output_type": "display_data"
    },
    {
     "data": {
      "text/html": [],
      "text/plain": [
       "Interact.Checkbox(Signal{Bool}(false, nactions=0),\"\",false)"
      ]
     },
     "metadata": {},
     "output_type": "display_data"
    },
    {
     "data": {
      "text/html": [],
      "text/plain": [
       "Interact.Textbox{AbstractString}(Signal{AbstractString}(text, nactions=1),\"\",nothing,\"text\")"
      ]
     },
     "metadata": {},
     "output_type": "display_data"
    },
    {
     "data": {
      "text/html": [],
      "text/plain": [
       "Interact.Textbox{Float64}(Signal{Float64}(1.1, nactions=1),\"\",nothing,1.1)"
      ]
     },
     "metadata": {},
     "output_type": "display_data"
    },
    {
     "data": {
      "text/html": [],
      "text/plain": [
       "Interact.Options{:ToggleButtons,Symbol}(Signal{Symbol}(on, nactions=1),\"\",:on,\"on\",Interact.OptionDict(DataStructures.OrderedDict(\"on\"=>:on,\"off\"=>:off),Dict(:off=>\"off\",:on=>\"on\")),Any[],Any[],true,\"horizontal\")"
      ]
     },
     "metadata": {},
     "output_type": "display_data"
    },
    {
     "data": {
      "text/html": [],
      "text/plain": [
       "Interact.Options{:ToggleButtons,Float64}(Signal{Float64}(6.283185307179586, nactions=1),\"\",6.283185307179586,\"τ\",Interact.OptionDict(DataStructures.OrderedDict(\"τ\"=>6.28319,\"π\"=>3.14159),Dict(3.14159=>\"π\",6.28319=>\"τ\")),Any[],Any[],true,\"horizontal\")"
      ]
     },
     "metadata": {},
     "output_type": "display_data"
    }
   ],
   "source": [
    "map(display, [\n",
    "    widget(1:10),                 # Slider\n",
    "    widget(false),                # Checkbox\n",
    "    widget(\"text\"),               # Textbox\n",
    "    widget(1.1),                  # Number Textbox\n",
    "    widget([:on, :off]),          # Toggle Buttons\n",
    "    widget(Dict(:π => float(π), :τ => 2π))\n",
    "    ]);"
   ]
  },
  {
   "cell_type": "markdown",
   "metadata": {},
   "source": [
    "## 연습\n",
    "* Ref : https://github.com/JuliaGizmos/Interact.jl/blob/master/doc/notebooks/03-Interactive%20Diagrams%20and%20Plots.ipynb"
   ]
  },
  {
   "cell_type": "code",
   "execution_count": 3,
   "metadata": {
    "collapsed": false
   },
   "outputs": [
    {
     "data": {
      "text/html": [],
      "text/plain": [
       "Interact.Options{:SelectionSlider,Float64}(Signal{Float64}(2.0, nactions=1),\"α\",2.0,\"2.0\",Interact.OptionDict(DataStructures.OrderedDict(\"1.0\"=>1.0,\"1.1\"=>1.1,\"1.2\"=>1.2,\"1.3\"=>1.3,\"1.4\"=>1.4,\"1.5\"=>1.5,\"1.6\"=>1.6,\"1.7\"=>1.7,\"1.8\"=>1.8,\"1.9\"=>1.9…),Dict(1.2=>\"1.2\",2.8=>\"2.8\",2.0=>\"2.0\",1.5=>\"1.5\",2.2=>\"2.2\",2.1=>\"2.1\",1.4=>\"1.4\",2.6=>\"2.6\",2.3=>\"2.3\",2.9=>\"2.9\"…)),Any[],Any[],true,\"horizontal\")"
      ]
     },
     "metadata": {},
     "output_type": "display_data"
    },
    {
     "data": {
      "text/html": [],
      "text/plain": [
       "Interact.Options{:SelectionSlider,Float64}(Signal{Float64}(2.0, nactions=1),\"β\",2.0,\"2.0\",Interact.OptionDict(DataStructures.OrderedDict(\"1.0\"=>1.0,\"1.1\"=>1.1,\"1.2\"=>1.2,\"1.3\"=>1.3,\"1.4\"=>1.4,\"1.5\"=>1.5,\"1.6\"=>1.6,\"1.7\"=>1.7,\"1.8\"=>1.8,\"1.9\"=>1.9…),Dict(1.2=>\"1.2\",2.8=>\"2.8\",2.0=>\"2.0\",1.5=>\"1.5\",2.2=>\"2.2\",2.1=>\"2.1\",1.4=>\"1.4\",2.6=>\"2.6\",2.3=>\"2.3\",2.9=>\"2.9\"…)),Any[],Any[],true,\"horizontal\")"
      ]
     },
     "metadata": {},
     "output_type": "display_data"
    },
    {
     "data": {
      "text/html": [],
      "text/plain": [
       "Interact.Options{:SelectionSlider,Float64}(Signal{Float64}(2.0, nactions=1),\"γ\",2.0,\"2.0\",Interact.OptionDict(DataStructures.OrderedDict(\"1.0\"=>1.0,\"1.1\"=>1.1,\"1.2\"=>1.2,\"1.3\"=>1.3,\"1.4\"=>1.4,\"1.5\"=>1.5,\"1.6\"=>1.6,\"1.7\"=>1.7,\"1.8\"=>1.8,\"1.9\"=>1.9…),Dict(1.2=>\"1.2\",2.8=>\"2.8\",2.0=>\"2.0\",1.5=>\"1.5\",2.2=>\"2.2\",2.1=>\"2.1\",1.4=>\"1.4\",2.6=>\"2.6\",2.3=>\"2.3\",2.9=>\"2.9\"…)),Any[],Any[],true,\"horizontal\")"
      ]
     },
     "metadata": {},
     "output_type": "display_data"
    },
    {
     "data": {
      "text/html": [],
      "text/plain": [
       "Interact.Textbox{AbstractString}(Signal{AbstractString}(a funny plot, nactions=1),\"leg\",nothing,\"a funny plot\")"
      ]
     },
     "metadata": {},
     "output_type": "display_data"
    },
    {
     "data": {
      "image/png": "[encoded data removed]",
      "text/plain": [
       "PyPlot.Figure(PyObject <matplotlib.figure.Figure object at 0x7f9c904ba160>)"
      ]
     },
     "execution_count": 3,
     "metadata": {
      "comm_id": "8815ce98-9baa-43f6-ac59-aacb3153355a",
      "reactive": true
     },
     "output_type": "execute_result"
    }
   ],
   "source": [
    "f = figure()\n",
    "x = linspace(0,2π,1000)\n",
    "@manipulate for α=1:0.1:3, β=1:0.1:3, γ=1:0.1:3, leg=\"a funny plot\"; withfig(f) do\n",
    "        PyPlot.plot(x, cos(α*x + sin(β*x + γ)))\n",
    "        legend([leg])\n",
    "    end\n",
    "end"
   ]
  },
  {
   "cell_type": "code",
   "execution_count": 4,
   "metadata": {
    "collapsed": false
   },
   "outputs": [
    {
     "data": {
      "text/html": [],
      "text/plain": [
       "Interact.Options{:SelectionSlider,Float64}(Signal{Float64}(2.0, nactions=1),\"α\",2.0,\"2.0\",Interact.OptionDict(DataStructures.OrderedDict(\"1.0\"=>1.0,\"1.1\"=>1.1,\"1.2\"=>1.2,\"1.3\"=>1.3,\"1.4\"=>1.4,\"1.5\"=>1.5,\"1.6\"=>1.6,\"1.7\"=>1.7,\"1.8\"=>1.8,\"1.9\"=>1.9…),Dict(1.2=>\"1.2\",2.8=>\"2.8\",2.0=>\"2.0\",1.5=>\"1.5\",2.2=>\"2.2\",2.1=>\"2.1\",1.4=>\"1.4\",2.6=>\"2.6\",2.3=>\"2.3\",2.9=>\"2.9\"…)),Any[],Any[],true,\"horizontal\")"
      ]
     },
     "metadata": {},
     "output_type": "display_data"
    },
    {
     "data": {
      "text/html": [],
      "text/plain": [
       "Interact.Options{:SelectionSlider,Float64}(Signal{Float64}(2.0, nactions=1),\"β\",2.0,\"2.0\",Interact.OptionDict(DataStructures.OrderedDict(\"1.0\"=>1.0,\"1.1\"=>1.1,\"1.2\"=>1.2,\"1.3\"=>1.3,\"1.4\"=>1.4,\"1.5\"=>1.5,\"1.6\"=>1.6,\"1.7\"=>1.7,\"1.8\"=>1.8,\"1.9\"=>1.9…),Dict(1.2=>\"1.2\",2.8=>\"2.8\",2.0=>\"2.0\",1.5=>\"1.5\",2.2=>\"2.2\",2.1=>\"2.1\",1.4=>\"1.4\",2.6=>\"2.6\",2.3=>\"2.3\",2.9=>\"2.9\"…)),Any[],Any[],true,\"horizontal\")"
      ]
     },
     "metadata": {},
     "output_type": "display_data"
    },
    {
     "data": {
      "text/html": [],
      "text/plain": [
       "Interact.Options{:SelectionSlider,Float64}(Signal{Float64}(2.0, nactions=1),\"γ\",2.0,\"2.0\",Interact.OptionDict(DataStructures.OrderedDict(\"1.0\"=>1.0,\"1.1\"=>1.1,\"1.2\"=>1.2,\"1.3\"=>1.3,\"1.4\"=>1.4,\"1.5\"=>1.5,\"1.6\"=>1.6,\"1.7\"=>1.7,\"1.8\"=>1.8,\"1.9\"=>1.9…),Dict(1.2=>\"1.2\",2.8=>\"2.8\",2.0=>\"2.0\",1.5=>\"1.5\",2.2=>\"2.2\",2.1=>\"2.1\",1.4=>\"1.4\",2.6=>\"2.6\",2.3=>\"2.3\",2.9=>\"2.9\"…)),Any[],Any[],true,\"horizontal\")"
      ]
     },
     "metadata": {},
     "output_type": "display_data"
    },
    {
     "data": {
      "text/html": [],
      "text/plain": [
       "Interact.Textbox{AbstractString}(Signal{AbstractString}(a funny plot, nactions=1),\"leg1\",nothing,\"a funny plot\")"
      ]
     },
     "metadata": {},
     "output_type": "display_data"
    },
    {
     "data": {
      "text/html": [],
      "text/plain": [
       "Interact.Textbox{AbstractString}(Signal{AbstractString}( an even funnier plot, nactions=1),\"leg2\",nothing,\" an even funnier plot\")"
      ]
     },
     "metadata": {},
     "output_type": "display_data"
    },
    {
     "data": {
      "image/png": "[encoded data removed]",
      "text/plain": [
       "PyPlot.Figure(PyObject <matplotlib.figure.Figure object at 0x7f9c764d0080>)"
      ]
     },
     "execution_count": 4,
     "metadata": {
      "comm_id": "14a538a5-88c2-4c1f-a3ca-2a53db5f2914",
      "reactive": true
     },
     "output_type": "execute_result"
    }
   ],
   "source": [
    "f2,axes = subplots(2,1)\n",
    "x = linspace(0,2π,1000)\n",
    "@manipulate for α=1:0.1:3, β=1:0.1:3, γ=1:0.1:3, leg1=\"a funny plot\", leg2=\" an even funnier plot\" \n",
    "    withfig(f2,clear=false) do\n",
    "        for ax in axes\n",
    "            ax[:cla]()\n",
    "        end\n",
    "        axes[1][:plot](x, sin(α*x + cos(β*x + γ)))\n",
    "        axes[2][:plot](x, cos(α*x + sin(β*x + γ)))\n",
    "        axes[1][:legend]([leg1])\n",
    "        axes[2][:legend]([leg2])\n",
    "    end\n",
    "end"
   ]
  },
  {
   "cell_type": "code",
   "execution_count": 15,
   "metadata": {
    "collapsed": false
   },
   "outputs": [
    {
     "data": {
      "text/html": [],
      "text/plain": [
       "Interact.Textbox{Float64}(Signal{Float64}(1.5, nactions=1),\"저주파\",nothing,1.5)"
      ]
     },
     "metadata": {},
     "output_type": "display_data"
    },
    {
     "data": {
      "text/html": [],
      "text/plain": [
       "Interact.Textbox{Float64}(Signal{Float64}(1.5, nactions=1),\"고주파\",nothing,1.5)"
      ]
     },
     "metadata": {},
     "output_type": "display_data"
    },
    {
     "data": {
      "text/html": [],
      "text/plain": [
       "Interact.Textbox{Float64}(Signal{Float64}(1.5, nactions=1),\"위상\",nothing,1.5)"
      ]
     },
     "metadata": {},
     "output_type": "display_data"
    },
    {
     "data": {
      "text/html": [],
      "text/plain": [
       "Interact.Textbox{AbstractString}(Signal{AbstractString}(a funny plot, nactions=1),\"leg\",nothing,\"a funny plot\")"
      ]
     },
     "metadata": {},
     "output_type": "display_data"
    },
    {
     "data": {
      "image/png": "[encoded data removed]",
      "text/plain": [
       "PyPlot.Figure(PyObject <matplotlib.figure.Figure object at 0x7f9c75e23e48>)"
      ]
     },
     "execution_count": 15,
     "metadata": {
      "comm_id": "58aaab01-70bb-4a01-9065-d612c56ade12",
      "reactive": true
     },
     "output_type": "execute_result"
    }
   ],
   "source": [
    "f = figure()\n",
    "x = linspace(0,2π,1000)\n",
    "@manipulate for 저주파=1.5, 고주파=1.5, 위상=1.5, leg=\"a funny plot\";\n",
    "    withfig(f) do\n",
    "        PyPlot.plot(x, cos(저주파*x + sin(고주파*x + 위상)))\n",
    "        legend([leg])\n",
    "    end\n",
    "end"
   ]
  },
  {
   "cell_type": "code",
   "execution_count": 17,
   "metadata": {
    "collapsed": false
   },
   "outputs": [
    {
     "data": {
      "text/html": [],
      "text/plain": [
       "Interact.Options{:SelectionSlider,Float64}(Signal{Float64}(0.5, nactions=1),\"r\",0.5,\"0.5\",Interact.OptionDict(DataStructures.OrderedDict(\"0.0\"=>0.0,\"0.05\"=>0.05,\"0.1\"=>0.1,\"0.15\"=>0.15,\"0.2\"=>0.2,\"0.25\"=>0.25,\"0.3\"=>0.3,\"0.35\"=>0.35,\"0.4\"=>0.4,\"0.45\"=>0.45…),Dict(1.0=>\"1.0\",0.95=>\"0.95\",0.3=>\"0.3\",0.45=>\"0.45\",0.25=>\"0.25\",0.35=>\"0.35\",0.7=>\"0.7\",0.0=>\"0.0\",0.85=>\"0.85\",0.15=>\"0.15\"…)),Any[],Any[],true,\"horizontal\")"
      ]
     },
     "metadata": {},
     "output_type": "display_data"
    },
    {
     "data": {
      "text/html": [],
      "text/plain": [
       "Interact.Options{:SelectionSlider,Float64}(Signal{Float64}(0.5, nactions=1),\"g\",0.5,\"0.5\",Interact.OptionDict(DataStructures.OrderedDict(\"0.0\"=>0.0,\"0.05\"=>0.05,\"0.1\"=>0.1,\"0.15\"=>0.15,\"0.2\"=>0.2,\"0.25\"=>0.25,\"0.3\"=>0.3,\"0.35\"=>0.35,\"0.4\"=>0.4,\"0.45\"=>0.45…),Dict(1.0=>\"1.0\",0.95=>\"0.95\",0.3=>\"0.3\",0.45=>\"0.45\",0.25=>\"0.25\",0.35=>\"0.35\",0.7=>\"0.7\",0.0=>\"0.0\",0.85=>\"0.85\",0.15=>\"0.15\"…)),Any[],Any[],true,\"horizontal\")"
      ]
     },
     "metadata": {},
     "output_type": "display_data"
    },
    {
     "data": {
      "text/html": [],
      "text/plain": [
       "Interact.Options{:SelectionSlider,Float64}(Signal{Float64}(0.5, nactions=1),\"b\",0.5,\"0.5\",Interact.OptionDict(DataStructures.OrderedDict(\"0.0\"=>0.0,\"0.05\"=>0.05,\"0.1\"=>0.1,\"0.15\"=>0.15,\"0.2\"=>0.2,\"0.25\"=>0.25,\"0.3\"=>0.3,\"0.35\"=>0.35,\"0.4\"=>0.4,\"0.45\"=>0.45…),Dict(1.0=>\"1.0\",0.95=>\"0.95\",0.3=>\"0.3\",0.45=>\"0.45\",0.25=>\"0.25\",0.35=>\"0.35\",0.7=>\"0.7\",0.0=>\"0.0\",0.85=>\"0.85\",0.15=>\"0.15\"…)),Any[],Any[],true,\"horizontal\")"
      ]
     },
     "metadata": {},
     "output_type": "display_data"
    },
    {
     "data": {
      "text/html": [
       "<div style='color:#808080'>Color me</div>"
      ],
      "text/plain": [
       "HTML{String}(\"<div style='color:#808080'>Color me</div>\")"
      ]
     },
     "execution_count": 17,
     "metadata": {
      "comm_id": "3f81f298-bf4e-4d75-92ef-06bd836fdb18",
      "reactive": true
     },
     "output_type": "execute_result"
    }
   ],
   "source": [
    "using Colors\n",
    "\n",
    "@manipulate for r = 0:.05:1, g = 0:.05:1, b = 0:.05:1\n",
    "    HTML(string(\"<div style='color:#\", hex(RGB(r,g,b)), \"'>Color me</div>\"))\n",
    "end"
   ]
  },
  {
   "cell_type": "code",
   "execution_count": 19,
   "metadata": {
    "collapsed": false
   },
   "outputs": [
    {
     "data": {
      "text/html": [],
      "text/plain": [
       "Interact.Slider{Float64}(Signal{Float64}(0.5, nactions=1),\"R\",0.5,0.0:0.01:1.0,\"horizontal\",true,\".3f\",true)"
      ]
     },
     "metadata": {},
     "output_type": "display_data"
    },
    {
     "data": {
      "text/html": [],
      "text/plain": [
       "Interact.Slider{Float64}(Signal{Float64}(0.5, nactions=1),\"G\",0.5,0.0:0.01:1.0,\"horizontal\",true,\".3f\",true)"
      ]
     },
     "metadata": {},
     "output_type": "display_data"
    },
    {
     "data": {
      "text/html": [],
      "text/plain": [
       "Interact.Slider{Float64}(Signal{Float64}(0.5, nactions=1),\"B\",0.5,0.0:0.01:1.0,\"horizontal\",true,\".3f\",true)"
      ]
     },
     "metadata": {},
     "output_type": "display_data"
    },
    {
     "data": {
      "text/plain": [
       "3-element Array{Void,1}:\n",
       " nothing\n",
       " nothing\n",
       " nothing"
      ]
     },
     "execution_count": 19,
     "metadata": {},
     "output_type": "execute_result"
    }
   ],
   "source": [
    "r = slider(0:0.01:1, label=\"R\")\n",
    "g = slider(0:0.01:1, label=\"G\")\n",
    "b = slider(0:0.01:1, label=\"B\")\n",
    "map(display, [r,g,b])"
   ]
  },
  {
   "cell_type": "code",
   "execution_count": 24,
   "metadata": {
    "collapsed": false
   },
   "outputs": [
    {
     "data": {
      "text/html": [],
      "text/plain": [
       "Interact.Slider{Float64}(Signal{Float64}(0.5, nactions=1),\"Slider X:\",0.5,0.0:0.1:1.0,\"horizontal\",true,\".3f\",true)"
      ]
     },
     "execution_count": 24,
     "metadata": {},
     "output_type": "execute_result"
    }
   ],
   "source": [
    "s = slider(0:.1:1,label=\"Slider X:\")"
   ]
  },
  {
   "cell_type": "code",
   "execution_count": 26,
   "metadata": {
    "collapsed": false
   },
   "outputs": [
    {
     "data": {
      "text/plain": [
       "0.010000000000000002"
      ]
     },
     "execution_count": 26,
     "metadata": {
      "comm_id": "e6e897a2-ca86-404f-8a90-08ab95bc36d7",
      "reactive": true
     },
     "output_type": "execute_result"
    }
   ],
   "source": [
    "xsquared = map(x -> x*x, signal(s))"
   ]
  },
  {
   "cell_type": "code",
   "execution_count": 27,
   "metadata": {
    "collapsed": false
   },
   "outputs": [
    {
     "data": {
      "text/plain": [
       "Reactive.Signal{Float64}"
      ]
     },
     "execution_count": 27,
     "metadata": {},
     "output_type": "execute_result"
    }
   ],
   "source": [
    "typeof(xsquared)"
   ]
  },
  {
   "cell_type": "code",
   "execution_count": null,
   "metadata": {
    "collapsed": true
   },
   "outputs": [],
   "source": []
  }
 ],
 "metadata": {
  "anaconda-cloud": {},
  "kernelspec": {
   "display_name": "Julia 0.5.0",
   "language": "julia",
   "name": "julia-0.5"
  },
  "language_info": {
   "file_extension": ".jl",
   "mimetype": "application/julia",
   "name": "julia",
   "version": "0.5.0"
  },
  "nav_menu": {},
  "toc": {
   "navigate_menu": true,
   "number_sections": true,
   "sideBar": true,
   "threshold": 6,
   "toc_cell": false,
   "toc_section_display": "block",
   "toc_window_display": false
  },
  "widgets": {
   "state": {
    "004f8f2d-8148-4cea-bb5e-da70fa873c9a": {
     "views": [
      {
       "cell_index": 44
      }
     ]
    },
    "0b8b262b-cf63-446d-a235-3866a31a50fe": {
     "views": [
      {
       "cell_index": 46
      }
     ]
    },
    "16d399db-e25c-4d39-81d4-fd65314ecc90": {
     "views": [
      {
       "cell_index": 43
      }
     ]
    },
    "172f6335-b86c-4252-8712-ea0c5f56f8dc": {
     "views": [
      {
       "cell_index": 46
      }
     ]
    },
    "2bb4560e-7139-4690-90b1-40e08233e1ef": {
     "views": [
      {
       "cell_index": 44
      }
     ]
    },
    "2bbd09a1-96bf-4846-aebf-d13b1a6ea826": {
     "views": [
      {
       "cell_index": 42
      }
     ]
    },
    "2c78ddb7-96bf-44fd-a861-c4d251b06335": {
     "views": [
      {
       "cell_index": 44
      }
     ]
    },
    "3206fb53-38c3-4f18-ac4e-e315c9d220b7": {
     "views": [
      {
       "cell_index": 43
      }
     ]
    },
    "376252c3-a138-426e-bd2e-9e43d8908231": {
     "views": [
      {
       "cell_index": 42
      }
     ]
    },
    "4311f715-7741-4ff7-a0e4-1f6ac36a87a2": {
     "views": [
      {
       "cell_index": 44
      }
     ]
    },
    "47c61d77-0e23-494e-a9d3-a309c190e363": {
     "views": [
      {
       "cell_index": 43
      }
     ]
    },
    "48f3691e-4c7d-4a8a-aa32-6c2a8cc53eff": {
     "views": [
      {
       "cell_index": 47
      }
     ]
    },
    "5b631849-a667-4c99-b9ab-d41d473a6a34": {
     "views": [
      {
       "cell_index": 44
      }
     ]
    },
    "60ae00d0-6879-4fc0-8a92-44e2574fb20d": {
     "views": [
      {
       "cell_index": 44
      }
     ]
    },
    "85a1f7fd-4dfe-4073-b418-3a153573a084": {
     "views": [
      {
       "cell_index": 44
      }
     ]
    },
    "86117dc0-6cea-4eba-9fb8-7463d9d83b34": {
     "views": [
      {
       "cell_index": 44
      }
     ]
    },
    "87702fa1-f617-4805-9ee8-e950c2831841": {
     "views": [
      {
       "cell_index": 44
      }
     ]
    },
    "87ffc1f7-45a6-4fc4-95fd-43a9363dea89": {
     "views": [
      {
       "cell_index": 44
      }
     ]
    },
    "8adc82bf-80fa-4288-9114-251de0a9059b": {
     "views": [
      {
       "cell_index": 44
      }
     ]
    },
    "8ba0e413-22dc-4a3d-b3a9-6a537d16d544": {
     "views": [
      {
       "cell_index": 44
      }
     ]
    },
    "8e0f0f1b-0b92-4c97-a012-505f22ef4c42": {
     "views": [
      {
       "cell_index": 46
      }
     ]
    },
    "90ace396-86bb-4122-8c38-292b9ba3baad": {
     "views": [
      {
       "cell_index": 45
      }
     ]
    },
    "99baf314-52cf-4ad4-832a-7a0b981621c9": {
     "views": [
      {
       "cell_index": 42
      }
     ]
    },
    "a2330dca-e77c-474d-b98f-1c99abcbb504": {
     "views": [
      {
       "cell_index": 44
      }
     ]
    },
    "a403a441-7388-409e-b9f4-0c4994687464": {
     "views": [
      {
       "cell_index": 44
      }
     ]
    },
    "a953a076-f120-4f5f-9c4d-513c4e88b97b": {
     "views": [
      {
       "cell_index": 46
      }
     ]
    },
    "af0e1cc6-36f1-4dba-9797-d968c4697d3c": {
     "views": [
      {
       "cell_index": 42
      }
     ]
    },
    "bd99dfb6-1450-4e6b-b6f0-2569ff883595": {
     "views": [
      {
       "cell_index": 45
      }
     ]
    },
    "cc09ef89-80f3-4480-8343-a08a6a37805e": {
     "views": [
      {
       "cell_index": 44
      }
     ]
    },
    "cefac578-11d5-4810-abdc-4c3e236146d2": {
     "views": [
      {
       "cell_index": 43
      }
     ]
    },
    "d18a167a-a0f2-4ede-98fb-b9e18e46bd23": {
     "views": [
      {
       "cell_index": 44
      }
     ]
    },
    "e4d62106-c123-45e9-bb88-3f0b5982deb0": {
     "views": [
      {
       "cell_index": 45
      }
     ]
    },
    "e841c534-b508-43ab-ab2e-8b7b1c554fe5": {
     "views": [
      {
       "cell_index": 45
      }
     ]
    },
    "f5043539-6563-409c-9350-de9c45cfd5e8": {
     "views": [
      {
       "cell_index": 43
      }
     ]
    }
   },
   "version": "1.2.0"
  }
 },
 "nbformat": 4,
 "nbformat_minor": 1
}
